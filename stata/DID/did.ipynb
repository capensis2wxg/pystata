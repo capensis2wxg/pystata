{
 "cells": [
  {
   "cell_type": "code",
   "id": "initial_id",
   "metadata": {
    "collapsed": true,
    "ExecuteTime": {
     "end_time": "2025-03-09T23:06:48.976848Z",
     "start_time": "2025-03-09T23:06:48.971329Z"
    }
   },
   "source": [
    "import os\n",
    "import stata_setup\n",
    "## 设置pystata目录\n",
    "stata_setup.config(os.getenv(\"STATA_SYSDIR\"), 'mp')\n",
    "from pystata import stata"
   ],
   "outputs": [],
   "execution_count": 2
  },
  {
   "metadata": {},
   "cell_type": "markdown",
   "source": "下面以数据集 cardkrueger1994.dta 为例。该数据集来自 Card and Krueger (1994) 的自然实验。被解释变量为 fte (full time employment 人数)，实验组虚拟变量为 treated (treated = 1, 如果快餐店在新泽西州; treated = 0, 如果快餐店在宾夕法尼亚州)，实验期虚拟变量为 \\( t \\) ( t = 1, 如果时间为 1992 年 11 月; t = 0, 如果时间为 1992 年 2 月)。其他解释变量包括以下快餐品牌虚拟变量: bk (Burger King = 1), kfc (Kentucky Fried Chicken = 1), roys (Roy Rogers = 1), wendys (Wendy's = 1)。首先，手工计算双重差分法。\n",
   "id": "156fdada0aa257b2"
  },
  {
   "metadata": {
    "ExecuteTime": {
     "end_time": "2025-03-09T23:12:23.013337Z",
     "start_time": "2025-03-09T23:12:22.940407Z"
    }
   },
   "cell_type": "code",
   "source": "stata.run('use cardkrueger1994.dta, replace')",
   "id": "dd1b904a0e7faef6",
   "outputs": [
    {
     "name": "stdout",
     "output_type": "stream",
     "text": [
      "(Dataset from Card&Krueger (1994))\n"
     ]
    }
   ],
   "execution_count": 4
  },
  {
   "metadata": {
    "ExecuteTime": {
     "end_time": "2025-03-09T23:13:07.887656Z",
     "start_time": "2025-03-09T23:13:07.829005Z"
    }
   },
   "cell_type": "code",
   "source": "%stata gen gd=t*treated",
   "id": "6a1daf8ec24ff983",
   "outputs": [],
   "execution_count": 5
  },
  {
   "metadata": {
    "ExecuteTime": {
     "end_time": "2025-03-09T23:13:35.457826Z",
     "start_time": "2025-03-09T23:13:34.728075Z"
    }
   },
   "cell_type": "code",
   "source": "%stata reg fte gd treated t,r",
   "id": "29eafae650385f64",
   "outputs": [
    {
     "name": "stdout",
     "output_type": "stream",
     "text": [
      "\n",
      "Linear regression                               Number of obs     =        801\n",
      "                                                F(3, 797)         =       1.43\n",
      "                                                Prob > F          =     0.2330\n",
      "                                                R-squared         =     0.0080\n",
      "                                                Root MSE          =      9.003\n",
      "\n",
      "------------------------------------------------------------------------------\n",
      "             |               Robust\n",
      "         fte | Coefficient  std. err.      t    P>|t|     [95% conf. interval]\n",
      "-------------+----------------------------------------------------------------\n",
      "          gd |   2.913982   1.736818     1.68   0.094    -.4952963    6.323261\n",
      "     treated |  -2.883534   1.403338    -2.05   0.040    -5.638209   -.1288592\n",
      "           t |   -2.40651   1.594091    -1.51   0.132    -5.535623    .7226031\n",
      "       _cons |   19.94872   1.317281    15.14   0.000     17.36297    22.53447\n",
      "------------------------------------------------------------------------------\n"
     ]
    }
   ],
   "execution_count": 6
  },
  {
   "metadata": {},
   "cell_type": "markdown",
   "source": "从上表可知，处理效应（即互动项 gd）的系数为 2.914，但仅在 10\\% 水平上显著（ p 值为 0.094）。其次，使用命令 diff 来估计。",
   "id": "be8ccd6d6050ec35"
  },
  {
   "metadata": {
    "ExecuteTime": {
     "end_time": "2025-03-09T23:17:52.519047Z",
     "start_time": "2025-03-09T23:17:52.418647Z"
    }
   },
   "cell_type": "code",
   "source": "%stata diff fte, t(treated) p(t) robust",
   "id": "813eb4d408f05b33",
   "outputs": [
    {
     "name": "stdout",
     "output_type": "stream",
     "text": [
      "\n",
      "DIFFERENCE-IN-DIFFERENCES ESTIMATION RESULTS\n",
      "--------------------------------------------\n",
      "Number of observations in the DIFF-IN-DIFF: 801\n",
      "            Before         After    \n",
      "   Control: 78             77          155\n",
      "   Treated: 326            320         646\n",
      "            404            397\n",
      "--------------------------------------------------------\n",
      " Outcome var.   | fte     | S. Err. |   |t|   |  P>|t|\n",
      "----------------+---------+---------+---------+---------\n",
      "Before          |         |         |         | \n",
      "   Control      | 19.949  |         |         | \n",
      "   Treated      | 17.065  |         |         | \n",
      "   Diff (T-C)   | -2.884  | 1.403   | -2.05   | 0.040**\n",
      "After           |         |         |         | \n",
      "   Control      | 17.542  |         |         | \n",
      "   Treated      | 17.573  |         |         | \n",
      "   Diff (T-C)   | 0.030   | 1.023   | 0.03    | 0.976\n",
      "                |         |         |         | \n",
      "Diff-in-Diff    | 2.914   | 1.737   | 1.68    | 0.094*\n",
      "--------------------------------------------------------\n",
      "R-square:    0.01\n",
      "* Means and Standard Errors are estimated by linear regression\n",
      "**Robust Std. Errors\n",
      "**Inference: *** p<0.01; ** p<0.05; * p<0.1\n"
     ]
    }
   ],
   "execution_count": 7
  },
  {
   "metadata": {},
   "cell_type": "markdown",
   "source": "上表第一列显示，处理效应的系数估计值为 2.914，而 p 值为 0.094，这与手工回归的结果完全相同。上表将“t = 0”的时期称为“Baseline”（基期），而将“t = 1”的时期称为“Follow-up”（跟踪期）。再次，引入快餐品牌虚拟变量，再进行手工回归（以 wendys 作为参照虚拟变量）。",
   "id": "3792ba2dff304ab8"
  },
  {
   "metadata": {
    "ExecuteTime": {
     "end_time": "2025-03-09T23:21:48.401522Z",
     "start_time": "2025-03-09T23:21:48.324942Z"
    }
   },
   "cell_type": "code",
   "source": "%stata reg fte gd treated t bk kfc roys, r",
   "id": "545e86672cd1c066",
   "outputs": [
    {
     "name": "stdout",
     "output_type": "stream",
     "text": [
      "\n",
      "Linear regression                               Number of obs     =        801\n",
      "                                                F(6, 794)         =      57.30\n",
      "                                                Prob > F          =     0.0000\n",
      "                                                R-squared         =     0.1878\n",
      "                                                Root MSE          =     8.1617\n",
      "\n",
      "------------------------------------------------------------------------------\n",
      "             |               Robust\n",
      "         fte | Coefficient  std. err.      t    P>|t|     [95% conf. interval]\n",
      "-------------+----------------------------------------------------------------\n",
      "          gd |    2.93502   1.543422     1.90   0.058    -.0946504     5.96469\n",
      "     treated |  -2.323906   1.253701    -1.85   0.064    -4.784867    .1370549\n",
      "           t |  -2.402678   1.410265    -1.70   0.089    -5.170966    .3656108\n",
      "          bk |   .9168795   .9382545     0.98   0.329    -.9248729    2.758632\n",
      "         kfc |  -9.204856   .8991089   -10.24   0.000    -10.96977   -7.439945\n",
      "        roys |  -.8970458   1.041071    -0.86   0.389    -2.940623    1.146532\n",
      "       _cons |   21.16069   1.307146    16.19   0.000     18.59482    23.72656\n",
      "------------------------------------------------------------------------------\n"
     ]
    }
   ],
   "execution_count": 8
  },
  {
   "metadata": {},
   "cell_type": "markdown",
   "source": "从上表可知，在引入其他解释变量（即快餐品牌虚拟变量）后，处理效应的系数估计值增大为2.935，并接近5%的显著性水平（p值为0.058）。下面再次使用命令diff。",
   "id": "2917553352b0cb97"
  },
  {
   "metadata": {
    "ExecuteTime": {
     "end_time": "2025-03-09T23:22:49.499767Z",
     "start_time": "2025-03-09T23:22:49.420810Z"
    }
   },
   "cell_type": "code",
   "source": "%stata diff fte, t(treated) p(t) cov(bk kfc roys) robust",
   "id": "c43eb01c1ea97108",
   "outputs": [
    {
     "name": "stdout",
     "output_type": "stream",
     "text": [
      "DIFFERENCE-IN-DIFFERENCES WITH COVARIATES\n",
      "-----------------------------------------\n",
      "\n",
      "DIFFERENCE-IN-DIFFERENCES ESTIMATION RESULTS\n",
      "--------------------------------------------\n",
      "Number of observations in the DIFF-IN-DIFF: 801\n",
      "            Before         After    \n",
      "   Control: 78             77          155\n",
      "   Treated: 326            320         646\n",
      "            404            397\n",
      "--------------------------------------------------------\n",
      " Outcome var.   | fte     | S. Err. |   |t|   |  P>|t|\n",
      "----------------+---------+---------+---------+---------\n",
      "Before          |         |         |         | \n",
      "   Control      | 21.161  |         |         | \n",
      "   Treated      | 18.837  |         |         | \n",
      "   Diff (T-C)   | -2.324  | 1.254   | -1.85   | 0.064*\n",
      "After           |         |         |         | \n",
      "   Control      | 18.758  |         |         | \n",
      "   Treated      | 19.369  |         |         | \n",
      "   Diff (T-C)   | 0.611   | 0.900   | 0.68    | 0.497\n",
      "                |         |         |         | \n",
      "Diff-in-Diff    | 2.935   | 1.543   | 1.90    | 0.058*\n",
      "--------------------------------------------------------\n",
      "R-square:    0.19\n",
      "* Means and Standard Errors are estimated by linear regression\n",
      "**Robust Std. Errors\n",
      "**Inference: *** p<0.01; ** p<0.05; * p<0.1\n"
     ]
    }
   ],
   "execution_count": 9
  },
  {
   "metadata": {},
   "cell_type": "markdown",
   "source": "上表第一列显示的处理效应估计结果与手工回归完全一样。最后，使用命令 diff 检验各变量在实验组与控制组的均值是否相等。",
   "id": "b09e34101f138dea"
  },
  {
   "metadata": {
    "tags": [
     "stata"
    ],
    "ExecuteTime": {
     "end_time": "2025-03-09T23:25:46.706551Z",
     "start_time": "2025-03-09T23:25:46.626912Z"
    }
   },
   "cell_type": "code",
   "source": [
    "stata.run(\n",
    "    \"\"\"\n",
    "    set linesize 100\n",
    "    diff fte, t(treated) p(t) cov(bk kfc roys wendys) test\n",
    "    \"\"\"\n",
    ")"
   ],
   "id": "19f2af8a0d83da78",
   "outputs": [
    {
     "name": "stdout",
     "output_type": "stream",
     "text": [
      "\n",
      ". \n",
      ".     set linesize 100\n",
      "\n",
      ".     diff fte, t(treated) p(t) cov(bk kfc roys wendys) test\n",
      "TWO-SAMPLE T TEST\n",
      "-----------------\n",
      "\n",
      "Number of observations (baseline): 404\n",
      "            Before         After    \n",
      "   Control: 78             -           78\n",
      "   Treated: 326            -           326\n",
      "            404            -\n",
      "\n",
      "t-test at period = 0:\n",
      "----------------------------------------------------------------------------------------------\n",
      " Variable(s)         |   Mean Control   | Mean Treated |    Diff.   |   |t|   |  Pr(|T|>|t|)\n",
      "---------------------+------------------+--------------+------------+---------+---------------\n",
      "fte                  | 19.949           | 17.065       | -2.884     |  2.44   | 0.0150**\n",
      "bk                   | 0.436            | 0.408        | -0.028     |  0.45   | 0.6538\n",
      "kfc                  | 0.154            | 0.209        | 0.055      |  1.09   | 0.2769\n",
      "roys                 | 0.218            | 0.252        | 0.034      |  0.62   | 0.5368\n",
      "wendys               | 0.192            | 0.132        | -0.060     |  1.37   | 0.1726\n",
      "----------------------------------------------------------------------------------------------\n",
      "*** p<0.01; ** p<0.05; * p<0.1\n",
      "\n",
      "\n",
      ".     \n",
      ". \n"
     ]
    }
   ],
   "execution_count": 14
  },
  {
   "metadata": {},
   "cell_type": "markdown",
   "source": "从上表可以看出，在基期（即实验前的时期），结果变量 fte（全职员工人数）的均值在两组之间存在显著差异。然而，各品牌虚拟变量的均值在两组之间没有显著差异。",
   "id": "6cc4dc65652df3c3"
  },
  {
   "metadata": {},
   "cell_type": "markdown",
   "source": "在许多情况下，并没有随机实验或自然实验的数据，而只有观测数据（observational data）。例如，政府提供的就业培训项目，完全由个人决定是否参与。此时，由于实际处理水平$x_i$存在自我选择（self selection），并非随机分组，故可能导致不一致的估计。因此，对于观测数据，需使用特别的计量方法来估计处理效应，详见第28章",
   "id": "affc96a531f6ffb8"
  }
 ],
 "metadata": {
  "kernelspec": {
   "display_name": "Python 3",
   "language": "python",
   "name": "python3"
  },
  "language_info": {
   "codemirror_mode": {
    "name": "ipython",
    "version": 2
   },
   "file_extension": ".py",
   "mimetype": "text/x-python",
   "name": "python",
   "nbconvert_exporter": "python",
   "pygments_lexer": "ipython2",
   "version": "2.7.6"
  }
 },
 "nbformat": 4,
 "nbformat_minor": 5
}
