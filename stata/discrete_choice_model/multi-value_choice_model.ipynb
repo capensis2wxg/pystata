{
 "cells": [
  {
   "cell_type": "code",
   "id": "initial_id",
   "metadata": {
    "collapsed": true,
    "ExecuteTime": {
     "end_time": "2025-03-09T09:10:39.527450Z",
     "start_time": "2025-03-09T09:10:39.517929Z"
    }
   },
   "source": [
    "import os\n",
    "import stata_setup\n",
    "## 设置pystata目录\n",
    "stata_setup.config(os.getenv(\"STATA_SYSDIR\"), 'mp')\n",
    "from pystata import stata"
   ],
   "outputs": [],
   "execution_count": 27
  },
  {
   "metadata": {},
   "cell_type": "markdown",
   "source": "下面以数据集${nomocc2.dta}$为例, 进行多项 Logit 与多项 Probit 估计。此数据集来自 1982 年美国 General Social Survey, 该问卷调查将受访者职业分为五类 (${occ}$), 即服务人员 (${menial}$), 蓝领 (${blue collar}$), 工匠 (${craft}$), 白领 (${white collar}$) 以及专业人士 (${professional}$)。解释变量包括: 是否白人 (${white}$), 受教育年限 (${ed}$) 以及工龄 (${exper}$)。显然, 这三个解释变量都只依赖于个体, 而不依赖于方案, 故使用多项 Logit 或多项 Probit 回归。",
   "id": "46dcbae1faf202b8"
  },
  {
   "metadata": {
    "ExecuteTime": {
     "end_time": "2025-03-09T08:30:48.972667Z",
     "start_time": "2025-03-09T08:30:48.880345Z"
    }
   },
   "cell_type": "code",
   "source": [
    "stata.run('use nomocc2.dta, replace')\n",
    "data = stata.pdataframe_from_data()\n",
    "data.head()"
   ],
   "id": "8ee4c6d487023afe",
   "outputs": [
    {
     "name": "stdout",
     "output_type": "stream",
     "text": [
      "(1982 General Social Survey)\n"
     ]
    },
    {
     "data": {
      "text/plain": [
       "   occ  white  ed  exper\n",
       "0    1      1  11      3\n",
       "1    1      1  12     14\n",
       "2    1      1  12     44\n",
       "3    1      1  12     18\n",
       "4    1      0  14     24"
      ],
      "text/html": [
       "<div>\n",
       "<style scoped>\n",
       "    .dataframe tbody tr th:only-of-type {\n",
       "        vertical-align: middle;\n",
       "    }\n",
       "\n",
       "    .dataframe tbody tr th {\n",
       "        vertical-align: top;\n",
       "    }\n",
       "\n",
       "    .dataframe thead th {\n",
       "        text-align: right;\n",
       "    }\n",
       "</style>\n",
       "<table border=\"1\" class=\"dataframe\">\n",
       "  <thead>\n",
       "    <tr style=\"text-align: right;\">\n",
       "      <th></th>\n",
       "      <th>occ</th>\n",
       "      <th>white</th>\n",
       "      <th>ed</th>\n",
       "      <th>exper</th>\n",
       "    </tr>\n",
       "  </thead>\n",
       "  <tbody>\n",
       "    <tr>\n",
       "      <th>0</th>\n",
       "      <td>1</td>\n",
       "      <td>1</td>\n",
       "      <td>11</td>\n",
       "      <td>3</td>\n",
       "    </tr>\n",
       "    <tr>\n",
       "      <th>1</th>\n",
       "      <td>1</td>\n",
       "      <td>1</td>\n",
       "      <td>12</td>\n",
       "      <td>14</td>\n",
       "    </tr>\n",
       "    <tr>\n",
       "      <th>2</th>\n",
       "      <td>1</td>\n",
       "      <td>1</td>\n",
       "      <td>12</td>\n",
       "      <td>44</td>\n",
       "    </tr>\n",
       "    <tr>\n",
       "      <th>3</th>\n",
       "      <td>1</td>\n",
       "      <td>1</td>\n",
       "      <td>12</td>\n",
       "      <td>18</td>\n",
       "    </tr>\n",
       "    <tr>\n",
       "      <th>4</th>\n",
       "      <td>1</td>\n",
       "      <td>0</td>\n",
       "      <td>14</td>\n",
       "      <td>24</td>\n",
       "    </tr>\n",
       "  </tbody>\n",
       "</table>\n",
       "</div>"
      ]
     },
     "execution_count": 11,
     "metadata": {},
     "output_type": "execute_result"
    }
   ],
   "execution_count": 11
  },
  {
   "metadata": {},
   "cell_type": "markdown",
   "source": "先看一下数据的基本特征",
   "id": "646dd471a98a5cbc"
  },
  {
   "metadata": {
    "ExecuteTime": {
     "end_time": "2025-03-09T08:32:09.130451Z",
     "start_time": "2025-03-09T08:32:09.069735Z"
    }
   },
   "cell_type": "code",
   "source": "stata.run('sum')",
   "id": "4be2d0696043699d",
   "outputs": [
    {
     "name": "stdout",
     "output_type": "stream",
     "text": [
      "\n",
      "    Variable |        Obs        Mean    Std. dev.       Min        Max\n",
      "-------------+---------------------------------------------------------\n",
      "         occ |        337    3.397626    1.367913          1          5\n",
      "       white |        337    .9169139    .2764227          0          1\n",
      "          ed |        337    13.09496    2.946427          3         20\n",
      "       exper |        337    20.50148    13.95936          2         66\n"
     ]
    }
   ],
   "execution_count": 12
  },
  {
   "metadata": {},
   "cell_type": "markdown",
   "source": [
    "由于数据按职业排序，故前6名都从事服务业。其中，5名为白人，受教育年限从11-14年不等，而工龄从3-44年不等。由于数据表中每行对应于一名个体，故数据格式为宽形(wide form)。\n",
    "\n",
    "下面通过列表粗略地考察受教育年限(ed)与职业(occ)的关系：\n",
    "<br>tabstat ed, by(occ) statistics(N mean sd)<br>\n",
    "其中，命令“table”表示将变量的统计特征列表(tables of summary statistics)，而选择项“contents()”则用来指定最多5个统计量，“N ed mean ed sd ed”表示罗列变量ed的样本容量、均值与标准差（按变量occ分为5个子样本）。\n"
   ],
   "id": "b2c940794e04acd2"
  },
  {
   "metadata": {
    "ExecuteTime": {
     "end_time": "2025-03-09T08:41:37.636342Z",
     "start_time": "2025-03-09T08:41:37.500220Z"
    }
   },
   "cell_type": "code",
   "source": "stata.run('tabstat ed, by(occ) statistics(N mean sd)')",
   "id": "3833efa97b8b16ce",
   "outputs": [
    {
     "name": "stdout",
     "output_type": "stream",
     "text": [
      "\n",
      "Summary for variables: ed\n",
      "Group variable: occ (Occupation)\n",
      "\n",
      "     occ |         N      Mean        SD\n",
      "---------+------------------------------\n",
      "  Menial |        31  11.77419  2.186469\n",
      " BlueCol |        69  11.21739  2.571733\n",
      "   Craft |        84  11.96429  2.119595\n",
      "WhiteCol |        41  13.17073  2.096455\n",
      "    Prof |       112   15.4375  2.608998\n",
      "---------+------------------------------\n",
      "   Total |       337  13.09496  2.946427\n",
      "----------------------------------------\n"
     ]
    }
   ],
   "execution_count": 15
  },
  {
   "metadata": {},
   "cell_type": "markdown",
   "source": "从上表可知，在样本中专业人士最多，且平均受教育年限最高；而蓝领的受教育程度最低。下面进行多项 Logit 回归",
   "id": "1e527ff49a7b790b"
  },
  {
   "metadata": {
    "ExecuteTime": {
     "end_time": "2025-03-09T08:46:54.157640Z",
     "start_time": "2025-03-09T08:46:52.874783Z"
    }
   },
   "cell_type": "code",
   "source": "stata.run('mlogit occ white ed exper, nolog')",
   "id": "c30628270bed9dce",
   "outputs": [
    {
     "name": "stdout",
     "output_type": "stream",
     "text": [
      "\n",
      "Multinomial logistic regression                         Number of obs =    337\n",
      "                                                        LR chi2(12)   = 166.09\n",
      "                                                        Prob > chi2   = 0.0000\n",
      "Log likelihood = -426.80048                             Pseudo R2     = 0.1629\n",
      "\n",
      "------------------------------------------------------------------------------\n",
      "         occ | Coefficient  Std. err.      z    P>|z|     [95% conf. interval]\n",
      "-------------+----------------------------------------------------------------\n",
      "Menial       |\n",
      "       white |  -1.774306   .7550543    -2.35   0.019    -3.254186   -.2944273\n",
      "          ed |  -.7788519   .1146293    -6.79   0.000    -1.003521   -.5541826\n",
      "       exper |  -.0356509    .018037    -1.98   0.048    -.0710028    -.000299\n",
      "       _cons |   11.51833   1.849356     6.23   0.000     7.893659      15.143\n",
      "-------------+----------------------------------------------------------------\n",
      "BlueCol      |\n",
      "       white |  -.5378027   .7996033    -0.67   0.501    -2.104996    1.029391\n",
      "          ed |  -.8782767   .1005446    -8.74   0.000     -1.07534   -.6812128\n",
      "       exper |  -.0309296   .0144086    -2.15   0.032      -.05917   -.0026893\n",
      "       _cons |   12.25956   1.668144     7.35   0.000     8.990061    15.52907\n",
      "-------------+----------------------------------------------------------------\n",
      "Craft        |\n",
      "       white |  -1.301963    .647416    -2.01   0.044    -2.570875   -.0330509\n",
      "          ed |  -.6850365   .0892996    -7.67   0.000    -.8600605   -.5100126\n",
      "       exper |  -.0079671   .0127055    -0.63   0.531    -.0328693    .0169351\n",
      "       _cons |   10.42698   1.517943     6.87   0.000     7.451864    13.40209\n",
      "-------------+----------------------------------------------------------------\n",
      "WhiteCol     |\n",
      "       white |  -.2029212   .8693072    -0.23   0.815    -1.906732     1.50089\n",
      "          ed |  -.4256943   .0922192    -4.62   0.000    -.6064407   -.2449479\n",
      "       exper |   -.001055   .0143582    -0.07   0.941    -.0291967    .0270866\n",
      "       _cons |   5.279722   1.684006     3.14   0.002     1.979132    8.580313\n",
      "-------------+----------------------------------------------------------------\n",
      "Prof         |  (base outcome)\n",
      "------------------------------------------------------------------------------\n"
     ]
    }
   ],
   "execution_count": 16
  },
  {
   "metadata": {},
   "cell_type": "markdown",
   "source": [
    "由于没有指定参照方案(base outcome)，故命令$mlogit$自动选择观测值最多的方案（即专业人士）为参照方案。上表显示，在 5\\% 的显著性水平上，给定其他变量，白人 ($white$) 更不可能选择服务业或工匠；但是否白人对于选择蓝领或白领没有显著影响。受教育程度 ($ed$) 越高，越不可能选择除专业人士以外的职业。工龄越长 ($exper$)，越不可能选择服务业或蓝领；工龄对于选择工匠或白领无显著影响。\n",
    "\n",
    "由于 IIA 假定是多项 Logit 模型的前提，下面检验 IIA 假定是否满足。\n"
   ],
   "id": "bd1608cd6a3b3ee3"
  },
  {
   "metadata": {
    "ExecuteTime": {
     "end_time": "2025-03-09T09:11:16.414406Z",
     "start_time": "2025-03-09T09:11:16.074262Z"
    }
   },
   "cell_type": "code",
   "source": "stata.run('mlogtest, hausman base')",
   "id": "f9cb832398ee78f",
   "outputs": [
    {
     "name": "stdout",
     "output_type": "stream",
     "text": [
      "\n",
      "Problem determining number of categories.\n",
      "\n",
      "**** Hausman tests of IIA assumption\n",
      "\n",
      " Ho: Odds(Outcome-J vs Outcome-K) are independent of other alternatives.\n",
      "You used the old syntax of hausman. Click here to learn about the new syntax.\n",
      "\n",
      "(storing estimation results as _HAUSMAN)\n",
      "\n",
      " Omitted |      chi2   df   P>chi2   evidence\n",
      "---------+------------------------------------\n",
      "  Menial |     7.324   12    0.835   for Ho    \n",
      " BlueCol |     0.320   12    1.000   for Ho    \n",
      "   Craft |   -14.436   12    1.000   for Ho    \n",
      "WhiteCol |    -5.541   11    1.000   for Ho    \n",
      "    Prof |    15.566   12    0.212   for Ho    \n",
      "----------------------------------------------\n"
     ]
    }
   ],
   "execution_count": 32
  },
  {
   "metadata": {},
   "cell_type": "markdown",
   "source": "上表的前四行豪斯曼检验结果显示，去掉四个非参照方案（nonbase alternatives）中的任何一个方案，都不会拒绝 IIA 的原假设。由于使用了选择项“base”，故上表第五行计算去掉参照方案（Prof），而以剩余方案中观测值最多的方案作为参照方案的检验结果，同样也不拒绝 IIA 假设。但由于某种原因，却无法进行 Small-Hsiao 检验。\n",
   "id": "64ba03802e37df72"
  },
  {
   "metadata": {},
   "cell_type": "markdown",
   "source": [
    "上文提到，这两个检验的小样本性质都不好，只具有参考价值；但至少没有发现违背IIA假定的迹象（可能这五类职业太不相同了）。\n",
    "如果要显示相对风险比率($\\mathrm{P}(y=j)/\\mathrm{P}(y=1)=\\exp(x_i'\\beta_j)$)\n",
    "，可以输入命令"
   ],
   "id": "3970ea23ca798c87"
  },
  {
   "metadata": {
    "ExecuteTime": {
     "end_time": "2025-03-09T09:17:02.815883Z",
     "start_time": "2025-03-09T09:17:02.690551Z"
    }
   },
   "cell_type": "code",
   "source": "stata.run('mlogit occ white ed exper, nolog rrr')",
   "id": "afe262cac72d0fe",
   "outputs": [
    {
     "name": "stdout",
     "output_type": "stream",
     "text": [
      "\n",
      "Multinomial logistic regression                         Number of obs =    337\n",
      "                                                        LR chi2(12)   = 166.09\n",
      "                                                        Prob > chi2   = 0.0000\n",
      "Log likelihood = -426.80048                             Pseudo R2     = 0.1629\n",
      "\n",
      "------------------------------------------------------------------------------\n",
      "         occ |        RRR   Std. err.      z    P>|z|     [95% conf. interval]\n",
      "-------------+----------------------------------------------------------------\n",
      "Menial       |\n",
      "       white |    .169601    .128058    -2.35   0.019     .0386123    .7449581\n",
      "          ed |   .4589326   .0526071    -6.79   0.000     .3665863    .5745417\n",
      "       exper |   .9649771   .0174053    -1.98   0.048     .9314593     .999701\n",
      "       _cons |     100542   185937.9     6.23   0.000     2680.234     3771571\n",
      "-------------+----------------------------------------------------------------\n",
      "BlueCol      |\n",
      "       white |   .5840301   .4669924    -0.67   0.501     .1218461     2.79936\n",
      "          ed |   .4154983   .0417761    -8.74   0.000     .3411816    .5060029\n",
      "       exper |   .9695438   .0139698    -2.15   0.032     .9425465    .9973143\n",
      "       _cons |   210989.6   351961.2     7.35   0.000     8022.948     5548662\n",
      "-------------+----------------------------------------------------------------\n",
      "Craft        |\n",
      "       white |   .2719974   .1760954    -2.01   0.044     .0764686    .9674893\n",
      "          ed |   .5040718   .0450134    -7.67   0.000     .4231365     .600488\n",
      "       exper |   .9920646   .0126046    -0.63   0.531      .967665    1.017079\n",
      "       _cons |   33758.18      51243     6.87   0.000     1723.071    661385.6\n",
      "-------------+----------------------------------------------------------------\n",
      "WhiteCol     |\n",
      "       white |   .8163426   .7096525    -0.23   0.815     .1485651    4.485678\n",
      "          ed |    .653316   .0602483    -4.62   0.000     .5452883    .7827453\n",
      "       exper |   .9989455   .0143431    -0.07   0.941     .9712254    1.027457\n",
      "       _cons |   196.3154   330.5962     3.14   0.002     7.236457    5325.773\n",
      "-------------+----------------------------------------------------------------\n",
      "Prof         |  (base outcome)\n",
      "------------------------------------------------------------------------------\n",
      "Note: _cons estimates baseline relative risk for each outcome.\n"
     ]
    }
   ],
   "execution_count": 33
  },
  {
   "metadata": {},
   "cell_type": "markdown",
   "source": "下面，根据模型预测个体选择各种职业的可能性，分别记为 occ1, occ2, occ3, occ4, occ5，并显示对前 5 个观测值的预测结果。",
   "id": "8ba371144869b18e"
  },
  {
   "metadata": {
    "tags": [
     "stata"
    ],
    "ExecuteTime": {
     "end_time": "2025-03-09T09:25:25.562165Z",
     "start_time": "2025-03-09T09:25:25.481177Z"
    }
   },
   "cell_type": "code",
   "source": [
    "%%stata\n",
    "predict occ1 occ2 occ3 occ4 occ5\n",
    "list occ1-occ5 in 1/5"
   ],
   "id": "853bf6ab75206cde",
   "outputs": [
    {
     "name": "stdout",
     "output_type": "stream",
     "text": [
      "\n",
      ". drop occ1 occ2 occ3 occ4 occ5\n",
      "\n",
      ". predict occ1 occ2 occ3 occ4 occ5\n",
      "(option pr assumed; predicted probabilities)\n",
      "\n",
      ". list occ1-occ5 in 1/5\n",
      "\n",
      "     +------------------------------------------------------+\n",
      "     |     occ1       occ2       occ3       occ4       occ5 |\n",
      "     |------------------------------------------------------|\n",
      "  1. | .1681295   .4128002   .2760952    .085288   .0576871 |\n",
      "  2. | .1257816   .2945018   .3076293   .1328948   .1391926 |\n",
      "  3. | .0644456   .1738508   .3616529   .1922331   .2078175 |\n",
      "  4. | .1161744   .2771936   .3174044   .1409616    .148266 |\n",
      "  5. | .1691383   .0988214    .410424   .1063373    .215279 |\n",
      "     +------------------------------------------------------+\n",
      "\n",
      ". \n"
     ]
    }
   ],
   "execution_count": 36
  },
  {
   "metadata": {},
   "cell_type": "markdown",
   "source": "也可以选择其他职业作为参照方案，比如服务业",
   "id": "5caa7a15ffe8d7d4"
  },
  {
   "metadata": {
    "ExecuteTime": {
     "end_time": "2025-03-09T09:26:38.020087Z",
     "start_time": "2025-03-09T09:26:37.895946Z"
    }
   },
   "cell_type": "code",
   "source": "%stata mlogit occ white ed exper,base(1) nolog",
   "id": "92570347cec66584",
   "outputs": [
    {
     "name": "stdout",
     "output_type": "stream",
     "text": [
      "\n",
      "Multinomial logistic regression                         Number of obs =    337\n",
      "                                                        LR chi2(12)   = 166.09\n",
      "                                                        Prob > chi2   = 0.0000\n",
      "Log likelihood = -426.80048                             Pseudo R2     = 0.1629\n",
      "\n",
      "------------------------------------------------------------------------------\n",
      "         occ | Coefficient  Std. err.      z    P>|z|     [95% conf. interval]\n",
      "-------------+----------------------------------------------------------------\n",
      "Menial       |  (base outcome)\n",
      "-------------+----------------------------------------------------------------\n",
      "BlueCol      |\n",
      "       white |   1.236504   .7244352     1.71   0.088    -.1833631    2.656371\n",
      "          ed |  -.0994247   .1022812    -0.97   0.331    -.2998922    .1010428\n",
      "       exper |   .0047212   .0173984     0.27   0.786    -.0293789    .0388214\n",
      "       _cons |   .7412336    1.51954     0.49   0.626     -2.23701    3.719477\n",
      "-------------+----------------------------------------------------------------\n",
      "Craft        |\n",
      "       white |   .4723436   .6043097     0.78   0.434    -.7120817    1.656769\n",
      "          ed |   .0938154    .097555     0.96   0.336    -.0973888    .2850197\n",
      "       exper |   .0276838   .0166737     1.66   0.097     -.004996    .0603636\n",
      "       _cons |  -1.091353   1.450218    -0.75   0.452    -3.933728    1.751022\n",
      "-------------+----------------------------------------------------------------\n",
      "WhiteCol     |\n",
      "       white |   1.571385   .9027216     1.74   0.082    -.1979166    3.340687\n",
      "          ed |   .3531577   .1172786     3.01   0.003     .1232959    .5830194\n",
      "       exper |   .0345959   .0188294     1.84   0.066     -.002309    .0715007\n",
      "       _cons |  -6.238608   1.899094    -3.29   0.001    -9.960764   -2.516453\n",
      "-------------+----------------------------------------------------------------\n",
      "Prof         |\n",
      "       white |   1.774306   .7550543     2.35   0.019     .2944273    3.254186\n",
      "          ed |   .7788519   .1146293     6.79   0.000     .5541826    1.003521\n",
      "       exper |   .0356509    .018037     1.98   0.048      .000299    .0710028\n",
      "       _cons |  -11.51833   1.849356    -6.23   0.000      -15.143   -7.893659\n",
      "------------------------------------------------------------------------------\n"
     ]
    }
   ],
   "execution_count": 37
  },
  {
   "metadata": {},
   "cell_type": "markdown",
   "source": "从上表可知，系数估计值随参照方案的不同而变化。下面，使用 multinomial probit 来估计此模型",
   "id": "e760ab48b6824849"
  },
  {
   "metadata": {
    "ExecuteTime": {
     "end_time": "2025-03-09T09:28:46.245687Z",
     "start_time": "2025-03-09T09:28:45.243400Z"
    }
   },
   "cell_type": "code",
   "source": "%stata mprobit occ white ed exper, nolog",
   "id": "d08477dfa0526532",
   "outputs": [
    {
     "name": "stdout",
     "output_type": "stream",
     "text": [
      "\n",
      "Multinomial probit regression                           Number of obs =    337\n",
      "                                                        Wald chi2(12) = 105.61\n",
      "Log likelihood = -429.31856                             Prob > chi2   = 0.0000\n",
      "\n",
      "------------------------------------------------------------------------------\n",
      "         occ | Coefficient  Std. err.      z    P>|z|     [95% conf. interval]\n",
      "-------------+----------------------------------------------------------------\n",
      "Menial       |\n",
      "       white |  -1.144907   .5027501    -2.28   0.023    -2.130279   -.1595352\n",
      "          ed |  -.5094985   .0698816    -7.29   0.000    -.6464639   -.3725331\n",
      "       exper |  -.0234636   .0109546    -2.14   0.032    -.0449343   -.0019929\n",
      "       _cons |    7.46242   1.145854     6.51   0.000     5.216587    9.708253\n",
      "-------------+----------------------------------------------------------------\n",
      "BlueCol      |\n",
      "       white |   -.392222   .5182974    -0.76   0.449    -1.408066    .6236222\n",
      "          ed |  -.5845723    .063011    -9.28   0.000    -.7080715    -.461073\n",
      "       exper |  -.0225903     .00984    -2.30   0.022    -.0418764   -.0033042\n",
      "       _cons |   8.188586   1.069264     7.66   0.000     6.092867    10.28431\n",
      "-------------+----------------------------------------------------------------\n",
      "Craft        |\n",
      "       white |  -.8903573    .457069    -1.95   0.051    -1.786196    .0054814\n",
      "          ed |  -.4718874   .0579237    -8.15   0.000    -.5854157   -.3583591\n",
      "       exper |  -.0077824   .0090923    -0.86   0.392     -.025603    .0100382\n",
      "       _cons |   7.140264   .9896954     7.21   0.000     5.200496    9.080031\n",
      "-------------+----------------------------------------------------------------\n",
      "WhiteCol     |\n",
      "       white |  -.1434167   .5530156    -0.26   0.795    -1.227307    .9404739\n",
      "          ed |  -.3038566   .0576254    -5.27   0.000    -.4168003   -.1909129\n",
      "       exper |  -.0039043   .0095574    -0.41   0.683    -.0226365    .0148279\n",
      "       _cons |    3.76544   1.036649     3.63   0.000     1.733645    5.797234\n",
      "-------------+----------------------------------------------------------------\n",
      "Prof         |  (base outcome)\n",
      "------------------------------------------------------------------------------\n"
     ]
    }
   ],
   "execution_count": 39
  },
  {
   "metadata": {},
   "cell_type": "markdown",
   "source": "从上表可知，多项 Probit 的系数估计值与多项 Logit 并不相同，但二者的系数不具有可比性；具有可比性的是两个模型的预测概率。为此，计算多项 Probit 模型所预测的选择概率，分别记为 occ1p, occ2p, occ3p, occ4p, occ5p",
   "id": "4aa4b26c73037b48"
  },
  {
   "metadata": {
    "ExecuteTime": {
     "end_time": "2025-03-09T09:34:33.610873Z",
     "start_time": "2025-03-09T09:34:33.531725Z"
    }
   },
   "cell_type": "code",
   "source": "%stata predict occ1p occ2p occ3p occ4p occ5p",
   "id": "846ff5dad11ffe1c",
   "outputs": [
    {
     "name": "stdout",
     "output_type": "stream",
     "text": [
      "(option pr assumed; predicted probabilities)\n"
     ]
    }
   ],
   "execution_count": 41
  },
  {
   "metadata": {},
   "cell_type": "markdown",
   "source": "下面计算两个模型职业预测概率的相关性",
   "id": "6d7eee6dbbcf49d5"
  },
  {
   "metadata": {
    "ExecuteTime": {
     "end_time": "2025-03-09T09:36:24.640967Z",
     "start_time": "2025-03-09T09:36:24.569570Z"
    }
   },
   "cell_type": "code",
   "source": [
    "%%stata\n",
    "corr occ1 occ1p\n",
    "corr occ2 occ2p\n",
    "corr occ3 occ3p\n",
    "corr occ4 occ4p\n",
    "corr occ5 occ5p"
   ],
   "id": "a839ef8286fc516c",
   "outputs": [
    {
     "name": "stdout",
     "output_type": "stream",
     "text": [
      "\n",
      ". corr occ1 occ1p\n",
      "(obs=337)\n",
      "\n",
      "             |     occ1    occ1p\n",
      "-------------+------------------\n",
      "        occ1 |   1.0000\n",
      "       occ1p |   0.9979   1.0000\n",
      "\n",
      "\n",
      ". corr occ2 occ2p\n",
      "(obs=337)\n",
      "\n",
      "             |     occ2    occ2p\n",
      "-------------+------------------\n",
      "        occ2 |   1.0000\n",
      "       occ2p |   0.9985   1.0000\n",
      "\n",
      "\n",
      ". corr occ3 occ3p\n",
      "(obs=337)\n",
      "\n",
      "             |     occ3    occ3p\n",
      "-------------+------------------\n",
      "        occ3 |   1.0000\n",
      "       occ3p |   0.9935   1.0000\n",
      "\n",
      "\n",
      ". corr occ4 occ4p\n",
      "(obs=337)\n",
      "\n",
      "             |     occ4    occ4p\n",
      "-------------+------------------\n",
      "        occ4 |   1.0000\n",
      "       occ4p |   0.9929   1.0000\n",
      "\n",
      "\n",
      ". corr occ5 occ5p\n",
      "(obs=337)\n",
      "\n",
      "             |     occ5    occ5p\n",
      "-------------+------------------\n",
      "        occ5 |   1.0000\n",
      "       occ5p |   0.9989   1.0000\n",
      "\n",
      "\n",
      ". \n"
     ]
    }
   ],
   "execution_count": 44
  },
  {
   "metadata": {},
   "cell_type": "markdown",
   "source": "由以上结果可知，两个模型所预测的职业选择概率高度一致，相关系数均在99\\%以上。这意味着，使用多项Logit或多项Probit在实际上并无多少区别；只是多项Probit的计算时间更长，且无法从几率比角度解释系数估计值，故实践中常使用多项Logit。",
   "id": "86e4dad52ad6555"
  },
  {
   "metadata": {},
   "cell_type": "markdown",
   "source": [
    "下面以数据集 travel2.dta 为例，进行条件 Logit 与混合 Logit 的估计。该数据集的观测单位为 152 组人群（每组可视为一个小型旅行团），每个人群从以下三种度假旅行方式中选择一种，即火车、长途大巴或自驾车。随方案而变的解释变量包括 time（总旅行时间）与 invc（乘车成本，in-vehicle cost）。不随方案而变的解释变量包括 hinc（家庭收入，household income）与 psize（旅行团人数，party size）。\n",
    "\n",
    "首先，通过前6个观测值来考察数据格式。"
   ],
   "id": "7ddbe35e4da7b8bd"
  },
  {
   "metadata": {
    "ExecuteTime": {
     "end_time": "2025-03-09T09:45:10.764509Z",
     "start_time": "2025-03-09T09:45:10.691450Z"
    }
   },
   "cell_type": "code",
   "source": "%stata use travel2.dta, clear",
   "id": "9ed944d8eb8186c8",
   "outputs": [
    {
     "name": "stdout",
     "output_type": "stream",
     "text": [
      "(Greene & Hensher 1997 data on travel mode choice)\n"
     ]
    }
   ],
   "execution_count": 46
  },
  {
   "metadata": {
    "ExecuteTime": {
     "end_time": "2025-03-09T10:07:12.163142Z",
     "start_time": "2025-03-09T10:07:12.150428Z"
    }
   },
   "cell_type": "code",
   "source": [
    "data = stata.pdataframe_from_data()\n",
    "data.head()"
   ],
   "id": "20e7bb8ad185a5ea",
   "outputs": [
    {
     "data": {
      "text/plain": [
       "   id  mode  train  bus  car  time  invc  choice  ttme  invt  gc  hinc  psize  \\\n",
       "0   1     1      1    0    0   406    31       0    34   372  71    35      1   \n",
       "1   1     2      0    1    0   452    25       0    35   417  70    35      1   \n",
       "2   1     3      0    0    1   180    10       1     0   180  30    35      1   \n",
       "3   2     1      1    0    0   398    31       0    44   354  84    30      2   \n",
       "4   2     2      0    1    0   452    25       0    53   399  85    30      2   \n",
       "\n",
       "       prob  \n",
       "0  0.064248  \n",
       "1  0.010720  \n",
       "2  0.925032  \n",
       "3  0.253561  \n",
       "4  0.036301  "
      ],
      "text/html": [
       "<div>\n",
       "<style scoped>\n",
       "    .dataframe tbody tr th:only-of-type {\n",
       "        vertical-align: middle;\n",
       "    }\n",
       "\n",
       "    .dataframe tbody tr th {\n",
       "        vertical-align: top;\n",
       "    }\n",
       "\n",
       "    .dataframe thead th {\n",
       "        text-align: right;\n",
       "    }\n",
       "</style>\n",
       "<table border=\"1\" class=\"dataframe\">\n",
       "  <thead>\n",
       "    <tr style=\"text-align: right;\">\n",
       "      <th></th>\n",
       "      <th>id</th>\n",
       "      <th>mode</th>\n",
       "      <th>train</th>\n",
       "      <th>bus</th>\n",
       "      <th>car</th>\n",
       "      <th>time</th>\n",
       "      <th>invc</th>\n",
       "      <th>choice</th>\n",
       "      <th>ttme</th>\n",
       "      <th>invt</th>\n",
       "      <th>gc</th>\n",
       "      <th>hinc</th>\n",
       "      <th>psize</th>\n",
       "      <th>prob</th>\n",
       "    </tr>\n",
       "  </thead>\n",
       "  <tbody>\n",
       "    <tr>\n",
       "      <th>0</th>\n",
       "      <td>1</td>\n",
       "      <td>1</td>\n",
       "      <td>1</td>\n",
       "      <td>0</td>\n",
       "      <td>0</td>\n",
       "      <td>406</td>\n",
       "      <td>31</td>\n",
       "      <td>0</td>\n",
       "      <td>34</td>\n",
       "      <td>372</td>\n",
       "      <td>71</td>\n",
       "      <td>35</td>\n",
       "      <td>1</td>\n",
       "      <td>0.064248</td>\n",
       "    </tr>\n",
       "    <tr>\n",
       "      <th>1</th>\n",
       "      <td>1</td>\n",
       "      <td>2</td>\n",
       "      <td>0</td>\n",
       "      <td>1</td>\n",
       "      <td>0</td>\n",
       "      <td>452</td>\n",
       "      <td>25</td>\n",
       "      <td>0</td>\n",
       "      <td>35</td>\n",
       "      <td>417</td>\n",
       "      <td>70</td>\n",
       "      <td>35</td>\n",
       "      <td>1</td>\n",
       "      <td>0.010720</td>\n",
       "    </tr>\n",
       "    <tr>\n",
       "      <th>2</th>\n",
       "      <td>1</td>\n",
       "      <td>3</td>\n",
       "      <td>0</td>\n",
       "      <td>0</td>\n",
       "      <td>1</td>\n",
       "      <td>180</td>\n",
       "      <td>10</td>\n",
       "      <td>1</td>\n",
       "      <td>0</td>\n",
       "      <td>180</td>\n",
       "      <td>30</td>\n",
       "      <td>35</td>\n",
       "      <td>1</td>\n",
       "      <td>0.925032</td>\n",
       "    </tr>\n",
       "    <tr>\n",
       "      <th>3</th>\n",
       "      <td>2</td>\n",
       "      <td>1</td>\n",
       "      <td>1</td>\n",
       "      <td>0</td>\n",
       "      <td>0</td>\n",
       "      <td>398</td>\n",
       "      <td>31</td>\n",
       "      <td>0</td>\n",
       "      <td>44</td>\n",
       "      <td>354</td>\n",
       "      <td>84</td>\n",
       "      <td>30</td>\n",
       "      <td>2</td>\n",
       "      <td>0.253561</td>\n",
       "    </tr>\n",
       "    <tr>\n",
       "      <th>4</th>\n",
       "      <td>2</td>\n",
       "      <td>2</td>\n",
       "      <td>0</td>\n",
       "      <td>1</td>\n",
       "      <td>0</td>\n",
       "      <td>452</td>\n",
       "      <td>25</td>\n",
       "      <td>0</td>\n",
       "      <td>53</td>\n",
       "      <td>399</td>\n",
       "      <td>85</td>\n",
       "      <td>30</td>\n",
       "      <td>2</td>\n",
       "      <td>0.036301</td>\n",
       "    </tr>\n",
       "  </tbody>\n",
       "</table>\n",
       "</div>"
      ]
     },
     "execution_count": 59,
     "metadata": {},
     "output_type": "execute_result"
    }
   ],
   "execution_count": 59
  },
  {
   "metadata": {
    "ExecuteTime": {
     "end_time": "2025-03-09T09:45:47.880450Z",
     "start_time": "2025-03-09T09:45:47.809971Z"
    }
   },
   "cell_type": "code",
   "source": "%stata list id mode train bus time invc choice hinc psize in 1/6, sepby(id)",
   "id": "ee6cfa30f9df62f4",
   "outputs": [
    {
     "name": "stdout",
     "output_type": "stream",
     "text": [
      "\n",
      "     +----------------------------------------------------------------+\n",
      "     | id    mode   train   bus   time   invc   choice   hinc   psize |\n",
      "     |----------------------------------------------------------------|\n",
      "  1. |  1   Train       1     0    406     31        0     35       1 |\n",
      "  2. |  1     Bus       0     1    452     25        0     35       1 |\n",
      "  3. |  1     Car       0     0    180     10        1     35       1 |\n",
      "     |----------------------------------------------------------------|\n",
      "  4. |  2   Train       1     0    398     31        0     30       2 |\n",
      "  5. |  2     Bus       0     1    452     25        0     30       2 |\n",
      "  6. |  2     Car       0     0    255     11        1     30       2 |\n",
      "     +----------------------------------------------------------------+\n"
     ]
    }
   ],
   "execution_count": 49
  },
  {
   "metadata": {},
   "cell_type": "markdown",
   "source": "尽管数据集中只有152个旅行团，但由于每个旅行团占据3行数据，故实际的样本容量为456（即152×3）。下面看一下数据的统计特征。",
   "id": "75e47a65c5c43264"
  },
  {
   "metadata": {
    "ExecuteTime": {
     "end_time": "2025-03-09T09:49:37.998912Z",
     "start_time": "2025-03-09T09:49:37.927843Z"
    }
   },
   "cell_type": "code",
   "source": "%stata sum id mode train bus time invc choice hinc psize",
   "id": "dd7bcc4c396ca6a4",
   "outputs": [
    {
     "name": "stdout",
     "output_type": "stream",
     "text": [
      "\n",
      "    Variable |        Obs        Mean    Std. dev.       Min        Max\n",
      "-------------+---------------------------------------------------------\n",
      "          id |        456    103.8882    61.03044          1        210\n",
      "        mode |        456           2    .8173933          1          3\n",
      "       train |        456    .3333333    .4719223          0          1\n",
      "         bus |        456    .3333333    .4719223          0          1\n",
      "        time |        456    632.1096    270.2547        180       1440\n",
      "-------------+---------------------------------------------------------\n",
      "        invc |        456    33.95175      21.795          2        109\n",
      "      choice |        456    .3333333    .4719223          0          1\n",
      "        hinc |        456    31.80921    19.25813          2         72\n",
      "       psize |        456    1.809211    1.069457          1          6\n"
     ]
    }
   ],
   "execution_count": 50
  },
  {
   "metadata": {},
   "cell_type": "markdown",
   "source": [
    "\n",
    "下面进行条件 Logit 估计。由于命令 clogit 只接受随方案而变的解释变量，因此仅使用总旅行时间（单位为分钟）、乘车成本、虚拟变量 train 以及虚拟变量 bus 作为解释变量（以旅行方式 car 为参照方案）"
   ],
   "id": "a71464563920bd71"
  },
  {
   "metadata": {
    "ExecuteTime": {
     "end_time": "2025-03-09T09:57:10.318481Z",
     "start_time": "2025-03-09T09:57:10.155838Z"
    }
   },
   "cell_type": "code",
   "source": "%stata clogit choice train bus time invc, group(id) nolog",
   "id": "ee42c421c5d06099",
   "outputs": [
    {
     "name": "stdout",
     "output_type": "stream",
     "text": [
      "\n",
      "Conditional (fixed-effects) logistic regression         Number of obs =    456\n",
      "                                                        LR chi2(4)    = 172.06\n",
      "                                                        Prob > chi2   = 0.0000\n",
      "Log likelihood = -80.961135                             Pseudo R2     = 0.5152\n",
      "\n",
      "------------------------------------------------------------------------------\n",
      "      choice | Coefficient  Std. err.      z    P>|z|     [95% conf. interval]\n",
      "-------------+----------------------------------------------------------------\n",
      "       train |   2.671238   .4531611     5.89   0.000     1.783058    3.559417\n",
      "         bus |   1.472335   .4007152     3.67   0.000     .6869474    2.257722\n",
      "        time |  -.0191453   .0024509    -7.81   0.000    -.0239489   -.0143417\n",
      "        invc |  -.0481658   .0119516    -4.03   0.000    -.0715905   -.0247411\n",
      "------------------------------------------------------------------------------\n"
     ]
    }
   ],
   "execution_count": 51
  },
  {
   "metadata": {},
   "cell_type": "markdown",
   "source": "上表表明，在其他解释变量（如总旅行时间和乘车成本）保持不变的情况下，旅行团最有可能选择火车作为出行方式，其次是长途大巴。此外，当一个方案的总旅行时间较长且乘车成本较高时，选择该方案的概率会降低。然而，由于这是一个非线性模型，直接通过系数估计值来评估边际效应较为困难。因此，为了计算风险比率，可以在上述命令中添加选项“or”。",
   "id": "47be9a52911f05ab"
  },
  {
   "metadata": {
    "ExecuteTime": {
     "end_time": "2025-03-09T10:01:07.194915Z",
     "start_time": "2025-03-09T10:01:07.094995Z"
    }
   },
   "cell_type": "code",
   "source": "%stata clogit choice train bus time invc, group(id) nolog or",
   "id": "bedb1dbed80abe0f",
   "outputs": [
    {
     "name": "stdout",
     "output_type": "stream",
     "text": [
      "\n",
      "Conditional (fixed-effects) logistic regression         Number of obs =    456\n",
      "                                                        LR chi2(4)    = 172.06\n",
      "                                                        Prob > chi2   = 0.0000\n",
      "Log likelihood = -80.961135                             Pseudo R2     = 0.5152\n",
      "\n",
      "------------------------------------------------------------------------------\n",
      "      choice | Odds ratio   Std. err.      z    P>|z|     [95% conf. interval]\n",
      "-------------+----------------------------------------------------------------\n",
      "       train |   14.45786   6.551738     5.89   0.000      5.94802    35.14272\n",
      "         bus |   4.359401   1.746879     3.67   0.000     1.987639    9.561286\n",
      "        time |   .9810368   .0024044    -7.81   0.000     .9763356    .9857607\n",
      "        invc |   .9529758   .0113896    -4.03   0.000      .930912    .9755624\n",
      "------------------------------------------------------------------------------\n"
     ]
    }
   ],
   "execution_count": 53
  },
  {
   "metadata": {},
   "cell_type": "markdown",
   "source": "从上表可以看出，变量 time 的风险比为 0.98，这意味着在控制其他变量不变的情况下，当一个方案的总旅行时间每增加1分钟时，选择该方案的概率会减少2%。同样地，变量 invc（乘车成本）的风险比也可以这样解释。此外，虚拟变量 bus 的风险比为 4.36，这表明在所有方案的时间和成本都相同的情况下，旅行团选择长途大巴的可能性是选择自驾车的4.36倍。虚拟变量 train 的风险比也可以用同样的方式来解释",
   "id": "12de86731ff030a4"
  },
  {
   "metadata": {},
   "cell_type": "markdown",
   "source": "下面计算条件 Logit 模型的预测概率",
   "id": "79399be6b5a3aa55"
  },
  {
   "metadata": {
    "ExecuteTime": {
     "end_time": "2025-03-09T10:04:22.144461Z",
     "start_time": "2025-03-09T10:04:22.061816Z"
    }
   },
   "cell_type": "code",
   "source": "stata.run('predict prob')",
   "id": "a21da012d6d43416",
   "outputs": [
    {
     "name": "stdout",
     "output_type": "stream",
     "text": [
      "(option pc1 assumed; probability of success given one success within group)\n"
     ]
    }
   ],
   "execution_count": 55
  },
  {
   "metadata": {
    "ExecuteTime": {
     "end_time": "2025-03-09T10:04:56.932797Z",
     "start_time": "2025-03-09T10:04:56.866279Z"
    }
   },
   "cell_type": "code",
   "source": "%stata list id mode prob choice time invc in 1/3",
   "id": "c58b0ac0ce1d4a0e",
   "outputs": [
    {
     "name": "stdout",
     "output_type": "stream",
     "text": [
      "\n",
      "     +----------------------------------------------+\n",
      "     | id    mode       prob   choice   time   invc |\n",
      "     |----------------------------------------------|\n",
      "  1. |  1   Train   .0642477        0    406     31 |\n",
      "  2. |  1     Bus   .0107205        0    452     25 |\n",
      "  3. |  1     Car   .9250318        1    180     10 |\n",
      "     +----------------------------------------------+\n"
     ]
    }
   ],
   "execution_count": 56
  },
  {
   "metadata": {},
   "cell_type": "markdown",
   "source": "上表显示，第1个旅行团实际选择自驾车（Car），而模型预测选择自驾车的概率高达0.925，而且正好是旅行时间与成本最低的方案。",
   "id": "c1ecdab8d3043934"
  },
  {
   "metadata": {},
   "cell_type": "markdown",
   "source": "对于条件 Logit 模型，也可用命令 asclogit 来估计",
   "id": "c6e3fbdf44618819"
  },
  {
   "metadata": {
    "ExecuteTime": {
     "end_time": "2025-03-09T10:11:46.650405Z",
     "start_time": "2025-03-09T10:11:46.412664Z"
    }
   },
   "cell_type": "code",
   "source": "%stata asclogit choice time invc, case(id) alternatives(mode) base(3) nolog",
   "id": "fecb3b79de40ab7",
   "outputs": [
    {
     "name": "stdout",
     "output_type": "stream",
     "text": [
      "\n",
      "Alternative-specific conditional logit         Number of obs      =        456\n",
      "Case ID variable: id                           Number of cases    =        152\n",
      "\n",
      "Alternatives variable: mode                    Alts per case: min =          3\n",
      "                                                              avg =        3.0\n",
      "                                                              max =          3\n",
      "\n",
      "                                                  Wald chi2(2)    =      70.53\n",
      "Log likelihood = -80.961135                       Prob > chi2     =     0.0000\n",
      "\n",
      "------------------------------------------------------------------------------\n",
      "      choice | Coefficient  Std. err.      z    P>|z|     [95% conf. interval]\n",
      "-------------+----------------------------------------------------------------\n",
      "mode         |\n",
      "        time |  -.0191453   .0024509    -7.81   0.000    -.0239489   -.0143417\n",
      "        invc |  -.0481658   .0119516    -4.03   0.000    -.0715905   -.0247411\n",
      "-------------+----------------------------------------------------------------\n",
      "Train        |\n",
      "       _cons |   2.671238   .4531611     5.89   0.000     1.783058    3.559417\n",
      "-------------+----------------------------------------------------------------\n",
      "Bus          |\n",
      "       _cons |   1.472335   .4007152     3.67   0.000     .6869474    2.257722\n",
      "-------------+----------------------------------------------------------------\n",
      "Car          |  (base alternative)\n",
      "------------------------------------------------------------------------------\n"
     ]
    }
   ],
   "execution_count": 60
  },
  {
   "metadata": {},
   "cell_type": "markdown",
   "source": "对比上表与命令 clogit 的估计结果可知，二者的系数估计值与标准误均完全相同。使用命令 asclogit 的主要好处在于，它可以通过选择项“casevars(varname)”将只随个体而变的解释变量也包括在模型中。下面将解释变量“家庭收入”（hinc）与“旅行团人数”（psize）也包括进来，进行混合 Logit 模型估计。",
   "id": "839ea4c7307c0487"
  },
  {
   "metadata": {
    "ExecuteTime": {
     "end_time": "2025-03-09T10:17:02.554523Z",
     "start_time": "2025-03-09T10:17:02.448969Z"
    }
   },
   "cell_type": "code",
   "source": "%stata asclogit choice time invc, case(id) alternatives(mode) base(3) casevars(hinc psize) nolog",
   "id": "abd0dbb29429b076",
   "outputs": [
    {
     "name": "stdout",
     "output_type": "stream",
     "text": [
      "\n",
      "Alternative-specific conditional logit         Number of obs      =        456\n",
      "Case ID variable: id                           Number of cases    =        152\n",
      "\n",
      "Alternatives variable: mode                    Alts per case: min =          3\n",
      "                                                              avg =        3.0\n",
      "                                                              max =          3\n",
      "\n",
      "                                                  Wald chi2(6)    =      69.09\n",
      "Log likelihood = -77.504846                       Prob > chi2     =     0.0000\n",
      "\n",
      "------------------------------------------------------------------------------\n",
      "      choice | Coefficient  Std. err.      z    P>|z|     [95% conf. interval]\n",
      "-------------+----------------------------------------------------------------\n",
      "mode         |\n",
      "        time |  -.0185035   .0025035    -7.39   0.000    -.0234103   -.0135966\n",
      "        invc |  -.0402791   .0134851    -2.99   0.003    -.0667095   -.0138488\n",
      "-------------+----------------------------------------------------------------\n",
      "Train        |\n",
      "        hinc |  -.0342841   .0158471    -2.16   0.031    -.0653438   -.0032243\n",
      "       psize |  -.0038421   .3098075    -0.01   0.990    -.6110537    .6033695\n",
      "       _cons |   3.499641   .7579665     4.62   0.000     2.014054    4.985228\n",
      "-------------+----------------------------------------------------------------\n",
      "Bus          |\n",
      "        hinc |  -.0080174   .0200322    -0.40   0.689    -.0472798     .031245\n",
      "       psize |  -.5141037   .4007015    -1.28   0.199    -1.299464    .2712569\n",
      "       _cons |   2.486465   .8803649     2.82   0.005     .7609815    4.211949\n",
      "-------------+----------------------------------------------------------------\n",
      "Car          |  (base alternative)\n",
      "------------------------------------------------------------------------------\n"
     ]
    }
   ],
   "execution_count": 61
  },
  {
   "metadata": {},
   "cell_type": "markdown",
   "source": "上表显示，家庭收入（hinc）越高，越不倾向于选择火车；但对于选择长途大巴则无显著影响。旅行团规模（psize）没有显著影响。旅行时间（time）与乘车成本（invc）的估计系数依然显著为负，且与前面条件 Logit 模型的估计系数很接近。上表并不汇报准 $R^2$，但可以很容易地手工计算。从上表可知，该模型的对数似然函数值为 -77.504846，下面估计一个只含常数项的模型",
   "id": "a96723d9c262d4f2"
  },
  {
   "metadata": {
    "ExecuteTime": {
     "end_time": "2025-03-09T10:25:08.073044Z",
     "start_time": "2025-03-09T10:25:07.979958Z"
    }
   },
   "cell_type": "code",
   "source": "%stata asclogit choice, case(id) alternatives(mode) base(3) nolog",
   "id": "9bed4e1585ea84ef",
   "outputs": [
    {
     "name": "stdout",
     "output_type": "stream",
     "text": [
      "\n",
      "Alternative-specific conditional logit         Number of obs      =        456\n",
      "Case ID variable: id                           Number of cases    =        152\n",
      "\n",
      "Alternatives variable: mode                    Alts per case: min =          3\n",
      "                                                              avg =        3.0\n",
      "                                                              max =          3\n",
      "\n",
      "                                                  Wald chi2(0)    =          .\n",
      "Log likelihood = -160.00172                       Prob > chi2     =          .\n",
      "\n",
      "------------------------------------------------------------------------------\n",
      "      choice | Coefficient  Std. err.      z    P>|z|     [95% conf. interval]\n",
      "-------------+----------------------------------------------------------------\n",
      "Train        |\n",
      "       _cons |   .0655973   .1811689     0.36   0.717    -.2894872    .4206818\n",
      "-------------+----------------------------------------------------------------\n",
      "Bus          |\n",
      "       _cons |    -.67634   .2242376    -3.02   0.003    -1.115838   -.2368425\n",
      "-------------+----------------------------------------------------------------\n",
      "Car          |  (base alternative)\n",
      "------------------------------------------------------------------------------\n"
     ]
    }
   ],
   "execution_count": 62
  },
  {
   "metadata": {},
   "cell_type": "markdown",
   "source": "上表显示，只含常数项模型的对数似然函数为-160.00172，故可计算准$R^2$如下",
   "id": "daf6cccc30425839"
  },
  {
   "metadata": {
    "ExecuteTime": {
     "end_time": "2025-03-09T10:28:12.370643Z",
     "start_time": "2025-03-09T10:28:12.297588Z"
    }
   },
   "cell_type": "code",
   "source": "%stata dis(160.00172-77.504846)/160.00172",
   "id": "a12e3f9dcc27ba87",
   "outputs": [
    {
     "name": "stdout",
     "output_type": "stream",
     "text": [
      ".51559992\n"
     ]
    }
   ],
   "execution_count": 63
  }
 ],
 "metadata": {
  "kernelspec": {
   "display_name": "Python 3",
   "language": "python",
   "name": "python3"
  },
  "language_info": {
   "codemirror_mode": {
    "name": "ipython",
    "version": 2
   },
   "file_extension": ".py",
   "mimetype": "text/x-python",
   "name": "python",
   "nbconvert_exporter": "python",
   "pygments_lexer": "ipython2",
   "version": "2.7.6"
  }
 },
 "nbformat": 4,
 "nbformat_minor": 5
}
