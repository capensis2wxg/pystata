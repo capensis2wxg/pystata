{
 "cells": [
  {
   "cell_type": "code",
   "id": "initial_id",
   "metadata": {
    "collapsed": true,
    "ExecuteTime": {
     "end_time": "2025-03-09T07:21:37.856948Z",
     "start_time": "2025-03-09T07:21:35.997662Z"
    }
   },
   "source": [
    "import os\n",
    "import stata_setup\n",
    "## 设置pystata目录\n",
    "stata_setup.config(os.getenv(\"STATA_SYSDIR\"), 'mp')"
   ],
   "outputs": [
    {
     "name": "stdout",
     "output_type": "stream",
     "text": [
      "\n",
      "  ___  ____  ____  ____  ____ ©\n",
      " /__    /   ____/   /   ____/      17.0\n",
      "___/   /   /___/   /   /___/       MP—Parallel Edition\n",
      "\n",
      " Statistics and Data Science       Copyright 1985-2021 StataCorp LLC\n",
      "                                   StataCorp\n",
      "                                   4905 Lakeway Drive\n",
      "                                   College Station, Texas 77845 USA\n",
      "                                   800-STATA-PC        https://www.stata.com\n",
      "                                   979-696-4600        stata@stata.com\n",
      "\n",
      "Stata license: Single-user 2-core  perpetual\n",
      "Serial number: 501806366048\n",
      "  Licensed to: wxg\n",
      "               wxg\n",
      "\n",
      "Notes:\n",
      "      1. Unicode is supported; see help unicode_advice.\n",
      "      2. More than 2 billion observations are allowed; see help obs_advice.\n",
      "      3. Maximum number of variables is set to 5,000; see help set_maxvar.\n"
     ]
    }
   ],
   "execution_count": 4
  },
  {
   "metadata": {
    "ExecuteTime": {
     "end_time": "2025-03-09T07:26:51.086230Z",
     "start_time": "2025-03-09T07:26:51.004736Z"
    }
   },
   "cell_type": "code",
   "source": [
    "from pystata import stata\n",
    "\n",
    "stata.run('use womenwk.dta, replace')\n",
    "\n",
    "pd_data = stata.pdataframe_from_data()\n",
    "pd_data.head()"
   ],
   "id": "f6c7e83e1fddc808",
   "outputs": [
    {
     "data": {
      "text/plain": [
       "         c1        c2         u         v  county  age  education  married  \\\n",
       "0 -0.436205 -0.096918 -0.218103 -0.375727     1.0   22         10        1   \n",
       "1  0.352141  0.300476  0.176070  0.461234     2.0   36         10        1   \n",
       "2  1.077247 -1.595963  0.538623 -0.376244     3.0   28         10        1   \n",
       "3  1.021283 -1.710498  0.510642 -0.496999     4.0   37         10        1   \n",
       "4 -0.442960  0.308340 -0.221480 -0.092511     5.0   39         10        1   \n",
       "\n",
       "   children     select   wagefull           wage             lw  work  \\\n",
       "0         0  16.791273  12.782769  8.988466e+307  8.988466e+307   0.0   \n",
       "1         0  32.434814  20.312845   2.031285e+01   3.011253e+00   1.0   \n",
       "2         0  19.185072  23.063478  8.988466e+307  8.988466e+307   0.0   \n",
       "3         0  21.336010  24.527700  8.988466e+307  8.988466e+307   0.0   \n",
       "4         1  31.989870  16.142241   1.614224e+01   2.781440e+00   1.0   \n",
       "\n",
       "        lwf  \n",
       "0  0.000000  \n",
       "1  3.011253  \n",
       "2  0.000000  \n",
       "3  0.000000  \n",
       "4  2.781440  "
      ],
      "text/html": [
       "<div>\n",
       "<style scoped>\n",
       "    .dataframe tbody tr th:only-of-type {\n",
       "        vertical-align: middle;\n",
       "    }\n",
       "\n",
       "    .dataframe tbody tr th {\n",
       "        vertical-align: top;\n",
       "    }\n",
       "\n",
       "    .dataframe thead th {\n",
       "        text-align: right;\n",
       "    }\n",
       "</style>\n",
       "<table border=\"1\" class=\"dataframe\">\n",
       "  <thead>\n",
       "    <tr style=\"text-align: right;\">\n",
       "      <th></th>\n",
       "      <th>c1</th>\n",
       "      <th>c2</th>\n",
       "      <th>u</th>\n",
       "      <th>v</th>\n",
       "      <th>county</th>\n",
       "      <th>age</th>\n",
       "      <th>education</th>\n",
       "      <th>married</th>\n",
       "      <th>children</th>\n",
       "      <th>select</th>\n",
       "      <th>wagefull</th>\n",
       "      <th>wage</th>\n",
       "      <th>lw</th>\n",
       "      <th>work</th>\n",
       "      <th>lwf</th>\n",
       "    </tr>\n",
       "  </thead>\n",
       "  <tbody>\n",
       "    <tr>\n",
       "      <th>0</th>\n",
       "      <td>-0.436205</td>\n",
       "      <td>-0.096918</td>\n",
       "      <td>-0.218103</td>\n",
       "      <td>-0.375727</td>\n",
       "      <td>1.0</td>\n",
       "      <td>22</td>\n",
       "      <td>10</td>\n",
       "      <td>1</td>\n",
       "      <td>0</td>\n",
       "      <td>16.791273</td>\n",
       "      <td>12.782769</td>\n",
       "      <td>8.988466e+307</td>\n",
       "      <td>8.988466e+307</td>\n",
       "      <td>0.0</td>\n",
       "      <td>0.000000</td>\n",
       "    </tr>\n",
       "    <tr>\n",
       "      <th>1</th>\n",
       "      <td>0.352141</td>\n",
       "      <td>0.300476</td>\n",
       "      <td>0.176070</td>\n",
       "      <td>0.461234</td>\n",
       "      <td>2.0</td>\n",
       "      <td>36</td>\n",
       "      <td>10</td>\n",
       "      <td>1</td>\n",
       "      <td>0</td>\n",
       "      <td>32.434814</td>\n",
       "      <td>20.312845</td>\n",
       "      <td>2.031285e+01</td>\n",
       "      <td>3.011253e+00</td>\n",
       "      <td>1.0</td>\n",
       "      <td>3.011253</td>\n",
       "    </tr>\n",
       "    <tr>\n",
       "      <th>2</th>\n",
       "      <td>1.077247</td>\n",
       "      <td>-1.595963</td>\n",
       "      <td>0.538623</td>\n",
       "      <td>-0.376244</td>\n",
       "      <td>3.0</td>\n",
       "      <td>28</td>\n",
       "      <td>10</td>\n",
       "      <td>1</td>\n",
       "      <td>0</td>\n",
       "      <td>19.185072</td>\n",
       "      <td>23.063478</td>\n",
       "      <td>8.988466e+307</td>\n",
       "      <td>8.988466e+307</td>\n",
       "      <td>0.0</td>\n",
       "      <td>0.000000</td>\n",
       "    </tr>\n",
       "    <tr>\n",
       "      <th>3</th>\n",
       "      <td>1.021283</td>\n",
       "      <td>-1.710498</td>\n",
       "      <td>0.510642</td>\n",
       "      <td>-0.496999</td>\n",
       "      <td>4.0</td>\n",
       "      <td>37</td>\n",
       "      <td>10</td>\n",
       "      <td>1</td>\n",
       "      <td>0</td>\n",
       "      <td>21.336010</td>\n",
       "      <td>24.527700</td>\n",
       "      <td>8.988466e+307</td>\n",
       "      <td>8.988466e+307</td>\n",
       "      <td>0.0</td>\n",
       "      <td>0.000000</td>\n",
       "    </tr>\n",
       "    <tr>\n",
       "      <th>4</th>\n",
       "      <td>-0.442960</td>\n",
       "      <td>0.308340</td>\n",
       "      <td>-0.221480</td>\n",
       "      <td>-0.092511</td>\n",
       "      <td>5.0</td>\n",
       "      <td>39</td>\n",
       "      <td>10</td>\n",
       "      <td>1</td>\n",
       "      <td>1</td>\n",
       "      <td>31.989870</td>\n",
       "      <td>16.142241</td>\n",
       "      <td>1.614224e+01</td>\n",
       "      <td>2.781440e+00</td>\n",
       "      <td>1.0</td>\n",
       "      <td>2.781440</td>\n",
       "    </tr>\n",
       "  </tbody>\n",
       "</table>\n",
       "</div>"
      ]
     },
     "execution_count": 8,
     "metadata": {},
     "output_type": "execute_result"
    }
   ],
   "execution_count": 8
  },
  {
   "metadata": {},
   "cell_type": "markdown",
   "source": "作为对照，首先使用$OLS$进行线性概率模型（$PLM$）估计",
   "id": "12cfe660cf273622"
  },
  {
   "metadata": {
    "ExecuteTime": {
     "end_time": "2025-03-08T21:53:17.693784Z",
     "start_time": "2025-03-08T21:53:16.930504Z"
    }
   },
   "cell_type": "code",
   "source": "stata.run('reg work age married children education, r')",
   "id": "305f4312ba891172",
   "outputs": [
    {
     "name": "stdout",
     "output_type": "stream",
     "text": [
      "\n",
      "Linear regression                               Number of obs     =      2,000\n",
      "                                                F(4, 1995)        =     192.58\n",
      "                                                Prob > F          =     0.0000\n",
      "                                                R-squared         =     0.2026\n",
      "                                                Root MSE          =     .41992\n",
      "\n",
      "------------------------------------------------------------------------------\n",
      "             |               Robust\n",
      "        work | Coefficient  std. err.      t    P>|t|     [95% conf. interval]\n",
      "-------------+----------------------------------------------------------------\n",
      "         age |   .0102552   .0012236     8.38   0.000     .0078556    .0126548\n",
      "     married |   .1111116   .0226719     4.90   0.000     .0666485    .1555748\n",
      "    children |   .1153084   .0056978    20.24   0.000     .1041342    .1264827\n",
      "   education |   .0186011   .0033006     5.64   0.000     .0121282     .025074\n",
      "       _cons |  -.2073227   .0534581    -3.88   0.000    -.3121622   -.1024832\n",
      "------------------------------------------------------------------------------\n"
     ]
    }
   ],
   "execution_count": 10
  },
  {
   "metadata": {},
   "cell_type": "markdown",
   "source": "其次，使用$Logit$进行估计",
   "id": "2dadb146d9375a60"
  },
  {
   "metadata": {
    "ExecuteTime": {
     "end_time": "2025-03-08T21:58:17.705028Z",
     "start_time": "2025-03-08T21:58:16.403182Z"
    }
   },
   "cell_type": "code",
   "source": "stata.run('logit work age married children education, nolog')",
   "id": "a18348da51ceb85c",
   "outputs": [
    {
     "name": "stdout",
     "output_type": "stream",
     "text": [
      "\n",
      "Logistic regression                                     Number of obs =  2,000\n",
      "                                                        LR chi2(4)    = 476.62\n",
      "                                                        Prob > chi2   = 0.0000\n",
      "Log likelihood = -1027.9144                             Pseudo R2     = 0.1882\n",
      "\n",
      "------------------------------------------------------------------------------\n",
      "        work | Coefficient  Std. err.      z    P>|z|     [95% conf. interval]\n",
      "-------------+----------------------------------------------------------------\n",
      "         age |   .0579303    .007221     8.02   0.000     .0437773    .0720833\n",
      "     married |   .7417775   .1264705     5.87   0.000     .4938998    .9896552\n",
      "    children |   .7644882   .0515289    14.84   0.000     .6634935     .865483\n",
      "   education |   .0982513   .0186522     5.27   0.000     .0616936     .134809\n",
      "       _cons |  -4.159247   .3320401   -12.53   0.000    -4.810034   -3.508461\n",
      "------------------------------------------------------------------------------\n"
     ]
    }
   ],
   "execution_count": 11
  },
  {
   "metadata": {},
   "cell_type": "markdown",
   "source": "上表显示，准$R^2$为0.19。$LR$统计量为476，62，对应的$p$值为0.00， 故整个方程所有系数（除常数项外）的联合显著性很高。下面，使用稳健标准误进行$logit$估计",
   "id": "8a3c3647ca2c2f26"
  },
  {
   "metadata": {
    "ExecuteTime": {
     "end_time": "2025-03-08T22:04:12.477353Z",
     "start_time": "2025-03-08T22:04:12.232764Z"
    }
   },
   "cell_type": "code",
   "source": "stata.run('logit work age married children education, r nolog')",
   "id": "98a8782da44d3849",
   "outputs": [
    {
     "name": "stdout",
     "output_type": "stream",
     "text": [
      "\n",
      "Logistic regression                                     Number of obs =  2,000\n",
      "                                                        Wald chi2(4)  = 344.54\n",
      "                                                        Prob > chi2   = 0.0000\n",
      "Log pseudolikelihood = -1027.9144                       Pseudo R2     = 0.1882\n",
      "\n",
      "------------------------------------------------------------------------------\n",
      "             |               Robust\n",
      "        work | Coefficient  std. err.      z    P>|z|     [95% conf. interval]\n",
      "-------------+----------------------------------------------------------------\n",
      "         age |   .0579303   .0072054     8.04   0.000     .0438079    .0720527\n",
      "     married |   .7417775   .1272191     5.83   0.000     .4924326    .9911224\n",
      "    children |   .7644882   .0497584    15.36   0.000     .6669635    .8620129\n",
      "   education |   .0982513    .019011     5.17   0.000     .0609904    .1355121\n",
      "       _cons |  -4.159247    .327398   -12.70   0.000    -4.800936   -3.517559\n",
      "------------------------------------------------------------------------------\n"
     ]
    }
   ],
   "execution_count": 12
  },
  {
   "metadata": {},
   "cell_type": "markdown",
   "source": "对比以上两个表格可知，稳健标准误与普通标准误非常接近，故大致可以不必担心模型设定问题。由于各解释变量（$age$, $married$, $children$, $education$）的最小变化量至少为1单位，为了便于解释回归结果，下面让$Stata$汇报几率比而非系数",
   "id": "968cf97291cf881b"
  },
  {
   "metadata": {
    "ExecuteTime": {
     "end_time": "2025-03-08T22:08:43.321860Z",
     "start_time": "2025-03-08T22:08:43.246869Z"
    }
   },
   "cell_type": "code",
   "source": "stata.run('logit work age married children education, or nolog')",
   "id": "b35281fb41482261",
   "outputs": [
    {
     "name": "stdout",
     "output_type": "stream",
     "text": [
      "\n",
      "Logistic regression                                     Number of obs =  2,000\n",
      "                                                        LR chi2(4)    = 476.62\n",
      "                                                        Prob > chi2   = 0.0000\n",
      "Log likelihood = -1027.9144                             Pseudo R2     = 0.1882\n",
      "\n",
      "------------------------------------------------------------------------------\n",
      "        work | Odds ratio   Std. err.      z    P>|z|     [95% conf. interval]\n",
      "-------------+----------------------------------------------------------------\n",
      "         age |   1.059641   .0076517     8.02   0.000      1.04475    1.074745\n",
      "     married |   2.099664   .2655457     5.87   0.000     1.638694    2.690307\n",
      "    children |   2.147895   .1106786    14.84   0.000     1.941563    2.376153\n",
      "   education |    1.10324   .0205779     5.27   0.000     1.063636    1.144318\n",
      "       _cons |   .0156193   .0051862   -12.53   0.000     .0081476     .029943\n",
      "------------------------------------------------------------------------------\n",
      "Note: _cons estimates baseline odds.\n"
     ]
    }
   ],
   "execution_count": 13
  },
  {
   "metadata": {},
   "cell_type": "markdown",
   "source": "上表显示，在给定其他变量的情况下，已婚妇女参加工作的几率比是未婚妇女的2.10倍（即高出$110%$）;而年龄增加$1$岁，参加工作的几率比就会增加$6\\%$；其他变量对应的几率比可以类似解释。为了与$OLS$估计的回归系数比较，计算$Probit$模型的平均边际效应",
   "id": "15e680eebdc0b015"
  },
  {
   "metadata": {
    "ExecuteTime": {
     "end_time": "2025-03-08T22:16:46.456346Z",
     "start_time": "2025-03-08T22:16:46.219163Z"
    }
   },
   "cell_type": "code",
   "source": "stata.run('margins, dydx(*)')",
   "id": "9a9b8da1085c65af",
   "outputs": [
    {
     "name": "stdout",
     "output_type": "stream",
     "text": [
      "\n",
      "Average marginal effects                                 Number of obs = 2,000\n",
      "Model VCE: OIM\n",
      "\n",
      "Expression: Pr(work), predict()\n",
      "dy/dx wrt:  age married children education\n",
      "\n",
      "------------------------------------------------------------------------------\n",
      "             |            Delta-method\n",
      "             |      dy/dx   std. err.      z    P>|z|     [95% conf. interval]\n",
      "-------------+----------------------------------------------------------------\n",
      "         age |   .0099674   .0011682     8.53   0.000     .0076778    .0122569\n",
      "     married |    .127629    .021152     6.03   0.000     .0861717    .1690862\n",
      "    children |   .1315365    .007073    18.60   0.000     .1176736    .1453994\n",
      "   education |   .0169049   .0031243     5.41   0.000     .0107814    .0230285\n",
      "------------------------------------------------------------------------------\n"
     ]
    }
   ],
   "execution_count": 14
  },
  {
   "metadata": {},
   "cell_type": "markdown",
   "source": "简单目测可知，$Logit$模型的平均边际效应与$OLS$回归系数相差不大。为了演示的目的，下面计算在样本均值处的边际效应",
   "id": "8497f8614d4c19e5"
  },
  {
   "metadata": {
    "ExecuteTime": {
     "end_time": "2025-03-08T22:21:37.341317Z",
     "start_time": "2025-03-08T22:21:37.241208Z"
    }
   },
   "cell_type": "code",
   "source": "stata.run('margins, dydx(*) atmeans')",
   "id": "b7442e00df4cf493",
   "outputs": [
    {
     "name": "stdout",
     "output_type": "stream",
     "text": [
      "\n",
      "Conditional marginal effects                             Number of obs = 2,000\n",
      "Model VCE: OIM\n",
      "\n",
      "Expression: Pr(work), predict()\n",
      "dy/dx wrt:  age married children education\n",
      "At: age       = 36.208 (mean)\n",
      "    married   =  .6705 (mean)\n",
      "    children  = 1.6445 (mean)\n",
      "    education = 13.084 (mean)\n",
      "\n",
      "------------------------------------------------------------------------------\n",
      "             |            Delta-method\n",
      "             |      dy/dx   std. err.      z    P>|z|     [95% conf. interval]\n",
      "-------------+----------------------------------------------------------------\n",
      "         age |   .0115031   .0014236     8.08   0.000     .0087129    .0142934\n",
      "     married |   .1472934   .0248209     5.93   0.000     .0986453    .1959415\n",
      "    children |    .151803   .0093768    16.19   0.000     .1334249    .1701812\n",
      "   education |   .0195096   .0036991     5.27   0.000     .0122596    .0267596\n",
      "------------------------------------------------------------------------------\n"
     ]
    }
   ],
   "execution_count": 15
  },
  {
   "metadata": {},
   "cell_type": "markdown",
   "source": "对比以上两个表格的输出结果可知，在样本均值处的边际效应与平均边际效应应有所不同。如果只关心变量$age$在\"age=30\"处的边际效应，可输入命令",
   "id": "8b6a929fef4227a4"
  },
  {
   "metadata": {
    "ExecuteTime": {
     "end_time": "2025-03-08T22:24:50.787649Z",
     "start_time": "2025-03-08T22:24:50.690628Z"
    }
   },
   "cell_type": "code",
   "source": "stata.run('margins, dydx(age) at(age=30)')",
   "id": "8a037458272091b1",
   "outputs": [
    {
     "name": "stdout",
     "output_type": "stream",
     "text": [
      "\n",
      "Average marginal effects                                 Number of obs = 2,000\n",
      "Model VCE: OIM\n",
      "\n",
      "Expression: Pr(work), predict()\n",
      "dy/dx wrt:  age\n",
      "At: age = 30\n",
      "\n",
      "------------------------------------------------------------------------------\n",
      "             |            Delta-method\n",
      "             |      dy/dx   std. err.      z    P>|z|     [95% conf. interval]\n",
      "-------------+----------------------------------------------------------------\n",
      "         age |    .011179   .0014719     7.59   0.000      .008294    .0140639\n",
      "------------------------------------------------------------------------------\n"
     ]
    }
   ],
   "execution_count": 16
  },
  {
   "metadata": {},
   "cell_type": "markdown",
   "source": "从上表可知，对比此非线性模型，变量$age$在\"age=30\"处的边际效应并不等于该变量的平均边际效应，也不等于在样本均值处的边际效应。下面计算$Logit$模型准确预测的比率",
   "id": "cbea16f64d38b750"
  },
  {
   "metadata": {
    "ExecuteTime": {
     "end_time": "2025-03-08T22:27:14.720038Z",
     "start_time": "2025-03-08T22:27:14.621123Z"
    }
   },
   "cell_type": "code",
   "source": "stata.run('estat clas')",
   "id": "93d37ca4cf01bd09",
   "outputs": [
    {
     "name": "stdout",
     "output_type": "stream",
     "text": [
      "\n",
      "Logistic model for work\n",
      "\n",
      "              -------- True --------\n",
      "Classified |         D            ~D  |      Total\n",
      "-----------+--------------------------+-----------\n",
      "     +     |      1177           361  |       1538\n",
      "     -     |       166           296  |        462\n",
      "-----------+--------------------------+-----------\n",
      "   Total   |      1343           657  |       2000\n",
      "\n",
      "Classified + if predicted Pr(D) >= .5\n",
      "True D defined as work != 0\n",
      "--------------------------------------------------\n",
      "Sensitivity                     Pr( +| D)   87.64%\n",
      "Specificity                     Pr( -|~D)   45.05%\n",
      "Positive predictive value       Pr( D| +)   76.53%\n",
      "Negative predictive value       Pr(~D| -)   64.07%\n",
      "--------------------------------------------------\n",
      "False + rate for true ~D        Pr( +|~D)   54.95%\n",
      "False - rate for true D         Pr( -| D)   12.36%\n",
      "False + rate for classified +   Pr(~D| +)   23.47%\n",
      "False - rate for classified -   Pr( D| -)   35.93%\n",
      "--------------------------------------------------\n",
      "Correctly classified                        73.65%\n",
      "--------------------------------------------------\n"
     ]
    }
   ],
   "execution_count": 17
  },
  {
   "metadata": {},
   "cell_type": "markdown",
   "source": "上表显示，正确预测的比率为$(1177+296)/2000=73.65\\%$。为了演示的目的，假设年龄相同的个体存在组内相关，故使用$age$为聚类变量来计算聚类稳健的标准误",
   "id": "d57df9a29ec0f7cd"
  },
  {
   "metadata": {
    "ExecuteTime": {
     "end_time": "2025-03-08T22:33:05.901166Z",
     "start_time": "2025-03-08T22:33:05.775029Z"
    }
   },
   "cell_type": "code",
   "source": "stata.run('logit work age married children education, nolog vce(cluster age)')",
   "id": "66d2354004aae70f",
   "outputs": [
    {
     "name": "stdout",
     "output_type": "stream",
     "text": [
      "\n",
      "Logistic regression                                     Number of obs =  2,000\n",
      "                                                        Wald chi2(4)  = 576.81\n",
      "                                                        Prob > chi2   = 0.0000\n",
      "Log pseudolikelihood = -1027.9144                       Pseudo R2     = 0.1882\n",
      "\n",
      "                                   (Std. err. adjusted for 40 clusters in age)\n",
      "------------------------------------------------------------------------------\n",
      "             |               Robust\n",
      "        work | Coefficient  std. err.      z    P>|z|     [95% conf. interval]\n",
      "-------------+----------------------------------------------------------------\n",
      "         age |   .0579303   .0055907    10.36   0.000     .0469728    .0688879\n",
      "     married |   .7417775   .1084937     6.84   0.000     .5291337    .9544213\n",
      "    children |   .7644882   .0540759    14.14   0.000     .6585014     .870475\n",
      "   education |   .0982513   .0148423     6.62   0.000     .0691609    .1273416\n",
      "       _cons |  -4.159247   .2494119   -16.68   0.000    -4.648086   -3.670409\n",
      "------------------------------------------------------------------------------\n"
     ]
    }
   ],
   "execution_count": 18
  },
  {
   "metadata": {},
   "cell_type": "markdown",
   "source": "类似地，可以对此模型进行$Probit$估计",
   "id": "925f60d1ba9a3eed"
  },
  {
   "metadata": {
    "ExecuteTime": {
     "end_time": "2025-03-08T22:35:48.658258Z",
     "start_time": "2025-03-08T22:35:48.533229Z"
    }
   },
   "cell_type": "code",
   "source": "stata.run('probit work age married children education, nolog')",
   "id": "899d86bab1fc0fa5",
   "outputs": [
    {
     "name": "stdout",
     "output_type": "stream",
     "text": [
      "\n",
      "Probit regression                                       Number of obs =  2,000\n",
      "                                                        LR chi2(4)    = 478.32\n",
      "                                                        Prob > chi2   = 0.0000\n",
      "Log likelihood = -1027.0616                             Pseudo R2     = 0.1889\n",
      "\n",
      "------------------------------------------------------------------------------\n",
      "        work | Coefficient  Std. err.      z    P>|z|     [95% conf. interval]\n",
      "-------------+----------------------------------------------------------------\n",
      "         age |   .0347211   .0042293     8.21   0.000     .0264318    .0430105\n",
      "     married |   .4308575    .074208     5.81   0.000     .2854125    .5763025\n",
      "    children |   .4473249   .0287417    15.56   0.000     .3909922    .5036576\n",
      "   education |   .0583645   .0109742     5.32   0.000     .0368555    .0798735\n",
      "       _cons |  -2.467365   .1925635   -12.81   0.000    -2.844782   -2.089948\n",
      "------------------------------------------------------------------------------\n"
     ]
    }
   ],
   "execution_count": 19
  },
  {
   "metadata": {},
   "cell_type": "markdown",
   "source": "下面考察$Probit$模型的边际效应及预测准确度",
   "id": "cb6b017c02d47fe9"
  },
  {
   "metadata": {
    "ExecuteTime": {
     "end_time": "2025-03-08T22:39:02.468596Z",
     "start_time": "2025-03-08T22:39:02.308412Z"
    }
   },
   "cell_type": "code",
   "source": [
    "stata.run(\n",
    "    \"\"\"\n",
    "    margins,dydx(*)\n",
    "    estat clas\n",
    "    \"\"\"\n",
    ")"
   ],
   "id": "b59e516a4d61f0a9",
   "outputs": [
    {
     "name": "stdout",
     "output_type": "stream",
     "text": [
      "\n",
      ". \n",
      ".     margins,dydx(*)\n",
      "\n",
      "Average marginal effects                                 Number of obs = 2,000\n",
      "Model VCE: OIM\n",
      "\n",
      "Expression: Pr(work), predict()\n",
      "dy/dx wrt:  age married children education\n",
      "\n",
      "------------------------------------------------------------------------------\n",
      "             |            Delta-method\n",
      "             |      dy/dx   std. err.      z    P>|z|     [95% conf. interval]\n",
      "-------------+----------------------------------------------------------------\n",
      "         age |   .0100768   .0011647     8.65   0.000     .0077941    .0123595\n",
      "     married |   .1250441   .0210541     5.94   0.000     .0837788    .1663094\n",
      "    children |   .1298233   .0068418    18.98   0.000     .1164137    .1432329\n",
      "   education |   .0169386   .0031183     5.43   0.000     .0108269    .0230504\n",
      "------------------------------------------------------------------------------\n",
      "\n",
      ".     estat clas\n",
      "\n",
      "Probit model for work\n",
      "\n",
      "              -------- True --------\n",
      "Classified |         D            ~D  |      Total\n",
      "-----------+--------------------------+-----------\n",
      "     +     |      1177           361  |       1538\n",
      "     -     |       166           296  |        462\n",
      "-----------+--------------------------+-----------\n",
      "   Total   |      1343           657  |       2000\n",
      "\n",
      "Classified + if predicted Pr(D) >= .5\n",
      "True D defined as work != 0\n",
      "--------------------------------------------------\n",
      "Sensitivity                     Pr( +| D)   87.64%\n",
      "Specificity                     Pr( -|~D)   45.05%\n",
      "Positive predictive value       Pr( D| +)   76.53%\n",
      "Negative predictive value       Pr(~D| -)   64.07%\n",
      "--------------------------------------------------\n",
      "False + rate for true ~D        Pr( +|~D)   54.95%\n",
      "False - rate for true D         Pr( -| D)   12.36%\n",
      "False + rate for classified +   Pr(~D| +)   23.47%\n",
      "False - rate for classified -   Pr( D| -)   35.93%\n",
      "--------------------------------------------------\n",
      "Correctly classified                        73.65%\n",
      "--------------------------------------------------\n",
      "\n",
      ".     \n",
      ". \n"
     ]
    }
   ],
   "execution_count": 22
  },
  {
   "metadata": {},
   "cell_type": "markdown",
   "source": "从以上各表可以看出，$Logit$模型的边际效应、准$R^2$以及正确预测比率与$Probit$模型几乎完全相同，故可视为基本等价（两者的估计系数虽有差距，但估计系数没有可比性）",
   "id": "ffe569ba00fc62a7"
  },
  {
   "metadata": {},
   "cell_type": "markdown",
   "source": "在异方差情况下进行$Probit$估计的$Stata$命令为",
   "id": "90b21de905264c0c"
  },
  {
   "metadata": {
    "ExecuteTime": {
     "end_time": "2025-03-08T23:04:29.095189Z",
     "start_time": "2025-03-08T23:04:28.903586Z"
    }
   },
   "cell_type": "code",
   "source": "stata.run('hetprob work age married children education, het(age married children education) nolog')",
   "id": "af6f43195f7b410e",
   "outputs": [
    {
     "name": "stdout",
     "output_type": "stream",
     "text": [
      "\n",
      "Heteroskedastic probit model                    Number of obs     =      2,000\n",
      "                                                Zero outcomes     =        657\n",
      "                                                Nonzero outcomes  =      1,343\n",
      "\n",
      "                                                Wald chi2(4)      =      12.80\n",
      "Log likelihood =  -1026.19                      Prob > chi2       =     0.0123\n",
      "\n",
      "------------------------------------------------------------------------------\n",
      "        work | Coefficient  Std. err.      z    P>|z|     [95% conf. interval]\n",
      "-------------+----------------------------------------------------------------\n",
      "work         |\n",
      "         age |   .0356192   .0132539     2.69   0.007      .009642    .0615964\n",
      "     married |   .5068326   .1629512     3.11   0.002     .1874542     .826211\n",
      "    children |   .5013477   .1510223     3.32   0.001     .2053494     .797346\n",
      "   education |   .0766883   .0355709     2.16   0.031     .0069706     .146406\n",
      "       _cons |  -2.799595   .9868774    -2.84   0.005    -4.733839   -.8653511\n",
      "-------------+----------------------------------------------------------------\n",
      "lnsigma      |\n",
      "         age |  -.0056187    .006938    -0.81   0.418    -.0192169    .0079795\n",
      "     married |   .0761414    .121846     0.62   0.532    -.1626724    .3149551\n",
      "    children |   .0035041    .041605     0.08   0.933    -.0780401    .0850483\n",
      "   education |   .0199841   .0217614     0.92   0.358    -.0226675    .0626356\n",
      "------------------------------------------------------------------------------\n",
      "LR test of lnsigma=0: chi2(4) = 1.74                      Prob > chi2 = 0.7828\n"
     ]
    }
   ],
   "execution_count": 23
  },
  {
   "metadata": {},
   "cell_type": "markdown",
   "source": "上表的中间部分为原方程（$work$）的估计方程，而下部为对方差方程（$ln\\sigma^2$）的估计结果。上表最后一行显示，似然比检验的$p$值为$0.78$,故可以接受\"同方差\"的原假设",
   "id": "b6d2f33034a1f87"
  },
  {
   "metadata": {},
   "cell_type": "markdown",
   "source": "作为稀有事件的实例，陈强（2014）研究了中原王朝被游牧民族征服的决定因素。以每十年作为观测单位建立时间序列数据，从公元前221年秦朝建立至1911年清朝灭亡，共有213个观测值。其中，中原王朝被征服的现象仅发生了7次。",
   "id": "be61b394fd4c975"
  },
  {
   "metadata": {
    "ExecuteTime": {
     "end_time": "2025-03-08T23:45:56.479474Z",
     "start_time": "2025-03-08T23:45:56.344177Z"
    }
   },
   "cell_type": "code",
   "source": [
    "stata.run('use nomadic_conquest.dta, replace')\n",
    "%stata sum conquered diff age wall drought1"
   ],
   "id": "6cc350f0183ac1c6",
   "outputs": [
    {
     "name": "stdout",
     "output_type": "stream",
     "text": [
      "\n",
      "    Variable |        Obs        Mean    Std. dev.       Min        Max\n",
      "-------------+---------------------------------------------------------\n",
      "   conquered |        213    .0328638    .1787001          0          1\n",
      "        diff |        213    15.99061    55.10522       -116        248\n",
      "         age |        213    9.873239    7.502697          1         29\n",
      "        wall |        213    .6619718    .4741525          0          1\n",
      "    drought1 |        212     .440566    .2937834          0          1\n"
     ]
    }
   ],
   "execution_count": 25
  },
  {
   "metadata": {},
   "cell_type": "markdown",
   "source": "由上表可知，\"conquered=1\"的发生概率仅为$3.29$，或可视为稀有事件。首先，进行普通的$Logit$回归",
   "id": "a923eeed74c31c3d"
  },
  {
   "metadata": {
    "ExecuteTime": {
     "end_time": "2025-03-08T23:48:51.911229Z",
     "start_time": "2025-03-08T23:48:51.757745Z"
    }
   },
   "cell_type": "code",
   "source": "stata.run('logit conquered diff age wall drought1, r nolog')",
   "id": "9566658e9d210967",
   "outputs": [
    {
     "name": "stdout",
     "output_type": "stream",
     "text": [
      "\n",
      "Logistic regression                                     Number of obs =    212\n",
      "                                                        Wald chi2(4)  =  33.12\n",
      "                                                        Prob > chi2   = 0.0000\n",
      "Log pseudolikelihood = -21.437566                       Pseudo R2     = 0.3030\n",
      "\n",
      "------------------------------------------------------------------------------\n",
      "             |               Robust\n",
      "   conquered | Coefficient  std. err.      z    P>|z|     [95% conf. interval]\n",
      "-------------+----------------------------------------------------------------\n",
      "        diff |   .0386435   .0091584     4.22   0.000     .0206934    .0565936\n",
      "         age |  -.2634332   .0962616    -2.74   0.006    -.4521025    -.074764\n",
      "        wall |  -2.486576    1.28163    -1.94   0.052    -4.998525    .0253721\n",
      "    drought1 |   3.915505    1.37519     2.85   0.004     1.220183    6.610827\n",
      "       _cons |  -3.361682   1.038785    -3.24   0.001    -5.397663   -1.325702\n",
      "------------------------------------------------------------------------------\n"
     ]
    }
   ],
   "execution_count": 26
  },
  {
   "metadata": {},
   "cell_type": "markdown",
   "source": "上表显示，中原王朝越早于游牧政权建立（根据王朝周期假说，则中原王朝相对较弱）、干旱越严重，则中原王朝被征服的概率越高。另外，在控制相对年龄（$diff$）的情况下，中原王朝的绝对年龄（$age$）越长，被征服的概率反而降低。长城的保护作用也几乎在$5\\%$上水平上显著（$p$值为5.2%）。为了便于比较不同模型，下面计算平均边际效应",
   "id": "d3de2701083204c"
  },
  {
   "metadata": {
    "ExecuteTime": {
     "end_time": "2025-03-08T23:55:45.562485Z",
     "start_time": "2025-03-08T23:55:45.438535Z"
    }
   },
   "cell_type": "code",
   "source": "stata.run('margins, dydx(*)')",
   "id": "834a334c3fbc8b56",
   "outputs": [
    {
     "name": "stdout",
     "output_type": "stream",
     "text": [
      "\n",
      "Average marginal effects                                   Number of obs = 212\n",
      "Model VCE: Robust\n",
      "\n",
      "Expression: Pr(conquered), predict()\n",
      "dy/dx wrt:  diff age wall drought1\n",
      "\n",
      "------------------------------------------------------------------------------\n",
      "             |            Delta-method\n",
      "             |      dy/dx   std. err.      z    P>|z|     [95% conf. interval]\n",
      "-------------+----------------------------------------------------------------\n",
      "        diff |   .0010269   .0004282     2.40   0.016     .0001877    .0018661\n",
      "         age |  -.0070005   .0040678    -1.72   0.085    -.0149732    .0009722\n",
      "        wall |  -.0660784   .0330503    -2.00   0.046    -.1308557    -.001301\n",
      "    drought1 |   .1040508   .0459542     2.26   0.024     .0139821    .1941194\n",
      "------------------------------------------------------------------------------\n"
     ]
    }
   ],
   "execution_count": 28
  },
  {
   "metadata": {},
   "cell_type": "markdown",
   "source": "下面使用$King\\ and\\ Zeng(2001a,b)$的方法对$Logit$模型进行偏差修正",
   "id": "a2bf33adf46f645d"
  },
  {
   "metadata": {
    "ExecuteTime": {
     "end_time": "2025-03-08T23:59:35.053477Z",
     "start_time": "2025-03-08T23:59:34.913135Z"
    }
   },
   "cell_type": "code",
   "source": "stata.run('relogit conquered diff age wall drought1')",
   "id": "2af3029d4f0abc0e",
   "outputs": [
    {
     "name": "stdout",
     "output_type": "stream",
     "text": [
      "(1 missing value generated)\n",
      "\n",
      "\n",
      "Corrected logit estimates                             Number of obs =      212\n",
      "\n",
      "------------------------------------------------------------------------------\n",
      "             |               Robust\n",
      "   conquered | Coefficient  std. err.      z    P>|z|     [95% conf. interval]\n",
      "-------------+----------------------------------------------------------------\n",
      "        diff |   .0311768   .0089471     3.48   0.000     .0136407    .0487129\n",
      "         age |  -.2010725   .0940423    -2.14   0.033    -.3853921   -.0167529\n",
      "        wall |  -2.137077   1.252087    -1.71   0.088    -4.591123    .3169691\n",
      "    drought1 |   3.432347   1.343493     2.55   0.011     .7991486    6.065545\n",
      "       _cons |  -3.041812   1.014843    -3.00   0.003    -5.030869   -1.052755\n",
      "------------------------------------------------------------------------------\n"
     ]
    }
   ],
   "execution_count": 31
  },
  {
   "metadata": {},
   "cell_type": "markdown",
   "source": "从上表可以看出，进行偏差修正后，$Logit$模型的估计系数有些变化，而标准误差均有所下降，故变量的显著性基本没变。命令$relogit$并不提供边际效应的计算。下面估计补对数-对数模型",
   "id": "dccc2cfda1de4e17"
  },
  {
   "metadata": {
    "ExecuteTime": {
     "end_time": "2025-03-09T00:03:21.434193Z",
     "start_time": "2025-03-09T00:03:21.129423Z"
    }
   },
   "cell_type": "code",
   "source": "stata.run('cloglog conquered diff age wall drought1, r nolog')",
   "id": "fa5bded620218cd5",
   "outputs": [
    {
     "name": "stdout",
     "output_type": "stream",
     "text": [
      "\n",
      "Complementary log-log regression                Number of obs     =        212\n",
      "                                                Zero outcomes     =        205\n",
      "                                                Nonzero outcomes  =          7\n",
      "\n",
      "                                                Wald chi2(4)      =      43.06\n",
      "Log pseudolikelihood = -21.549974               Prob > chi2       =     0.0000\n",
      "\n",
      "------------------------------------------------------------------------------\n",
      "             |               Robust\n",
      "   conquered | Coefficient  std. err.      z    P>|z|     [95% conf. interval]\n",
      "-------------+----------------------------------------------------------------\n",
      "        diff |   .0342854   .0080802     4.24   0.000     .0184485    .0501222\n",
      "         age |  -.2257135   .0984111    -2.29   0.022    -.4185957   -.0328314\n",
      "        wall |   -2.28261   1.136038    -2.01   0.045    -4.509203    -.056016\n",
      "    drought1 |   3.508806   1.314683     2.67   0.008     .9320757    6.085537\n",
      "       _cons |  -3.412064   1.069532    -3.19   0.001    -5.508308   -1.315821\n",
      "------------------------------------------------------------------------------\n"
     ]
    }
   ],
   "execution_count": 32
  },
  {
   "metadata": {},
   "cell_type": "markdown",
   "source": "从上表可知，使用补对数-对数也并不改变系数的显著性",
   "id": "46bb5fe3b555b34d"
  },
  {
   "metadata": {
    "ExecuteTime": {
     "end_time": "2025-03-09T00:04:37.731568Z",
     "start_time": "2025-03-09T00:04:37.608806Z"
    }
   },
   "cell_type": "code",
   "source": "stata.run('margins, dydx(*)')",
   "id": "d25839668ad0f7f4",
   "outputs": [
    {
     "name": "stdout",
     "output_type": "stream",
     "text": [
      "\n",
      "Average marginal effects                                   Number of obs = 212\n",
      "Model VCE: Robust\n",
      "\n",
      "Expression: Pr(conquered), predict()\n",
      "dy/dx wrt:  diff age wall drought1\n",
      "\n",
      "------------------------------------------------------------------------------\n",
      "             |            Delta-method\n",
      "             |      dy/dx   std. err.      z    P>|z|     [95% conf. interval]\n",
      "-------------+----------------------------------------------------------------\n",
      "        diff |   .0009932    .000422     2.35   0.019     .0001661    .0018204\n",
      "         age |  -.0065388   .0040806    -1.60   0.109    -.0145366    .0014591\n",
      "        wall |  -.0661257   .0342384    -1.93   0.053    -.1332318    .0009804\n",
      "    drought1 |   .1016478   .0478811     2.12   0.034     .0078025    .1954931\n",
      "------------------------------------------------------------------------------\n"
     ]
    }
   ],
   "execution_count": 33
  },
  {
   "metadata": {},
   "cell_type": "markdown",
   "source": "从上表可知，使用补对数-对数模型估计的边际效应与$Logit$模型十分接近。这说明，在此例中发生频率$3.29\\%$的事件可能还不够稀有，故稀有事件偏差并不明显",
   "id": "83ab1a85f3056e48"
  },
  {
   "metadata": {},
   "cell_type": "markdown",
   "source": "对于二值选择模型，有时会遇到解释变量为内生变量的清醒。比如，是否买保险取决于收入，但收入或许为内生变量，因为可能存在遗漏变量同时影响收入与买保险的决定。此时，由于有扰动项与内生解释变量相关，使用通常的$Probit$或者$Logit$模型将得不到一致估计。",
   "id": "81dae57f27a37f51"
  },
  {
   "metadata": {},
   "cell_type": "markdown",
   "source": "下面以数据集$mus14data.dta$为例。首先进行一般的$Probit$回归",
   "id": "637644d0541196cd"
  },
  {
   "metadata": {
    "ExecuteTime": {
     "end_time": "2025-03-09T00:42:49.684026Z",
     "start_time": "2025-03-09T00:42:49.631625Z"
    }
   },
   "cell_type": "code",
   "source": "stata.run('use mus14data.dta, replace')",
   "id": "c7b83cdd614bdbba",
   "outputs": [],
   "execution_count": 38
  },
  {
   "metadata": {
    "ExecuteTime": {
     "end_time": "2025-03-09T00:42:32.054790Z",
     "start_time": "2025-03-09T00:42:31.869100Z"
    }
   },
   "cell_type": "code",
   "source": "stata.run('probit ins linc female age age2 educyear married hisp white chronic adl hstatusg, r nolog')",
   "id": "b927d3bf05f8b721",
   "outputs": [
    {
     "name": "stdout",
     "output_type": "stream",
     "text": [
      "\n",
      "Probit regression                                       Number of obs =  3,197\n",
      "                                                        Wald chi2(11) = 366.94\n",
      "                                                        Prob > chi2   = 0.0000\n",
      "Log pseudolikelihood = -1933.4275                       Pseudo R2     = 0.0946\n",
      "\n",
      "------------------------------------------------------------------------------\n",
      "             |               Robust\n",
      "         ins | Coefficient  std. err.      z    P>|z|     [95% conf. interval]\n",
      "-------------+----------------------------------------------------------------\n",
      "        linc |   .3466893   .0402173     8.62   0.000     .2678648    .4255137\n",
      "      female |  -.0815374   .0508549    -1.60   0.109    -.1812112    .0181364\n",
      "         age |   .1162879   .1151924     1.01   0.313     -.109485    .3420608\n",
      "        age2 |  -.0009395   .0008568    -1.10   0.273    -.0026187    .0007397\n",
      "    educyear |   .0464387   .0089917     5.16   0.000     .0288153    .0640622\n",
      "     married |   .1044152   .0636879     1.64   0.101    -.0204108    .2292412\n",
      "        hisp |  -.3977334   .1080935    -3.68   0.000    -.6095927   -.1858741\n",
      "       white |  -.0418296   .0644391    -0.65   0.516     -.168128    .0844687\n",
      "     chronic |   .0472903   .0186231     2.54   0.011     .0107897    .0837909\n",
      "         adl |  -.0945039   .0353534    -2.67   0.008    -.1637953   -.0252125\n",
      "    hstatusg |   .1138708   .0629071     1.81   0.070    -.0094248    .2371664\n",
      "       _cons |  -5.744548   3.871615    -1.48   0.138    -13.33277    1.843677\n",
      "------------------------------------------------------------------------------\n"
     ]
    }
   ],
   "execution_count": 37
  },
  {
   "metadata": {},
   "cell_type": "markdown",
   "source": "上表显示，$linc$的系数为$0.35$，且在$1\\%$水平上显著，即家庭收入越高，越可能购买私人健康保险。但是，怀疑$linc$为内生变量，因为可能存在同时影响$ins$与$linc$的遗漏变量。为此，使用数据集中另一变量$retire$（本人是否退休）作为工具变量。是否退休显然与收入$linc$相关，满足工具变量的相关性；另一方面，假设是否退休不直接影响购买私人健康保险的决策，故满足工具变量的外生性。下面使用此工具变量进行$IV Probit$估计",
   "id": "52b43b02aefde883"
  },
  {
   "metadata": {
    "ExecuteTime": {
     "end_time": "2025-03-09T00:52:10.299235Z",
     "start_time": "2025-03-09T00:52:10.147466Z"
    }
   },
   "cell_type": "code",
   "source": "stata.run('ivprobit ins female age age2 educyear married hisp white chronic adl hstatusg (linc=retire), nolog')",
   "id": "48370c3bd4b135bf",
   "outputs": [
    {
     "name": "stdout",
     "output_type": "stream",
     "text": [
      "\n",
      "Probit model with endogenous regressors                 Number of obs =  3,197\n",
      "                                                        Wald chi2(11) = 389.97\n",
      "Log likelihood = -5408.3856                             Prob > chi2   = 0.0000\n",
      "\n",
      "------------------------------------------------------------------------------\n",
      "             | Coefficient  Std. err.      z    P>|z|     [95% conf. interval]\n",
      "-------------+----------------------------------------------------------------\n",
      "        linc |  -.6198952   .3585575    -1.73   0.084    -1.322655    .0828646\n",
      "      female |  -.1424774   .0480326    -2.97   0.003    -.2366195   -.0483352\n",
      "         age |    .298702   .1196303     2.50   0.013      .064231     .533173\n",
      "        age2 |   -.002233   .0008763    -2.55   0.011    -.0039504   -.0005156\n",
      "    educyear |   .1185119   .0209574     5.65   0.000     .0774361    .1595878\n",
      "     married |   .7570917   .2152097     3.52   0.000     .3352885    1.178895\n",
      "        hisp |  -.5103816   .0994102    -5.13   0.000     -.705222   -.3155411\n",
      "       white |   .1749645    .097189     1.80   0.072    -.0155225    .3654516\n",
      "     chronic |   .0014646   .0263407     0.06   0.956    -.0501623    .0530914\n",
      "         adl |  -.1362873   .0319007    -4.27   0.000    -.1988115   -.0737631\n",
      "    hstatusg |   .2419518    .065657     3.69   0.000     .1132665    .3706372\n",
      "       _cons |  -10.25678   3.787245    -2.71   0.007    -17.67964   -2.833912\n",
      "-------------+----------------------------------------------------------------\n",
      " corr(e.linc,|\n",
      "       e.ins)|   .6396905   .2132462                       .050164    .8986373\n",
      "   sd(e.linc)|    .717982    .008979                      .7005974    .7357979\n",
      "------------------------------------------------------------------------------\n",
      "Wald test of exogeneity (corr = 0): chi2(1) = 4.41        Prob > chi2 = 0.0358\n",
      "Instrumented: linc\n",
      " Instruments: female age age2 educyear married hisp white chronic adl\n",
      "              hstatusg retire\n"
     ]
    }
   ],
   "execution_count": 43
  },
  {
   "metadata": {},
   "cell_type": "markdown",
   "source": "上表底部提供了对外生性原假设 $H_0: \\rho = 0$ 的沃尔德检验结果，其 $p$ 值为 $0.0367$，故可在 $5\\%$ 的水平上认为 $\\text{linc}$ 为内生变量。根据模型估计结果，$u_i$ 与 $v_i$ 的相关系数为 $\\hat{\\rho} = 0.64$，这表明，未度量的遗漏变量在增加家庭收入的同时，也会提高购买保险的倾向。相关系数高达 $0.64$ 也意味着 ivprobit 的估计结果会与 probit 大不相同。事实上，使用 ivprobit 时，$\\text{linc}$ 的估计系数为 $-0.62$，不仅改变了符号，而且在 $10\\%$ 水平上显著 ($p$ 值为 $0.083$)。这表明，如果使用一般的 Probit 模型进行估计，由于忽略了 $\\text{linc}$ 的内生性，将高估家庭收入对于保险购买倾向的正作用。\n",
   "id": "e48c00d6f5690153"
  },
  {
   "metadata": {},
   "cell_type": "markdown",
   "source": [
    "有时候需要对两个虚拟变量同时考虑其发生的概率。比如，被解释变量之一是病人是否去看医生，而被解释变量之二是病人是否住院。如果对这两个被解释变量分别进行 Probit 建模，则可能损失效率（但依然为一致估计），因为“看医生”与“住院”这两件事通常是相关的，即两个 Probit 方程的扰动项之间可能存在相关性。具体考察以下模型：\n",
    "\n",
    "\\begin{equation}\n",
    "\\left\\{\n",
    "\\begin{aligned}\n",
    "y_{1}^{*} &= x_{1}' \\beta_{1} + \\varepsilon_{1} \\\\\n",
    "y_{2}^{*} &= x_{2}' \\beta_{2} + \\varepsilon_{2}\n",
    "\\end{aligned}\n",
    "\\right.\n",
    "\\tag{11.35}\n",
    "\\end{equation}\n",
    "\n",
    "其中，$y_{1}^{*}$ 与 $y_{2}^{*}$ 为不可观测的潜变量，扰动项 $(\\varepsilon_{1}, \\varepsilon_{2})$ 服从二维联合正态分布，期望为 0，方差为 1，而相关系数为 $\\rho$，即\n",
    "\n",
    "\\begin{equation}\n",
    "\\begin{pmatrix}\n",
    "\\varepsilon_{1} \\\\\n",
    "\\varepsilon_{2}\n",
    "\\end{pmatrix}\n",
    "\\sim N \\left\\{\n",
    "\\begin{pmatrix}\n",
    "0 \\\\\n",
    "0\n",
    "\\end{pmatrix},\n",
    "\\begin{bmatrix}\n",
    "1 & \\rho \\\\\n",
    "\\rho & 1\n",
    "\\end{bmatrix}\n",
    "\\right\\}\n",
    "\\tag{11.36}\n",
    "\\end{equation}\n"
   ],
   "id": "897aa746ef8cf065"
  },
  {
   "metadata": {},
   "cell_type": "markdown",
   "source": "以 Pindyck and Rubin (1998) 所提供的数据集 school.dta 为例。该数据集包括了 1973 年美国密西根州特洛伊市（Troy, Michigan）增加房产税以支持公立学校议案的 95 名投票人信息。主要变量包括: vote（是否投票赞成），private（是否有孩子在私立学校上学），logptax（房产税对数），loginc（家庭年收入对数），school（投票人是否教师），years（在特洛伊市居住的年数）。假设同时关心是否送孩子上私立学校以及是否投票赞成，而这两件事可能相关（如果孩子上私立学校，则可能不愿增加房产税以支持公立学校），故使用双变量 Probit 模型进行估计。",
   "id": "fe7e98f3a34e61b3"
  },
  {
   "metadata": {
    "ExecuteTime": {
     "end_time": "2025-03-09T07:30:49.533343Z",
     "start_time": "2025-03-09T07:30:49.471010Z"
    }
   },
   "cell_type": "code",
   "source": [
    "stata.run('use school.dta,replace')\n",
    "data = stata.pdataframe_from_data()\n",
    "data.head()"
   ],
   "id": "2f21f5f2c403dbcc",
   "outputs": [
    {
     "data": {
      "text/plain": [
       "   obs  pub12  pub34  pub5  private  years  school     loginc  logptax  vote  \\\n",
       "0    1      0      1     0        0     10       1   9.770001   7.0475     1   \n",
       "1    2      0      1     0        0      8       0  10.021000   7.0475     0   \n",
       "2    3      1      0     0        0      4       0  10.021000   7.0475     0   \n",
       "3    4      0      1     0        0     13       0   9.433500   6.3969     0   \n",
       "4    5      0      1     0        0      3       1  10.021000   7.2792     1   \n",
       "\n",
       "    logeduc  \n",
       "0  7.206195  \n",
       "1  7.609900  \n",
       "2  8.278470  \n",
       "3  6.821488  \n",
       "4  7.686149  "
      ],
      "text/html": [
       "<div>\n",
       "<style scoped>\n",
       "    .dataframe tbody tr th:only-of-type {\n",
       "        vertical-align: middle;\n",
       "    }\n",
       "\n",
       "    .dataframe tbody tr th {\n",
       "        vertical-align: top;\n",
       "    }\n",
       "\n",
       "    .dataframe thead th {\n",
       "        text-align: right;\n",
       "    }\n",
       "</style>\n",
       "<table border=\"1\" class=\"dataframe\">\n",
       "  <thead>\n",
       "    <tr style=\"text-align: right;\">\n",
       "      <th></th>\n",
       "      <th>obs</th>\n",
       "      <th>pub12</th>\n",
       "      <th>pub34</th>\n",
       "      <th>pub5</th>\n",
       "      <th>private</th>\n",
       "      <th>years</th>\n",
       "      <th>school</th>\n",
       "      <th>loginc</th>\n",
       "      <th>logptax</th>\n",
       "      <th>vote</th>\n",
       "      <th>logeduc</th>\n",
       "    </tr>\n",
       "  </thead>\n",
       "  <tbody>\n",
       "    <tr>\n",
       "      <th>0</th>\n",
       "      <td>1</td>\n",
       "      <td>0</td>\n",
       "      <td>1</td>\n",
       "      <td>0</td>\n",
       "      <td>0</td>\n",
       "      <td>10</td>\n",
       "      <td>1</td>\n",
       "      <td>9.770001</td>\n",
       "      <td>7.0475</td>\n",
       "      <td>1</td>\n",
       "      <td>7.206195</td>\n",
       "    </tr>\n",
       "    <tr>\n",
       "      <th>1</th>\n",
       "      <td>2</td>\n",
       "      <td>0</td>\n",
       "      <td>1</td>\n",
       "      <td>0</td>\n",
       "      <td>0</td>\n",
       "      <td>8</td>\n",
       "      <td>0</td>\n",
       "      <td>10.021000</td>\n",
       "      <td>7.0475</td>\n",
       "      <td>0</td>\n",
       "      <td>7.609900</td>\n",
       "    </tr>\n",
       "    <tr>\n",
       "      <th>2</th>\n",
       "      <td>3</td>\n",
       "      <td>1</td>\n",
       "      <td>0</td>\n",
       "      <td>0</td>\n",
       "      <td>0</td>\n",
       "      <td>4</td>\n",
       "      <td>0</td>\n",
       "      <td>10.021000</td>\n",
       "      <td>7.0475</td>\n",
       "      <td>0</td>\n",
       "      <td>8.278470</td>\n",
       "    </tr>\n",
       "    <tr>\n",
       "      <th>3</th>\n",
       "      <td>4</td>\n",
       "      <td>0</td>\n",
       "      <td>1</td>\n",
       "      <td>0</td>\n",
       "      <td>0</td>\n",
       "      <td>13</td>\n",
       "      <td>0</td>\n",
       "      <td>9.433500</td>\n",
       "      <td>6.3969</td>\n",
       "      <td>0</td>\n",
       "      <td>6.821488</td>\n",
       "    </tr>\n",
       "    <tr>\n",
       "      <th>4</th>\n",
       "      <td>5</td>\n",
       "      <td>0</td>\n",
       "      <td>1</td>\n",
       "      <td>0</td>\n",
       "      <td>0</td>\n",
       "      <td>3</td>\n",
       "      <td>1</td>\n",
       "      <td>10.021000</td>\n",
       "      <td>7.2792</td>\n",
       "      <td>1</td>\n",
       "      <td>7.686149</td>\n",
       "    </tr>\n",
       "  </tbody>\n",
       "</table>\n",
       "</div>"
      ]
     },
     "execution_count": 20,
     "metadata": {},
     "output_type": "execute_result"
    }
   ],
   "execution_count": 20
  },
  {
   "metadata": {
    "ExecuteTime": {
     "end_time": "2025-03-09T07:33:09.945294Z",
     "start_time": "2025-03-09T07:33:08.702257Z"
    }
   },
   "cell_type": "code",
   "source": "stata.run('biprobit (private = loginc logptax school) (vote = loginc logptax years school), r nolog')",
   "id": "e756f888974d902e",
   "outputs": [
    {
     "name": "stdout",
     "output_type": "stream",
     "text": [
      "\n",
      "Seemingly unrelated bivariate probit                    Number of obs =     95\n",
      "                                                        Wald chi2(7)  = 611.22\n",
      "Log pseudolikelihood = -84.695294                       Prob > chi2   = 0.0000\n",
      "\n",
      "------------------------------------------------------------------------------\n",
      "             |               Robust\n",
      "             | Coefficient  std. err.      z    P>|z|     [95% conf. interval]\n",
      "-------------+----------------------------------------------------------------\n",
      "private      |\n",
      "      loginc |   .3911055   .5826198     0.67   0.502    -.7508083    1.533019\n",
      "     logptax |  -.1877972    .758957    -0.25   0.805    -1.675326    1.299731\n",
      "      school |  -4.889164   .2553132   -19.15   0.000    -5.389568   -4.388759\n",
      "       _cons |  -3.795514   6.355104    -0.60   0.550    -16.25129    8.660261\n",
      "-------------+----------------------------------------------------------------\n",
      "vote         |\n",
      "      loginc |   1.262054   .4367689     2.89   0.004     .4060021    2.118105\n",
      "     logptax |  -1.254895    .535599    -2.34   0.019     -2.30465   -.2051403\n",
      "       years |  -.0138503   .0177383    -0.78   0.435    -.0486168    .0209162\n",
      "      school |   1.724164   .4377039     3.94   0.000     .8662806    2.582048\n",
      "       _cons |  -3.543213   4.549227    -0.78   0.436    -12.45953    5.373108\n",
      "-------------+----------------------------------------------------------------\n",
      "     /athrho |   -.193618   .2324816    -0.83   0.405    -.6492736    .2620376\n",
      "-------------+----------------------------------------------------------------\n",
      "         rho |  -.1912343   .2239796                     -.5711808    .2562004\n",
      "------------------------------------------------------------------------------\n",
      "Wald test of rho=0: chi2(1) = .693608                     Prob > chi2 = 0.4049\n"
     ]
    }
   ],
   "execution_count": 23
  },
  {
   "metadata": {},
   "cell_type": "markdown",
   "source": [
    "上表显示，送孩子上私立学校（private）与教师身份（school）显著负相关；而投票赞成（vote）与家庭收入（loginc）、教师身份（school）显著正相关，与房地产税（logptax）显著负相关，而与居住年数（years）无关。上表最后一行对原假设“$H_0: \\rho = 0$”的沃尔德检验显示，$p$值高达0.40，故可认为$\\rho=0$，没必要使用双变量 Probit 模型。\n",
    "\n",
    "为了比较，下面对变量 vote 进行单独的 Probit 估计。\n"
   ],
   "id": "c31344f9dfc63e53"
  },
  {
   "metadata": {
    "ExecuteTime": {
     "end_time": "2025-03-09T07:38:05.218249Z",
     "start_time": "2025-03-09T07:38:05.143263Z"
    }
   },
   "cell_type": "code",
   "source": "stata.run('probit vote loginc logptax years school, r nolog')",
   "id": "d86509a080488cf0",
   "outputs": [
    {
     "name": "stdout",
     "output_type": "stream",
     "text": [
      "\n",
      "Probit regression                                       Number of obs =     95\n",
      "                                                        Wald chi2(4)  =  22.07\n",
      "                                                        Prob > chi2   = 0.0002\n",
      "Log pseudolikelihood = -54.693088                       Pseudo R2     = 0.1324\n",
      "\n",
      "------------------------------------------------------------------------------\n",
      "             |               Robust\n",
      "        vote | Coefficient  std. err.      z    P>|z|     [95% conf. interval]\n",
      "-------------+----------------------------------------------------------------\n",
      "      loginc |   1.260286   .4369633     2.88   0.004      .403854    2.116719\n",
      "     logptax |   -1.23849   .5281871    -2.34   0.019    -2.273717   -.2032619\n",
      "       years |  -.0130624   .0177873    -0.73   0.463    -.0479248    .0217999\n",
      "      school |    1.72503   .4363312     3.95   0.000     .8698368    2.580224\n",
      "       _cons |  -3.646993   4.479862    -0.81   0.416    -12.42736    5.133376\n",
      "------------------------------------------------------------------------------\n"
     ]
    }
   ],
   "execution_count": 24
  },
  {
   "metadata": {},
   "cell_type": "markdown",
   "source": "从上表可知，单独的 Probit 估计结果（系数与标准误）与双变量 Probit 很接近，这也印证了没必要使用双变量 Probit。",
   "id": "2ff9a3ac6a50270e"
  },
  {
   "metadata": {},
   "cell_type": "code",
   "outputs": [],
   "execution_count": null,
   "source": "",
   "id": "d5bd2b438baef4c7"
  }
 ],
 "metadata": {
  "kernelspec": {
   "display_name": "Python 3",
   "language": "python",
   "name": "python3"
  },
  "language_info": {
   "codemirror_mode": {
    "name": "ipython",
    "version": 2
   },
   "file_extension": ".py",
   "mimetype": "text/x-python",
   "name": "python",
   "nbconvert_exporter": "python",
   "pygments_lexer": "ipython2",
   "version": "2.7.6"
  }
 },
 "nbformat": 4,
 "nbformat_minor": 5
}
