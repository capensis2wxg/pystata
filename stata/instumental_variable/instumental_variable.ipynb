{
 "cells": [
  {
   "metadata": {
    "ExecuteTime": {
     "end_time": "2025-03-06T18:36:03.145716Z",
     "start_time": "2025-03-06T18:36:03.134776Z"
    }
   },
   "cell_type": "code",
   "source": [
    "import os\n",
    "import pandas as pd\n",
    "import stata_setup\n",
    "from numpy import percentile\n",
    "from tensorboard.notebook import display\n",
    "\n",
    "## 设置pystata目录\n",
    "stata_setup.config(os.getenv(\"STATA_SYSDIR\"), 'mp')"
   ],
   "id": "4170a73163b57e5a",
   "outputs": [],
   "execution_count": 3
  },
  {
   "cell_type": "code",
   "id": "aa68d680a63c908e",
   "metadata": {
    "ExecuteTime": {
     "end_time": "2025-03-06T19:03:53.497959Z",
     "start_time": "2025-03-06T19:03:53.426549Z"
    }
   },
   "source": [
    "from pystata import stata\n",
    "\n",
    "## 加载数据\n",
    "stata.run('use \"simulation.dta\", clear')\n",
    "\n",
    "data = stata.pdataframe_from_data()\n",
    "data.info()"
   ],
   "outputs": [
    {
     "name": "stdout",
     "output_type": "stream",
     "text": [
      "<class 'pandas.core.frame.DataFrame'>\n",
      "RangeIndex: 10000 entries, 0 to 9999\n",
      "Data columns (total 13 columns):\n",
      " #   Column   Non-Null Count  Dtype  \n",
      "---  ------   --------------  -----  \n",
      " 0   id       10000 non-null  float64\n",
      " 1   gender   10000 non-null  float64\n",
      " 2   age      10000 non-null  float64\n",
      " 3   age2     10000 non-null  float64\n",
      " 4   hukou    10000 non-null  float64\n",
      " 5   feduy    10000 non-null  float64\n",
      " 6   meduy    10000 non-null  float64\n",
      " 7   sibling  10000 non-null  float64\n",
      " 8   luck1    10000 non-null  float64\n",
      " 9   luck2    10000 non-null  float64\n",
      " 10  luck3    10000 non-null  float64\n",
      " 11  college  10000 non-null  float64\n",
      " 12  lninc    10000 non-null  float64\n",
      "dtypes: float64(13)\n",
      "memory usage: 1015.8 KB\n"
     ]
    }
   ],
   "execution_count": 18
  },
  {
   "metadata": {
    "ExecuteTime": {
     "end_time": "2025-03-06T19:04:07.409007Z",
     "start_time": "2025-03-06T19:04:07.270334Z"
    }
   },
   "cell_type": "code",
   "source": [
    "## 多元线性回归\n",
    "stata.run('reg lninc college')\n",
    "print('\\n========================= 增加 控制变量 ==================================\\n')\n",
    "stata.run('reg lninc college gender age age2 hukou feduy meduy sibling, robust')"
   ],
   "id": "5035b3ba55064060",
   "outputs": [
    {
     "name": "stdout",
     "output_type": "stream",
     "text": [
      "\n",
      "      Source |       SS           df       MS      Number of obs   =    10,000\n",
      "-------------+----------------------------------   F(1, 9998)      =   1249.62\n",
      "       Model |  1768.49262         1  1768.49262   Prob > F        =    0.0000\n",
      "    Residual |  14149.4062     9,998  1.41522366   R-squared       =    0.1111\n",
      "-------------+----------------------------------   Adj R-squared   =    0.1110\n",
      "       Total |  15917.8988     9,999  1.59194908   Root MSE        =    1.1896\n",
      "\n",
      "------------------------------------------------------------------------------\n",
      "       lninc | Coefficient  Std. err.      t    P>|t|     [95% conf. interval]\n",
      "-------------+----------------------------------------------------------------\n",
      "     college |   1.223779   .0346189    35.35   0.000     1.155919    1.291639\n",
      "       _cons |   8.338612   .0128043   651.23   0.000     8.313513    8.363711\n",
      "------------------------------------------------------------------------------\n",
      "\n",
      "========================= 增加 控制变量 ==================================\n",
      "\n",
      "\n",
      "Linear regression                               Number of obs     =     10,000\n",
      "                                                F(8, 9991)        =     607.66\n",
      "                                                Prob > F          =     0.0000\n",
      "                                                R-squared         =     0.3171\n",
      "                                                Root MSE          =     1.0431\n",
      "\n",
      "------------------------------------------------------------------------------\n",
      "             |               Robust\n",
      "       lninc | Coefficient  std. err.      t    P>|t|     [95% conf. interval]\n",
      "-------------+----------------------------------------------------------------\n",
      "     college |   .9058374   .0314346    28.82   0.000     .8442193    .9674555\n",
      "      gender |   .7710099   .0211603    36.44   0.000     .7295315    .8124883\n",
      "         age |   .2730867    .011892    22.96   0.000     .2497761    .2963974\n",
      "        age2 |  -.0041989   .0001894   -22.17   0.000    -.0045701   -.0038276\n",
      "       hukou |   .3756471   .0354001    10.61   0.000     .3062559    .4450384\n",
      "       feduy |   .0378026   .0027645    13.67   0.000     .0323837    .0432215\n",
      "       meduy |    .022306   .0030646     7.28   0.000     .0162988    .0283132\n",
      "     sibling |  -.1026486   .0088941   -11.54   0.000    -.1200828   -.0852143\n",
      "       _cons |   3.688726   .1810034    20.38   0.000     3.333923    4.043529\n",
      "------------------------------------------------------------------------------\n"
     ]
    }
   ],
   "execution_count": 19
  },
  {
   "metadata": {
    "ExecuteTime": {
     "end_time": "2025-03-06T19:04:37.065782Z",
     "start_time": "2025-03-06T19:04:36.999790Z"
    }
   },
   "cell_type": "code",
   "source": [
    "## 假设高考时的运气可观测，可使用其作为工具变量来识别大学对收入的影响\n",
    "stata.run('corr luck1 luck2 luck3 college')"
   ],
   "id": "692a6c325292e315",
   "outputs": [
    {
     "name": "stdout",
     "output_type": "stream",
     "text": [
      "(obs=10,000)\n",
      "\n",
      "             |    luck1    luck2    luck3  college\n",
      "-------------+------------------------------------\n",
      "       luck1 |   1.0000\n",
      "       luck2 |  -0.0036   1.0000\n",
      "       luck3 |   0.0031  -0.0087   1.0000\n",
      "     college |   0.1841   0.1667   0.0232   1.0000\n",
      "\n"
     ]
    }
   ],
   "execution_count": 20
  },
  {
   "metadata": {
    "ExecuteTime": {
     "end_time": "2025-03-06T19:06:29.234212Z",
     "start_time": "2025-03-06T19:06:28.939216Z"
    }
   },
   "cell_type": "code",
   "source": [
    "## 两阶段最小二乘法\n",
    "stata.run('ivregress 2sls lninc gender age age2 hukou feduy meduy sibling (college=luck1), vce(robust) first')"
   ],
   "id": "47581a5904d781c7",
   "outputs": [
    {
     "name": "stdout",
     "output_type": "stream",
     "text": [
      "\n",
      "First-stage regressions\n",
      "-----------------------\n",
      "\n",
      "                                                        Number of obs = 10,000\n",
      "                                                        F(8, 9991)    = 169.85\n",
      "                                                        Prob > F      = 0.0000\n",
      "                                                        R-squared     = 0.1564\n",
      "                                                        Adj R-squared = 0.1557\n",
      "                                                        Root MSE      = 0.3158\n",
      "\n",
      "------------------------------------------------------------------------------\n",
      "             |               Robust\n",
      "     college | Coefficient  std. err.      t    P>|t|     [95% conf. interval]\n",
      "-------------+----------------------------------------------------------------\n",
      "      gender |  -.0498054   .0064536    -7.72   0.000    -.0624558    -.037155\n",
      "         age |   .0384085   .0030797    12.47   0.000     .0323716    .0444454\n",
      "        age2 |  -.0005812   .0000491   -11.84   0.000    -.0006774    -.000485\n",
      "       hukou |   .1806179   .0143323    12.60   0.000     .1525238     .208712\n",
      "       feduy |   .0086345   .0008356    10.33   0.000     .0069966    .0102725\n",
      "       meduy |   .0099724   .0010186     9.79   0.000     .0079758    .0119689\n",
      "     sibling |  -.0199209   .0023318    -8.54   0.000    -.0244917   -.0153501\n",
      "       luck1 |   .0612274    .003246    18.86   0.000     .0548645    .0675902\n",
      "       _cons |  -.4910525   .0465114   -10.56   0.000    -.5822242   -.3998807\n",
      "------------------------------------------------------------------------------\n",
      "\n",
      "\n",
      "Instrumental variables 2SLS regression            Number of obs   =     10,000\n",
      "                                                  Wald chi2(8)    =    3992.49\n",
      "                                                  Prob > chi2     =     0.0000\n",
      "                                                  R-squared       =     0.3134\n",
      "                                                  Root MSE        =     1.0455\n",
      "\n",
      "------------------------------------------------------------------------------\n",
      "             |               Robust\n",
      "       lninc | Coefficient  std. err.      z    P>|z|     [95% conf. interval]\n",
      "-------------+----------------------------------------------------------------\n",
      "     college |   .6662753   .1719651     3.87   0.000     .3292298    1.003321\n",
      "      gender |   .7587879   .0229832    33.01   0.000     .7137416    .8038342\n",
      "         age |   .2823288   .0135849    20.78   0.000      .255703    .3089547\n",
      "        age2 |  -.0043386   .0002139   -20.28   0.000    -.0047579   -.0039194\n",
      "       hukou |   .4193268   .0465068     9.02   0.000     .3281751    .5104785\n",
      "       feduy |   .0398998   .0031489    12.67   0.000      .033728    .0460716\n",
      "       meduy |   .0247089   .0034991     7.06   0.000     .0178507    .0315671\n",
      "     sibling |  -.1074756   .0096097   -11.18   0.000    -.1263102   -.0886409\n",
      "       _cons |   3.570269   .1993796    17.91   0.000     3.179492    3.961046\n",
      "------------------------------------------------------------------------------\n",
      "Instrumented: college\n",
      " Instruments: gender age age2 hukou feduy meduy sibling luck1\n"
     ]
    }
   ],
   "execution_count": 21
  },
  {
   "metadata": {
    "ExecuteTime": {
     "end_time": "2025-03-06T19:08:28.588668Z",
     "start_time": "2025-03-06T19:08:28.474554Z"
    }
   },
   "cell_type": "code",
   "source": "stata.run('ivregress 2sls lninc gender age age2 hukou feduy meduy sibling (college=luck2), vce(robust) first')",
   "id": "a7ed8b95c8250f5b",
   "outputs": [
    {
     "name": "stdout",
     "output_type": "stream",
     "text": [
      "\n",
      "First-stage regressions\n",
      "-----------------------\n",
      "\n",
      "                                                        Number of obs = 10,000\n",
      "                                                        F(8, 9991)    = 167.65\n",
      "                                                        Prob > F      = 0.0000\n",
      "                                                        R-squared     = 0.1531\n",
      "                                                        Adj R-squared = 0.1524\n",
      "                                                        Root MSE      = 0.3164\n",
      "\n",
      "------------------------------------------------------------------------------\n",
      "             |               Robust\n",
      "     college | Coefficient  std. err.      t    P>|t|     [95% conf. interval]\n",
      "-------------+----------------------------------------------------------------\n",
      "      gender |  -.0517735    .006465    -8.01   0.000    -.0644462   -.0391008\n",
      "         age |   .0392778   .0030852    12.73   0.000     .0332301    .0453255\n",
      "        age2 |  -.0005956   .0000492   -12.12   0.000     -.000692   -.0004993\n",
      "       hukou |   .1853484   .0143511    12.92   0.000     .1572173    .2134794\n",
      "       feduy |   .0086325   .0008394    10.28   0.000     .0069871    .0102778\n",
      "       meduy |   .0100091   .0010235     9.78   0.000     .0080029    .0120153\n",
      "     sibling |  -.0193321   .0023129    -8.36   0.000    -.0238658   -.0147984\n",
      "       luck2 |   .0575641   .0032359    17.79   0.000     .0512211     .063907\n",
      "       _cons |  -.5049241   .0466455   -10.82   0.000    -.5963586   -.4134895\n",
      "------------------------------------------------------------------------------\n",
      "\n",
      "\n",
      "Instrumental variables 2SLS regression            Number of obs   =     10,000\n",
      "                                                  Wald chi2(8)    =    3990.24\n",
      "                                                  Prob > chi2     =     0.0000\n",
      "                                                  R-squared       =     0.3140\n",
      "                                                  Root MSE        =      1.045\n",
      "\n",
      "------------------------------------------------------------------------------\n",
      "             |               Robust\n",
      "       lninc | Coefficient  std. err.      z    P>|z|     [95% conf. interval]\n",
      "-------------+----------------------------------------------------------------\n",
      "     college |    .688817   .1785721     3.86   0.000     .3388222    1.038812\n",
      "      gender |   .7599379   .0229423    33.12   0.000     .7149718    .8049041\n",
      "         age |   .2814592   .0134274    20.96   0.000      .255142    .3077764\n",
      "        age2 |  -.0043255   .0002117   -20.43   0.000    -.0047405   -.0039105\n",
      "       hukou |   .4152167   .0476301     8.72   0.000     .3218635    .5085699\n",
      "       feduy |   .0397025   .0031449    12.62   0.000     .0335386    .0458663\n",
      "       meduy |   .0244828   .0035723     6.85   0.000     .0174811    .0314844\n",
      "     sibling |  -.1070214   .0095726   -11.18   0.000    -.1257834   -.0882594\n",
      "       _cons |   3.581415   .1972292    18.16   0.000     3.194853    3.967977\n",
      "------------------------------------------------------------------------------\n",
      "Instrumented: college\n",
      " Instruments: gender age age2 hukou feduy meduy sibling luck2\n"
     ]
    }
   ],
   "execution_count": 22
  },
  {
   "metadata": {
    "ExecuteTime": {
     "end_time": "2025-03-06T19:09:39.381512Z",
     "start_time": "2025-03-06T19:09:39.294882Z"
    }
   },
   "cell_type": "code",
   "source": "stata.run('ivregress 2sls lninc gender age age2 hukou feduy meduy sibling (college=luck3), vce(robust) first')",
   "id": "e90d8bc4e3cee04b",
   "outputs": [
    {
     "name": "stdout",
     "output_type": "stream",
     "text": [
      "\n",
      "First-stage regressions\n",
      "-----------------------\n",
      "\n",
      "                                                        Number of obs = 10,000\n",
      "                                                        F(8, 9991)    = 128.67\n",
      "                                                        Prob > F      = 0.0000\n",
      "                                                        R-squared     = 0.1254\n",
      "                                                        Adj R-squared = 0.1247\n",
      "                                                        Root MSE      = 0.3215\n",
      "\n",
      "------------------------------------------------------------------------------\n",
      "             |               Robust\n",
      "     college | Coefficient  std. err.      t    P>|t|     [95% conf. interval]\n",
      "-------------+----------------------------------------------------------------\n",
      "      gender |  -.0508021   .0065697    -7.73   0.000    -.0636801   -.0379241\n",
      "         age |   .0386755   .0031176    12.41   0.000     .0325643    .0447867\n",
      "        age2 |   -.000585   .0000497   -11.78   0.000    -.0006823   -.0004876\n",
      "       hukou |   .1820838   .0146968    12.39   0.000      .153275    .2108926\n",
      "       feduy |   .0087529   .0008561    10.22   0.000     .0070748    .0104309\n",
      "       meduy |    .010016   .0010423     9.61   0.000     .0079729     .012059\n",
      "     sibling |  -.0201732   .0023403    -8.62   0.000    -.0247607   -.0155857\n",
      "       luck3 |   .0064889      .0032     2.03   0.043     .0002162    .0127616\n",
      "       _cons |  -.4959444   .0471004   -10.53   0.000    -.5882707    -.403618\n",
      "------------------------------------------------------------------------------\n",
      "\n",
      "\n",
      "Instrumental variables 2SLS regression            Number of obs   =     10,000\n",
      "                                                  Wald chi2(8)    =    3421.03\n",
      "                                                  Prob > chi2     =     0.0000\n",
      "                                                  R-squared       =     0.2088\n",
      "                                                  Root MSE        =     1.1223\n",
      "\n",
      "------------------------------------------------------------------------------\n",
      "             |               Robust\n",
      "       lninc | Coefficient  std. err.      z    P>|z|     [95% conf. interval]\n",
      "-------------+----------------------------------------------------------------\n",
      "     college |  -.3859112   1.723558    -0.22   0.823    -3.764023      2.9922\n",
      "      gender |   .7051075   .0909592     7.75   0.000     .5268307    .8833842\n",
      "         age |   .3229214    .067601     4.78   0.000     .1904259    .4554169\n",
      "        age2 |  -.0049526   .0010237    -4.84   0.000    -.0069591   -.0029461\n",
      "       hukou |   .6111732   .3162383     1.93   0.053    -.0086425    1.230989\n",
      "       feduy |   .0491108   .0153072     3.21   0.001     .0191093    .0791123\n",
      "       meduy |   .0352626   .0176762     1.99   0.046     .0006179    .0699073\n",
      "     sibling |  -.1286765   .0363541    -3.54   0.000    -.1999293   -.0574237\n",
      "       _cons |   3.049993   .8717742     3.50   0.000     1.341346    4.758639\n",
      "------------------------------------------------------------------------------\n",
      "Instrumented: college\n",
      " Instruments: gender age age2 hukou feduy meduy sibling luck3\n"
     ]
    }
   ],
   "execution_count": 23
  },
  {
   "metadata": {
    "ExecuteTime": {
     "end_time": "2025-03-06T19:10:26.409839Z",
     "start_time": "2025-03-06T19:10:26.315008Z"
    }
   },
   "cell_type": "code",
   "source": [
    "## 同时使用三个工具变量\n",
    "stata.run('ivregress 2sls lninc gender age age2 hukou feduy meduy sibling (college=luck1 luck2 luck3), vce(robust)')"
   ],
   "id": "4921fe1228df260a",
   "outputs": [
    {
     "name": "stdout",
     "output_type": "stream",
     "text": [
      "\n",
      "Instrumental variables 2SLS regression            Number of obs   =     10,000\n",
      "                                                  Wald chi2(8)    =    4001.37\n",
      "                                                  Prob > chi2     =     0.0000\n",
      "                                                  R-squared       =     0.3135\n",
      "                                                  Root MSE        =     1.0454\n",
      "\n",
      "------------------------------------------------------------------------------\n",
      "             |               Robust\n",
      "       lninc | Coefficient  std. err.      z    P>|z|     [95% conf. interval]\n",
      "-------------+----------------------------------------------------------------\n",
      "     college |   .6703614    .120531     5.56   0.000     .4341249    .9065979\n",
      "      gender |   .7589964   .0220328    34.45   0.000     .7158128    .8021799\n",
      "         age |   .2821712   .0125903    22.41   0.000     .2574946    .3068478\n",
      "        age2 |  -.0043363   .0001995   -21.73   0.000    -.0047273   -.0039452\n",
      "       hukou |   .4185817   .0409591    10.22   0.000     .3383033    .4988601\n",
      "       feduy |    .039864   .0029423    13.55   0.000     .0340972    .0456309\n",
      "       meduy |   .0246679   .0032976     7.48   0.000     .0182047    .0311311\n",
      "     sibling |  -.1073933    .009253   -11.61   0.000    -.1255289   -.0892577\n",
      "       _cons |    3.57229   .1881435    18.99   0.000     3.203535    3.941044\n",
      "------------------------------------------------------------------------------\n",
      "Instrumented: college\n",
      " Instruments: gender age age2 hukou feduy meduy sibling luck1 luck2 luck3\n"
     ]
    }
   ],
   "execution_count": 24
  },
  {
   "metadata": {
    "ExecuteTime": {
     "end_time": "2025-03-06T19:11:49.186677Z",
     "start_time": "2025-03-06T19:11:49.084592Z"
    }
   },
   "cell_type": "code",
   "source": [
    "## 使用广义矩估计法\n",
    "stata.run('ivregress gmm lninc gender age age2 hukou feduy meduy sibling (college=luck1 luck2 luck3), vce(robust)')"
   ],
   "id": "969347f2820a30c",
   "outputs": [
    {
     "name": "stdout",
     "output_type": "stream",
     "text": [
      "\n",
      "Instrumental variables GMM regression             Number of obs   =     10,000\n",
      "                                                  Wald chi2(8)    =    4001.06\n",
      "                                                  Prob > chi2     =     0.0000\n",
      "                                                  R-squared       =     0.3135\n",
      "GMM weight matrix: Robust                         Root MSE        =     1.0454\n",
      "\n",
      "------------------------------------------------------------------------------\n",
      "             |               Robust\n",
      "       lninc | Coefficient  std. err.      z    P>|z|     [95% conf. interval]\n",
      "-------------+----------------------------------------------------------------\n",
      "     college |   .6697812   .1205048     5.56   0.000     .4335963    .9059662\n",
      "      gender |   .7590011   .0220292    34.45   0.000     .7158246    .8021777\n",
      "         age |   .2821799    .012581    22.43   0.000     .2575215    .3068383\n",
      "        age2 |  -.0043368   .0001994   -21.75   0.000    -.0047276    -.003946\n",
      "       hukou |   .4185789   .0409599    10.22   0.000     .3382988    .4988589\n",
      "       feduy |     .03991   .0029406    13.57   0.000     .0341465    .0456735\n",
      "       meduy |   .0246561   .0032974     7.48   0.000     .0181933    .0311189\n",
      "     sibling |  -.1071712   .0092456   -11.59   0.000    -.1252923     -.08905\n",
      "       _cons |   3.571827   .1880171    19.00   0.000      3.20332    3.940334\n",
      "------------------------------------------------------------------------------\n",
      "Instrumented: college\n",
      " Instruments: gender age age2 hukou feduy meduy sibling luck1 luck2 luck3\n"
     ]
    }
   ],
   "execution_count": 25
  },
  {
   "metadata": {
    "ExecuteTime": {
     "end_time": "2025-03-06T19:13:23.499474Z",
     "start_time": "2025-03-06T19:13:23.389067Z"
    }
   },
   "cell_type": "code",
   "source": [
    "## 使用有限信息最大似然法\n",
    "stata.run('ivregress liml lninc gender age age2 hukou feduy meduy sibling (college=luck1 luck2 luck3), vce(robust)')"
   ],
   "id": "63a9cea571ba9a87",
   "outputs": [
    {
     "name": "stdout",
     "output_type": "stream",
     "text": [
      "\n",
      "Instrumental variables LIML regression            Number of obs   =     10,000\n",
      "                                                  Wald chi2(8)    =    4001.31\n",
      "                                                  Prob > chi2     =     0.0000\n",
      "                                                  R-squared       =     0.3135\n",
      "                                                  Root MSE        =     1.0454\n",
      "\n",
      "------------------------------------------------------------------------------\n",
      "             |               Robust\n",
      "       lninc | Coefficient  std. err.      z    P>|z|     [95% conf. interval]\n",
      "-------------+----------------------------------------------------------------\n",
      "     college |   .6702121   .1206029     5.56   0.000     .4338348    .9065893\n",
      "      gender |   .7589887   .0220339    34.45   0.000     .7158031    .8021744\n",
      "         age |    .282177   .0125913    22.41   0.000     .2574985    .3068555\n",
      "        age2 |  -.0043363   .0001995   -21.73   0.000    -.0047274   -.0039452\n",
      "       hukou |    .418609   .0409661    10.22   0.000      .338317     .498901\n",
      "       feduy |   .0398653   .0029426    13.55   0.000      .034098    .0456326\n",
      "       meduy |   .0246694   .0032979     7.48   0.000     .0182057    .0311331\n",
      "     sibling |  -.1073963   .0092534   -11.61   0.000    -.1255327   -.0892598\n",
      "       _cons |   3.572216    .188154    18.99   0.000     3.203441    3.940991\n",
      "------------------------------------------------------------------------------\n",
      "Instrumented: college\n",
      " Instruments: gender age age2 hukou feduy meduy sibling luck1 luck2 luck3\n"
     ]
    }
   ],
   "execution_count": 26
  },
  {
   "metadata": {
    "ExecuteTime": {
     "end_time": "2025-03-06T19:19:20.310272Z",
     "start_time": "2025-03-06T19:19:20.146737Z"
    }
   },
   "cell_type": "code",
   "source": [
    "## 弱工具变量检验，检查first_stage的Robust（或者Prob）以及最小特征值统计量（Minimum eigenvalue statistic）\n",
    "stata.run(\n",
    "    \"\"\"\n",
    "    qui ivregress 2sls lninc gender age age2 hukou feduy meduy sibling (college=luck1), vce(robust)\n",
    "    estat firststage, all forcenonrobust\n",
    "    \"\"\"\n",
    ")"
   ],
   "id": "a20a5fa823a9966b",
   "outputs": [
    {
     "name": "stdout",
     "output_type": "stream",
     "text": [
      "\n",
      ". \n",
      ".     qui ivregress 2sls lninc gender age age2 hukou feduy meduy sibling (colle\n",
      "> ge=luck1), vce(robust)\n",
      "\n",
      ".     estat firststage, all forcenonrobust\n",
      "\n",
      "  First-stage regression summary statistics\n",
      "  --------------------------------------------------------------------------\n",
      "               |            Adjusted      Partial       Robust\n",
      "      Variable |   R-sq.       R-sq.        R-sq.     F(1,9991)   Prob > F\n",
      "  -------------+------------------------------------------------------------\n",
      "       college |  0.1564      0.1557       0.0359       355.785    0.0000\n",
      "  --------------------------------------------------------------------------\n",
      "\n",
      "\n",
      "  Shea's partial R-squared\n",
      "  --------------------------------------------------\n",
      "               |     Shea's             Shea's\n",
      "      Variable |  partial R-sq.   adj. partial R-sq.\n",
      "  -------------+------------------------------------\n",
      "       college |     0.0359             0.0352\n",
      "  --------------------------------------------------\n",
      "\n",
      "\n",
      "  Minimum eigenvalue statistic = 371.903     \n",
      "\n",
      "  Critical Values                      # of endogenous regressors:    1\n",
      "  H0: Instruments are weak             # of excluded instruments:     1\n",
      "  ---------------------------------------------------------------------\n",
      "                                     |    5%     10%     20%     30%\n",
      "  2SLS relative bias                 |         (not available)\n",
      "  -----------------------------------+---------------------------------\n",
      "                                     |   10%     15%     20%     25%\n",
      "  2SLS size of nominal 5% Wald test  |  16.38    8.96    6.66    5.53\n",
      "  LIML size of nominal 5% Wald test  |  16.38    8.96    6.66    5.53\n",
      "  ---------------------------------------------------------------------\n",
      "\n",
      "\n",
      ".     \n",
      ". \n"
     ]
    }
   ],
   "execution_count": 32
  },
  {
   "metadata": {
    "ExecuteTime": {
     "end_time": "2025-03-06T19:24:13.488688Z",
     "start_time": "2025-03-06T19:24:13.311433Z"
    }
   },
   "cell_type": "code",
   "source": [
    "stata.run(\n",
    "    \"\"\"\n",
    "    qui ivregress 2sls lninc gender age age2 hukou feduy meduy sibling (college=luck2), vce(robust)\n",
    "    estat firststage, all forcenonrobust\n",
    "    \"\"\"\n",
    ")"
   ],
   "id": "b0ccaf15ac5684db",
   "outputs": [
    {
     "name": "stdout",
     "output_type": "stream",
     "text": [
      "\n",
      ". \n",
      ".     qui ivregress 2sls lninc gender age age2 hukou feduy meduy sibling (colle\n",
      "> ge=luck2), vce(robust)\n",
      "\n",
      ".     estat firststage, all forcenonrobust\n",
      "\n",
      "  First-stage regression summary statistics\n",
      "  --------------------------------------------------------------------------\n",
      "               |            Adjusted      Partial       Robust\n",
      "      Variable |   R-sq.       R-sq.        R-sq.     F(1,9991)   Prob > F\n",
      "  -------------+------------------------------------------------------------\n",
      "       college |  0.1531      0.1524       0.0321        316.46    0.0000\n",
      "  --------------------------------------------------------------------------\n",
      "\n",
      "\n",
      "  Shea's partial R-squared\n",
      "  --------------------------------------------------\n",
      "               |     Shea's             Shea's\n",
      "      Variable |  partial R-sq.   adj. partial R-sq.\n",
      "  -------------+------------------------------------\n",
      "       college |     0.0321             0.0314\n",
      "  --------------------------------------------------\n",
      "\n",
      "\n",
      "  Minimum eigenvalue statistic = 331.004     \n",
      "\n",
      "  Critical Values                      # of endogenous regressors:    1\n",
      "  H0: Instruments are weak             # of excluded instruments:     1\n",
      "  ---------------------------------------------------------------------\n",
      "                                     |    5%     10%     20%     30%\n",
      "  2SLS relative bias                 |         (not available)\n",
      "  -----------------------------------+---------------------------------\n",
      "                                     |   10%     15%     20%     25%\n",
      "  2SLS size of nominal 5% Wald test  |  16.38    8.96    6.66    5.53\n",
      "  LIML size of nominal 5% Wald test  |  16.38    8.96    6.66    5.53\n",
      "  ---------------------------------------------------------------------\n",
      "\n",
      "\n",
      ".     \n",
      ". \n"
     ]
    }
   ],
   "execution_count": 33
  },
  {
   "metadata": {
    "ExecuteTime": {
     "end_time": "2025-03-06T19:24:55.710712Z",
     "start_time": "2025-03-06T19:24:55.531790Z"
    }
   },
   "cell_type": "code",
   "source": [
    "stata.run(\n",
    "    \"\"\"\n",
    "    qui ivregress 2sls lninc gender age age2 hukou feduy meduy sibling (college=luck3), vce(robust)\n",
    "    estat firststage, all forcenonrobust\n",
    "    \"\"\"\n",
    ")"
   ],
   "id": "a7d47247689e8d64",
   "outputs": [
    {
     "name": "stdout",
     "output_type": "stream",
     "text": [
      "\n",
      ". \n",
      ".     qui ivregress 2sls lninc gender age age2 hukou feduy meduy sibling (colle\n",
      "> ge=luck3), vce(robust)\n",
      "\n",
      ".     estat firststage, all forcenonrobust\n",
      "\n",
      "  First-stage regression summary statistics\n",
      "  --------------------------------------------------------------------------\n",
      "               |            Adjusted      Partial       Robust\n",
      "      Variable |   R-sq.       R-sq.        R-sq.     F(1,9991)   Prob > F\n",
      "  -------------+------------------------------------------------------------\n",
      "       college |  0.1254      0.1247       0.0004       4.11179    0.0426\n",
      "  --------------------------------------------------------------------------\n",
      "\n",
      "\n",
      "  Shea's partial R-squared\n",
      "  --------------------------------------------------\n",
      "               |     Shea's             Shea's\n",
      "      Variable |  partial R-sq.   adj. partial R-sq.\n",
      "  -------------+------------------------------------\n",
      "       college |     0.0004             -0.0003\n",
      "  --------------------------------------------------\n",
      "\n",
      "\n",
      "  Minimum eigenvalue statistic = 4.03006     \n",
      "\n",
      "  Critical Values                      # of endogenous regressors:    1\n",
      "  H0: Instruments are weak             # of excluded instruments:     1\n",
      "  ---------------------------------------------------------------------\n",
      "                                     |    5%     10%     20%     30%\n",
      "  2SLS relative bias                 |         (not available)\n",
      "  -----------------------------------+---------------------------------\n",
      "                                     |   10%     15%     20%     25%\n",
      "  2SLS size of nominal 5% Wald test  |  16.38    8.96    6.66    5.53\n",
      "  LIML size of nominal 5% Wald test  |  16.38    8.96    6.66    5.53\n",
      "  ---------------------------------------------------------------------\n",
      "\n",
      "\n",
      ".     \n",
      ". \n"
     ]
    }
   ],
   "execution_count": 34
  },
  {
   "metadata": {
    "ExecuteTime": {
     "end_time": "2025-03-06T19:25:54.972556Z",
     "start_time": "2025-03-06T19:25:54.857014Z"
    }
   },
   "cell_type": "code",
   "source": [
    "## 过度识别检验\n",
    "stata.run(\n",
    "    \"\"\"\n",
    "    qui ivregress 2sls lninc gender age age2 hukou feduy meduy sibling (college=luck1 luck2 luck3), vce(robust)\n",
    "    estat overid\n",
    "    \"\"\"\n",
    ")"
   ],
   "id": "3ff4efe820c77aa5",
   "outputs": [
    {
     "name": "stdout",
     "output_type": "stream",
     "text": [
      "\n",
      ". \n",
      ".     qui ivregress 2sls lninc gender age age2 hukou feduy meduy sibling (colle\n",
      "> ge=luck1 luck2 luck3), vce(robust)\n",
      "\n",
      ".     estat overid\n",
      "\n",
      "  Test of overidentifying restrictions:\n",
      "\n",
      "  Score chi2(2)          =  .439215  (p = 0.8028)\n",
      "\n",
      ".     \n",
      ". \n"
     ]
    }
   ],
   "execution_count": 35
  },
  {
   "metadata": {
    "ExecuteTime": {
     "end_time": "2025-03-06T19:28:54.901169Z",
     "start_time": "2025-03-06T19:28:54.759681Z"
    }
   },
   "cell_type": "code",
   "source": [
    "stata.run(\n",
    "    \"\"\"\n",
    "    qui ivregress 2sls lninc gender hukou feduy meduy sibling (college=luck1 luck2 luck3 age age2), robust first\n",
    "    estat overid\n",
    "    \"\"\"\n",
    ")"
   ],
   "id": "3a241749f3d91dc8",
   "outputs": [
    {
     "name": "stdout",
     "output_type": "stream",
     "text": [
      "\n",
      ". \n",
      ".     qui ivregress 2sls lninc gender hukou feduy meduy sibling (college=luck1 \n",
      "> luck2 luck3 age age2), robust first\n",
      "\n",
      ".     estat overid\n",
      "\n",
      "  Test of overidentifying restrictions:\n",
      "\n",
      "  Score chi2(4)          =  419.319  (p = 0.0000)\n",
      "\n",
      ".     \n",
      ". \n"
     ]
    }
   ],
   "execution_count": 36
  },
  {
   "metadata": {
    "ExecuteTime": {
     "end_time": "2025-03-06T19:29:51.783846Z",
     "start_time": "2025-03-06T19:29:51.645206Z"
    }
   },
   "cell_type": "code",
   "source": [
    "## 豪斯曼检验\n",
    "stata.run(\n",
    "    \"\"\"\n",
    "    qui ivregress 2sls lninc gender age age2 hukou feduy meduy sibling (college=luck1 luck2 luck3), vce(robust)\n",
    "    estat endogenous\n",
    "    \"\"\"\n",
    ")"
   ],
   "id": "b2e1b295bd3cb650",
   "outputs": [
    {
     "name": "stdout",
     "output_type": "stream",
     "text": [
      "\n",
      ". \n",
      ".     qui ivregress 2sls lninc gender age age2 hukou feduy meduy sibling (colle\n",
      "> ge=luck1 luck2 luck3), vce(robust)\n",
      "\n",
      ".     estat endogenous\n",
      "\n",
      "  Tests of endogeneity\n",
      "  H0: Variables are exogenous\n",
      "\n",
      "  Robust score chi2(1)            =   4.1346  (p = 0.0420)\n",
      "  Robust regression F(1,9990)     =  4.13972  (p = 0.0419)\n",
      "\n",
      ".     \n",
      ". \n"
     ]
    }
   ],
   "execution_count": 37
  },
  {
   "metadata": {
    "ExecuteTime": {
     "end_time": "2025-03-06T19:34:26.941213Z",
     "start_time": "2025-03-06T19:34:26.561010Z"
    }
   },
   "cell_type": "code",
   "source": [
    "## 使用ivreg2方法\n",
    "stata.run('ivreg2 lninc gender age age2 hukou feduy meduy sibling (college=luck1 luck2 luck3), robust')"
   ],
   "id": "16f2aa424afdc7b5",
   "outputs": [
    {
     "name": "stdout",
     "output_type": "stream",
     "text": [
      "\n",
      "IV (2SLS) estimation\n",
      "--------------------\n",
      "\n",
      "Estimates efficient for homoskedasticity only\n",
      "Statistics robust to heteroskedasticity\n",
      "\n",
      "                                                      Number of obs =    10000\n",
      "                                                      F(  8,  9991) =   499.72\n",
      "                                                      Prob > F      =   0.0000\n",
      "Total (centered) SS     =  15917.89881                Centered R2   =   0.3135\n",
      "Total (uncentered) SS   =    739442.52                Uncentered R2 =   0.9852\n",
      "Residual SS             =  10927.87721                Root MSE      =    1.045\n",
      "\n",
      "------------------------------------------------------------------------------\n",
      "             |               Robust\n",
      "       lninc | Coefficient  std. err.      z    P>|z|     [95% conf. interval]\n",
      "-------------+----------------------------------------------------------------\n",
      "     college |   .6703614    .120531     5.56   0.000     .4341249    .9065979\n",
      "      gender |   .7589964   .0220328    34.45   0.000     .7158128    .8021799\n",
      "         age |   .2821712   .0125903    22.41   0.000     .2574946    .3068478\n",
      "        age2 |  -.0043363   .0001995   -21.73   0.000    -.0047273   -.0039452\n",
      "       hukou |   .4185817   .0409591    10.22   0.000     .3383033    .4988601\n",
      "       feduy |    .039864   .0029423    13.55   0.000     .0340972    .0456309\n",
      "       meduy |   .0246679   .0032976     7.48   0.000     .0182047    .0311311\n",
      "     sibling |  -.1073933    .009253   -11.61   0.000    -.1255289   -.0892577\n",
      "       _cons |    3.57229   .1881435    18.99   0.000     3.203535    3.941044\n",
      "------------------------------------------------------------------------------\n",
      "Underidentification test (Kleibergen-Paap rk LM statistic):            565.798\n",
      "                                                   Chi-sq(3) P-val =    0.0000\n",
      "------------------------------------------------------------------------------\n",
      "Weak identification test (Cragg-Donald Wald F statistic):              245.411\n",
      "                         (Kleibergen-Paap rk Wald F statistic):        224.013\n",
      "Stock-Yogo weak ID test critical values:  5% maximal IV relative bias    13.91\n",
      "                                         10% maximal IV relative bias     9.08\n",
      "                                         20% maximal IV relative bias     6.46\n",
      "                                         30% maximal IV relative bias     5.39\n",
      "                                         10% maximal IV size             22.30\n",
      "                                         15% maximal IV size             12.83\n",
      "                                         20% maximal IV size              9.54\n",
      "                                         25% maximal IV size              7.80\n",
      "Source: Stock-Yogo (2005).  Reproduced by permission.\n",
      "NB: Critical values are for Cragg-Donald F statistic and i.i.d. errors.\n",
      "------------------------------------------------------------------------------\n",
      "Hansen J statistic (overidentification test of all instruments):         0.439\n",
      "                                                   Chi-sq(2) P-val =    0.8028\n",
      "------------------------------------------------------------------------------\n",
      "Instrumented:         college\n",
      "Included instruments: gender age age2 hukou feduy meduy sibling\n",
      "Excluded instruments: luck1 luck2 luck3\n",
      "------------------------------------------------------------------------------\n"
     ]
    }
   ],
   "execution_count": 44
  },
  {
   "metadata": {
    "ExecuteTime": {
     "end_time": "2025-03-06T19:38:05.922321Z",
     "start_time": "2025-03-06T19:38:05.776788Z"
    }
   },
   "cell_type": "code",
   "source": [
    "## 检验 age 和 age2 是否与其他三个变量作为工具变量的回归结果不同\n",
    "stata.run('ivreg2 lninc gender hukou feduy meduy sibling (college=luck1 luck2 luck3 age age2), robust orthog(age age2)')"
   ],
   "id": "be589b9ac1cbf5c3",
   "outputs": [
    {
     "name": "stdout",
     "output_type": "stream",
     "text": [
      "\n",
      "IV (2SLS) estimation\n",
      "--------------------\n",
      "\n",
      "Estimates efficient for homoskedasticity only\n",
      "Statistics robust to heteroskedasticity\n",
      "\n",
      "                                                      Number of obs =    10000\n",
      "                                                      F(  6,  9993) =   513.72\n",
      "                                                      Prob > F      =   0.0000\n",
      "Total (centered) SS     =  15917.89881                Centered R2   =   0.2389\n",
      "Total (uncentered) SS   =    739442.52                Uncentered R2 =   0.9836\n",
      "Residual SS             =  12115.73885                Root MSE      =    1.101\n",
      "\n",
      "------------------------------------------------------------------------------\n",
      "             |               Robust\n",
      "       lninc | Coefficient  std. err.      z    P>|z|     [95% conf. interval]\n",
      "-------------+----------------------------------------------------------------\n",
      "     college |   1.770388   .1193018    14.84   0.000     1.536561    2.004215\n",
      "      gender |   .8226807   .0229812    35.80   0.000     .7776384    .8677229\n",
      "       hukou |   .2611968   .0432643     6.04   0.000     .1764003    .3459932\n",
      "       feduy |   .0301675   .0030575     9.87   0.000      .024175      .03616\n",
      "       meduy |   .0122471   .0034466     3.55   0.000     .0054918    .0190024\n",
      "     sibling |  -.0879799   .0087492   -10.06   0.000    -.1051279   -.0708318\n",
      "       _cons |   7.782271   .0347036   224.25   0.000     7.714253    7.850288\n",
      "------------------------------------------------------------------------------\n",
      "Underidentification test (Kleibergen-Paap rk LM statistic):            669.151\n",
      "                                                   Chi-sq(5) P-val =    0.0000\n",
      "------------------------------------------------------------------------------\n",
      "Weak identification test (Cragg-Donald Wald F statistic):              174.450\n",
      "                         (Kleibergen-Paap rk Wald F statistic):        161.738\n",
      "Stock-Yogo weak ID test critical values:  5% maximal IV relative bias    18.37\n",
      "                                         10% maximal IV relative bias    10.83\n",
      "                                         20% maximal IV relative bias     6.77\n",
      "                                         30% maximal IV relative bias     5.25\n",
      "                                         10% maximal IV size             26.87\n",
      "                                         15% maximal IV size             15.09\n",
      "                                         20% maximal IV size             10.98\n",
      "                                         25% maximal IV size              8.84\n",
      "Source: Stock-Yogo (2005).  Reproduced by permission.\n",
      "NB: Critical values are for Cragg-Donald F statistic and i.i.d. errors.\n",
      "------------------------------------------------------------------------------\n",
      "Hansen J statistic (overidentification test of all instruments):       419.319\n",
      "                                                   Chi-sq(4) P-val =    0.0000\n",
      "-orthog- option:\n",
      "Hansen J statistic (eqn. excluding suspect orthog. conditions):          0.868\n",
      "                                                   Chi-sq(2) P-val =    0.6478\n",
      "C statistic (exogeneity/orthogonality of suspect instruments):         418.451\n",
      "                                                   Chi-sq(2) P-val =    0.0000\n",
      "Instruments tested:   age age2\n",
      "------------------------------------------------------------------------------\n",
      "Instrumented:         college\n",
      "Included instruments: gender hukou feduy meduy sibling\n",
      "Excluded instruments: luck1 luck2 luck3 age age2\n",
      "------------------------------------------------------------------------------\n"
     ]
    }
   ],
   "execution_count": 46
  },
  {
   "metadata": {
    "ExecuteTime": {
     "end_time": "2025-03-06T19:40:43.229304Z",
     "start_time": "2025-03-06T19:40:43.121218Z"
    }
   },
   "cell_type": "code",
   "source": [
    "## 检验 luck3 是否是冗余的工具变量\n",
    "stata.run('ivreg2 lninc gender age age2 hukou feduy meduy sibling (college=luck1 luck2 luck3), robust redundant(luck3)')"
   ],
   "id": "f0cbcfc7677508fc",
   "outputs": [
    {
     "name": "stdout",
     "output_type": "stream",
     "text": [
      "\n",
      "IV (2SLS) estimation\n",
      "--------------------\n",
      "\n",
      "Estimates efficient for homoskedasticity only\n",
      "Statistics robust to heteroskedasticity\n",
      "\n",
      "                                                      Number of obs =    10000\n",
      "                                                      F(  8,  9991) =   499.72\n",
      "                                                      Prob > F      =   0.0000\n",
      "Total (centered) SS     =  15917.89881                Centered R2   =   0.3135\n",
      "Total (uncentered) SS   =    739442.52                Uncentered R2 =   0.9852\n",
      "Residual SS             =  10927.87721                Root MSE      =    1.045\n",
      "\n",
      "------------------------------------------------------------------------------\n",
      "             |               Robust\n",
      "       lninc | Coefficient  std. err.      z    P>|z|     [95% conf. interval]\n",
      "-------------+----------------------------------------------------------------\n",
      "     college |   .6703614    .120531     5.56   0.000     .4341249    .9065979\n",
      "      gender |   .7589964   .0220328    34.45   0.000     .7158128    .8021799\n",
      "         age |   .2821712   .0125903    22.41   0.000     .2574946    .3068478\n",
      "        age2 |  -.0043363   .0001995   -21.73   0.000    -.0047273   -.0039452\n",
      "       hukou |   .4185817   .0409591    10.22   0.000     .3383033    .4988601\n",
      "       feduy |    .039864   .0029423    13.55   0.000     .0340972    .0456309\n",
      "       meduy |   .0246679   .0032976     7.48   0.000     .0182047    .0311311\n",
      "     sibling |  -.1073933    .009253   -11.61   0.000    -.1255289   -.0892577\n",
      "       _cons |    3.57229   .1881435    18.99   0.000     3.203535    3.941044\n",
      "------------------------------------------------------------------------------\n",
      "Underidentification test (Kleibergen-Paap rk LM statistic):            565.798\n",
      "                                                   Chi-sq(3) P-val =    0.0000\n",
      "-redundant- option:\n",
      "IV redundancy test (LM test of redundancy of specified instruments):     4.936\n",
      "                                                   Chi-sq(1) P-val =    0.0263\n",
      "Instruments tested:   luck3\n",
      "------------------------------------------------------------------------------\n",
      "Weak identification test (Cragg-Donald Wald F statistic):              245.411\n",
      "                         (Kleibergen-Paap rk Wald F statistic):        224.013\n",
      "Stock-Yogo weak ID test critical values:  5% maximal IV relative bias    13.91\n",
      "                                         10% maximal IV relative bias     9.08\n",
      "                                         20% maximal IV relative bias     6.46\n",
      "                                         30% maximal IV relative bias     5.39\n",
      "                                         10% maximal IV size             22.30\n",
      "                                         15% maximal IV size             12.83\n",
      "                                         20% maximal IV size              9.54\n",
      "                                         25% maximal IV size              7.80\n",
      "Source: Stock-Yogo (2005).  Reproduced by permission.\n",
      "NB: Critical values are for Cragg-Donald F statistic and i.i.d. errors.\n",
      "------------------------------------------------------------------------------\n",
      "Hansen J statistic (overidentification test of all instruments):         0.439\n",
      "                                                   Chi-sq(2) P-val =    0.8028\n",
      "------------------------------------------------------------------------------\n",
      "Instrumented:         college\n",
      "Included instruments: gender age age2 hukou feduy meduy sibling\n",
      "Excluded instruments: luck1 luck2 luck3\n",
      "------------------------------------------------------------------------------\n"
     ]
    }
   ],
   "execution_count": 47
  },
  {
   "metadata": {
    "collapsed": true,
    "ExecuteTime": {
     "end_time": "2025-03-06T19:43:34.543798Z",
     "start_time": "2025-03-06T19:43:34.388446Z"
    }
   },
   "cell_type": "code",
   "source": [
    "## 豪斯曼检验\n",
    "stata.run('ivreg2 lninc gender age age2 hukou feduy meduy sibling (college=luck1 luck2 luck3), robust endog(college)')"
   ],
   "id": "initial_id",
   "outputs": [
    {
     "name": "stdout",
     "output_type": "stream",
     "text": [
      "\n",
      "IV (2SLS) estimation\n",
      "--------------------\n",
      "\n",
      "Estimates efficient for homoskedasticity only\n",
      "Statistics robust to heteroskedasticity\n",
      "\n",
      "                                                      Number of obs =    10000\n",
      "                                                      F(  8,  9991) =   499.72\n",
      "                                                      Prob > F      =   0.0000\n",
      "Total (centered) SS     =  15917.89881                Centered R2   =   0.3135\n",
      "Total (uncentered) SS   =    739442.52                Uncentered R2 =   0.9852\n",
      "Residual SS             =  10927.87721                Root MSE      =    1.045\n",
      "\n",
      "------------------------------------------------------------------------------\n",
      "             |               Robust\n",
      "       lninc | Coefficient  std. err.      z    P>|z|     [95% conf. interval]\n",
      "-------------+----------------------------------------------------------------\n",
      "     college |   .6703614    .120531     5.56   0.000     .4341249    .9065979\n",
      "      gender |   .7589964   .0220328    34.45   0.000     .7158128    .8021799\n",
      "         age |   .2821712   .0125903    22.41   0.000     .2574946    .3068478\n",
      "        age2 |  -.0043363   .0001995   -21.73   0.000    -.0047273   -.0039452\n",
      "       hukou |   .4185817   .0409591    10.22   0.000     .3383033    .4988601\n",
      "       feduy |    .039864   .0029423    13.55   0.000     .0340972    .0456309\n",
      "       meduy |   .0246679   .0032976     7.48   0.000     .0182047    .0311311\n",
      "     sibling |  -.1073933    .009253   -11.61   0.000    -.1255289   -.0892577\n",
      "       _cons |    3.57229   .1881435    18.99   0.000     3.203535    3.941044\n",
      "------------------------------------------------------------------------------\n",
      "Underidentification test (Kleibergen-Paap rk LM statistic):            565.798\n",
      "                                                   Chi-sq(3) P-val =    0.0000\n",
      "------------------------------------------------------------------------------\n",
      "Weak identification test (Cragg-Donald Wald F statistic):              245.411\n",
      "                         (Kleibergen-Paap rk Wald F statistic):        224.013\n",
      "Stock-Yogo weak ID test critical values:  5% maximal IV relative bias    13.91\n",
      "                                         10% maximal IV relative bias     9.08\n",
      "                                         20% maximal IV relative bias     6.46\n",
      "                                         30% maximal IV relative bias     5.39\n",
      "                                         10% maximal IV size             22.30\n",
      "                                         15% maximal IV size             12.83\n",
      "                                         20% maximal IV size              9.54\n",
      "                                         25% maximal IV size              7.80\n",
      "Source: Stock-Yogo (2005).  Reproduced by permission.\n",
      "NB: Critical values are for Cragg-Donald F statistic and i.i.d. errors.\n",
      "------------------------------------------------------------------------------\n",
      "Hansen J statistic (overidentification test of all instruments):         0.439\n",
      "                                                   Chi-sq(2) P-val =    0.8028\n",
      "-endog- option:\n",
      "Endogeneity test of endogenous regressors:                               4.154\n",
      "                                                   Chi-sq(1) P-val =    0.0415\n",
      "Regressors tested:    college\n",
      "------------------------------------------------------------------------------\n",
      "Instrumented:         college\n",
      "Included instruments: gender age age2 hukou feduy meduy sibling\n",
      "Excluded instruments: luck1 luck2 luck3\n",
      "------------------------------------------------------------------------------\n"
     ]
    }
   ],
   "execution_count": 48
  }
 ],
 "metadata": {
  "kernelspec": {
   "display_name": "Python 3",
   "language": "python",
   "name": "python3"
  },
  "language_info": {
   "codemirror_mode": {
    "name": "ipython",
    "version": 2
   },
   "file_extension": ".py",
   "mimetype": "text/x-python",
   "name": "python",
   "nbconvert_exporter": "python",
   "pygments_lexer": "ipython2",
   "version": "2.7.6"
  }
 },
 "nbformat": 4,
 "nbformat_minor": 5
}
