{
 "cells": [
  {
   "metadata": {},
   "cell_type": "markdown",
   "source": "#### 短面板数据",
   "id": "81b616d824ad5ac"
  },
  {
   "metadata": {
    "ExecuteTime": {
     "end_time": "2025-03-07T21:59:34.585383Z",
     "start_time": "2025-03-07T21:59:34.524373Z"
    }
   },
   "cell_type": "code",
   "source": [
    "import os\n",
    "import stata_setup\n",
    "from tensorflow.python.ops.numpy_ops import argmin\n",
    "\n",
    "## 设置pystata目录\n",
    "stata_setup.config(os.getenv(\"STATA_SYSDIR\"), 'mp')\n",
    "\n",
    "%stata use \"wagepan.dta\", clear"
   ],
   "id": "69bb6cf020174da",
   "outputs": [],
   "execution_count": 54
  },
  {
   "metadata": {
    "ExecuteTime": {
     "end_time": "2025-03-07T21:59:35.693710Z",
     "start_time": "2025-03-07T21:59:35.613590Z"
    }
   },
   "cell_type": "code",
   "source": [
    "## 设置数据为追踪数据\n",
    "%stata xtset nr year"
   ],
   "id": "4ad20d27b85c8707",
   "outputs": [
    {
     "name": "stdout",
     "output_type": "stream",
     "text": [
      "\n",
      "Panel variable: nr (strongly balanced)\n",
      " Time variable: year, 1980 to 1987\n",
      "         Delta: 1 unit\n"
     ]
    }
   ],
   "execution_count": 55
  },
  {
   "metadata": {
    "ExecuteTime": {
     "end_time": "2025-03-07T21:59:36.860874Z",
     "start_time": "2025-03-07T21:59:36.794148Z"
    }
   },
   "cell_type": "code",
   "source": [
    "## 查看字段信息\n",
    "%stata describe"
   ],
   "id": "202641bc4cbfa92a",
   "outputs": [
    {
     "name": "stdout",
     "output_type": "stream",
     "text": [
      "\n",
      "Contains data from wagepan.dta\n",
      " Observations:         4,360                  \n",
      "    Variables:            10                  17 Jul 2023 12:37\n",
      "-------------------------------------------------------------------------------\n",
      "Variable      Storage   Display    Value\n",
      "    name         type    format    label      Variable label\n",
      "-------------------------------------------------------------------------------\n",
      "nr              int     %9.0g                 person identifier\n",
      "year            int     %9.0g                 1980 to 1987\n",
      "black           byte    %9.0g                 =1 if black\n",
      "hisp            byte    %9.0g                 =1 if Hispanic\n",
      "married         byte    %9.0g                 =1 if married\n",
      "educ            byte    %9.0g                 years of schooling\n",
      "exper           byte    %9.0g                 labor mkt experience\n",
      "exper2          float   %9.0g                 =exper^2\n",
      "union           byte    %9.0g                 =1 if in union\n",
      "lwage           float   %9.0g                 log(wage)\n",
      "-------------------------------------------------------------------------------\n",
      "Sorted by: nr  year\n"
     ]
    }
   ],
   "execution_count": 56
  },
  {
   "metadata": {
    "ExecuteTime": {
     "end_time": "2025-03-07T21:59:38.990311Z",
     "start_time": "2025-03-07T21:59:38.884532Z"
    }
   },
   "cell_type": "code",
   "source": [
    "## 描述数据缺失情况\n",
    "%stata xtdescribe"
   ],
   "id": "48be5cf8e8e80d10",
   "outputs": [
    {
     "name": "stdout",
     "output_type": "stream",
     "text": [
      "\n",
      "      nr:  13, 17, ..., 12548                                n =        545\n",
      "    year:  1980, 1981, ..., 1987                             T =          8\n",
      "           Delta(year) = 1 unit\n",
      "           Span(year)  = 8 periods\n",
      "           (nr*year uniquely identifies each observation)\n",
      "\n",
      "Distribution of T_i:   min      5%     25%       50%       75%     95%     max\n",
      "                         8       8       8         8         8       8       8\n",
      "\n",
      "     Freq.  Percent    Cum. |  Pattern\n",
      " ---------------------------+----------\n",
      "      545    100.00  100.00 |  11111111\n",
      " ---------------------------+----------\n",
      "      545    100.00         |  XXXXXXXX\n"
     ]
    }
   ],
   "execution_count": 57
  },
  {
   "metadata": {
    "ExecuteTime": {
     "end_time": "2025-03-07T21:59:41.311675Z",
     "start_time": "2025-03-07T21:59:41.208636Z"
    }
   },
   "cell_type": "code",
   "source": [
    "## 描述变量的组内和组间方差。组间（between）指的是对不同观察期取均值以后的结果，组内（within）指的是对变量的原始值进行均值差分以后的结果\n",
    "%stata xtsum lwage black hisp educ year married exper exper2 union"
   ],
   "id": "d77d3f12fdba079c",
   "outputs": [
    {
     "name": "stdout",
     "output_type": "stream",
     "text": [
      "\n",
      "Variable         |      Mean   Std. dev.       Min        Max |    Observations\n",
      "-----------------+--------------------------------------------+----------------\n",
      "lwage    overall |  1.649147   .5326094  -3.579079    4.05186 |     N =    4360\n",
      "         between |             .3907468   .3333435   3.174173 |     n =     545\n",
      "         within  |             .3622636  -2.467201   3.204687 |     T =       8\n",
      "                 |                                            |\n",
      "black    overall |  .1155963   .3197769          0          1 |     N =    4360\n",
      "         between |              .320034          0          1 |     n =     545\n",
      "         within  |                    0   .1155963   .1155963 |     T =       8\n",
      "                 |                                            |\n",
      "hisp     overall |  .1559633   .3628622          0          1 |     N =    4360\n",
      "         between |             .3631539          0          1 |     n =     545\n",
      "         within  |                    0   .1559633   .1559633 |     T =       8\n",
      "                 |                                            |\n",
      "educ     overall |  11.76697   1.746181          3         16 |     N =    4360\n",
      "         between |             1.747585          3         16 |     n =     545\n",
      "         within  |                    0   11.76697   11.76697 |     T =       8\n",
      "                 |                                            |\n",
      "year     overall |    1983.5   2.291551       1980       1987 |     N =    4360\n",
      "         between |                    0     1983.5     1983.5 |     n =     545\n",
      "         within  |             2.291551       1980       1987 |     T =       8\n",
      "                 |                                            |\n",
      "married  overall |  .4389908   .4963208          0          1 |     N =    4360\n",
      "         between |             .3766116          0          1 |     n =     545\n",
      "         within  |             .3236137  -.4360092   1.313991 |     T =       8\n",
      "                 |                                            |\n",
      "exper    overall |  6.514679   2.825873          0         18 |     N =    4360\n",
      "         between |             1.654918        3.5       14.5 |     n =     545\n",
      "         within  |             2.291551   3.014679   10.01468 |     T =       8\n",
      "                 |                                            |\n",
      "exper2   overall |  50.42477   40.78199          0        324 |     N =    4360\n",
      "         between |             26.35134       17.5      215.5 |     n =     545\n",
      "         within  |              31.1431  -44.07523   158.9248 |     T =       8\n",
      "                 |                                            |\n",
      "union    overall |  .2440367   .4295639          0          1 |     N =    4360\n",
      "         between |             .3294467          0          1 |     n =     545\n",
      "         within  |             .2759787  -.6309633   1.119037 |     T =       8\n"
     ]
    }
   ],
   "execution_count": 58
  },
  {
   "metadata": {},
   "cell_type": "markdown",
   "source": [
    "$lwage$、$married$、$exper$、$exper2$和$union$的组间标准差和组内标准差均大于0。因此，这些变量既有组间差异（$\\overline{y}_{i}$），也有组内差异（$y_{it}-\\overline{y}_{i}$）。组内差异大于0意味着这些变量的值会随时间发生变化，因此这些变量是时变变量。<br>\n",
    "相比之下，$black$、$hisp$和$educ$的组间标准差大于0，组内标准差等于0。因此，这些变量只有组间差异，没有组内差异。组内差异为0意味着这些变量的值不随时间变化，因此这些变量是非时变变量。<br>\n",
    "最后，year的组件标准差为0，组内标准差大于0。因此，该变量只有组内差异，没有组间差异。<br>\n",
    "在面板数据中，通常只有时间变量或与时间同步发生变化的变量（如研究对象年龄）才具有组间差异为0而组内差异大于0的特征。<br>\n",
    "在面板数据分析时，区分组间差异和组内差异很重要，因为有些估计量只使用组内差异（如固定效应模型估计量），才使用这些估计量无法分析非时变变量对i你变量的影响"
   ],
   "id": "65b64999f53fed39"
  },
  {
   "metadata": {
    "ExecuteTime": {
     "end_time": "2025-03-07T22:13:56.386213Z",
     "start_time": "2025-03-07T22:13:56.347478Z"
    }
   },
   "cell_type": "code",
   "source": [
    "from pystata import stata\n",
    "\n",
    "data = stata.pdataframe_from_data()\n",
    "data.head()"
   ],
   "id": "39fa54018736499e",
   "outputs": [
    {
     "data": {
      "text/plain": [
       "   nr  year  black  hisp  married  educ  exper  exper2  union     lwage\n",
       "0  13  1980      0     0        0    14      1     1.0      0  1.197540\n",
       "1  13  1981      0     0        0    14      2     4.0      1  1.853060\n",
       "2  13  1982      0     0        0    14      3     9.0      0  1.344462\n",
       "3  13  1983      0     0        0    14      4    16.0      0  1.433213\n",
       "4  13  1984      0     0        0    14      5    25.0      0  1.568125"
      ],
      "text/html": [
       "<div>\n",
       "<style scoped>\n",
       "    .dataframe tbody tr th:only-of-type {\n",
       "        vertical-align: middle;\n",
       "    }\n",
       "\n",
       "    .dataframe tbody tr th {\n",
       "        vertical-align: top;\n",
       "    }\n",
       "\n",
       "    .dataframe thead th {\n",
       "        text-align: right;\n",
       "    }\n",
       "</style>\n",
       "<table border=\"1\" class=\"dataframe\">\n",
       "  <thead>\n",
       "    <tr style=\"text-align: right;\">\n",
       "      <th></th>\n",
       "      <th>nr</th>\n",
       "      <th>year</th>\n",
       "      <th>black</th>\n",
       "      <th>hisp</th>\n",
       "      <th>married</th>\n",
       "      <th>educ</th>\n",
       "      <th>exper</th>\n",
       "      <th>exper2</th>\n",
       "      <th>union</th>\n",
       "      <th>lwage</th>\n",
       "    </tr>\n",
       "  </thead>\n",
       "  <tbody>\n",
       "    <tr>\n",
       "      <th>0</th>\n",
       "      <td>13</td>\n",
       "      <td>1980</td>\n",
       "      <td>0</td>\n",
       "      <td>0</td>\n",
       "      <td>0</td>\n",
       "      <td>14</td>\n",
       "      <td>1</td>\n",
       "      <td>1.0</td>\n",
       "      <td>0</td>\n",
       "      <td>1.197540</td>\n",
       "    </tr>\n",
       "    <tr>\n",
       "      <th>1</th>\n",
       "      <td>13</td>\n",
       "      <td>1981</td>\n",
       "      <td>0</td>\n",
       "      <td>0</td>\n",
       "      <td>0</td>\n",
       "      <td>14</td>\n",
       "      <td>2</td>\n",
       "      <td>4.0</td>\n",
       "      <td>1</td>\n",
       "      <td>1.853060</td>\n",
       "    </tr>\n",
       "    <tr>\n",
       "      <th>2</th>\n",
       "      <td>13</td>\n",
       "      <td>1982</td>\n",
       "      <td>0</td>\n",
       "      <td>0</td>\n",
       "      <td>0</td>\n",
       "      <td>14</td>\n",
       "      <td>3</td>\n",
       "      <td>9.0</td>\n",
       "      <td>0</td>\n",
       "      <td>1.344462</td>\n",
       "    </tr>\n",
       "    <tr>\n",
       "      <th>3</th>\n",
       "      <td>13</td>\n",
       "      <td>1983</td>\n",
       "      <td>0</td>\n",
       "      <td>0</td>\n",
       "      <td>0</td>\n",
       "      <td>14</td>\n",
       "      <td>4</td>\n",
       "      <td>16.0</td>\n",
       "      <td>0</td>\n",
       "      <td>1.433213</td>\n",
       "    </tr>\n",
       "    <tr>\n",
       "      <th>4</th>\n",
       "      <td>13</td>\n",
       "      <td>1984</td>\n",
       "      <td>0</td>\n",
       "      <td>0</td>\n",
       "      <td>0</td>\n",
       "      <td>14</td>\n",
       "      <td>5</td>\n",
       "      <td>25.0</td>\n",
       "      <td>0</td>\n",
       "      <td>1.568125</td>\n",
       "    </tr>\n",
       "  </tbody>\n",
       "</table>\n",
       "</div>"
      ]
     },
     "execution_count": 77,
     "metadata": {},
     "output_type": "execute_result"
    }
   ],
   "execution_count": 77
  },
  {
   "metadata": {
    "ExecuteTime": {
     "end_time": "2025-03-07T22:30:08.156979Z",
     "start_time": "2025-03-07T22:30:07.202583Z"
    }
   },
   "cell_type": "code",
   "source": [
    "## 描述个体时间序列\n",
    "%stata xtline lwage if nr<100"
   ],
   "id": "919bb7587a2d603e",
   "outputs": [
    {
     "data": {
      "text/plain": [
       "<IPython.core.display.SVG object>"
      ],
      "image/svg+xml": "<svg height=\"384px\" version=\"1.1\" viewBox=\"0 0 3960 2880\" width=\"528px\" xmlns=\"http://www.w3.org/2000/svg\" xmlns:xlink=\"http://www.w3.org/1999/xlink\">\n\t<desc>Stata Graph - Graph</desc>\n\t<rect height=\"2880\" style=\"fill:#EAF2F3;stroke:none\" width=\"3960\" x=\"0\" y=\"0\"/>\n\t<rect height=\"2880.00\" style=\"fill:#EAF2F3\" width=\"3959.88\" x=\"0.00\" y=\"0.00\"/>\n\t<rect height=\"2874.24\" style=\"fill:none;stroke:#EAF2F3;stroke-width:5.76\" width=\"3954.12\" x=\"2.88\" y=\"2.88\"/>\n\t<rect height=\"963.42\" style=\"fill:#FFFFFF\" width=\"1683.50\" x=\"388.33\" y=\"258.27\"/>\n\t<rect height=\"958.53\" style=\"fill:none;stroke:#FFFFFF;stroke-width:4.90\" width=\"1678.60\" x=\"390.78\" y=\"260.72\"/>\n\t<line style=\"stroke:#EAF2F3;stroke-width:7.34\" x1=\"388.33\" x2=\"2071.82\" y1=\"1167.87\" y2=\"1167.87\"/>\n\t<line style=\"stroke:#EAF2F3;stroke-width:7.34\" x1=\"388.33\" x2=\"2071.82\" y1=\"953.89\" y2=\"953.89\"/>\n\t<line style=\"stroke:#EAF2F3;stroke-width:7.34\" x1=\"388.33\" x2=\"2071.82\" y1=\"739.92\" y2=\"739.92\"/>\n\t<line style=\"stroke:#EAF2F3;stroke-width:7.34\" x1=\"388.33\" x2=\"2071.82\" y1=\"526.08\" y2=\"526.08\"/>\n\t<line style=\"stroke:#EAF2F3;stroke-width:7.34\" x1=\"388.33\" x2=\"2071.82\" y1=\"312.11\" y2=\"312.11\"/>\n\t<rect height=\"963.42\" style=\"fill:#FFFFFF\" width=\"1683.50\" x=\"2141.00\" y=\"258.27\"/>\n\t<rect height=\"958.53\" style=\"fill:none;stroke:#FFFFFF;stroke-width:4.90\" width=\"1678.60\" x=\"2143.45\" y=\"260.72\"/>\n\t<line style=\"stroke:#EAF2F3;stroke-width:7.34\" x1=\"2141.00\" x2=\"3824.49\" y1=\"1167.87\" y2=\"1167.87\"/>\n\t<line style=\"stroke:#EAF2F3;stroke-width:7.34\" x1=\"2141.00\" x2=\"3824.49\" y1=\"953.89\" y2=\"953.89\"/>\n\t<line style=\"stroke:#EAF2F3;stroke-width:7.34\" x1=\"2141.00\" x2=\"3824.49\" y1=\"739.92\" y2=\"739.92\"/>\n\t<line style=\"stroke:#EAF2F3;stroke-width:7.34\" x1=\"2141.00\" x2=\"3824.49\" y1=\"526.08\" y2=\"526.08\"/>\n\t<line style=\"stroke:#EAF2F3;stroke-width:7.34\" x1=\"2141.00\" x2=\"3824.49\" y1=\"312.11\" y2=\"312.11\"/>\n\t<rect height=\"963.42\" style=\"fill:#FFFFFF\" width=\"1683.50\" x=\"388.33\" y=\"1413.64\"/>\n\t<rect height=\"958.53\" style=\"fill:none;stroke:#FFFFFF;stroke-width:4.90\" width=\"1678.60\" x=\"390.78\" y=\"1416.09\"/>\n\t<line style=\"stroke:#EAF2F3;stroke-width:7.34\" x1=\"388.33\" x2=\"2071.82\" y1=\"2323.23\" y2=\"2323.23\"/>\n\t<line style=\"stroke:#EAF2F3;stroke-width:7.34\" x1=\"388.33\" x2=\"2071.82\" y1=\"2109.26\" y2=\"2109.26\"/>\n\t<line style=\"stroke:#EAF2F3;stroke-width:7.34\" x1=\"388.33\" x2=\"2071.82\" y1=\"1895.41\" y2=\"1895.41\"/>\n\t<line style=\"stroke:#EAF2F3;stroke-width:7.34\" x1=\"388.33\" x2=\"2071.82\" y1=\"1681.44\" y2=\"1681.44\"/>\n\t<line style=\"stroke:#EAF2F3;stroke-width:7.34\" x1=\"388.33\" x2=\"2071.82\" y1=\"1467.47\" y2=\"1467.47\"/>\n\t<rect height=\"963.42\" style=\"fill:#FFFFFF\" width=\"1683.50\" x=\"2141.00\" y=\"1413.64\"/>\n\t<rect height=\"958.53\" style=\"fill:none;stroke:#FFFFFF;stroke-width:4.90\" width=\"1678.60\" x=\"2143.45\" y=\"1416.09\"/>\n\t<line style=\"stroke:#EAF2F3;stroke-width:7.34\" x1=\"2141.00\" x2=\"3824.49\" y1=\"2323.23\" y2=\"2323.23\"/>\n\t<line style=\"stroke:#EAF2F3;stroke-width:7.34\" x1=\"2141.00\" x2=\"3824.49\" y1=\"2109.26\" y2=\"2109.26\"/>\n\t<line style=\"stroke:#EAF2F3;stroke-width:7.34\" x1=\"2141.00\" x2=\"3824.49\" y1=\"1895.41\" y2=\"1895.41\"/>\n\t<line style=\"stroke:#EAF2F3;stroke-width:7.34\" x1=\"2141.00\" x2=\"3824.49\" y1=\"1681.44\" y2=\"1681.44\"/>\n\t<line style=\"stroke:#EAF2F3;stroke-width:7.34\" x1=\"2141.00\" x2=\"3824.49\" y1=\"1467.47\" y2=\"1467.47\"/>\n\t<path d=\" M442.16 697.72 L639.17 557.51 L836.06 666.29 L1033.07 647.36 L1230.08 618.52 L1427.09 590.31 L1623.97 1108.09 L1820.98 596.86\" stroke-linejoin=\"round\" style=\"fill:none;stroke:#1A476F;stroke-width:7.34\"/>\n\t<path d=\" M2194.83 595.38 L2391.72 629.16 L2588.73 620.38 L2785.74 584.86 L2982.75 606.89 L3179.63 609.86 L3376.64 617.53 L3573.65 564.57\" stroke-linejoin=\"round\" style=\"fill:none;stroke:#1A476F;stroke-width:7.34\"/>\n\t<path d=\" M442.16 1785.03 L639.17 1738.12 L836.06 1760.28 L1033.07 1681.94 L1230.08 1642.09 L1427.09 1624.52 L1623.97 1666.59 L1820.98 1494.70\" stroke-linejoin=\"round\" style=\"fill:none;stroke:#1A476F;stroke-width:7.34\"/>\n\t<path d=\" M2194.83 1704.21 L2391.72 1794.68 L2588.73 1794.18 L2785.74 1736.89 L2982.75 1719.31 L3179.63 1701.12 L3376.64 1736.64 L3573.65 1652.49\" stroke-linejoin=\"round\" style=\"fill:none;stroke:#1A476F;stroke-width:7.34\"/>\n\t<line style=\"stroke:#000000;stroke-width:4.90\" x1=\"388.33\" x2=\"388.33\" y1=\"1221.70\" y2=\"258.27\"/>\n\t<line style=\"stroke:#000000;stroke-width:4.90\" x1=\"388.33\" x2=\"354.30\" y1=\"1167.87\" y2=\"1167.87\"/>\n\t<text style=\"font-family:'Helvetica';font-size:85.02px;fill:#000000\" text-anchor=\"middle\" transform=\"rotate(-90 311.78,1167.87)\" x=\"311.78\" y=\"1167.87\">-1</text>\n\t<line style=\"stroke:#000000;stroke-width:4.90\" x1=\"388.33\" x2=\"354.30\" y1=\"953.89\" y2=\"953.89\"/>\n\t<text style=\"font-family:'Helvetica';font-size:85.02px;fill:#000000\" text-anchor=\"middle\" transform=\"rotate(-90 311.78,953.89)\" x=\"311.78\" y=\"953.89\">0</text>\n\t<line style=\"stroke:#000000;stroke-width:4.90\" x1=\"388.33\" x2=\"354.30\" y1=\"739.92\" y2=\"739.92\"/>\n\t<text style=\"font-family:'Helvetica';font-size:85.02px;fill:#000000\" text-anchor=\"middle\" transform=\"rotate(-90 311.78,739.92)\" x=\"311.78\" y=\"739.92\">1</text>\n\t<line style=\"stroke:#000000;stroke-width:4.90\" x1=\"388.33\" x2=\"354.30\" y1=\"526.08\" y2=\"526.08\"/>\n\t<text style=\"font-family:'Helvetica';font-size:85.02px;fill:#000000\" text-anchor=\"middle\" transform=\"rotate(-90 311.78,526.08)\" x=\"311.78\" y=\"526.08\">2</text>\n\t<line style=\"stroke:#000000;stroke-width:4.90\" x1=\"388.33\" x2=\"354.30\" y1=\"312.11\" y2=\"312.11\"/>\n\t<text style=\"font-family:'Helvetica';font-size:85.02px;fill:#000000\" text-anchor=\"middle\" transform=\"rotate(-90 311.78,312.11)\" x=\"311.78\" y=\"312.11\">3</text>\n\t<line style=\"stroke:#000000;stroke-width:4.90\" x1=\"388.33\" x2=\"388.33\" y1=\"2377.06\" y2=\"1413.64\"/>\n\t<line style=\"stroke:#000000;stroke-width:4.90\" x1=\"388.33\" x2=\"354.30\" y1=\"2323.23\" y2=\"2323.23\"/>\n\t<text style=\"font-family:'Helvetica';font-size:85.02px;fill:#000000\" text-anchor=\"middle\" transform=\"rotate(-90 311.78,2323.23)\" x=\"311.78\" y=\"2323.23\">-1</text>\n\t<line style=\"stroke:#000000;stroke-width:4.90\" x1=\"388.33\" x2=\"354.30\" y1=\"2109.26\" y2=\"2109.26\"/>\n\t<text style=\"font-family:'Helvetica';font-size:85.02px;fill:#000000\" text-anchor=\"middle\" transform=\"rotate(-90 311.78,2109.26)\" x=\"311.78\" y=\"2109.26\">0</text>\n\t<line style=\"stroke:#000000;stroke-width:4.90\" x1=\"388.33\" x2=\"354.30\" y1=\"1895.41\" y2=\"1895.41\"/>\n\t<text style=\"font-family:'Helvetica';font-size:85.02px;fill:#000000\" text-anchor=\"middle\" transform=\"rotate(-90 311.78,1895.41)\" x=\"311.78\" y=\"1895.41\">1</text>\n\t<line style=\"stroke:#000000;stroke-width:4.90\" x1=\"388.33\" x2=\"354.30\" y1=\"1681.44\" y2=\"1681.44\"/>\n\t<text style=\"font-family:'Helvetica';font-size:85.02px;fill:#000000\" text-anchor=\"middle\" transform=\"rotate(-90 311.78,1681.44)\" x=\"311.78\" y=\"1681.44\">2</text>\n\t<line style=\"stroke:#000000;stroke-width:4.90\" x1=\"388.33\" x2=\"354.30\" y1=\"1467.47\" y2=\"1467.47\"/>\n\t<text style=\"font-family:'Helvetica';font-size:85.02px;fill:#000000\" text-anchor=\"middle\" transform=\"rotate(-90 311.78,1467.47)\" x=\"311.78\" y=\"1467.47\">3</text>\n\t<line style=\"stroke:#000000;stroke-width:4.90\" x1=\"388.33\" x2=\"2071.82\" y1=\"2377.06\" y2=\"2377.06\"/>\n\t<line style=\"stroke:#000000;stroke-width:4.90\" x1=\"442.16\" x2=\"442.16\" y1=\"2377.06\" y2=\"2411.10\"/>\n\t<text style=\"font-family:'Helvetica';font-size:85.02px;fill:#000000\" text-anchor=\"middle\" x=\"442.16\" y=\"2487.50\">1980</text>\n\t<line style=\"stroke:#000000;stroke-width:4.90\" x1=\"836.18\" x2=\"836.18\" y1=\"2377.06\" y2=\"2411.10\"/>\n\t<text style=\"font-family:'Helvetica';font-size:85.02px;fill:#000000\" text-anchor=\"middle\" x=\"836.18\" y=\"2487.50\">1982</text>\n\t<line style=\"stroke:#000000;stroke-width:4.90\" x1=\"1230.08\" x2=\"1230.08\" y1=\"2377.06\" y2=\"2411.10\"/>\n\t<text style=\"font-family:'Helvetica';font-size:85.02px;fill:#000000\" text-anchor=\"middle\" x=\"1230.08\" y=\"2487.50\">1984</text>\n\t<line style=\"stroke:#000000;stroke-width:4.90\" x1=\"1624.10\" x2=\"1624.10\" y1=\"2377.06\" y2=\"2411.10\"/>\n\t<text style=\"font-family:'Helvetica';font-size:85.02px;fill:#000000\" text-anchor=\"middle\" x=\"1624.10\" y=\"2487.50\">1986</text>\n\t<line style=\"stroke:#000000;stroke-width:4.90\" x1=\"2017.99\" x2=\"2017.99\" y1=\"2377.06\" y2=\"2411.10\"/>\n\t<text style=\"font-family:'Helvetica';font-size:85.02px;fill:#000000\" text-anchor=\"middle\" x=\"2017.99\" y=\"2487.50\">1988</text>\n\t<line style=\"stroke:#000000;stroke-width:4.90\" x1=\"2141.00\" x2=\"3824.49\" y1=\"2377.06\" y2=\"2377.06\"/>\n\t<line style=\"stroke:#000000;stroke-width:4.90\" x1=\"2194.83\" x2=\"2194.83\" y1=\"2377.06\" y2=\"2411.10\"/>\n\t<text style=\"font-family:'Helvetica';font-size:85.02px;fill:#000000\" text-anchor=\"middle\" x=\"2194.83\" y=\"2487.50\">1980</text>\n\t<line style=\"stroke:#000000;stroke-width:4.90\" x1=\"2588.85\" x2=\"2588.85\" y1=\"2377.06\" y2=\"2411.10\"/>\n\t<text style=\"font-family:'Helvetica';font-size:85.02px;fill:#000000\" text-anchor=\"middle\" x=\"2588.85\" y=\"2487.50\">1982</text>\n\t<line style=\"stroke:#000000;stroke-width:4.90\" x1=\"2982.75\" x2=\"2982.75\" y1=\"2377.06\" y2=\"2411.10\"/>\n\t<text style=\"font-family:'Helvetica';font-size:85.02px;fill:#000000\" text-anchor=\"middle\" x=\"2982.75\" y=\"2487.50\">1984</text>\n\t<line style=\"stroke:#000000;stroke-width:4.90\" x1=\"3376.77\" x2=\"3376.77\" y1=\"2377.06\" y2=\"2411.10\"/>\n\t<text style=\"font-family:'Helvetica';font-size:85.02px;fill:#000000\" text-anchor=\"middle\" x=\"3376.77\" y=\"2487.50\">1986</text>\n\t<line style=\"stroke:#000000;stroke-width:4.90\" x1=\"3770.66\" x2=\"3770.66\" y1=\"2377.06\" y2=\"2411.10\"/>\n\t<text style=\"font-family:'Helvetica';font-size:85.02px;fill:#000000\" text-anchor=\"middle\" x=\"3770.66\" y=\"2487.50\">1988</text>\n\t<rect height=\"122.89\" style=\"fill:#D9E6EB\" width=\"1683.50\" x=\"388.33\" y=\"135.39\"/>\n\t<rect height=\"117.99\" style=\"fill:none;stroke:#D9E6EB;stroke-width:4.90\" width=\"1678.60\" x=\"390.78\" y=\"137.83\"/>\n\t<text style=\"font-family:'Helvetica';font-size:93.56px;fill:#000000\" text-anchor=\"middle\" x=\"1230.08\" y=\"215.42\">13</text>\n\t<rect height=\"122.89\" style=\"fill:#D9E6EB\" width=\"1683.50\" x=\"2141.00\" y=\"135.39\"/>\n\t<rect height=\"117.99\" style=\"fill:none;stroke:#D9E6EB;stroke-width:4.90\" width=\"1678.60\" x=\"2143.45\" y=\"137.83\"/>\n\t<text style=\"font-family:'Helvetica';font-size:93.56px;fill:#000000\" text-anchor=\"middle\" x=\"2982.75\" y=\"215.42\">17</text>\n\t<rect height=\"122.89\" style=\"fill:#D9E6EB\" width=\"1683.50\" x=\"388.33\" y=\"1290.75\"/>\n\t<rect height=\"117.99\" style=\"fill:none;stroke:#D9E6EB;stroke-width:4.90\" width=\"1678.60\" x=\"390.78\" y=\"1293.20\"/>\n\t<text style=\"font-family:'Helvetica';font-size:93.56px;fill:#000000\" text-anchor=\"middle\" x=\"1230.08\" y=\"1370.91\">18</text>\n\t<rect height=\"122.89\" style=\"fill:#D9E6EB\" width=\"1683.50\" x=\"2141.00\" y=\"1290.75\"/>\n\t<rect height=\"117.99\" style=\"fill:none;stroke:#D9E6EB;stroke-width:4.90\" width=\"1678.60\" x=\"2143.45\" y=\"1293.20\"/>\n\t<text style=\"font-family:'Helvetica';font-size:93.56px;fill:#000000\" text-anchor=\"middle\" x=\"2982.75\" y=\"1370.91\">45</text>\n\t<text style=\"font-family:'Helvetica';font-size:99.99px;fill:#000000\" text-anchor=\"middle\" transform=\"rotate(-90 170.79,1332.71)\" x=\"170.79\" y=\"1332.71\">log(wage)</text>\n\t<text style=\"font-family:'Helvetica';font-size:99.99px;fill:#000000\" text-anchor=\"middle\" x=\"2030.00\" y=\"2634.61\">1980 to 1987</text>\n\t<text style=\"font-family:'Helvetica';font-size:79.94px;fill:#000000\" x=\"218.05\" y=\"2737.89\">Graphs by person identifier</text>\n</svg>"
     },
     "metadata": {},
     "output_type": "display_data"
    }
   ],
   "execution_count": 80
  },
  {
   "metadata": {
    "ExecuteTime": {
     "end_time": "2025-03-07T22:31:11.246786Z",
     "start_time": "2025-03-07T22:31:10.151136Z"
    }
   },
   "cell_type": "code",
   "source": [
    "## 混合线性回归\n",
    "%stata xtreg lwage black hisp union married exper exper2 year educ, pa corr(independent) vce(robust)"
   ],
   "id": "2f64406d95778df3",
   "outputs": [
    {
     "name": "stdout",
     "output_type": "stream",
     "text": [
      "\n",
      "Iteration 1: tolerance = 1.346e-10\n",
      "\n",
      "GEE population-averaged model                      Number of obs    =    4,360\n",
      "Group variable: nr                                 Number of groups =      545\n",
      "Family: Gaussian                                   Obs per group:  \n",
      "Link:   Identity                                                min =        8\n",
      "Correlation: independent                                        avg =      8.0\n",
      "                                                                max =        8\n",
      "                                                   Wald chi2(8)     =   621.34\n",
      "Scale parameter = .2300891                         Prob > chi2      =   0.0000\n",
      "\n",
      "Pearson chi2(4360)   =  1003.19                    Deviance         =  1003.19\n",
      "Dispersion (Pearson) = .2300891                    Dispersion       = .2300891\n",
      "\n",
      "                                     (Std. err. adjusted for clustering on nr)\n",
      "------------------------------------------------------------------------------\n",
      "             |               Robust\n",
      "       lwage | Coefficient  std. err.      z    P>|z|     [95% conf. interval]\n",
      "-------------+----------------------------------------------------------------\n",
      "       black |  -.1392244    .050428    -2.76   0.006    -.2380614   -.0403874\n",
      "        hisp |   .0158267     .03894     0.41   0.684    -.0604943    .0921478\n",
      "       union |   .1830538    .027393     6.68   0.000     .1293645    .2367431\n",
      "     married |   .1080949   .0259289     4.17   0.000     .0572751    .1589147\n",
      "       exper |   .0645952   .0173346     3.73   0.000       .03062    .0985703\n",
      "      exper2 |  -.0022382   .0008428    -2.66   0.008    -.0038901   -.0005863\n",
      "        year |   .0218522   .0118747     1.84   0.066    -.0014218    .0451263\n",
      "        educ |   .0914692   .0110806     8.25   0.000     .0697516    .1131868\n",
      "       _cons |  -43.15754   23.40199    -1.84   0.065     -89.0246    2.709523\n",
      "------------------------------------------------------------------------------\n"
     ]
    }
   ],
   "execution_count": 81
  },
  {
   "metadata": {
    "ExecuteTime": {
     "end_time": "2025-03-07T22:31:18.350009Z",
     "start_time": "2025-03-07T22:31:18.264944Z"
    }
   },
   "cell_type": "code",
   "source": [
    "## regress 与 xtreg 命令等价\n",
    "%stata regress lwage black hisp union married exper exper2 year educ, vce(cluster nr)"
   ],
   "id": "411363ec556341f8",
   "outputs": [
    {
     "name": "stdout",
     "output_type": "stream",
     "text": [
      "\n",
      "Linear regression                               Number of obs     =      4,360\n",
      "                                                F(8, 544)         =      77.52\n",
      "                                                Prob > F          =     0.0000\n",
      "                                                R-squared         =     0.1887\n",
      "                                                Root MSE          =     .48017\n",
      "\n",
      "                                   (Std. err. adjusted for 545 clusters in nr)\n",
      "------------------------------------------------------------------------------\n",
      "             |               Robust\n",
      "       lwage | Coefficient  std. err.      t    P>|t|     [95% conf. interval]\n",
      "-------------+----------------------------------------------------------------\n",
      "       black |  -.1392244   .0504743    -2.76   0.006    -.2383728    -.040076\n",
      "        hisp |   .0158267   .0389758     0.41   0.685    -.0607348    .0923882\n",
      "       union |   .1830538   .0274182     6.68   0.000     .1291954    .2369122\n",
      "     married |   .1080949   .0259528     4.17   0.000      .057115    .1590748\n",
      "       exper |   .0645952   .0173505     3.72   0.000      .030513    .0986774\n",
      "      exper2 |  -.0022382   .0008436    -2.65   0.008    -.0038953   -.0005811\n",
      "        year |   .0218522   .0118857     1.84   0.067    -.0014952    .0451996\n",
      "        educ |   .0914692   .0110908     8.25   0.000     .0696832    .1132552\n",
      "       _cons |  -43.15754    23.4235    -1.84   0.066    -89.16912    2.854039\n",
      "------------------------------------------------------------------------------\n"
     ]
    }
   ],
   "execution_count": 82
  },
  {
   "metadata": {},
   "cell_type": "markdown",
   "source": "不过，使用xtreg命令可以通过corr()选项设定误差项的自相关模式，从而得到更有效率的系数估计值",
   "id": "7056da39bbb2b150"
  },
  {
   "metadata": {
    "ExecuteTime": {
     "end_time": "2025-03-07T22:57:02.895321Z",
     "start_time": "2025-03-07T22:57:01.595501Z"
    }
   },
   "cell_type": "code",
   "source": [
    "## 固定效应模型（固定效应模型只能计算时变变量对因变量的影响）\n",
    "stata.run(\n",
    "    \"\"\"\n",
    "    // LSDV法\n",
    "    qui regress lwage union married exper exper2 i.nr, vce(cluster nr)\n",
    "    estimates table, keep(union married exper exper2) b se\n",
    "    \"\"\"\n",
    ")\n",
    "print('==============================================================')\n",
    "stata.run(\n",
    "    \"\"\"\n",
    "    // 均值差分法\n",
    "    xtreg lwage union married exper exper2, fe vce(robust)\n",
    "    \"\"\"\n",
    ")\n",
    "print('==============================================================')\n",
    "stata.run(\n",
    "    \"\"\"\n",
    "    // 一阶差分法\n",
    "    regress D.(lwage union married exper exper2), vce(cluster nr) noconstant\n",
    "    \"\"\"\n",
    ")"
   ],
   "id": "203a6b94a1e34ce9",
   "outputs": [
    {
     "name": "stdout",
     "output_type": "stream",
     "text": [
      "\n",
      ". \n",
      ".     // 注意：固定效应模型只能计算时变变量对因变量的影响\n",
      ".     qui regress lwage union married exper exper2 i.nr, vce(cluster nr)\n",
      "\n",
      ".     estimates table, keep(union married exper exper2) b se\n",
      "\n",
      "---------------------------\n",
      "    Variable |   Active    \n",
      "-------------+-------------\n",
      "       union |  .08208713  \n",
      "             |  .02440148  \n",
      "     married |  .04530332  \n",
      "             |  .02245327  \n",
      "       exper |  .11684669  \n",
      "             |   .0114521  \n",
      "      exper2 | -.00430089  \n",
      "             |  .00073343  \n",
      "---------------------------\n",
      "               Legend: b/se\n",
      "\n",
      ".     \n",
      ". \n",
      "==============================================================\n",
      "\n",
      ". \n",
      ".     // 均值差分法\n",
      ".     xtreg lwage union married exper exper2, fe vce(robust)\n",
      "\n",
      "Fixed-effects (within) regression               Number of obs     =      4,360\n",
      "Group variable: nr                              Number of groups  =        545\n",
      "\n",
      "R-squared:                                      Obs per group:\n",
      "     Within  = 0.1780                                         min =          8\n",
      "     Between = 0.0005                                         avg =        8.0\n",
      "     Overall = 0.0638                                         max =          8\n",
      "\n",
      "                                                F(4,544)          =     107.94\n",
      "corr(u_i, Xb) = -0.1139                         Prob > F          =     0.0000\n",
      "\n",
      "                                   (Std. err. adjusted for 545 clusters in nr)\n",
      "------------------------------------------------------------------------------\n",
      "             |               Robust\n",
      "       lwage | Coefficient  std. err.      t    P>|t|     [95% conf. interval]\n",
      "-------------+----------------------------------------------------------------\n",
      "       union |   .0820871   .0228266     3.60   0.000      .037248    .1269262\n",
      "     married |   .0453033   .0210041     2.16   0.031     .0040442    .0865625\n",
      "       exper |   .1168467    .010713    10.91   0.000     .0958028    .1378906\n",
      "      exper2 |  -.0043009   .0006861    -6.27   0.000    -.0056486   -.0029532\n",
      "       _cons |    1.06488   .0366294    29.07   0.000     .9929274    1.136832\n",
      "-------------+----------------------------------------------------------------\n",
      "     sigma_u |   .4000539\n",
      "     sigma_e |  .35125535\n",
      "         rho |   .5646785   (fraction of variance due to u_i)\n",
      "------------------------------------------------------------------------------\n",
      "\n",
      ".     \n",
      ". \n",
      "==============================================================\n",
      "\n",
      ". \n",
      ".     // 一阶差分法\n",
      ".     set linesize 120\n",
      "\n",
      ".     regress D.(lwage union married exper exper2), vce(cluster nr) noconstant\n",
      "\n",
      "Linear regression                               Number of obs     =      3,815\n",
      "                                                F(4, 544)         =      93.68\n",
      "                                                Prob > F          =     0.0000\n",
      "                                                R-squared         =     0.0268\n",
      "                                                Root MSE          =     .44304\n",
      "\n",
      "                                   (Std. err. adjusted for 545 clusters in nr)\n",
      "------------------------------------------------------------------------------\n",
      "             |               Robust\n",
      "     D.lwage | Coefficient  std. err.      t    P>|t|     [95% conf. interval]\n",
      "-------------+----------------------------------------------------------------\n",
      "       union |\n",
      "         D1. |   .0427878   .0220062     1.94   0.052    -.0004397    .0860153\n",
      "             |\n",
      "     married |\n",
      "         D1. |   .0381377   .0242391     1.57   0.116    -.0094761    .0857515\n",
      "             |\n",
      "       exper |\n",
      "         D1. |     .11575   .0143991     8.04   0.000     .0874654    .1440347\n",
      "             |\n",
      "      exper2 |\n",
      "         D1. |  -.0038824   .0009428    -4.12   0.000    -.0057343   -.0020304\n",
      "------------------------------------------------------------------------------\n",
      "\n",
      ".     \n",
      ". \n"
     ]
    }
   ],
   "execution_count": 89
  },
  {
   "metadata": {},
   "cell_type": "markdown",
   "source": "考虑到均值差分法的估计效率更高，因此我们建议研究者使用均值差分法求解",
   "id": "a966b67593578d05"
  },
  {
   "metadata": {
    "ExecuteTime": {
     "end_time": "2025-03-07T23:10:17.437207Z",
     "start_time": "2025-03-07T23:10:13.368814Z"
    }
   },
   "cell_type": "code",
   "source": [
    "## 随机效应模型（同时使用了组内信息和组间信息，因此可以估计非时变变量对因变量的影响）\n",
    "stata.run(\n",
    "    \"\"\"\n",
    "    // 广义最小二乘估计\n",
    "    xtreg lwage black hisp union married exper exper2 year educ, re theta vce(robust)\n",
    "    \"\"\"\n",
    ")\n",
    "print('=============================================================================')\n",
    "stata.run(\n",
    "    \"\"\"\n",
    "    // 最大似然估计（如果随机效应u_i和误差项e_it均服从正态分布，那么可以通过选项mle获取更有效率的估计值）\n",
    "    xtreg lwage black hisp union married exper exper2 year educ, mle vce(bootstrap)\n",
    "    \"\"\"\n",
    ")\n",
    "print('==============================================================================')\n",
    "stata.run(\n",
    "    \"\"\"\n",
    "    // 组间估计量\n",
    "    xtreg lwage black hisp union married exper exper2 year educ, be vce(bootstrap)\n",
    "    \"\"\"\n",
    ")"
   ],
   "id": "4dc3507bdaa7d5e",
   "outputs": [
    {
     "name": "stdout",
     "output_type": "stream",
     "text": [
      "\n",
      ". \n",
      ".     // 广义最小二乘估计\n",
      ".     xtreg lwage black hisp union married exper exper2 year educ, re theta vce(robust)\n",
      "\n",
      "Random-effects GLS regression                   Number of obs     =      4,360\n",
      "Group variable: nr                              Number of groups  =        545\n",
      "\n",
      "R-squared:                                      Obs per group:\n",
      "     Within  = 0.1774                                         min =          8\n",
      "     Between = 0.1881                                         avg =        8.0\n",
      "     Overall = 0.1829                                         max =          8\n",
      "\n",
      "                                                Wald chi2(8)      =     573.35\n",
      "corr(u_i, X) = 0 (assumed)                      Prob > chi2       =     0.0000\n",
      "theta        = .64264094\n",
      "\n",
      "                                   (Std. err. adjusted for 545 clusters in nr)\n",
      "------------------------------------------------------------------------------\n",
      "             |               Robust\n",
      "       lwage | Coefficient  std. err.      z    P>|z|     [95% conf. interval]\n",
      "-------------+----------------------------------------------------------------\n",
      "       black |  -.1393043   .0508314    -2.74   0.006     -.238932   -.0396766\n",
      "        hisp |   .0209246   .0397401     0.53   0.599    -.0569646    .0988137\n",
      "       union |   .1080178   .0208882     5.17   0.000     .0670777     .148958\n",
      "     married |   .0629524   .0189525     3.32   0.001     .0258062    .1000987\n",
      "       exper |   .0942591   .0150814     6.25   0.000        .0647    .1238181\n",
      "      exper2 |  -.0039663   .0006701    -5.92   0.000    -.0052797   -.0026529\n",
      "        year |   .0172317   .0118578     1.45   0.146    -.0060091    .0404725\n",
      "        educ |   .0924148   .0111504     8.29   0.000     .0705604    .1142691\n",
      "       _cons |  -34.07261   23.37069    -1.46   0.145    -79.87831     11.7331\n",
      "-------------+----------------------------------------------------------------\n",
      "     sigma_u |  .32456727\n",
      "     sigma_e |  .35125535\n",
      "         rho |  .46057172   (fraction of variance due to u_i)\n",
      "------------------------------------------------------------------------------\n",
      "\n",
      ".     \n",
      ". \n",
      "=============================================================================\n",
      "\n",
      ". \n",
      ".     // 最大似然估计\n",
      ".     xtreg lwage black hisp union married exper exper2 year educ, mle vce(bootstrap)\n",
      "(running xtreg on estimation sample)\n",
      "\n",
      "Bootstrap replications (50)\n",
      "----+--- 1 ---+--- 2 ---+--- 3 ---+--- 4 ---+--- 5 \n",
      "..................................................    50\n",
      "\n",
      "Random-effects ML regression                         Number of obs    =  4,360\n",
      "                                                     Replications     =     50\n",
      "Group variable: nr                                   Number of groups =    545\n",
      "\n",
      "Random effects u_i ~ Gaussian                        Obs per group:\n",
      "                                                                  min =      8\n",
      "                                                                  avg =    8.0\n",
      "                                                                  max =      8\n",
      "\n",
      "                                                     Wald chi2(8)     = 640.04\n",
      "Log likelihood = -2192.1739                          Prob > chi2      = 0.0000\n",
      "\n",
      "                                    (Replications based on 545 clusters in nr)\n",
      "------------------------------------------------------------------------------\n",
      "             |   Observed   Bootstrap                         Normal-based\n",
      "       lwage | coefficient  std. err.      z    P>|z|     [95% conf. interval]\n",
      "-------------+----------------------------------------------------------------\n",
      "       black |  -.1393088   .0453158    -3.07   0.002    -.2281262   -.0504914\n",
      "        hisp |    .020958   .0452184     0.46   0.643    -.0676684    .1095845\n",
      "       union |   .1074526   .0215128     4.99   0.000     .0652883    .1496169\n",
      "     married |   .0625782   .0190134     3.29   0.001     .0253126    .0998438\n",
      "       exper |   .0944108   .0153276     6.16   0.000     .0643693    .1244524\n",
      "      exper2 |  -.0039745   .0006183    -6.43   0.000    -.0051864   -.0027626\n",
      "        year |   .0172076    .012268     1.40   0.161    -.0068373    .0412526\n",
      "        educ |   .0924264   .0108917     8.49   0.000     .0710789    .1137738\n",
      "       _cons |  -34.02529   24.16764    -1.41   0.159      -81.393    13.34243\n",
      "-------------+----------------------------------------------------------------\n",
      "    /sigma_u |   .3293644   .0116605                      .3072852    .3530301\n",
      "    /sigma_e |   .3512025   .0118234                      .3287769    .3751576\n",
      "         rho |    .467945   .0256036                      .4181485    .5182488\n",
      "------------------------------------------------------------------------------\n",
      "LR test of sigma_u=0: chibar2(01) = 1582.70            Prob >= chibar2 = 0.000\n",
      "\n",
      ".     \n",
      ". \n",
      "==============================================================================\n",
      "\n",
      ". \n",
      ".     // 组间估计量\n",
      ".     xtreg lwage black hisp union married exper exper2 year educ, be vce(bootstrap)\n",
      "(running xtreg on estimation sample)\n",
      "\n",
      "Bootstrap replications (50)\n",
      "----+--- 1 ---+--- 2 ---+--- 3 ---+--- 4 ---+--- 5 \n",
      "..................................................    50\n",
      "\n",
      "Between regression (regression on group means)  Number of obs     =      4,360\n",
      "Group variable: nr                              Number of groups  =        545\n",
      "\n",
      "R-squared:                                      Obs per group:\n",
      "     Within  = 0.0488                                         min =          8\n",
      "     Between = 0.2192                                         avg =        8.0\n",
      "     Overall = 0.1380                                         max =          8\n",
      "\n",
      "                                                Wald chi(7)       =     323.29\n",
      "sd(u_i + avg(e_i.)) = .3475147                  Prob > chi2       =     0.0000\n",
      "\n",
      "                                    (Replications based on 545 clusters in nr)\n",
      "------------------------------------------------------------------------------\n",
      "             |   Observed   Bootstrap                         Normal-based\n",
      "       lwage | coefficient  std. err.      z    P>|z|     [95% conf. interval]\n",
      "-------------+----------------------------------------------------------------\n",
      "       black |  -.1388124   .0533949    -2.60   0.009    -.2434645   -.0341603\n",
      "        hisp |   .0047758   .0383924     0.12   0.901    -.0704718    .0800234\n",
      "       union |   .2706765   .0442327     6.12   0.000      .183982    .3573711\n",
      "     married |   .1436637   .0371383     3.87   0.000     .0708739    .2164535\n",
      "       exper |  -.0504371   .0455379    -1.11   0.268    -.1396898    .0388155\n",
      "      exper2 |   .0051245   .0027754     1.85   0.065    -.0003152    .0105642\n",
      "        year |          0  (omitted)\n",
      "        educ |   .0946036   .0111675     8.47   0.000     .0727158    .1164914\n",
      "       _cons |    .492309   .2263725     2.17   0.030     .0486271    .9359909\n",
      "------------------------------------------------------------------------------\n",
      "\n",
      ".     \n",
      ". \n"
     ]
    }
   ],
   "execution_count": 90
  },
  {
   "metadata": {},
   "cell_type": "markdown",
   "source": "对比固定效应估计量、随机效应估计量和组间估计量，可以发现，RE估计量位于FE（组间估计量）和BE（组间估计量）的加权平均结果。",
   "id": "2cbd491adfdafa2a"
  },
  {
   "metadata": {
    "ExecuteTime": {
     "end_time": "2025-03-07T23:38:00.408508Z",
     "start_time": "2025-03-07T23:38:00.204801Z"
    }
   },
   "cell_type": "code",
   "source": [
    "## Hausman检验\n",
    "stata.run(\n",
    "    \"\"\"\n",
    "    qui xtreg lwage union married exper exper2, fe\n",
    "    est store fe\n",
    "    qui xtreg lwage black hisp union married exper exper2 year educ, re\n",
    "    est store re\n",
    "    hausman fe re, sigmamore\n",
    "    \"\"\"\n",
    ")\n"
   ],
   "id": "c77d4e481648cf16",
   "outputs": [
    {
     "name": "stdout",
     "output_type": "stream",
     "text": [
      "\n",
      ". \n",
      ".     qui xtreg lwage union married exper exper2, fe\n",
      "\n",
      ".     est store fe\n",
      "\n",
      ".     qui xtreg lwage black hisp union married exper exper2 year educ, re\n",
      "\n",
      ".     est store re\n",
      "\n",
      ".     hausman fe re, sigmamore\n",
      "\n",
      "                 ---- Coefficients ----\n",
      "             |      (b)          (B)            (b-B)     sqrt(diag(V_b-V_B))\n",
      "             |       fe           re         Difference       Std. err.\n",
      "-------------+----------------------------------------------------------------\n",
      "       union |    .0820871     .1080178       -.0259307        .0074844\n",
      "     married |    .0453033     .0629524       -.0176491         .007462\n",
      "       exper |    .1168467     .0942591        .0225876               .\n",
      "      exper2 |   -.0043009    -.0039663       -.0003346        .0001159\n",
      "------------------------------------------------------------------------------\n",
      "                          b = Consistent under H0 and Ha; obtained from xtreg.\n",
      "           B = Inconsistent under Ha, efficient under H0; obtained from xtreg.\n",
      "\n",
      "Test of H0: Difference in coefficients not systematic\n",
      "\n",
      "    chi2(4) = (b-B)'[(V_b-V_B)^(-1)](b-B)\n",
      "            =  15.87\n",
      "Prob > chi2 = 0.0032\n",
      "(V_b-V_B is not positive definite)\n",
      "\n",
      ".     \n",
      ". \n"
     ]
    }
   ],
   "execution_count": 92
  },
  {
   "metadata": {
    "ExecuteTime": {
     "end_time": "2025-03-07T23:47:12.017441Z",
     "start_time": "2025-03-07T23:47:11.611559Z"
    }
   },
   "cell_type": "code",
   "source": [
    "## 稳健的Hausman检验（放松随机效应模型的误差项服从独立同分布假定）\n",
    "stata.run(\n",
    "    \"\"\"\n",
    "    qui xtreg lwage black hisp union married exper exper2 year educ, re vce(robust)\n",
    "    xtoverid\n",
    "    \"\"\"\n",
    ")"
   ],
   "id": "9bebade3802cb188",
   "outputs": [
    {
     "name": "stdout",
     "output_type": "stream",
     "text": [
      "\n",
      ". \n",
      ".     qui xtreg lwage black hisp union married exper exper2 year educ, re vce(robust)\n",
      "\n",
      ".     xtoverid\n",
      "\n",
      "Test of overidentifying restrictions: fixed vs random effects\n",
      "Cross-section time-series model: xtreg re  robust cluster(nr)\n",
      "Sargan-Hansen statistic  28.711  Chi-sq(4)    P-value = 0.0000\n",
      "\n",
      ".     \n",
      ". \n"
     ]
    }
   ],
   "execution_count": 98
  },
  {
   "metadata": {},
   "cell_type": "markdown",
   "source": "#### 长面板数据",
   "id": "dd5792c01ced30d6"
  },
  {
   "metadata": {
    "ExecuteTime": {
     "end_time": "2025-03-08T00:01:59.200661Z",
     "start_time": "2025-03-08T00:01:59.129285Z"
    }
   },
   "cell_type": "code",
   "source": "%stata use \"mus08cigar.dta\", clear",
   "id": "8b204622a2afa9a8",
   "outputs": [],
   "execution_count": 99
  },
  {
   "metadata": {
    "ExecuteTime": {
     "end_time": "2025-03-08T00:02:14.932823Z",
     "start_time": "2025-03-08T00:02:14.860679Z"
    }
   },
   "cell_type": "code",
   "source": [
    "## 设置为面板数据\n",
    "%stata xtset state year"
   ],
   "id": "84716adac5efde27",
   "outputs": [
    {
     "name": "stdout",
     "output_type": "stream",
     "text": [
      "\n",
      "Panel variable: state (strongly balanced)\n",
      " Time variable: year, 63 to 92\n",
      "         Delta: 1 unit\n"
     ]
    }
   ],
   "execution_count": 100
  },
  {
   "metadata": {
    "ExecuteTime": {
     "end_time": "2025-03-08T00:04:34.709544Z",
     "start_time": "2025-03-08T00:04:34.623458Z"
    }
   },
   "cell_type": "code",
   "source": [
    "## LSDV法拟合个体效应模型，将时间T作为连续变量纳入模型\n",
    "%stata reg lnc lnp lny lnpmin i.state year, vce(cluster state)"
   ],
   "id": "a0f6168fb6e371f4",
   "outputs": [
    {
     "name": "stdout",
     "output_type": "stream",
     "text": [
      "\n",
      "Linear regression                               Number of obs     =        300\n",
      "                                                F(3, 9)           =          .\n",
      "                                                Prob > F          =          .\n",
      "                                                R-squared         =     0.7203\n",
      "                                                Root MSE          =     .11203\n",
      "\n",
      "                                 (Std. err. adjusted for 10 clusters in state)\n",
      "------------------------------------------------------------------------------\n",
      "             |               Robust\n",
      "         lnc | Coefficient  std. err.      t    P>|t|     [95% conf. interval]\n",
      "-------------+----------------------------------------------------------------\n",
      "         lnp |  -1.027181   .4412156    -2.33   0.045     -2.02528   -.0290819\n",
      "         lny |   .4975365   .4139086     1.20   0.260    -.4387899    1.433863\n",
      "      lnpmin |   .5100582   .2627025     1.94   0.084    -.0842161    1.104332\n",
      "             |\n",
      "       state |\n",
      "          2  |  -.0773908   .0594636    -1.30   0.225    -.2119069    .0571252\n",
      "          3  |    .088557   .0090317     9.81   0.000     .0681259    .1089881\n",
      "          4  |  -.1809375   .1695839    -1.07   0.314    -.5645629     .202688\n",
      "          5  |  -.1066138   .2409767    -0.44   0.669     -.651741    .4385135\n",
      "          6  |   .2177434   .1063333     2.05   0.071    -.0227993     .458286\n",
      "          7  |    .115543   .1959351     0.59   0.570     -.327693    .5587791\n",
      "          8  |   .1068277    .124702     0.86   0.414    -.1752679    .3889233\n",
      "          9  |   .0433207     .04618     0.94   0.373    -.0611458    .1477872\n",
      "         10  |   -.133583   .0333562    -4.00   0.003    -.2090399   -.0581261\n",
      "             |\n",
      "        year |  -.0429824   .0305275    -1.41   0.193    -.1120405    .0260757\n",
      "       _cons |   6.153657   2.152852     2.86   0.019     1.283567    11.02375\n",
      "------------------------------------------------------------------------------\n"
     ]
    }
   ],
   "execution_count": 101
  },
  {
   "metadata": {
    "ExecuteTime": {
     "end_time": "2025-03-08T00:18:45.478158Z",
     "start_time": "2025-03-08T00:18:45.052190Z"
    }
   },
   "cell_type": "code",
   "source": [
    "## 直接使用聚类稳健标准误，估计效率偏低。因此，考虑采用更有效率的估计方法。\n",
    "stata.run(\n",
    "    \"\"\"\n",
    "    // 检验组间异方差\n",
    "    qui xtreg lnc lnp lny lnpmin year, fe vce(robust)\n",
    "    xttest3\n",
    "    // 检验组内自相关\n",
    "    xi:xtserial lnc lnp lny lnpmin year i.state\n",
    "    // 检验组间同期相关\n",
    "    set linesize 150\n",
    "    qui xtreg lnc lnp lny lnpmin year, fe vce(robust)\n",
    "    xttest2\n",
    "    \"\"\"\n",
    ")"
   ],
   "id": "5edd853e7bcf7c83",
   "outputs": [
    {
     "name": "stdout",
     "output_type": "stream",
     "text": [
      "\n",
      ". \n",
      ".     // 检验组间异方差\n",
      ".     qui xtreg lnc lnp lny lnpmin year, fe vce(robust)\n",
      "\n",
      ".     xttest3\n",
      "\n",
      "Modified Wald test for groupwise heteroskedasticity\n",
      "in fixed effect regression model\n",
      "\n",
      "H0: sigma(i)^2 = sigma^2 for all i\n",
      "\n",
      "chi2 (10)  =         378.90\n",
      "Prob > chi2 =          0.0000\n",
      "\n",
      "\n",
      ".     // 检验组内自相关\n",
      ".     xi:xtserial lnc lnp lny lnpmin year i.state\n",
      "i.state           _Istate_1-10        (naturally coded; _Istate_1 omitted)\n",
      "\n",
      "Wooldridge test for autocorrelation in panel data\n",
      "H0: no first-order autocorrelation\n",
      "    F(  1,       9) =     89.304\n",
      "           Prob > F =      0.0000\n",
      "\n",
      ".     // 检验组间同期相关\n",
      ".     set linesize 150\n",
      "\n",
      ".     qui xtreg lnc lnp lny lnpmin year, fe vce(robust)\n",
      "\n",
      ".     xttest2\n",
      " \n",
      "Correlation matrix of residuals:\n",
      "\n",
      "             |      __e1       __e2       __e3       __e4       __e5       __e6       __e7       __e8       __e9      __e10 \n",
      "-------------+--------------------------------------------------------------------------------------------------------------\n",
      "        __e1 |  .2921489                                                                                                    \n",
      "        __e2 | -.0213432   .1777056                                                                                         \n",
      "        __e3 |  .3780161  -.0190987   .5315973                                                                              \n",
      "        __e4 | -.1132695   .0807039  -.1682104   .2440957                                                                   \n",
      "        __e5 |  -.094377   .0466794  -.1377809   .0877548   .1035723                                                        \n",
      "        __e6 |  .0053953   .0979055  -.0120405   .1042869   .0761779   .1662647                                             \n",
      "        __e7 | -.5039313   .2195519   -.686677   .3532443   .3409154   .2502154   1.573015                                  \n",
      "        __e8 |   .105558   .0783913   .1330914   .0172018  -.0239187   .0690433  -.1414606   .1194612                       \n",
      "        __e9 |  .2069446   .0553588   .2848406  -.0674447  -.0578446   .0289819   -.334058   .1131528   .2109084            \n",
      "       __e10 |  .1678554   .0577682   .2299779   .0000346  -.0209553   .0422944  -.2226333   .0902976   .1584811   .1710032 \n",
      "\n",
      "          __e1     __e2     __e3     __e4     __e5     __e6     __e7     __e8     __e9    __e10\n",
      " __e1   1.0000\n",
      " __e2  -0.0937   1.0000\n",
      " __e3   0.9592  -0.0621   1.0000\n",
      " __e4  -0.4242   0.3875  -0.4670   1.0000\n",
      " __e5  -0.5426   0.3441  -0.5872   0.5519   1.0000\n",
      " __e6   0.0245   0.5696  -0.0405   0.5177   0.5805   1.0000\n",
      " __e7  -0.7434   0.4153  -0.7509   0.5701   0.8446   0.4893   1.0000\n",
      " __e8   0.5650   0.5380   0.5281   0.1007  -0.2150   0.4899  -0.3263   1.0000\n",
      " __e9   0.8337   0.2859   0.8507  -0.2972  -0.3914   0.1548  -0.5800   0.7129   1.0000\n",
      "__e10   0.7510   0.3314   0.7628   0.0002  -0.1575   0.2508  -0.4293   0.6318   0.8345   1.0000\n",
      "\n",
      "Breusch-Pagan LM test of independence: chi2(45) =   376.963, Pr = 0.0000\n",
      "Based on 30 complete observations over panel units\n",
      "\n",
      ".     \n",
      ". \n"
     ]
    }
   ],
   "execution_count": 108
  },
  {
   "metadata": {
    "ExecuteTime": {
     "end_time": "2025-03-08T00:20:26.458567Z",
     "start_time": "2025-03-08T00:20:26.327793Z"
    }
   },
   "cell_type": "code",
   "source": [
    "## 面板校正标准误\n",
    "%stata xtpcse lnc lnp lny lnpmin year i.state"
   ],
   "id": "b2e753d88393342f",
   "outputs": [
    {
     "name": "stdout",
     "output_type": "stream",
     "text": [
      "\n",
      "Linear regression, correlated panels corrected standard errors (PCSEs)\n",
      "\n",
      "Group variable:   state                         Number of obs     =        300\n",
      "Time variable:    year                          Number of groups  =         10\n",
      "Panels:           correlated (balanced)         Obs per group:\n",
      "Autocorrelation:  no autocorrelation                          min =         30\n",
      "                                                              avg =         30\n",
      "                                                              max =         30\n",
      "Estimated covariances      =        55          R-squared         =     0.7203\n",
      "Estimated autocorrelations =         0          Wald chi2(13)     =    2147.36\n",
      "Estimated coefficients     =        14          Prob > chi2       =     0.0000\n",
      "\n",
      "------------------------------------------------------------------------------\n",
      "             |           Panel-corrected\n",
      "         lnc | Coefficient  std. err.      z    P>|z|     [95% conf. interval]\n",
      "-------------+----------------------------------------------------------------\n",
      "         lnp |  -1.027181   .1332425    -7.71   0.000    -1.288332   -.7660305\n",
      "         lny |   .4975365   .1804528     2.76   0.006     .1438554    .8512176\n",
      "      lnpmin |   .5100582   .1393134     3.66   0.000      .237009    .7831074\n",
      "        year |  -.0429824    .014234    -3.02   0.003    -.0708806   -.0150843\n",
      "             |\n",
      "       state |\n",
      "          2  |  -.0773908   .0389125    -1.99   0.047     -.153658   -.0011237\n",
      "          3  |    .088557    .011143     7.95   0.000     .0667171    .1103968\n",
      "          4  |  -.1809375   .0829463    -2.18   0.029    -.3435093   -.0183657\n",
      "          5  |  -.1066138   .1018461    -1.05   0.295    -.3062284    .0930008\n",
      "          6  |   .2177434    .049543     4.40   0.000     .1206408    .3148459\n",
      "          7  |    .115543   .0980092     1.18   0.238    -.0765516    .3076376\n",
      "          8  |   .1068277   .0483694     2.21   0.027     .0120255      .20163\n",
      "          9  |   .0433207   .0202198     2.14   0.032     .0036907    .0829508\n",
      "         10  |   -.133583   .0221487    -6.03   0.000    -.1769937   -.0901722\n",
      "             |\n",
      "       _cons |   6.153657   .7886145     7.80   0.000     4.608002    7.699313\n",
      "------------------------------------------------------------------------------\n"
     ]
    }
   ],
   "execution_count": 109
  },
  {
   "metadata": {
    "ExecuteTime": {
     "end_time": "2025-03-08T00:22:33.382501Z",
     "start_time": "2025-03-08T00:22:33.264372Z"
    }
   },
   "cell_type": "code",
   "source": [
    "## 面板校正标准误+FGLS,所有个案均遵守相同的自相关模式\n",
    "%stata xtpcse lnc lnp lny lnpmin year i.state, corr(ar1)"
   ],
   "id": "4f48b82065c91527",
   "outputs": [
    {
     "name": "stdout",
     "output_type": "stream",
     "text": [
      "note: estimates of rho outside [-1,1] bounded to be in the range [-1,1].\n",
      "\n",
      "Prais–Winsten regression, correlated panels corrected standard errors (PCSEs)\n",
      "\n",
      "Group variable:   state                         Number of obs     =        300\n",
      "Time variable:    year                          Number of groups  =         10\n",
      "Panels:           correlated (balanced)         Obs per group:\n",
      "Autocorrelation:  common AR(1)                                min =         30\n",
      "                                                              avg =         30\n",
      "                                                              max =         30\n",
      "Estimated covariances      =        55          R-squared         =     0.9824\n",
      "Estimated autocorrelations =         1          Wald chi2(13)     =     504.30\n",
      "Estimated coefficients     =        14          Prob > chi2       =     0.0000\n",
      "\n",
      "------------------------------------------------------------------------------\n",
      "             |           Panel-corrected\n",
      "         lnc | Coefficient  std. err.      z    P>|z|     [95% conf. interval]\n",
      "-------------+----------------------------------------------------------------\n",
      "         lnp |  -.3440621   .0571589    -6.02   0.000    -.4560914   -.2320328\n",
      "         lny |   .5661073   .1566725     3.61   0.000     .2590348    .8731798\n",
      "      lnpmin |   .1000875   .0736082     1.36   0.174     -.044182    .2443569\n",
      "        year |  -.0498643   .0121104    -4.12   0.000    -.0736003   -.0261283\n",
      "             |\n",
      "       state |\n",
      "          2  |  -.0784486   .0519567    -1.51   0.131    -.1802818    .0233846\n",
      "          3  |   .0954506   .0261747     3.65   0.000     .0441491     .146752\n",
      "          4  |   -.207494   .0810219    -2.56   0.010     -.366294    -.048694\n",
      "          5  |  -.1811666   .0977461    -1.85   0.064    -.3727454    .0104123\n",
      "          6  |    .185644   .0554283     3.35   0.001     .0770065    .2942816\n",
      "          7  |   .0701358    .120881     0.58   0.562    -.1667866    .3070582\n",
      "          8  |   .0397148   .0507738     0.78   0.434    -.0598001    .1392297\n",
      "          9  |   .0231754    .025083     0.92   0.356    -.0259863    .0723371\n",
      "         10  |  -.1289763   .0387423    -3.33   0.001    -.2049099   -.0530428\n",
      "             |\n",
      "       _cons |   4.837936   .6044356     8.00   0.000     3.653264    6.022608\n",
      "-------------+----------------------------------------------------------------\n",
      "         rho |   .7936188\n",
      "------------------------------------------------------------------------------\n"
     ]
    }
   ],
   "execution_count": 110
  },
  {
   "metadata": {
    "ExecuteTime": {
     "end_time": "2025-03-08T00:24:56.157771Z",
     "start_time": "2025-03-08T00:24:56.047477Z"
    }
   },
   "cell_type": "code",
   "source": [
    "## 假定组内自相关模式为一阶自回归，且自回归的系数因个案而异\n",
    "%stata xtpcse lnc lnp lny lnpmin year i.state, corr(psar1)"
   ],
   "id": "24e3500b6b240dde",
   "outputs": [
    {
     "name": "stdout",
     "output_type": "stream",
     "text": [
      "note: estimates of rho outside [-1,1] bounded to be in the range [-1,1].\n",
      "\n",
      "Prais–Winsten regression, correlated panels corrected standard errors (PCSEs)\n",
      "\n",
      "Group variable:   state                         Number of obs     =        300\n",
      "Time variable:    year                          Number of groups  =         10\n",
      "Panels:           correlated (balanced)         Obs per group:\n",
      "Autocorrelation:  panel-specific AR(1)                        min =         30\n",
      "                                                              avg =         30\n",
      "                                                              max =         30\n",
      "Estimated covariances      =        55          R-squared         =     0.9954\n",
      "Estimated autocorrelations =        10          Wald chi2(12)     =     855.24\n",
      "Estimated coefficients     =        13          Prob > chi2       =     0.0000\n",
      "\n",
      "------------------------------------------------------------------------------\n",
      "             |           Panel-corrected\n",
      "         lnc | Coefficient  std. err.      z    P>|z|     [95% conf. interval]\n",
      "-------------+----------------------------------------------------------------\n",
      "         lnp |  -.2960784   .0539584    -5.49   0.000     -.401835   -.1903218\n",
      "         lny |   .5326598   .1350574     3.94   0.000     .2679522    .7973674\n",
      "      lnpmin |   .0507118   .0673426     0.75   0.451    -.0812772    .1827009\n",
      "        year |  -.0488194   .0103959    -4.70   0.000    -.0691949   -.0284439\n",
      "             |\n",
      "       state |\n",
      "          2  |  -.0639957   .0802776    -0.80   0.425    -.2213369    .0933456\n",
      "          3  |          0  (omitted)\n",
      "          4  |   -.187228   .0981734    -1.91   0.057    -.3796444    .0051885\n",
      "          5  |   -.163645   .1128024    -1.45   0.147    -.3847336    .0574436\n",
      "          6  |   .1980726   .0809248     2.45   0.014     .0394629    .3566822\n",
      "          7  |   .0796166   .1709107     0.47   0.641    -.2553622    .4145954\n",
      "          8  |   .0492827   .0817016     0.60   0.546    -.1108495    .2094149\n",
      "          9  |   .0263335   .0630703     0.42   0.676     -.097282     .149949\n",
      "         10  |  -.1229701    .065134    -1.89   0.059    -.2506303    .0046901\n",
      "             |\n",
      "       _cons |     5.0428   .5477758     9.21   0.000     3.969179    6.116421\n",
      "------------------------------------------------------------------------------\n",
      "        rhos =  .9414582    .66151         1  .7045066  .7351521 ...  .6905643\n",
      "------------------------------------------------------------------------------\n"
     ]
    }
   ],
   "execution_count": 111
  },
  {
   "metadata": {
    "ExecuteTime": {
     "end_time": "2025-03-08T00:26:06.802606Z",
     "start_time": "2025-03-08T00:26:06.598390Z"
    }
   },
   "cell_type": "code",
   "source": [
    "## 全面FGLS\n",
    "%stata xtgls lnc lnp lny lnpmin year i.state, panels(cor) corr(ar1)"
   ],
   "id": "dfbd65b3dba63777",
   "outputs": [
    {
     "name": "stdout",
     "output_type": "stream",
     "text": [
      "\n",
      "Cross-sectional time-series FGLS regression\n",
      "\n",
      "Coefficients:  generalized least squares\n",
      "Panels:        heteroskedastic with cross-sectional correlation\n",
      "Correlation:   common AR(1) coefficient for all panels  (0.7967)\n",
      "\n",
      "Estimated covariances      =        55          Number of obs     =        300\n",
      "Estimated autocorrelations =         1          Number of groups  =         10\n",
      "Estimated coefficients     =        14          Time periods      =         30\n",
      "                                                Wald chi2(13)     =     797.11\n",
      "                                                Prob > chi2       =     0.0000\n",
      "\n",
      "------------------------------------------------------------------------------\n",
      "         lnc | Coefficient  Std. err.      z    P>|z|     [95% conf. interval]\n",
      "-------------+----------------------------------------------------------------\n",
      "         lnp |  -.3629823   .0239353   -15.17   0.000    -.4098947   -.3160699\n",
      "         lny |   .5116673   .0733079     6.98   0.000     .3679865     .655348\n",
      "      lnpmin |   .0258594   .0302743     0.85   0.393     -.033477    .0851959\n",
      "        year |  -.0448556   .0057821    -7.76   0.000    -.0561884   -.0335228\n",
      "             |\n",
      "       state |\n",
      "          2  |  -.0719573   .0471313    -1.53   0.127     -.164333    .0204185\n",
      "          3  |   .0913241   .0260485     3.51   0.000       .04027    .1423782\n",
      "          4  |  -.1844595    .056133    -3.29   0.001    -.2944782   -.0744407\n",
      "          5  |  -.1466676   .0636223    -2.31   0.021     -.271365   -.0219701\n",
      "          6  |    .198174   .0424493     4.67   0.000      .114975    .2813731\n",
      "          7  |   .0861722   .1025173     0.84   0.401    -.1147579    .2871024\n",
      "          8  |   .0548621   .0386937     1.42   0.156    -.0209761    .1307003\n",
      "          9  |   .0227095   .0204346     1.11   0.266    -.0173416    .0627607\n",
      "         10  |  -.1279293   .0359818    -3.56   0.000    -.1984523   -.0574063\n",
      "             |\n",
      "       _cons |   5.331351   .2815822    18.93   0.000      4.77946    5.883242\n",
      "------------------------------------------------------------------------------\n"
     ]
    }
   ],
   "execution_count": 112
  },
  {
   "metadata": {
    "ExecuteTime": {
     "end_time": "2025-03-08T00:27:33.476972Z",
     "start_time": "2025-03-08T00:27:33.372080Z"
    }
   },
   "cell_type": "code",
   "source": "%stata xtgls lnc lnp lny lnpmin year i.state, panels(cor) corr(psar1)",
   "id": "6daee4970a5c505e",
   "outputs": [
    {
     "name": "stdout",
     "output_type": "stream",
     "text": [
      "\n",
      "Cross-sectional time-series FGLS regression\n",
      "\n",
      "Coefficients:  generalized least squares\n",
      "Panels:        heteroskedastic with cross-sectional correlation\n",
      "Correlation:   panel-specific AR(1)\n",
      "\n",
      "Estimated covariances      =        55          Number of obs     =        300\n",
      "Estimated autocorrelations =        10          Number of groups  =         10\n",
      "Estimated coefficients     =        14          Time periods      =         30\n",
      "                                                Wald chi2(13)     =    1246.78\n",
      "                                                Prob > chi2       =     0.0000\n",
      "\n",
      "------------------------------------------------------------------------------\n",
      "         lnc | Coefficient  Std. err.      z    P>|z|     [95% conf. interval]\n",
      "-------------+----------------------------------------------------------------\n",
      "         lnp |  -.3541126    .024395   -14.52   0.000    -.4019259   -.3062994\n",
      "         lny |   .5459469   .0712941     7.66   0.000      .406213    .6856808\n",
      "      lnpmin |   .0185409    .030352     0.61   0.541     -.040948    .0780297\n",
      "        year |  -.0487174   .0055724    -8.74   0.000     -.059639   -.0377957\n",
      "             |\n",
      "       state |\n",
      "          2  |  -.1229944   .0660784    -1.86   0.063    -.2525056    .0065169\n",
      "          3  |  -.3649205   .2134793    -1.71   0.087    -.7833323    .0534913\n",
      "          4  |  -.2405925   .0717201    -3.35   0.001    -.3811613   -.1000236\n",
      "          5  |  -.2086117   .0793916    -2.63   0.009    -.3642163   -.0530071\n",
      "          6  |   .1417767   .0643671     2.20   0.028     .0156194    .2679339\n",
      "          7  |  -.0337763   .1435772    -0.24   0.814    -.3151824    .2476297\n",
      "          8  |  -.0008845   .0647305    -0.01   0.989    -.1277539    .1259849\n",
      "          9  |  -.0350394   .0544958    -0.64   0.520    -.1418491    .0717703\n",
      "         10  |  -.1888756   .0569821    -3.31   0.001    -.3005584   -.0771928\n",
      "             |\n",
      "       _cons |   5.377111   .2890047    18.61   0.000     4.810673     5.94355\n",
      "------------------------------------------------------------------------------\n"
     ]
    }
   ],
   "execution_count": 113
  },
  {
   "metadata": {},
   "cell_type": "markdown",
   "source": "#### 动态面板模型",
   "id": "374c0d283204749f"
  },
  {
   "metadata": {
    "ExecuteTime": {
     "end_time": "2025-03-08T00:30:19.618758Z",
     "start_time": "2025-03-08T00:30:19.554012Z"
    }
   },
   "cell_type": "code",
   "source": [
    "stata.run(\n",
    "    \"\"\"\n",
    "    use \"wagepan.dta\", clear\n",
    "    // 设置为面板数据\n",
    "    xtset nr year\n",
    "    \"\"\"\n",
    ")"
   ],
   "id": "28785ed38b491529",
   "outputs": [
    {
     "name": "stdout",
     "output_type": "stream",
     "text": [
      "\n",
      ". \n",
      ".     use \"wagepan.dta\", clear\n",
      "\n",
      ".     // 设置为面板数据\n",
      ".     xtset nr year\n",
      "\n",
      "Panel variable: nr (strongly balanced)\n",
      " Time variable: year, 1980 to 1987\n",
      "         Delta: 1 unit\n",
      "\n",
      ".     \n",
      ". \n"
     ]
    }
   ],
   "execution_count": 115
  },
  {
   "metadata": {
    "ExecuteTime": {
     "end_time": "2025-03-08T00:32:35.602033Z",
     "start_time": "2025-03-08T00:32:35.481584Z"
    }
   },
   "cell_type": "code",
   "source": [
    "## 固定效应模型\n",
    "%stata xtreg lwage L.lwage union married exper exper2, fe vce(robust)"
   ],
   "id": "a694e76b29e59ffe",
   "outputs": [
    {
     "name": "stdout",
     "output_type": "stream",
     "text": [
      "\n",
      "Fixed-effects (within) regression               Number of obs     =      3,815\n",
      "Group variable: nr                              Number of groups  =        545\n",
      "\n",
      "R-squared:                                      Obs per group:\n",
      "     Within  = 0.1440                                         min =          7\n",
      "     Between = 0.0549                                         avg =        7.0\n",
      "     Overall = 0.0899                                         max =          7\n",
      "\n",
      "                                                F(5,544)          =      67.60\n",
      "corr(u_i, Xb) = 0.0078                          Prob > F          =     0.0000\n",
      "\n",
      "                                   (Std. err. adjusted for 545 clusters in nr)\n",
      "------------------------------------------------------------------------------\n",
      "             |               Robust\n",
      "       lwage | Coefficient  std. err.      t    P>|t|     [95% conf. interval]\n",
      "-------------+----------------------------------------------------------------\n",
      "       lwage |\n",
      "         L1. |   .0541724   .0228125     2.37   0.018     .0093609    .0989838\n",
      "             |\n",
      "       union |   .0693037   .0232182     2.98   0.003     .0236954     .114912\n",
      "     married |    .051994   .0210299     2.47   0.014     .0106842    .0933038\n",
      "       exper |   .0944637   .0118633     7.96   0.000     .0711602    .1177671\n",
      "      exper2 |  -.0029993   .0007305    -4.11   0.000    -.0044342   -.0015644\n",
      "       _cons |   1.061613   .0529571    20.05   0.000     .9575876    1.165638\n",
      "-------------+----------------------------------------------------------------\n",
      "     sigma_u |  .39309736\n",
      "     sigma_e |  .32555643\n",
      "         rho |  .59315971   (fraction of variance due to u_i)\n",
      "------------------------------------------------------------------------------\n"
     ]
    }
   ],
   "execution_count": 116
  },
  {
   "metadata": {},
   "cell_type": "markdown",
   "source": [
    "上述xtreg命令虽然通过选项fe纳入了个体层面的固定效应，但其估计值依然是有偏的\n",
    "其原因在于自变量中包含了因变量的一阶滞后L.lwage,它必然与均值差分后的模型误差项存在相关。因此，该模型存在内生性问题"
   ],
   "id": "2ca0109d44662c34"
  },
  {
   "metadata": {
    "ExecuteTime": {
     "end_time": "2025-03-08T00:37:32.113791Z",
     "start_time": "2025-03-08T00:37:31.882458Z"
    }
   },
   "cell_type": "code",
   "source": [
    "## Arellano-Bond估计量（差分GMM）\n",
    "%stata xtabond lwage union married exper exper2, lags(1) twostep vce(robust)"
   ],
   "id": "df422b420173151b",
   "outputs": [
    {
     "name": "stdout",
     "output_type": "stream",
     "text": [
      "\n",
      "Arellano–Bond dynamic panel-data estimation     Number of obs     =      3,270\n",
      "Group variable: nr                              Number of groups  =        545\n",
      "Time variable: year\n",
      "                                                Obs per group:\n",
      "                                                              min =          6\n",
      "                                                              avg =          6\n",
      "                                                              max =          6\n",
      "\n",
      "Number of instruments =     26                  Wald chi2(5)      =     358.64\n",
      "                                                Prob > chi2       =     0.0000\n",
      "Two-step results\n",
      "                                     (Std. err. adjusted for clustering on nr)\n",
      "------------------------------------------------------------------------------\n",
      "             |              WC-robust\n",
      "       lwage | Coefficient  std. err.      z    P>|z|     [95% conf. interval]\n",
      "-------------+----------------------------------------------------------------\n",
      "       lwage |\n",
      "         L1. |   .1328737   .0372796     3.56   0.000      .059807    .2059403\n",
      "             |\n",
      "       union |   .0156335    .025376     0.62   0.538    -.0341025    .0653695\n",
      "     married |   .0439858      .0227     1.94   0.053    -.0005054    .0884769\n",
      "       exper |   .0601414   .0144121     4.17   0.000     .0318943    .0883886\n",
      "      exper2 |  -.0010929   .0008963    -1.22   0.223    -.0028496    .0006638\n",
      "       _cons |   1.096868   .0641509    17.10   0.000     .9711346    1.222602\n",
      "------------------------------------------------------------------------------\n",
      "Instruments for differenced equation\n",
      "        GMM-type: L(2/.).lwage\n",
      "        Standard: D.union D.married D.exper D.exper2\n",
      "Instruments for level equation\n",
      "        Standard: _cons\n"
     ]
    }
   ],
   "execution_count": 117
  },
  {
   "metadata": {
    "ExecuteTime": {
     "end_time": "2025-03-08T00:44:30.987076Z",
     "start_time": "2025-03-08T00:44:30.876303Z"
    }
   },
   "cell_type": "code",
   "source": [
    "## 设置前定变量和同期内生解释变量, 软件会自动根据变量类型生成工具变量来求解\n",
    "%stata xtabond lwage exper exper2, lags(1) pre(married) endogenous(union) twostep vce(robust)"
   ],
   "id": "3d915a50cb93ccd5",
   "outputs": [
    {
     "name": "stdout",
     "output_type": "stream",
     "text": [
      "\n",
      "Arellano–Bond dynamic panel-data estimation     Number of obs     =      3,270\n",
      "Group variable: nr                              Number of groups  =        545\n",
      "Time variable: year\n",
      "                                                Obs per group:\n",
      "                                                              min =          6\n",
      "                                                              avg =          6\n",
      "                                                              max =          6\n",
      "\n",
      "Number of instruments =     72                  Wald chi2(5)      =     326.26\n",
      "                                                Prob > chi2       =     0.0000\n",
      "Two-step results\n",
      "                                     (Std. err. adjusted for clustering on nr)\n",
      "------------------------------------------------------------------------------\n",
      "             |              WC-robust\n",
      "       lwage | Coefficient  std. err.      z    P>|z|     [95% conf. interval]\n",
      "-------------+----------------------------------------------------------------\n",
      "       lwage |\n",
      "         L1. |   .1103954   .0356815     3.09   0.002      .040461    .1803298\n",
      "             |\n",
      "     married |    .050656   .0363232     1.39   0.163    -.0205361    .1218482\n",
      "       union |   .1346116   .0865632     1.56   0.120    -.0350492    .3042723\n",
      "       exper |   .0655848   .0143476     4.57   0.000     .0374641    .0937056\n",
      "      exper2 |  -.0013896   .0008665    -1.60   0.109    -.0030879    .0003087\n",
      "       _cons |   1.085348   .0655635    16.55   0.000     .9568455     1.21385\n",
      "------------------------------------------------------------------------------\n",
      "Instruments for differenced equation\n",
      "        GMM-type: L(2/.).lwage L(1/.).married L(2/.).union\n",
      "        Standard: D.exper D.exper2\n",
      "Instruments for level equation\n",
      "        Standard: _cons\n"
     ]
    }
   ],
   "execution_count": 120
  },
  {
   "metadata": {
    "ExecuteTime": {
     "end_time": "2025-03-08T00:46:15.784684Z",
     "start_time": "2025-03-08T00:46:15.656846Z"
    }
   },
   "cell_type": "code",
   "source": [
    "## 手动设置工具变量最多使用的滞后期数\n",
    "%stata xtabond lwage exper exper2, lags(1) pre(married) endogenous(union) maxldep(3) maxlags(3) twostep vce(robust)"
   ],
   "id": "1a49db58c59b9d45",
   "outputs": [
    {
     "name": "stdout",
     "output_type": "stream",
     "text": [
      "\n",
      "Arellano–Bond dynamic panel-data estimation     Number of obs     =      3,270\n",
      "Group variable: nr                              Number of groups  =        545\n",
      "Time variable: year\n",
      "                                                Obs per group:\n",
      "                                                              min =          6\n",
      "                                                              avg =          6\n",
      "                                                              max =          6\n",
      "\n",
      "Number of instruments =     46                  Wald chi2(5)      =     341.01\n",
      "                                                Prob > chi2       =     0.0000\n",
      "Two-step results\n",
      "                                     (Std. err. adjusted for clustering on nr)\n",
      "------------------------------------------------------------------------------\n",
      "             |              WC-robust\n",
      "       lwage | Coefficient  std. err.      z    P>|z|     [95% conf. interval]\n",
      "-------------+----------------------------------------------------------------\n",
      "       lwage |\n",
      "         L1. |    .126051   .0367537     3.43   0.001      .054015    .1980869\n",
      "             |\n",
      "     married |   .0817908   .0380035     2.15   0.031     .0073054    .1562762\n",
      "       union |   .2055507   .0910115     2.26   0.024     .0271713      .38393\n",
      "       exper |   .0617464   .0143044     4.32   0.000     .0337103    .0897825\n",
      "      exper2 |  -.0012091   .0008825    -1.37   0.171    -.0029388    .0005205\n",
      "       _cons |   1.042697   .0676055    15.42   0.000     .9101923    1.175201\n",
      "------------------------------------------------------------------------------\n",
      "Instruments for differenced equation\n",
      "        GMM-type: L(2/4).lwage L(1/3).married L(2/3).union\n",
      "        Standard: D.exper D.exper2\n",
      "Instruments for level equation\n",
      "        Standard: _cons\n"
     ]
    }
   ],
   "execution_count": 121
  },
  {
   "metadata": {},
   "cell_type": "markdown",
   "source": [
    "结果显示，限定工具变量的滞后期数以后，估计效率明显提升，很多变量的统计检验效果从之前的不显著变为显著<br>\n",
    "这反映出了使用$xtabond$命令求解动态面板模型时的一个常见问题，即滞后阶数较高的工具变量往往是弱工具变量。因此，研究者需要进行多次尝试，限定工具变量的滞后阶数，以获得最优效率的系数估计值"
   ],
   "id": "abfdf82d469ed6ee"
  },
  {
   "metadata": {
    "ExecuteTime": {
     "end_time": "2025-03-08T00:54:44.583030Z",
     "start_time": "2025-03-08T00:54:44.355475Z"
    }
   },
   "cell_type": "code",
   "source": [
    "## 检验误差项是否存在自相关\n",
    "stata.run(\n",
    "    \"\"\"\n",
    "    qui xtabond lwage exper exper2, lags(1) pre(married) endogenous(union) maxldep(3) maxlags(3) twostep vce(robust) artests(3)\n",
    "    estat abond\n",
    "    \"\"\"\n",
    ")"
   ],
   "id": "73120ab3983f90df",
   "outputs": [
    {
     "name": "stdout",
     "output_type": "stream",
     "text": [
      "\n",
      ". \n",
      ".     qui xtabond lwage exper exper2, lags(1) pre(married) endogenous(union) maxldep(3) maxlags(3) twostep vce(robust) artests(3)\n",
      "\n",
      ".     estat abond\n",
      "\n",
      "Arellano–Bond test for zero autocorrelation in first-differenced errors\n",
      "H0: No autocorrelation \n",
      "\n",
      "Order         z   Prob > z\n",
      "--------------------------\n",
      "    1   -6.4595     0.0000\n",
      "    2   1.9256      0.0541\n",
      "    3   -.6321      0.5273\n",
      "--------------------------\n",
      "\n",
      ".     \n",
      ". \n"
     ]
    }
   ],
   "execution_count": 122
  },
  {
   "metadata": {},
   "cell_type": "markdown",
   "source": [
    "需要注意的是，使用差分$GMM$法求解动态面板模型的假定是：原始误差项不存在自相关。<br>\n",
    "但是，即便在该假定成立的情况下，一阶差分后的模型误差项依然会存在一阶自相关，但不应存在二阶以上的自相关。"
   ],
   "id": "22719de77b8637b6"
  },
  {
   "metadata": {
    "ExecuteTime": {
     "end_time": "2025-03-08T01:07:23.331981Z",
     "start_time": "2025-03-08T01:07:23.119186Z"
    }
   },
   "cell_type": "code",
   "source": [
    "%%stata\n",
    "// 检验是否所有工具变量都有效\n",
    "qui xtabond lwage exper exper2, lags(1) pre(married) endogenous(union) maxldep(3) maxlags(3) twostep\n",
    "estat sargan"
   ],
   "id": "4f420b3097215346",
   "outputs": [
    {
     "name": "stdout",
     "output_type": "stream",
     "text": [
      "\n",
      ". // 检验是否所有工具变量都有效\n",
      ". qui xtabond lwage exper exper2, lags(1) pre(married) endogenous(union) maxldep(3) maxlags(3) twostep\n",
      "\n",
      ". estat sargan\n",
      "Sargan test of overidentifying restrictions\n",
      "H0: Overidentifying restrictions are valid\n",
      "\n",
      "        chi2(40)     =  49.41392\n",
      "        Prob > chi2  =    0.1462\n",
      "\n",
      ". \n"
     ]
    }
   ],
   "execution_count": 123
  },
  {
   "metadata": {
    "ExecuteTime": {
     "end_time": "2025-03-08T01:09:41.162887Z",
     "start_time": "2025-03-08T01:09:40.999674Z"
    }
   },
   "cell_type": "code",
   "source": [
    "## 使用xtdpdsys命令（系统GMM）\n",
    "%stata xtdpdsys lwage exper exper2, lags(1) pre(married) endogenous(union) maxldep(3) maxlags(3) twostep vce(robust)"
   ],
   "id": "18d8890dfc103586",
   "outputs": [
    {
     "name": "stdout",
     "output_type": "stream",
     "text": [
      "\n",
      "System dynamic panel-data estimation            Number of obs     =      3,815\n",
      "Group variable: nr                              Number of groups  =        545\n",
      "Time variable: year\n",
      "                                                Obs per group:\n",
      "                                                              min =          7\n",
      "                                                              avg =          7\n",
      "                                                              max =          7\n",
      "\n",
      "Number of instruments =     65                  Wald chi2(5)      =     348.35\n",
      "                                                Prob > chi2       =     0.0000\n",
      "Two-step results\n",
      "------------------------------------------------------------------------------\n",
      "             |              WC-robust\n",
      "       lwage | Coefficient  std. err.      z    P>|z|     [95% conf. interval]\n",
      "-------------+----------------------------------------------------------------\n",
      "       lwage |\n",
      "         L1. |   .2324316   .0351004     6.62   0.000      .163636    .3012271\n",
      "             |\n",
      "     married |   .1116266   .0284073     3.93   0.000     .0559494    .1673037\n",
      "       union |   .1570422    .080435     1.95   0.051    -.0006074    .3146918\n",
      "       exper |   .0492499   .0141985     3.47   0.001     .0214215    .0770784\n",
      "      exper2 |  -.0008968    .000909    -0.99   0.324    -.0026783    .0008848\n",
      "       _cons |   .9225495   .0668613    13.80   0.000     .7915037    1.053595\n",
      "------------------------------------------------------------------------------\n",
      "Instruments for differenced equation\n",
      "        GMM-type: L(2/4).lwage L(1/3).married L(2/3).union\n",
      "        Standard: D.exper D.exper2\n",
      "Instruments for level equation\n",
      "        GMM-type: LD.lwage D.married LD.union\n",
      "        Standard: _cons\n"
     ]
    }
   ],
   "execution_count": 125
  },
  {
   "metadata": {
    "ExecuteTime": {
     "end_time": "2025-03-08T01:11:22.576471Z",
     "start_time": "2025-03-08T01:11:22.363067Z"
    }
   },
   "cell_type": "code",
   "source": [
    "## 纳入非时变变量\n",
    "%stata xtdpdsys lwage exper exper2 black hisp educ, lags(1) pre(married) endogenous(union) maxldep(3) maxlags(3) twostep vce(robust)"
   ],
   "id": "81f55f8d013ca505",
   "outputs": [
    {
     "name": "stdout",
     "output_type": "stream",
     "text": [
      "note: black omitted from div() because of collinearity.\n",
      "note: hisp omitted from div() because of collinearity.\n",
      "note: educ omitted from div() because of collinearity.\n",
      "\n",
      "System dynamic panel-data estimation            Number of obs     =      3,815\n",
      "Group variable: nr                              Number of groups  =        545\n",
      "Time variable: year\n",
      "                                                Obs per group:\n",
      "                                                              min =          7\n",
      "                                                              avg =          7\n",
      "                                                              max =          7\n",
      "\n",
      "Number of instruments =     65                  Wald chi2(8)      =     373.15\n",
      "                                                Prob > chi2       =     0.0000\n",
      "Two-step results\n",
      "------------------------------------------------------------------------------\n",
      "             |              WC-robust\n",
      "       lwage | Coefficient  std. err.      z    P>|z|     [95% conf. interval]\n",
      "-------------+----------------------------------------------------------------\n",
      "       lwage |\n",
      "         L1. |   .2083363   .0340778     6.11   0.000      .141545    .2751276\n",
      "             |\n",
      "     married |   .0591983   .0292133     2.03   0.043     .0019413    .1164553\n",
      "       union |   .1148674   .0784187     1.46   0.143    -.0388306    .2685653\n",
      "       exper |   .0606675   .0142461     4.26   0.000     .0327456    .0885894\n",
      "      exper2 |  -.0014246   .0008918    -1.60   0.110    -.0031725    .0003234\n",
      "       black |  -.5825586   .3609002    -1.61   0.106     -1.28991    .1247929\n",
      "        hisp |  -.1315547   .2713542    -0.48   0.628    -.6633991    .4002897\n",
      "        educ |   .1357544   .0898773     1.51   0.131    -.0404018    .3119106\n",
      "       _cons |  -.5557442   1.073011    -0.52   0.605    -2.658807    1.547318\n",
      "------------------------------------------------------------------------------\n",
      "Instruments for differenced equation\n",
      "        GMM-type: L(2/4).lwage L(1/3).married L(2/3).union\n",
      "        Standard: D.exper D.exper2\n",
      "Instruments for level equation\n",
      "        GMM-type: LD.lwage D.married LD.union\n",
      "        Standard: _cons\n"
     ]
    }
   ],
   "execution_count": 126
  },
  {
   "metadata": {},
   "cell_type": "markdown",
   "source": "系统$GMM$法在估计时结合了水平方程，所以可以估计非时变变量的回归系数",
   "id": "20b495e553e4c8bb"
  },
  {
   "metadata": {
    "ExecuteTime": {
     "end_time": "2025-03-08T01:17:02.298748Z",
     "start_time": "2025-03-08T01:17:02.037928Z"
    }
   },
   "cell_type": "code",
   "source": [
    "%%stata\n",
    "// 检验误差项是否存在自相关\n",
    "qui xtdpdsys lwage exper exper2, lags(1) pre(married) endogenous(union) maxldep(3) maxlags(3) twostep vce(robust) artests(3)\n",
    "estat abond"
   ],
   "id": "2c0e444247bcbc87",
   "outputs": [
    {
     "name": "stdout",
     "output_type": "stream",
     "text": [
      "\n",
      ". // 检验误差项是否存在自相关\n",
      ". qui xtdpdsys lwage exper exper2, lags(1) pre(married) endogenous(union) maxldep(3) maxlags(3) twostep vce(robust) artests(3)\n",
      "\n",
      ". estat abond\n",
      "\n",
      "Arellano–Bond test for zero autocorrelation in first-differenced errors\n",
      "H0: No autocorrelation \n",
      "\n",
      "Order         z   Prob > z\n",
      "--------------------------\n",
      "    1   -6.9591     0.0000\n",
      "    2   2.693       0.0071\n",
      "    3   -.38028     0.7037\n",
      "--------------------------\n",
      "\n",
      ". \n"
     ]
    }
   ],
   "execution_count": 127
  },
  {
   "metadata": {},
   "cell_type": "markdown",
   "source": "二阶及以上的自相关显著不为0，则说明需要拒绝误差项无自相关的假定。因此，上述系统$GMM$的求解结果很值得怀疑",
   "id": "553296c2734e6b58"
  },
  {
   "metadata": {
    "ExecuteTime": {
     "end_time": "2025-03-08T01:21:28.014643Z",
     "start_time": "2025-03-08T01:21:27.840423Z"
    }
   },
   "cell_type": "code",
   "source": [
    "%%stata\n",
    "//检验是否所有工具变量都有效\n",
    "qui xtdpdsys lwage exper exper2, lags(1) pre(married) endogenous(union) maxldep(3) maxlags(3) twostep\n",
    "estat sargan"
   ],
   "id": "72aead0701ffb6a5",
   "outputs": [
    {
     "name": "stdout",
     "output_type": "stream",
     "text": [
      "\n",
      ". //检验是否所有工具变量都有效\n",
      ". qui xtdpdsys lwage exper exper2, lags(1) pre(married) endogenous(union) maxldep(3) maxlags(3) twostep\n",
      "\n",
      ". estat sargan\n",
      "Sargan test of overidentifying restrictions\n",
      "H0: Overidentifying restrictions are valid\n",
      "\n",
      "        chi2(59)     =   89.6082\n",
      "        Prob > chi2  =    0.0062\n",
      "\n",
      ". \n"
     ]
    }
   ],
   "execution_count": 128
  },
  {
   "metadata": {},
   "cell_type": "markdown",
   "source": "结合之前对误差项无自相关得检验结果，上述系统$GMM$法得估计结果并不可信。在这种情况下，我们需要修改模型设置",
   "id": "6122dc500bc97dd"
  },
  {
   "metadata": {
    "ExecuteTime": {
     "end_time": "2025-03-08T01:26:57.582104Z",
     "start_time": "2025-03-08T01:26:57.357731Z"
    }
   },
   "cell_type": "code",
   "source": [
    "%%stata\n",
    "## 模型修正\n",
    "qui xtdpdsys lwage exper exper2, lags(2) pre(married) endogenous(union) maxldep(3) maxlags(3) twostep vce(robust) artests(3)\n",
    "estat abond\n",
    "\n",
    "qui xtdpdsys lwage exper exper2, lags(2) pre(married) endogenous(union) maxldep(3) maxlags(3) twostep\n",
    "estat sargan"
   ],
   "id": "7954c7183fec2d78",
   "outputs": [
    {
     "name": "stdout",
     "output_type": "stream",
     "text": [
      "\n",
      ". ## 模型修正\n",
      "Unknown #command\n",
      ". qui xtdpdsys lwage exper exper2, lags(2) pre(married) endogenous(union) maxldep(3) maxlags(3) twostep vce(robust) artests(3)\n",
      "\n",
      ". estat abond\n",
      "\n",
      "Arellano–Bond test for zero autocorrelation in first-differenced errors\n",
      "H0: No autocorrelation \n",
      "\n",
      "Order         z   Prob > z\n",
      "--------------------------\n",
      "    1   -5.8335     0.0000\n",
      "    2   -.33194     0.7399\n",
      "    3   .81621      0.4144\n",
      "--------------------------\n",
      "\n",
      ". \n",
      ". qui xtdpdsys lwage exper exper2, lags(2) pre(married) endogenous(union) maxldep(3) maxlags(3) twostep\n",
      "\n",
      ". estat sargan\n",
      "Sargan test of overidentifying restrictions\n",
      "H0: Overidentifying restrictions are valid\n",
      "\n",
      "        chi2(53)     =  64.75773\n",
      "        Prob > chi2  =    0.1291\n",
      "\n",
      ". \n"
     ]
    }
   ],
   "execution_count": 131
  },
  {
   "metadata": {
    "collapsed": true,
    "ExecuteTime": {
     "end_time": "2025-03-08T01:29:55.080836Z",
     "start_time": "2025-03-08T01:29:54.936864Z"
    },
    "tags": [
     "stata"
    ]
   },
   "cell_type": "code",
   "source": [
    "## 最终求解的模型\n",
    "%stata xtdpdsys lwage exper exper2, lags(2) pre(married) endogenous(union) maxldep(3) maxlags(3) twostep vce(robust)"
   ],
   "id": "initial_id",
   "outputs": [
    {
     "name": "stdout",
     "output_type": "stream",
     "text": [
      "\n",
      "System dynamic panel-data estimation            Number of obs     =      3,270\n",
      "Group variable: nr                              Number of groups  =        545\n",
      "Time variable: year\n",
      "                                                Obs per group:\n",
      "                                                              min =          6\n",
      "                                                              avg =          6\n",
      "                                                              max =          6\n",
      "\n",
      "Number of instruments =     60                  Wald chi2(6)      =     375.18\n",
      "                                                Prob > chi2       =     0.0000\n",
      "Two-step results\n",
      "------------------------------------------------------------------------------\n",
      "             |              WC-robust\n",
      "       lwage | Coefficient  std. err.      z    P>|z|     [95% conf. interval]\n",
      "-------------+----------------------------------------------------------------\n",
      "       lwage |\n",
      "         L1. |   .3269879   .0428237     7.64   0.000     .2430551    .4109208\n",
      "         L2. |   .1285275   .0266445     4.82   0.000     .0763053    .1807497\n",
      "             |\n",
      "     married |   .1461174   .0283392     5.16   0.000     .0905736    .2016612\n",
      "       union |   .1628679    .079725     2.04   0.041     .0066098    .3191261\n",
      "       exper |   .0392171   .0177895     2.20   0.027     .0043502     .074084\n",
      "      exper2 |  -.0008734   .0010521    -0.83   0.406    -.0029355    .0011887\n",
      "       _cons |   .6147707   .0939259     6.55   0.000     .4306794     .798862\n",
      "------------------------------------------------------------------------------\n",
      "Instruments for differenced equation\n",
      "        GMM-type: L(2/4).lwage L(1/3).married L(2/3).union\n",
      "        Standard: D.exper D.exper2\n",
      "Instruments for level equation\n",
      "        GMM-type: LD.lwage D.married LD.union\n",
      "        Standard: _cons\n"
     ]
    }
   ],
   "execution_count": 133
  }
 ],
 "metadata": {
  "kernelspec": {
   "display_name": "Python 3",
   "language": "python",
   "name": "python3"
  },
  "language_info": {
   "codemirror_mode": {
    "name": "ipython",
    "version": 2
   },
   "file_extension": ".py",
   "mimetype": "text/x-python",
   "name": "python",
   "nbconvert_exporter": "python",
   "pygments_lexer": "ipython2",
   "version": "2.7.6"
  }
 },
 "nbformat": 4,
 "nbformat_minor": 5
}
