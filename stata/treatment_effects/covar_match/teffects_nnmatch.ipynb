{
 "cells": [
  {
   "metadata": {
    "ExecuteTime": {
     "end_time": "2025-03-01T18:31:31.992007Z",
     "start_time": "2025-03-01T18:31:31.987972Z"
    }
   },
   "cell_type": "code",
   "source": [
    "import os\n",
    "import pandas as pd\n",
    "import stata_setup\n",
    "from numpy import percentile\n",
    "from tensorboard.notebook import display\n",
    "\n",
    "## 设置pystata目录\n",
    "stata_setup.config(os.getenv(\"STATA_SYSDIR\"), 'mp')"
   ],
   "id": "5283c256fa0af6a0",
   "outputs": [],
   "execution_count": 146
  },
  {
   "metadata": {
    "ExecuteTime": {
     "end_time": "2025-03-01T15:44:34.455381Z",
     "start_time": "2025-03-01T15:44:34.389329Z"
    }
   },
   "cell_type": "code",
   "source": [
    "%%stata\n",
    "use \"cfps2010.dta\", clear\n",
    "describe"
   ],
   "id": "58e9e27cbf90fad1",
   "outputs": [
    {
     "name": "stdout",
     "output_type": "stream",
     "text": [
      "\n",
      ". \n",
      ". use \"cfps2010.dta\", clear\n",
      "\n",
      ". describe\n",
      "\n",
      "Contains data from cfps2010.dta\n",
      " Observations:         4,137                  \n",
      "    Variables:            12                  5 Aug 2022 19:25\n",
      "-------------------------------------------------------------------------------\n",
      "Variable      Storage   Display    Value\n",
      "    name         type    format    label      Variable label\n",
      "-------------------------------------------------------------------------------\n",
      "pid             double  %12.0g     pid        个人id\n",
      "provcd          double  %24.0g     provcd     省国标码\n",
      "gender          double  %12.0g     gender     性别\n",
      "age             float   %9.0g                 年龄\n",
      "age2            float   %9.0g                 年龄平方\n",
      "age3            float   %9.0g                 年龄三次方\n",
      "lninc           float   %9.0g                 收入对数\n",
      "college         double  %9.0g      yesorno    是否上大学\n",
      "hukou           double  %12.0g     hukou      3岁时户口性质\n",
      "sibling         float   %9.0g      yesorno    是否独生子女\n",
      "race            double  %9.0g      yesorno    是否汉族\n",
      "fmedu           float   %9.0g      fmedu      父母是否上过高中\n",
      "-------------------------------------------------------------------------------\n",
      "Sorted by: \n",
      "\n",
      ". \n"
     ]
    }
   ],
   "execution_count": 35
  },
  {
   "metadata": {
    "ExecuteTime": {
     "end_time": "2025-03-01T18:31:57.223521Z",
     "start_time": "2025-03-01T18:31:57.200016Z"
    }
   },
   "cell_type": "code",
   "source": [
    "from sfi import Data\n",
    "\n",
    "college = Data.get(var='college')\n",
    "pd.DataFrame(college).value_counts()"
   ],
   "id": "5849c21e5345a255",
   "outputs": [
    {
     "data": {
      "text/plain": [
       "0.0    2494\n",
       "1.0    1643\n",
       "dtype: int64"
      ]
     },
     "execution_count": 149,
     "metadata": {},
     "output_type": "execute_result"
    }
   ],
   "execution_count": 149
  },
  {
   "metadata": {
    "ExecuteTime": {
     "end_time": "2025-03-01T17:02:56.517153Z",
     "start_time": "2025-03-01T17:02:56.487885Z"
    }
   },
   "cell_type": "code",
   "source": [
    "from pystata import stata\n",
    "\n",
    "cfps = stata.pdataframe_from_data()\n",
    "print(cfps.shape)\n",
    "cfps.head()"
   ],
   "id": "a9a73b29cdd35304",
   "outputs": [
    {
     "name": "stdout",
     "output_type": "stream",
     "text": [
      "(4137, 12)\n"
     ]
    },
    {
     "data": {
      "text/plain": [
       "           pid  provcd  gender   age    age2      age3      lninc  college  \\\n",
       "0  110003101.0    11.0     1.0  39.0  1521.0   59319.0  11.512925      0.0   \n",
       "1  110005102.0    11.0     1.0  48.0  2304.0  110592.0   9.392662      0.0   \n",
       "2  110006101.0    11.0     1.0  50.0  2500.0  125000.0  10.308952      0.0   \n",
       "3  110009102.0    11.0     1.0  53.0  2809.0  148877.0   9.392662      0.0   \n",
       "4  110009105.0    11.0     1.0  26.0   676.0   17576.0   8.699514      1.0   \n",
       "\n",
       "   hukou  sibling  race  fmedu  \n",
       "0    0.0      0.0   1.0    2.0  \n",
       "1    1.0      0.0   1.0    0.0  \n",
       "2    0.0      0.0   1.0    2.0  \n",
       "3    1.0      0.0   1.0    0.0  \n",
       "4    1.0      1.0   1.0    1.0  "
      ],
      "text/html": [
       "<div>\n",
       "<style scoped>\n",
       "    .dataframe tbody tr th:only-of-type {\n",
       "        vertical-align: middle;\n",
       "    }\n",
       "\n",
       "    .dataframe tbody tr th {\n",
       "        vertical-align: top;\n",
       "    }\n",
       "\n",
       "    .dataframe thead th {\n",
       "        text-align: right;\n",
       "    }\n",
       "</style>\n",
       "<table border=\"1\" class=\"dataframe\">\n",
       "  <thead>\n",
       "    <tr style=\"text-align: right;\">\n",
       "      <th></th>\n",
       "      <th>pid</th>\n",
       "      <th>provcd</th>\n",
       "      <th>gender</th>\n",
       "      <th>age</th>\n",
       "      <th>age2</th>\n",
       "      <th>age3</th>\n",
       "      <th>lninc</th>\n",
       "      <th>college</th>\n",
       "      <th>hukou</th>\n",
       "      <th>sibling</th>\n",
       "      <th>race</th>\n",
       "      <th>fmedu</th>\n",
       "    </tr>\n",
       "  </thead>\n",
       "  <tbody>\n",
       "    <tr>\n",
       "      <th>0</th>\n",
       "      <td>110003101.0</td>\n",
       "      <td>11.0</td>\n",
       "      <td>1.0</td>\n",
       "      <td>39.0</td>\n",
       "      <td>1521.0</td>\n",
       "      <td>59319.0</td>\n",
       "      <td>11.512925</td>\n",
       "      <td>0.0</td>\n",
       "      <td>0.0</td>\n",
       "      <td>0.0</td>\n",
       "      <td>1.0</td>\n",
       "      <td>2.0</td>\n",
       "    </tr>\n",
       "    <tr>\n",
       "      <th>1</th>\n",
       "      <td>110005102.0</td>\n",
       "      <td>11.0</td>\n",
       "      <td>1.0</td>\n",
       "      <td>48.0</td>\n",
       "      <td>2304.0</td>\n",
       "      <td>110592.0</td>\n",
       "      <td>9.392662</td>\n",
       "      <td>0.0</td>\n",
       "      <td>1.0</td>\n",
       "      <td>0.0</td>\n",
       "      <td>1.0</td>\n",
       "      <td>0.0</td>\n",
       "    </tr>\n",
       "    <tr>\n",
       "      <th>2</th>\n",
       "      <td>110006101.0</td>\n",
       "      <td>11.0</td>\n",
       "      <td>1.0</td>\n",
       "      <td>50.0</td>\n",
       "      <td>2500.0</td>\n",
       "      <td>125000.0</td>\n",
       "      <td>10.308952</td>\n",
       "      <td>0.0</td>\n",
       "      <td>0.0</td>\n",
       "      <td>0.0</td>\n",
       "      <td>1.0</td>\n",
       "      <td>2.0</td>\n",
       "    </tr>\n",
       "    <tr>\n",
       "      <th>3</th>\n",
       "      <td>110009102.0</td>\n",
       "      <td>11.0</td>\n",
       "      <td>1.0</td>\n",
       "      <td>53.0</td>\n",
       "      <td>2809.0</td>\n",
       "      <td>148877.0</td>\n",
       "      <td>9.392662</td>\n",
       "      <td>0.0</td>\n",
       "      <td>1.0</td>\n",
       "      <td>0.0</td>\n",
       "      <td>1.0</td>\n",
       "      <td>0.0</td>\n",
       "    </tr>\n",
       "    <tr>\n",
       "      <th>4</th>\n",
       "      <td>110009105.0</td>\n",
       "      <td>11.0</td>\n",
       "      <td>1.0</td>\n",
       "      <td>26.0</td>\n",
       "      <td>676.0</td>\n",
       "      <td>17576.0</td>\n",
       "      <td>8.699514</td>\n",
       "      <td>1.0</td>\n",
       "      <td>1.0</td>\n",
       "      <td>1.0</td>\n",
       "      <td>1.0</td>\n",
       "      <td>1.0</td>\n",
       "    </tr>\n",
       "  </tbody>\n",
       "</table>\n",
       "</div>"
      ]
     },
     "execution_count": 110,
     "metadata": {},
     "output_type": "execute_result"
    }
   ],
   "execution_count": 110
  },
  {
   "metadata": {
    "ExecuteTime": {
     "end_time": "2025-03-01T16:25:34.465852Z",
     "start_time": "2025-03-01T16:25:34.349798Z"
    }
   },
   "cell_type": "code",
   "source": [
    "%%stata\n",
    "## 使用线性回归，不控制任何变量\n",
    "reg lninc college, vce(cluster provcd)"
   ],
   "id": "26813e1b95d2d45e",
   "outputs": [
    {
     "name": "stdout",
     "output_type": "stream",
     "text": [
      "\n",
      ". ## 使用线性回归，不控制任何变量\n",
      "Unknown #command\n",
      ". reg lninc college, vce(cluster provcd)\n",
      "\n",
      "Linear regression                               Number of obs     =      4,137\n",
      "                                                F(1, 24)          =     271.17\n",
      "                                                Prob > F          =     0.0000\n",
      "                                                R-squared         =     0.1095\n",
      "                                                Root MSE          =     1.1498\n",
      "\n",
      "                                (Std. err. adjusted for 25 clusters in provcd)\n",
      "------------------------------------------------------------------------------\n",
      "             |               Robust\n",
      "       lninc | Coefficient  std. err.      t    P>|t|     [95% conf. interval]\n",
      "-------------+----------------------------------------------------------------\n",
      "     college |    .823612   .0500155    16.47   0.000     .7203851     .926839\n",
      "       _cons |   9.353189   .1084703    86.23   0.000     9.129317    9.577061\n",
      "------------------------------------------------------------------------------\n",
      "\n",
      ". \n"
     ]
    }
   ],
   "execution_count": 72
  },
  {
   "metadata": {
    "ExecuteTime": {
     "end_time": "2025-03-01T17:03:29.059296Z",
     "start_time": "2025-03-01T17:03:29.040200Z"
    }
   },
   "cell_type": "code",
   "source": [
    "## 查其他协变量在匹配上的不平衡程度\n",
    "cfps[['college', 'hukou', 'sibling','fmedu']].groupby('college').mean().unstack(level=1)"
   ],
   "id": "a581b91008d3392",
   "outputs": [
    {
     "data": {
      "text/plain": [
       "         college\n",
       "hukou    0.0        0.360866\n",
       "         1.0        0.478393\n",
       "sibling  0.0        0.097835\n",
       "         1.0        0.230676\n",
       "fmedu    0.0        0.650361\n",
       "         1.0        0.669507\n",
       "dtype: float64"
      ]
     },
     "execution_count": 111,
     "metadata": {},
     "output_type": "execute_result"
    }
   ],
   "execution_count": 111
  },
  {
   "metadata": {
    "ExecuteTime": {
     "end_time": "2025-03-01T17:11:30.534234Z",
     "start_time": "2025-03-01T17:11:23.143926Z"
    }
   },
   "cell_type": "code",
   "source": [
    "## 精确匹配（协变量是户口）， ate 减少了\n",
    "stata.run('teffects nnmatch (lninc) (college), ate ematch(hukou) nneighbor(1) level(95)')"
   ],
   "id": "f3ac0b2e2bdd8803",
   "outputs": [
    {
     "name": "stdout",
     "output_type": "stream",
     "text": [
      "\n",
      "Treatment-effects estimation                   Number of obs      =      4,137\n",
      "Estimator      : nearest-neighbor matching     Matches: requested =          1\n",
      "Outcome model  : matching                                     min =        786\n",
      "Distance metric: Mahalanobis                                  max =       1594\n",
      "------------------------------------------------------------------------------\n",
      "             |              AI robust\n",
      "       lninc | Coefficient  std. err.      z    P>|z|     [95% conf. interval]\n",
      "-------------+----------------------------------------------------------------\n",
      "ATE          |\n",
      "     college |\n",
      " (是 vs 否)  |   .8021249   .0337823    23.74   0.000     .7359127     .868337\n",
      "------------------------------------------------------------------------------\n"
     ]
    }
   ],
   "execution_count": 113
  },
  {
   "metadata": {
    "ExecuteTime": {
     "end_time": "2025-03-01T17:32:00.119363Z",
     "start_time": "2025-03-01T17:32:00.015488Z"
    }
   },
   "cell_type": "code",
   "source": [
    "## 增加协变量 ematch(hukou age gender race sibling fmedu), 连续性变量 age 会导致一些个案找不到匹配个案\n",
    "stata.run('teffects nnmatch (lninc) (college), ematch(hukou age gender race sibling fmedu) osample(unmathch)')\n",
    "stata.run('tab unmathch')"
   ],
   "id": "a0b000df73434598",
   "outputs": [
    {
     "name": "stdout",
     "output_type": "stream",
     "text": [
      "\n",
      "    overlap |\n",
      "  violation |\n",
      "  indicator |      Freq.     Percent        Cum.\n",
      "------------+-----------------------------------\n",
      "          0 |      3,544       85.67       85.67\n",
      "          1 |        593       14.33      100.00\n",
      "------------+-----------------------------------\n",
      "      Total |      4,137      100.00\n"
     ]
    },
    {
     "name": "stderr",
     "output_type": "stream",
     "text": [
      "Exception in thread Stata:\n",
      "Traceback (most recent call last):\n",
      "  File \"D:\\ProgramData\\anaconda3\\envs\\pystata\\lib\\threading.py\", line 926, in _bootstrap_inner\n",
      "    self.run()\n",
      "  File \"D:\\ProgramData\\stata17\\utilities\\pystata\\core\\stout.py\", line 169, in run\n",
      "    raise SystemError(output)\n",
      "SystemError: invalid osample(newvarname) specification; variable unmathch already exists\n",
      "r(110);\n",
      "\n",
      "\n"
     ]
    }
   ],
   "execution_count": 122
  },
  {
   "metadata": {
    "ExecuteTime": {
     "end_time": "2025-03-01T17:52:54.339065Z",
     "start_time": "2025-03-01T17:52:53.999545Z"
    }
   },
   "cell_type": "code",
   "source": [
    "## 精确匹配易遭到维度匹配，导致匹配后的样本量大下降。为了避免损失过多样本，尝试对 age、race和siblling 实施马氏匹配，其他变量依然采用精确匹配\n",
    "stata.run('teffects nnmatch (lninc age race sibling) (college), ematch(hukou gender fmedu)')"
   ],
   "id": "f69580df94ddae78",
   "outputs": [
    {
     "name": "stdout",
     "output_type": "stream",
     "text": [
      "\n",
      "Treatment-effects estimation                   Number of obs      =      4,137\n",
      "Estimator      : nearest-neighbor matching     Matches: requested =          1\n",
      "Outcome model  : matching                                     min =          1\n",
      "Distance metric: Mahalanobis                                  max =         50\n",
      "------------------------------------------------------------------------------\n",
      "             |              AI robust\n",
      "       lninc | Coefficient  std. err.      z    P>|z|     [95% conf. interval]\n",
      "-------------+----------------------------------------------------------------\n",
      "ATE          |\n",
      "     college |\n",
      " (是 vs 否)  |   .7699847    .041446    18.58   0.000     .6887521    .8512174\n",
      "------------------------------------------------------------------------------\n"
     ]
    }
   ],
   "execution_count": 125
  },
  {
   "metadata": {
    "ExecuteTime": {
     "end_time": "2025-03-01T17:56:58.923526Z",
     "start_time": "2025-03-01T17:56:58.683219Z"
    }
   },
   "cell_type": "code",
   "source": [
    "## 将马氏匹配默认的 1对1匹配 换成 1对4匹配，同时使用 1对4 的稳健标准误\n",
    "stata.run('teffects nnmatch (lninc age race sibling) (college), ematch(hukou gender fmedu) nneighbor(4) vce(robust, nn(4))')"
   ],
   "id": "2bb73b9dd3449995",
   "outputs": [
    {
     "name": "stdout",
     "output_type": "stream",
     "text": [
      "\n",
      "Treatment-effects estimation                   Number of obs      =      4,137\n",
      "Estimator      : nearest-neighbor matching     Matches: requested =          4\n",
      "Outcome model  : matching                                     min =          4\n",
      "Distance metric: Mahalanobis                                  max =         50\n",
      "------------------------------------------------------------------------------\n",
      "             |              AI robust\n",
      "       lninc | Coefficient  std. err.      z    P>|z|     [95% conf. interval]\n",
      "-------------+----------------------------------------------------------------\n",
      "ATE          |\n",
      "     college |\n",
      " (是 vs 否)  |   .7936157   .0392848    20.20   0.000     .7166189    .8706125\n",
      "------------------------------------------------------------------------------\n"
     ]
    }
   ],
   "execution_count": 126
  },
  {
   "metadata": {
    "ExecuteTime": {
     "end_time": "2025-03-01T18:10:03.696732Z",
     "start_time": "2025-03-01T18:10:03.450457Z"
    }
   },
   "cell_type": "code",
   "source": [
    "## 使用偏差估计校正协变量差异\n",
    "stata.run('teffects nnmatch (lninc age race sibling) (college), ematch(hukou gender fmedu) nneighbor(4) vce(robust, nn(4)) \\\n",
    "          biasadj(age race sibling)')"
   ],
   "id": "d9eb8457ca434424",
   "outputs": [
    {
     "name": "stdout",
     "output_type": "stream",
     "text": [
      "\n",
      "Treatment-effects estimation                   Number of obs      =      4,137\n",
      "Estimator      : nearest-neighbor matching     Matches: requested =          4\n",
      "Outcome model  : matching                                     min =          4\n",
      "Distance metric: Mahalanobis                                  max =         50\n",
      "------------------------------------------------------------------------------\n",
      "             |              AI robust\n",
      "       lninc | Coefficient  std. err.      z    P>|z|     [95% conf. interval]\n",
      "-------------+----------------------------------------------------------------\n",
      "ATE          |\n",
      "     college |\n",
      " (是 vs 否)  |   .7949957   .0392914    20.23   0.000      .717986    .8720054\n",
      "------------------------------------------------------------------------------\n"
     ]
    }
   ],
   "execution_count": 129
  },
  {
   "metadata": {
    "ExecuteTime": {
     "end_time": "2025-03-01T18:11:31.099514Z",
     "start_time": "2025-03-01T18:11:30.864508Z"
    }
   },
   "cell_type": "code",
   "source": [
    "stata.run('teffects nnmatch (lninc age race sibling) (college), ematch(hukou gender fmedu) nneighbor(4) vce(robust, nn(4)) \\\n",
    "          biasadj(age race sibling) atet')"
   ],
   "id": "25922090a5d231d3",
   "outputs": [
    {
     "name": "stdout",
     "output_type": "stream",
     "text": [
      "\n",
      "Treatment-effects estimation                   Number of obs      =      4,137\n",
      "Estimator      : nearest-neighbor matching     Matches: requested =          4\n",
      "Outcome model  : matching                                     min =          4\n",
      "Distance metric: Mahalanobis                                  max =         50\n",
      "------------------------------------------------------------------------------\n",
      "             |              AI robust\n",
      "       lninc | Coefficient  std. err.      z    P>|z|     [95% conf. interval]\n",
      "-------------+----------------------------------------------------------------\n",
      "ATET         |\n",
      "     college |\n",
      " (是 vs 否)  |   .6993424   .0475923    14.69   0.000     .6060633    .7926215\n",
      "------------------------------------------------------------------------------\n"
     ]
    }
   ],
   "execution_count": 135
  },
  {
   "metadata": {
    "ExecuteTime": {
     "end_time": "2025-03-01T18:19:33.005714Z",
     "start_time": "2025-03-01T18:19:32.858846Z"
    }
   },
   "cell_type": "code",
   "source": [
    "## 计算 干预组和控制组在所有协变量上的不平衡性\n",
    "%stata imb hukou age gender race sibling fmedu, treatment(college)"
   ],
   "id": "d66ca167ece09496",
   "outputs": [
    {
     "name": "stdout",
     "output_type": "stream",
     "text": [
      "(using the scott break method for L1 distance)\n",
      "\n",
      "Multivariate L1 distance: .42932057\n",
      "\n",
      "Univariate imbalance:\n",
      "\n",
      "              L1     mean      min      25%      50%      75%      max\n",
      "  hukou   .11753   .11753        0        0        0        0        0\n",
      "    age   .32978  -6.5436        0       -6       -9       -9        0\n",
      " gender   .04055  -.04055        0        0        0        0        0\n",
      "   race   .01072  -.01072        0        0        0        0        0\n",
      "sibling   .13284   .13284        0        0        0        0        0\n",
      "  fmedu   .22349   .01915        0        0        1       -1        0\n"
     ]
    }
   ],
   "execution_count": 139
  },
  {
   "metadata": {
    "ExecuteTime": {
     "end_time": "2025-03-01T18:36:51.913599Z",
     "start_time": "2025-03-01T18:36:51.475289Z"
    }
   },
   "cell_type": "code",
   "source": [
    "%%stata\n",
    "// age 分为等间距的 6 类, fmedu不处理, 其他变量按照算法自动分类\n",
    "cem hukou age (30 35 40 45 50) gender race sibling fmedu(#0), treatment(college)"
   ],
   "id": "a466aca562ead31c",
   "outputs": [
    {
     "name": "stdout",
     "output_type": "stream",
     "text": [
      "\n",
      ". // age 分为6类, fmedu不处理, 其他变量按照算法自动分类\n",
      ". cem hukou age (30 35 40 45 50) gender race sibling fmedu(#0), treatment(colle\n",
      "> ge)\n",
      "(using the scott break method for imbalance)\n",
      "\n",
      "Matching Summary:\n",
      "-----------------\n",
      "Number of strata: 206\n",
      "Number of matched strata: 133\n",
      "\n",
      "              0     1\n",
      "      All  2494  1643\n",
      "  Matched  2409  1583\n",
      "Unmatched    85    60\n",
      "\n",
      "\n",
      "Multivariate L1 distance: .20630897\n",
      "\n",
      "Univariate imbalance:\n",
      "\n",
      "               L1      mean       min       25%       50%       75%       max\n",
      "  hukou   8.3e-16   1.1e-16         0         0         0         0         0\n",
      "    age    .07527    -.1677         0         0         1         0         0\n",
      " gender   1.4e-15   6.7e-16         0         0         0         0         0\n",
      "   race   9.0e-16   1.8e-15         0         0         0         0         0\n",
      "sibling   2.4e-15  -1.9e-16         0         0         0         0         0\n",
      "  fmedu   3.7e-16   2.8e-15         0         0         0         0         0\n",
      "\n",
      ". \n"
     ]
    }
   ],
   "execution_count": 155
  },
  {
   "metadata": {
    "ExecuteTime": {
     "end_time": "2025-03-01T18:38:16.939550Z",
     "start_time": "2025-03-01T18:38:16.471330Z"
    }
   },
   "cell_type": "code",
   "source": [
    "%%stata\n",
    "// age 改为等规模的 6 分类变量\n",
    "cem hukou age (#6) gender race sibling fmedu (#0), treatment(college)"
   ],
   "id": "27cac7289311754d",
   "outputs": [
    {
     "name": "stdout",
     "output_type": "stream",
     "text": [
      "\n",
      ". // age 改为等规模的 6 分类变量\n",
      ". cem hukou age (#6) gender race sibling fmedu (#0), treatment(college)\n",
      "(using the scott break method for imbalance)\n",
      "\n",
      "Matching Summary:\n",
      "-----------------\n",
      "Number of strata: 179\n",
      "Number of matched strata: 118\n",
      "\n",
      "              0     1\n",
      "      All  2494  1643\n",
      "  Matched  2421  1579\n",
      "Unmatched    73    64\n",
      "\n",
      "\n",
      "Multivariate L1 distance: .22223609\n",
      "\n",
      "Univariate imbalance:\n",
      "\n",
      "              L1     mean      min      25%      50%      75%      max\n",
      "  hukou  5.3e-15  4.6e-15        0        0        0        0        0\n",
      "    age   .08636  -.24076        0        0        0        0        0\n",
      " gender  6.0e-15  7.2e-15        0        0        0        0        0\n",
      "   race  1.2e-15  2.1e-15        0        0        0        0        0\n",
      "sibling  4.1e-15  1.7e-15        0        0        0        0        0\n",
      "  fmedu  7.4e-15  5.3e-15        0        0        0        0        0\n",
      "\n",
      ". \n"
     ]
    }
   ],
   "execution_count": 160
  },
  {
   "metadata": {
    "ExecuteTime": {
     "end_time": "2025-03-01T18:53:28.507833Z",
     "start_time": "2025-03-01T18:53:28.099776Z"
    }
   },
   "cell_type": "code",
   "source": [
    "## 使用自动化粗化算法, 损失的样本量更多，但是不平衡指数却比之前两种方法有较大幅度的下降\n",
    "## 这体现了粗化匹配过程的常见现象：排除在外的极端样本越多，匹配样本的平衡性通常月能够得到保证\n",
    "stata.run('cem hukou age gender race sibling fmedu (#0), treatment(college)')"
   ],
   "id": "60a90ebbddb8f0cf",
   "outputs": [
    {
     "name": "stdout",
     "output_type": "stream",
     "text": [
      "(using the scott break method for imbalance)\n",
      "\n",
      "Matching Summary:\n",
      "-----------------\n",
      "Number of strata: 369\n",
      "Number of matched strata: 214\n",
      "\n",
      "              0     1\n",
      "      All  2494  1643\n",
      "  Matched  2330  1523\n",
      "Unmatched   164   120\n",
      "\n",
      "\n",
      "Multivariate L1 distance: .09076546\n",
      "\n",
      "Univariate imbalance:\n",
      "\n",
      "               L1      mean       min       25%       50%       75%       max\n",
      "  hukou   1.1e-15  -6.7e-16         0         0         0         0         0\n",
      "    age    .02518   -.02531         0         0         0         0         0\n",
      " gender   1.8e-15  -2.3e-15         0         0         0         0         0\n",
      "   race   8.7e-18         0         0         0         0         0         0\n",
      "sibling   1.3e-15  -3.1e-16         0         0         0         0         0\n",
      "  fmedu   1.6e-15   1.2e-15         0         0         0         0         0\n"
     ]
    }
   ],
   "execution_count": 165
  },
  {
   "metadata": {
    "ExecuteTime": {
     "end_time": "2025-03-01T18:54:38.580992Z",
     "start_time": "2025-03-01T18:54:38.166148Z"
    }
   },
   "cell_type": "code",
   "source": [
    "## 使用生成的样本权重信息进行线性回归\n",
    "%stata reg lninc college [iw=cem_weights]"
   ],
   "id": "34b5468a3d3e5d47",
   "outputs": [
    {
     "name": "stdout",
     "output_type": "stream",
     "text": [
      "\n",
      "      Source |       SS           df       MS      Number of obs   =     3,852\n",
      "-------------+----------------------------------   F(1, 3850)      =    333.41\n",
      "       Model |  450.866614         1  450.866614   Prob > F        =    0.0000\n",
      "    Residual |  5207.69062     3,850  1.35264691   R-squared       =    0.0797\n",
      "-------------+----------------------------------   Adj R-squared   =    0.0797\n",
      "       Total |  5658.55723     3,851  1.46937347   Root MSE        =    1.1629\n",
      "\n",
      "------------------------------------------------------------------------------\n",
      "       lninc | Coefficient  Std. err.      t    P>|t|     [95% conf. interval]\n",
      "-------------+----------------------------------------------------------------\n",
      "     college |   .6996738   .0383184    18.26   0.000     .6245475    .7748001\n",
      "       _cons |    9.47577   .0240912   393.33   0.000     9.428537    9.523003\n",
      "------------------------------------------------------------------------------\n"
     ]
    }
   ],
   "execution_count": 167
  },
  {
   "metadata": {
    "ExecuteTime": {
     "end_time": "2025-03-01T19:18:05.705296Z",
     "start_time": "2025-03-01T19:18:05.633716Z"
    }
   },
   "cell_type": "code",
   "source": [
    "## 加入协变量后，系数没有发生什么变化，主要是因为：粗化精确匹配已经在很大程度上消除了两组在原始协变量上的不平衡性\n",
    "%stata reg lninc college hukou age gender race sibling i.fmedu [iw=cem_weights]"
   ],
   "id": "951e88829b05908b",
   "outputs": [
    {
     "name": "stdout",
     "output_type": "stream",
     "text": [
      "\n",
      "      Source |       SS           df       MS      Number of obs   =     3,853\n",
      "-------------+----------------------------------   F(8, 3844)      =     59.25\n",
      "       Model |  621.146148         8  77.6432685   Prob > F        =    0.0000\n",
      "    Residual |  5037.41109     3,844  1.31046074   R-squared       =    0.1098\n",
      "-------------+----------------------------------   Adj R-squared   =    0.1079\n",
      "       Total |  5658.55723     3,852  1.46899201   Root MSE        =    1.1448\n",
      "\n",
      "------------------------------------------------------------------------------\n",
      "       lninc | Coefficient  Std. err.      t    P>|t|     [95% conf. interval]\n",
      "-------------+----------------------------------------------------------------\n",
      "     college |    .699765   .0377211    18.55   0.000     .6258097    .7737203\n",
      "       hukou |   .1384669   .0417004     3.32   0.001     .0567099    .2202238\n",
      "         age |   .0036032    .002706     1.33   0.183    -.0017021    .0089086\n",
      "      gender |   .3631285   .0378722     9.59   0.000     .2888771    .4373799\n",
      "        race |   .1562387   .1279194     1.22   0.222    -.0945576    .4070351\n",
      "     sibling |   .1464629   .0537444     2.73   0.006     .0410927    .2518332\n",
      "             |\n",
      "       fmedu |\n",
      "         是  |   .0025106    .043347     0.06   0.954    -.0824748     .087496\n",
      "       缺失  |   .0241171   .0565652     0.43   0.670    -.0867836    .1350179\n",
      "             |\n",
      "       _cons |   8.892506    .162912    54.58   0.000     8.573104    9.211908\n",
      "------------------------------------------------------------------------------\n"
     ]
    }
   ],
   "execution_count": 188
  },
  {
   "metadata": {},
   "cell_type": "raw",
   "source": "练习",
   "id": "ccff9ad76cb5cfc8"
  },
  {
   "metadata": {
    "ExecuteTime": {
     "end_time": "2025-03-01T20:03:30.648615Z",
     "start_time": "2025-03-01T20:03:30.573245Z"
    }
   },
   "cell_type": "code",
   "source": [
    "%%stata\n",
    "use \"birthweight.dta\", clear\n",
    "summarize"
   ],
   "id": "39e755e47d12cb76",
   "outputs": [
    {
     "name": "stdout",
     "output_type": "stream",
     "text": [
      "\n",
      ". use \"birthweight.dta\", clear\n",
      "(Excerpt from Cattaneo (2010) Journal of Econometrics 155: 138-154)\n",
      "\n",
      ". summarize\n",
      "\n",
      "    Variable |        Obs        Mean    Std. dev.       Min        Max\n",
      "-------------+---------------------------------------------------------\n",
      "     bweight |      4,642     3361.68    578.8196        340       5500\n",
      "    mmarried |      4,642    .6996984    .4584385          0          1\n",
      "       mhisp |      4,642    .0340371    .1813439          0          1\n",
      "       fhisp |      4,642     .037053     .188912          0          1\n",
      "     foreign |      4,642    .0534252    .2249042          0          1\n",
      "-------------+---------------------------------------------------------\n",
      "     alcohol |      4,642    .0323137    .1768508          0          1\n",
      "    deadkids |      4,642     .259371    .4383367          0          1\n",
      "        mage |      4,642    26.50452    5.619026         13         45\n",
      "        medu |      4,642    12.68957    2.520661          0         17\n",
      "        fage |      4,642    27.26713    9.354411          0         60\n",
      "-------------+---------------------------------------------------------\n",
      "        fedu |      4,642     12.3072    3.684028          0         17\n",
      "   nprenatal |      4,642    10.75808    3.681084          0         40\n",
      "    monthslb |      4,642    23.07497    32.66704          0        272\n",
      "       order |      4,642    1.892072    1.120506          0         12\n",
      "      msmoke |      4,642    .3996122    .8988632          0          3\n",
      "-------------+---------------------------------------------------------\n",
      "     mbsmoke |      4,642    .1861267    .3892508          0          1\n",
      "       mrace |      4,642     .840586    .3661012          0          1\n",
      "       frace |      4,642    .8136579    .3894244          0          1\n",
      "    prenatal |      4,642    1.201853    .5080401          0          3\n",
      "  birthmonth |      4,642    6.540069    3.359167          1         12\n",
      "-------------+---------------------------------------------------------\n",
      "    lbweight |      4,642    .0603188    .2381022          0          1\n",
      "       fbaby |      4,642    .4379578    .4961893          0          1\n",
      "   prenatal1 |      4,642    .8013787    .3990052          0          1\n",
      "\n",
      ". \n"
     ]
    }
   ],
   "execution_count": 242
  },
  {
   "metadata": {
    "ExecuteTime": {
     "end_time": "2025-03-01T20:03:32.539532Z",
     "start_time": "2025-03-01T20:03:32.469630Z"
    }
   },
   "cell_type": "code",
   "source": "%stata describe bweight mbsmoke mrace",
   "id": "c0ef1a09851c6bf3",
   "outputs": [
    {
     "name": "stdout",
     "output_type": "stream",
     "text": [
      "\n",
      "Variable      Storage   Display    Value\n",
      "    name         type    format    label      Variable label\n",
      "-------------------------------------------------------------------------------\n",
      "bweight         int     %9.0g                 infant birthweight (grams)\n",
      "mbsmoke         byte    %9.0g      mbsmoke    1 if mother smoked\n",
      "mrace           byte    %9.0g                 1 if mother is white\n"
     ]
    }
   ],
   "execution_count": 243
  },
  {
   "metadata": {
    "ExecuteTime": {
     "end_time": "2025-03-01T20:04:52.818584Z",
     "start_time": "2025-03-01T20:03:34.796816Z"
    }
   },
   "cell_type": "code",
   "source": [
    "%%stata\n",
    "// 以mrace为协变量实施精确匹配\n",
    "teffects nnmatch (bweight) (mbsmoke), ematch(mrace)\n",
    "teffects nnmatch (bweight) (mbsmoke), ematch(mrace) atet"
   ],
   "id": "b26e850baa61bb0",
   "outputs": [
    {
     "name": "stdout",
     "output_type": "stream",
     "text": [
      "\n",
      ". // 以mrace为协变量实施精确匹配\n",
      ". teffects nnmatch (bweight) (mbsmoke), ematch(mrace)\n",
      "\n",
      "Treatment-effects estimation                   Number of obs      =      4,642\n",
      "Estimator      : nearest-neighbor matching     Matches: requested =          1\n",
      "Outcome model  : matching                                     min =        165\n",
      "Distance metric: Mahalanobis                                  max =       3203\n",
      "------------------------------------------------------------------------------\n",
      "             |              AI robust\n",
      "     bweight | Coefficient  std. err.      z    P>|z|     [95% conf. interval]\n",
      "-------------+----------------------------------------------------------------\n",
      "ATE          |\n",
      "     mbsmoke |\n",
      "    (smoker  |\n",
      "         vs  |\n",
      " nonsmoker)  |  -266.0654    20.9053   -12.73   0.000     -307.039   -225.0918\n",
      "------------------------------------------------------------------------------\n",
      "\n",
      ". teffects nnmatch (bweight) (mbsmoke), ematch(mrace) atet\n",
      "\n",
      "Treatment-effects estimation                   Number of obs      =      4,642\n",
      "Estimator      : nearest-neighbor matching     Matches: requested =          1\n",
      "Outcome model  : matching                                     min =        165\n",
      "Distance metric: Mahalanobis                                  max =       3203\n",
      "------------------------------------------------------------------------------\n",
      "             |              AI robust\n",
      "     bweight | Coefficient  std. err.      z    P>|z|     [95% conf. interval]\n",
      "-------------+----------------------------------------------------------------\n",
      "ATET         |\n",
      "     mbsmoke |\n",
      "    (smoker  |\n",
      "         vs  |\n",
      " nonsmoker)  |   -262.062   21.11108   -12.41   0.000     -303.439   -220.6851\n",
      "------------------------------------------------------------------------------\n",
      "\n",
      ". \n"
     ]
    }
   ],
   "execution_count": 244
  },
  {
   "metadata": {
    "tags": [
     "stata"
    ],
    "ExecuteTime": {
     "end_time": "2025-03-01T20:04:53.461946Z",
     "start_time": "2025-03-01T20:04:53.212668Z"
    }
   },
   "cell_type": "code",
   "source": [
    "%%stata\n",
    "// 以mage、medu、mrace、nprenatal、mmarried、deadkids、fbaby为协变量实施精确匹配，出现维度诅咒问题\n",
    "teffects nnmatch (bweight) (mbsmoke), ematch(mage medu mrace nprenatal mmarried deadkids fbaby) osample(overlap)"
   ],
   "id": "fa71d04c0d271215",
   "outputs": [
    {
     "name": "stdout",
     "output_type": "stream",
     "text": [
      "\n",
      ". // 以mage、medu、mrace、nprenatal、mmarried、deadkids、fbaby为协变量实施精确\n",
      "> 匹配，出现维度诅咒问题\n",
      ". teffects nnmatch (bweight) (mbsmoke), ematch(mage medu mrace nprenatal mmarri\n",
      "> ed deadkids fbaby) osample(overlap)\n"
     ]
    },
    {
     "name": "stderr",
     "output_type": "stream",
     "text": [
      "Exception in thread Stata:\n",
      "Traceback (most recent call last):\n",
      "  File \"D:\\ProgramData\\anaconda3\\envs\\pystata\\lib\\threading.py\", line 926, in _bootstrap_inner\n",
      "    self.run()\n",
      "  File \"D:\\ProgramData\\stata17\\utilities\\pystata\\core\\stout.py\", line 176, in run\n",
      "    raise SystemError(output)\n",
      "SystemError: 3678 observations have no exact matches; they are identified in the osample()\n",
      "variable\n",
      "r(459);\n",
      "r(459);\n",
      "\n",
      "\n"
     ]
    }
   ],
   "execution_count": 245
  },
  {
   "metadata": {
    "ExecuteTime": {
     "end_time": "2025-03-01T20:24:07.827443Z",
     "start_time": "2025-03-01T20:24:07.750345Z"
    }
   },
   "cell_type": "code",
   "source": [
    "## 3678 observations have no exact matches\n",
    "%stata tab overlap"
   ],
   "id": "df1b839715dbece3",
   "outputs": [
    {
     "name": "stdout",
     "output_type": "stream",
     "text": [
      "\n",
      "    overlap |\n",
      "  violation |\n",
      "  indicator |      Freq.     Percent        Cum.\n",
      "------------+-----------------------------------\n",
      "          0 |        964       20.77       20.77\n",
      "          1 |      3,678       79.23      100.00\n",
      "------------+-----------------------------------\n",
      "      Total |      4,642      100.00\n"
     ]
    }
   ],
   "execution_count": 281
  },
  {
   "metadata": {
    "tags": [
     "stata"
    ],
    "ExecuteTime": {
     "end_time": "2025-03-01T19:46:32.784893Z",
     "start_time": "2025-03-01T19:46:31.752144Z"
    }
   },
   "cell_type": "code",
   "source": [
    "%%stata\n",
    "// 以mage、medu、mrace、nprenatal、mmarried、deadkids、fbaby为协变量实施马氏匹配\n",
    "teffects nnmatch (bweight mage medu mrace nprenatal mmarried deadkids fbaby) (mbsmoke)\n",
    "teffects nnmatch (bweight mage medu mrace nprenatal mmarried deadkids fbaby) (mbsmoke), atet"
   ],
   "id": "3d7648a740bff5d6",
   "outputs": [
    {
     "name": "stdout",
     "output_type": "stream",
     "text": [
      "\n",
      ". // 以mage、medu、mrace、nprenatal、mmarried、deadkids、fbaby为协变量实施马氏\n",
      "> 匹配\n",
      ". teffects nnmatch (bweight mage medu mrace nprenatal mmarried deadkids fbaby) \n",
      "> (mbsmoke)\n",
      "\n",
      "Treatment-effects estimation                   Number of obs      =      4,642\n",
      "Estimator      : nearest-neighbor matching     Matches: requested =          1\n",
      "Outcome model  : matching                                     min =          1\n",
      "Distance metric: Mahalanobis                                  max =         18\n",
      "------------------------------------------------------------------------------\n",
      "             |              AI robust\n",
      "     bweight | Coefficient  std. err.      z    P>|z|     [95% conf. interval]\n",
      "-------------+----------------------------------------------------------------\n",
      "ATE          |\n",
      "     mbsmoke |\n",
      "    (smoker  |\n",
      "         vs  |\n",
      " nonsmoker)  |  -204.7886   28.22883    -7.25   0.000    -260.1161   -149.4611\n",
      "------------------------------------------------------------------------------\n",
      "\n",
      ". teffects nnmatch (bweight mage medu mrace nprenatal mmarried deadkids fbaby) \n",
      "> (mbsmoke), atet\n",
      "\n",
      "Treatment-effects estimation                   Number of obs      =      4,642\n",
      "Estimator      : nearest-neighbor matching     Matches: requested =          1\n",
      "Outcome model  : matching                                     min =          1\n",
      "Distance metric: Mahalanobis                                  max =         18\n",
      "------------------------------------------------------------------------------\n",
      "             |              AI robust\n",
      "     bweight | Coefficient  std. err.      z    P>|z|     [95% conf. interval]\n",
      "-------------+----------------------------------------------------------------\n",
      "ATET         |\n",
      "     mbsmoke |\n",
      "    (smoker  |\n",
      "         vs  |\n",
      " nonsmoker)  |  -193.7453   29.61583    -6.54   0.000    -251.7913   -135.6993\n",
      "------------------------------------------------------------------------------\n",
      "\n",
      ". \n"
     ]
    }
   ],
   "execution_count": 212
  },
  {
   "metadata": {
    "ExecuteTime": {
     "end_time": "2025-03-01T19:51:52.091434Z",
     "start_time": "2025-03-01T19:51:51.360842Z"
    }
   },
   "cell_type": "code",
   "source": [
    "%%stata\n",
    "\n",
    "// 1对4马氏匹配，偏差矫正\n",
    "teffects nnmatch (bweight mage medu mrace nprenatal mmarried deadkids fbaby) (mbsmoke), nneighbor(4) vce(robust, nn(4)) biasadj(mage medu mrace nprenatal mmarried deadkids fbaby)\n",
    "\n",
    "teffects nnmatch (bweight mage medu mrace nprenatal mmarried deadkids fbaby) (mbsmoke), nneighbor(4) vce(robust, nn(4)) biasadj(mage medu mrace nprenatal mmarried deadkids fbaby) atet"
   ],
   "id": "589fbfefcdd68446",
   "outputs": [
    {
     "name": "stdout",
     "output_type": "stream",
     "text": [
      "\n",
      ". \n",
      ". // 1对4马氏匹配，偏差矫正\n",
      ". teffects nnmatch (bweight mage medu mrace nprenatal mmarried deadkids fbaby) \n",
      "> (mbsmoke), nneighbor(4) vce(robust, nn(4)) biasadj(mage medu mrace nprenatal \n",
      "> mmarried deadkids fbaby)\n",
      "\n",
      "Treatment-effects estimation                   Number of obs      =      4,642\n",
      "Estimator      : nearest-neighbor matching     Matches: requested =          4\n",
      "Outcome model  : matching                                     min =          4\n",
      "Distance metric: Mahalanobis                                  max =         19\n",
      "------------------------------------------------------------------------------\n",
      "             |              AI robust\n",
      "     bweight | Coefficient  std. err.      z    P>|z|     [95% conf. interval]\n",
      "-------------+----------------------------------------------------------------\n",
      "ATE          |\n",
      "     mbsmoke |\n",
      "    (smoker  |\n",
      "         vs  |\n",
      " nonsmoker)  |  -209.3193   25.22532    -8.30   0.000      -258.76   -159.8786\n",
      "------------------------------------------------------------------------------\n",
      "\n",
      ". \n",
      ". teffects nnmatch (bweight mage medu mrace nprenatal mmarried deadkids fbaby) \n",
      "> (mbsmoke), nneighbor(4) vce(robust, nn(4)) biasadj(mage medu mrace nprenatal \n",
      "> mmarried deadkids fbaby) atet\n",
      "\n",
      "Treatment-effects estimation                   Number of obs      =      4,642\n",
      "Estimator      : nearest-neighbor matching     Matches: requested =          4\n",
      "Outcome model  : matching                                     min =          4\n",
      "Distance metric: Mahalanobis                                  max =         19\n",
      "------------------------------------------------------------------------------\n",
      "             |              AI robust\n",
      "     bweight | Coefficient  std. err.      z    P>|z|     [95% conf. interval]\n",
      "-------------+----------------------------------------------------------------\n",
      "ATET         |\n",
      "     mbsmoke |\n",
      "    (smoker  |\n",
      "         vs  |\n",
      " nonsmoker)  |  -216.7206   25.42353    -8.52   0.000    -266.5498   -166.8914\n",
      "------------------------------------------------------------------------------\n",
      "\n",
      ". \n"
     ]
    }
   ],
   "execution_count": 217
  },
  {
   "metadata": {
    "ExecuteTime": {
     "end_time": "2025-03-01T19:53:22.439994Z",
     "start_time": "2025-03-01T19:53:21.557843Z"
    }
   },
   "cell_type": "code",
   "source": [
    "%%stata\n",
    "// 计算不平衡指数L1\n",
    "imb mage medu mrace nprenatal mmarried deadkids fbaby, treatment(mbsmoke)"
   ],
   "id": "3171e8a1b7b657db",
   "outputs": [
    {
     "name": "stdout",
     "output_type": "stream",
     "text": [
      "\n",
      ". // 计算不平衡指数L1\n",
      ". imb mage medu mrace nprenatal mmarried deadkids fbaby, treatment(mbsmoke)\n",
      "\n",
      "Multivariate L1 distance: .82423889\n",
      "\n",
      "Univariate imbalance:\n",
      "\n",
      "                L1     mean      min      25%      50%      75%      max\n",
      "     mage   .15622  -1.6438        1       -2       -2       -2       -2\n",
      "     medu   .25757   -1.291        0       -1        0       -3        0\n",
      "    mrace   .03878  -.03878        0        0        0        0        0\n",
      "nprenatal   .13299  -1.1007        0       -1       -1       -1        7\n",
      " mmarried   .27808  -.27808        0       -1       -1        0        0\n",
      " deadkids   .07239   .07239        0        0        0        1        0\n",
      "    fbaby   .08162  -.08162        0        0        0        0        0\n",
      "\n",
      ". \n"
     ]
    }
   ],
   "execution_count": 218
  },
  {
   "metadata": {
    "ExecuteTime": {
     "end_time": "2025-03-01T19:56:16.016311Z",
     "start_time": "2025-03-01T19:56:14.090722Z"
    }
   },
   "cell_type": "code",
   "source": [
    "%%stata\n",
    "// 粗化精确匹配\n",
    "cem mage medu mrace nprenatal mmarried deadkids fbaby, treatment(mbsmoke)\n",
    "cem mage medu (9 12) mrace nprenatal mmarried deadkids fbaby, treatment(mbsmoke)"
   ],
   "id": "8201a0a322f9d4b0",
   "outputs": [
    {
     "name": "stdout",
     "output_type": "stream",
     "text": [
      "\n",
      ". // 粗化精确匹配\n",
      ". cem mage medu mrace nprenatal mmarried deadkids fbaby, treatment(mbsmoke)\n",
      "(using the scott break method for imbalance)\n",
      "\n",
      "Matching Summary:\n",
      "-----------------\n",
      "Number of strata: 1420\n",
      "Number of matched strata: 314\n",
      "\n",
      "              0     1\n",
      "      All  3778   864\n",
      "  Matched  2075   610\n",
      "Unmatched  1703   254\n",
      "\n",
      "\n",
      "Multivariate L1 distance: .69435965\n",
      "\n",
      "Univariate imbalance:\n",
      "\n",
      "                 L1      mean       min       25%       50%       75%\n",
      "     mage    .05551    -.0264         0         0         1         0\n",
      "     medu    .04097   -.04097         0         0         0         0\n",
      "    mrace   1.2e-15  -1.7e-15         0         0         0         0\n",
      "nprenatal    .06863    -.0344         0        -1        -1         0\n",
      " mmarried   3.2e-15  -3.8e-15         0         0         0         0\n",
      " deadkids   1.6e-15  -1.2e-15         0         0         0         0\n",
      "    fbaby   3.2e-15  -1.9e-15         0         0         0         0\n",
      "\n",
      "                max\n",
      "     mage         0\n",
      "     medu         0\n",
      "    mrace         0\n",
      "nprenatal         1\n",
      " mmarried         0\n",
      " deadkids         0\n",
      "    fbaby         0\n",
      "\n",
      ". cem mage medu (9 12) mrace nprenatal mmarried deadkids fbaby, treatment(mbsmo\n",
      "> ke)\n",
      "(using the scott break method for imbalance)\n",
      "\n",
      "Matching Summary:\n",
      "-----------------\n",
      "Number of strata: 1009\n",
      "Number of matched strata: 292\n",
      "\n",
      "              0     1\n",
      "      All  3778   864\n",
      "  Matched  2408   720\n",
      "Unmatched  1370   144\n",
      "\n",
      "\n",
      "Multivariate L1 distance: .71363526\n",
      "\n",
      "Univariate imbalance:\n",
      "\n",
      "                L1     mean      min      25%      50%      75%      max\n",
      "     mage   .05048  -.04205        0        0        0       -1        0\n",
      "     medu   .11487  -.22763        7       -1        0        0        0\n",
      "    mrace  2.3e-15  3.0e-15        0        0        0        0        0\n",
      "nprenatal   .06035  -.00508        0        0        0        0        1\n",
      " mmarried  4.7e-15  4.6e-15        0        0        0        0        0\n",
      " deadkids  3.7e-15  3.1e-15        0        0        0        0        0\n",
      "    fbaby  5.6e-15  6.1e-15        0        0        0        0        0\n",
      "\n",
      ". \n"
     ]
    }
   ],
   "execution_count": 219
  },
  {
   "metadata": {
    "ExecuteTime": {
     "end_time": "2025-03-01T19:58:23.980596Z",
     "start_time": "2025-03-01T19:58:23.905619Z"
    }
   },
   "cell_type": "code",
   "source": "%stata ereturn list",
   "id": "96cd97cb23ce21ec",
   "outputs": [
    {
     "name": "stdout",
     "output_type": "stream",
     "text": [
      "\n",
      "scalars:\n",
      "                  e(N) =  4642\n",
      "                 e(n0) =  3778\n",
      "                 e(n1) =  864\n",
      "            e(treated) =  1\n",
      "            e(control) =  0\n",
      "        e(k_nneighbor) =  4\n",
      "            e(k_nnmin) =  4\n",
      "            e(k_nnmax) =  19\n",
      "           e(k_robust) =  4\n",
      "           e(k_levels) =  2\n",
      "\n",
      "macros:\n",
      "                e(cmd) : \"teffects\"\n",
      "            e(cmdline) : \"teffects nnmatch (bweight mage medu mrace nprenat..\"\n",
      "            e(predict) : \"teffects_p\"\n",
      "          e(estat_cmd) : \"teffects_estat\"\n",
      "       e(marginsnotok) : \"_ALL\"\n",
      "            e(vcetype) : \"AI robust\"\n",
      "                e(vce) : \"robust\"\n",
      "             e(depvar) : \"bweight\"\n",
      "               e(tvar) : \"mbsmoke\"\n",
      "             e(subcmd) : \"nnmatch\"\n",
      "           e(mvarlist) : \"mage medu mrace nprenatal mmarried deadkids fbaby\"\n",
      "          e(bavarlist) : \"mage medu mrace nprenatal mmarried deadkids fbaby\"\n",
      "             e(metric) : \"mahalanobis\"\n",
      "               e(stat) : \"atet\"\n",
      "              e(title) : \"Treatment-effects estimation\"\n",
      "            e(tlevels) : \"0 1\"\n",
      "  e(datasignaturevars) : \"bweight mbsmoke mage medu mrace nprenatal mmarrie..\"\n",
      "      e(datasignature) : \"4642:9:3160262350:2078160702\"\n",
      "         e(properties) : \"b V\"\n",
      "\n",
      "matrices:\n",
      "                  e(b) :  1 x 1\n",
      "                  e(V) :  1 x 1\n",
      "\n",
      "functions:\n",
      "             e(sample)   \n"
     ]
    }
   ],
   "execution_count": 227
  },
  {
   "metadata": {
    "ExecuteTime": {
     "end_time": "2025-03-01T19:59:11.095366Z",
     "start_time": "2025-03-01T19:59:10.983197Z"
    }
   },
   "cell_type": "code",
   "source": [
    "%%stata\n",
    "// 统计分析\n",
    "reg bweight mbsmoke [iw=cem_weights]\n",
    "reg bweight mbsmoke mage medu mrace nprenatal mmarried deadkids fbaby [iw=cem_weights]"
   ],
   "id": "925ee5082f5a6245",
   "outputs": [
    {
     "name": "stdout",
     "output_type": "stream",
     "text": [
      "\n",
      ". // 统计分析\n",
      ". reg bweight mbsmoke [iw=cem_weights]\n",
      "\n",
      "      Source |       SS           df       MS      Number of obs   =     3,128\n",
      "-------------+----------------------------------   F(1, 3126)      =     58.87\n",
      "       Model |  22246846.3         1  22246846.3   Prob > F        =    0.0000\n",
      "    Residual |  1.1813e+09     3,126  377905.029   R-squared       =    0.0185\n",
      "-------------+----------------------------------   Adj R-squared   =    0.0182\n",
      "       Total |  1.2036e+09     3,127  384898.614   Root MSE        =    614.74\n",
      "\n",
      "------------------------------------------------------------------------------\n",
      "     bweight | Coefficient  Std. err.      t    P>|t|     [95% conf. interval]\n",
      "-------------+----------------------------------------------------------------\n",
      "     mbsmoke |  -200.3425    26.1114    -7.67   0.000    -251.5397   -149.1453\n",
      "       _cons |    3363.09   12.52746   268.46   0.000     3338.527    3387.653\n",
      "------------------------------------------------------------------------------\n",
      "\n",
      ". reg bweight mbsmoke mage medu mrace nprenatal mmarried deadkids fbaby [iw=cem\n",
      "> _weights]\n",
      "\n",
      "      Source |       SS           df       MS      Number of obs   =     3,128\n",
      "-------------+----------------------------------   F(8, 3119)      =     70.07\n",
      "       Model |   183349799         8  22918724.9   Prob > F        =    0.0000\n",
      "    Residual |  1.0202e+09     3,119  327101.048   R-squared       =    0.1523\n",
      "-------------+----------------------------------   Adj R-squared   =    0.1502\n",
      "       Total |  1.2036e+09     3,127  384898.614   Root MSE        =    571.93\n",
      "\n",
      "------------------------------------------------------------------------------\n",
      "     bweight | Coefficient  Std. err.      t    P>|t|     [95% conf. interval]\n",
      "-------------+----------------------------------------------------------------\n",
      "     mbsmoke |  -200.1865   24.34069    -8.22   0.000    -247.9119   -152.4611\n",
      "        mage |  -3.709374   2.607788    -1.42   0.155    -8.822529     1.40378\n",
      "        medu |   .4776324   6.867556     0.07   0.945    -12.98776    13.94302\n",
      "       mrace |   340.7217   32.19924    10.58   0.000     277.5879    403.8556\n",
      "   nprenatal |   39.98731   3.130401    12.77   0.000     33.84945    46.12516\n",
      "    mmarried |   33.72387   24.72345     1.36   0.173    -14.75201    82.19975\n",
      "    deadkids |  -56.38404     23.663    -2.38   0.017    -102.7807   -9.987416\n",
      "       fbaby |  -82.39697   23.39169    -3.52   0.000    -128.2616   -36.53231\n",
      "       _cons |   2795.009   83.52882    33.46   0.000     2631.231    2958.786\n",
      "------------------------------------------------------------------------------\n",
      "\n",
      ". \n"
     ]
    }
   ],
   "execution_count": 228
  }
 ],
 "metadata": {
  "kernelspec": {
   "display_name": "Python 3",
   "language": "python",
   "name": "python3"
  },
  "language_info": {
   "codemirror_mode": {
    "name": "ipython",
    "version": 2
   },
   "file_extension": ".py",
   "mimetype": "text/x-python",
   "name": "python",
   "nbconvert_exporter": "python",
   "pygments_lexer": "ipython2",
   "version": "2.7.6"
  }
 },
 "nbformat": 4,
 "nbformat_minor": 5
}
