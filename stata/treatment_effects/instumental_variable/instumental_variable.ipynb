{
 "cells": [
  {
   "cell_type": "code",
   "execution_count": null,
   "id": "initial_id",
   "metadata": {
    "collapsed": true
   },
   "outputs": [],
   "source": [
    "use \"C:\\Users\\XuQi\\Desktop\\simulation.dta\", clear\n",
    "\n",
    "*多元线性回归\n",
    "reg lninc college\n",
    "reg lninc college gender age age2 hukou feduy meduy sibling, robust\n",
    "\n",
    "*假设高考时的运气可观测，可使用其作为工具变量来识别大学对收入的影响\n",
    "corr luck1 luck2 luck3 college\n",
    "\n",
    "*两阶段最小二乘法\n",
    "ivregress 2sls lninc gender age age2 hukou feduy meduy sibling (college=luck1), vce(robust) first\n",
    "ivregress 2sls lninc gender age age2 hukou feduy meduy sibling (college=luck2), vce(robust) first\n",
    "ivregress 2sls lninc gender age age2 hukou feduy meduy sibling (college=luck3), vce(robust) first\n",
    "\n",
    "*同时使用三个工具变量\n",
    "ivregress 2sls lninc gender age age2 hukou feduy meduy sibling (college=luck1 luck2 luck3), vce(robust)\n",
    "\n",
    "*使用广义矩估计法\n",
    "ivregress gmm lninc gender age age2 hukou feduy meduy sibling (college=luck1 luck2 luck3), vce(robust)\n",
    "\n",
    "*使用有限信息最大似然法\n",
    "ivregress liml lninc gender age age2 hukou feduy meduy sibling (college=luck1 luck2 luck3), vce(robust)\n",
    "\n",
    "*弱工具变量检验\n",
    "qui ivregress 2sls lninc gender age age2 hukou feduy meduy sibling (college=luck1), vce(robust)\n",
    "estat firststage, all forcenonrobust\n",
    "\n",
    "qui ivregress 2sls lninc gender age age2 hukou feduy meduy sibling (college=luck2), vce(robust)\n",
    "estat firststage, all forcenonrobust\n",
    "\n",
    "qui ivregress 2sls lninc gender age age2 hukou feduy meduy sibling (college=luck3), vce(robust)\n",
    "estat firststage, all forcenonrobust\n",
    "\n",
    "*过度识别检验\n",
    "qui ivregress 2sls lninc gender age age2 hukou feduy meduy sibling (college=luck1 luck2 luck3), vce(robust)\n",
    "estat overid\n",
    "\n",
    "qui ivregress 2sls lninc gender hukou feduy meduy sibling (college=luck1 luck2 luck3 age age2), robust first\n",
    "estat overid\n",
    "\n",
    "*豪斯曼检验\n",
    "qui ivregress 2sls lninc gender age age2 hukou feduy meduy sibling (college=luck1 luck2 luck3), vce(robust)\n",
    "estat endogenous\n",
    "\n",
    "*使用ivreg2\n",
    "ivreg2 lninc gender age age2 hukou feduy meduy sibling (college=luck1 luck2 luck3), robust\n",
    "ivreg2 lninc gender hukou feduy meduy sibling (college=luck1 luck2 luck3 age age2), robust orthog(age age2)\n",
    "ivreg2 lninc gender age age2 hukou feduy meduy sibling (college=luck1 luck2 luck3), robust redundant(luck3)\n",
    "ivreg2 lninc gender age age2 hukou feduy meduy sibling (college=luck1 luck2 luck3), robust endog(college)\n"
   ]
  }
 ],
 "metadata": {
  "kernelspec": {
   "display_name": "Python 3",
   "language": "python",
   "name": "python3"
  },
  "language_info": {
   "codemirror_mode": {
    "name": "ipython",
    "version": 2
   },
   "file_extension": ".py",
   "mimetype": "text/x-python",
   "name": "python",
   "nbconvert_exporter": "python",
   "pygments_lexer": "ipython2",
   "version": "2.7.6"
  }
 },
 "nbformat": 4,
 "nbformat_minor": 5
}
