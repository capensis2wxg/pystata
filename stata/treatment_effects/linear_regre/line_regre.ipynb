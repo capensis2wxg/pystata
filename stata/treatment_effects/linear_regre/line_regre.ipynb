{
 "cells": [
  {
   "cell_type": "code",
   "id": "initial_id",
   "metadata": {
    "collapsed": true,
    "ExecuteTime": {
     "end_time": "2025-03-01T20:39:08.017220Z",
     "start_time": "2025-03-01T20:39:08.002058Z"
    }
   },
   "source": [
    "import os\n",
    "from pydoc import describe\n",
    "\n",
    "import pandas as pd\n",
    "import numpy as np\n",
    "import stata_setup\n",
    "\n",
    "## 设置pystata目录\n",
    "stata_setup.config(os.getenv(\"STATA_SYSDIR\"), 'mp')"
   ],
   "outputs": [],
   "execution_count": 2
  },
  {
   "metadata": {
    "ExecuteTime": {
     "end_time": "2025-03-01T20:41:19.031315Z",
     "start_time": "2025-03-01T20:41:18.961369Z"
    }
   },
   "cell_type": "code",
   "source": [
    "%%stata\n",
    "\n",
    "use \"cfps2010.dta\", clear\n",
    "// 查看变量\n",
    "describe"
   ],
   "id": "7196361f95fecbe3",
   "outputs": [
    {
     "name": "stdout",
     "output_type": "stream",
     "text": [
      "\n",
      ". \n",
      ". use \"cfps2010.dta\", clear\n",
      "\n",
      ". // 查看变量\n",
      ". describe\n",
      "\n",
      "Contains data from cfps2010.dta\n",
      " Observations:         4,137                  \n",
      "    Variables:            12                  5 Aug 2022 19:25\n",
      "-------------------------------------------------------------------------------\n",
      "Variable      Storage   Display    Value\n",
      "    name         type    format    label      Variable label\n",
      "-------------------------------------------------------------------------------\n",
      "pid             double  %12.0g     pid        个人id\n",
      "provcd          double  %24.0g     provcd     省国标码\n",
      "gender          double  %12.0g     gender     性别\n",
      "age             float   %9.0g                 年龄\n",
      "age2            float   %9.0g                 年龄平方\n",
      "age3            float   %9.0g                 年龄三次方\n",
      "lninc           float   %9.0g                 收入对数\n",
      "college         double  %9.0g      yesorno    是否上大学\n",
      "hukou           double  %12.0g     hukou      3岁时户口性质\n",
      "sibling         float   %9.0g      yesorno    是否独生子女\n",
      "race            double  %9.0g      yesorno    是否汉族\n",
      "fmedu           float   %9.0g      fmedu      父母是否上过高中\n",
      "-------------------------------------------------------------------------------\n",
      "Sorted by: \n",
      "\n",
      ". \n"
     ]
    }
   ],
   "execution_count": 9
  },
  {
   "metadata": {},
   "cell_type": "code",
   "source": [
    "from pystata import stata\n",
    "\n",
    "## 一元线性回归\n",
    "stata.run(\"reg lninc college\")"
   ],
   "id": "9cbf47196eccc7f6",
   "outputs": [],
   "execution_count": null
  },
  {
   "metadata": {
    "ExecuteTime": {
     "end_time": "2025-03-01T20:43:26.115200Z",
     "start_time": "2025-03-01T20:43:25.999806Z"
    }
   },
   "cell_type": "code",
   "source": [
    "%%stata\n",
    "\n",
    "// 异方差稳健标准误\n",
    "reg lninc college, vce(robust)\n",
    "// 聚类稳健标准误\n",
    "reg lninc college, vce(cluster provcd)"
   ],
   "id": "eb5ee95c15247a25",
   "outputs": [
    {
     "name": "stdout",
     "output_type": "stream",
     "text": [
      "\n",
      ". \n",
      ". // 异方差稳健标准误\n",
      ". reg lninc college, vce(robust)\n",
      "\n",
      "Linear regression                               Number of obs     =      4,137\n",
      "                                                F(1, 4135)        =     582.05\n",
      "                                                Prob > F          =     0.0000\n",
      "                                                R-squared         =     0.1095\n",
      "                                                Root MSE          =     1.1498\n",
      "\n",
      "------------------------------------------------------------------------------\n",
      "             |               Robust\n",
      "       lninc | Coefficient  std. err.      t    P>|t|     [95% conf. interval]\n",
      "-------------+----------------------------------------------------------------\n",
      "     college |    .823612   .0341385    24.13   0.000     .7566823    .8905418\n",
      "       _cons |   9.353189   .0256882   364.10   0.000     9.302826    9.403552\n",
      "------------------------------------------------------------------------------\n",
      "\n",
      ". //聚类稳健标准误\n",
      ". reg lninc college, vce(cluster provcd)\n",
      "\n",
      "Linear regression                               Number of obs     =      4,137\n",
      "                                                F(1, 24)          =     271.17\n",
      "                                                Prob > F          =     0.0000\n",
      "                                                R-squared         =     0.1095\n",
      "                                                Root MSE          =     1.1498\n",
      "\n",
      "                                (Std. err. adjusted for 25 clusters in provcd)\n",
      "------------------------------------------------------------------------------\n",
      "             |               Robust\n",
      "       lninc | Coefficient  std. err.      t    P>|t|     [95% conf. interval]\n",
      "-------------+----------------------------------------------------------------\n",
      "     college |    .823612   .0500155    16.47   0.000     .7203851     .926839\n",
      "       _cons |   9.353189   .1084703    86.23   0.000     9.129317    9.577061\n",
      "------------------------------------------------------------------------------\n",
      "\n",
      ". \n"
     ]
    }
   ],
   "execution_count": 12
  },
  {
   "metadata": {},
   "cell_type": "markdown",
   "source": [
    "一元线性回归无法满足严格的可忽略性假定（要求大学学历在研究对象中必须随机分配），不能进行因果推断。\n",
    "因此，上述结果仅能代表上大学和不上大学的人在收入对数的平均差异（相关性说明），不能解释为大学对收入的因果影响"
   ],
   "id": "aa5928e7151a04fe"
  },
  {
   "metadata": {
    "ExecuteTime": {
     "end_time": "2025-03-01T20:55:26.086477Z",
     "start_time": "2025-03-01T20:55:26.003722Z"
    }
   },
   "cell_type": "code",
   "source": [
    "%%stata\n",
    "// 多元线性回归（户口是一个混杂变量）\n",
    "reg lninc college hukou, vce(cluster provcd)"
   ],
   "id": "51a0fed697f999ff",
   "outputs": [
    {
     "name": "stdout",
     "output_type": "stream",
     "text": [
      "\n",
      ". // 多元线性回归（户口是一个混杂变量）\n",
      ". reg lninc college hukou, vce(cluster provcd)\n",
      "\n",
      "Linear regression                               Number of obs     =      4,137\n",
      "                                                F(2, 24)          =     219.69\n",
      "                                                Prob > F          =     0.0000\n",
      "                                                R-squared         =     0.1169\n",
      "                                                Root MSE          =     1.1451\n",
      "\n",
      "                                (Std. err. adjusted for 25 clusters in provcd)\n",
      "------------------------------------------------------------------------------\n",
      "             |               Robust\n",
      "       lninc | Coefficient  std. err.      t    P>|t|     [95% conf. interval]\n",
      "-------------+----------------------------------------------------------------\n",
      "     college |    .798281   .0451727    17.67   0.000     .7050491     .891513\n",
      "       hukou |   .2155333   .0611855     3.52   0.002     .0892526    .3418141\n",
      "       _cons |    9.27541   .0993474    93.36   0.000     9.070367    9.480453\n",
      "------------------------------------------------------------------------------\n",
      "\n",
      ". \n"
     ]
    }
   ],
   "execution_count": 14
  },
  {
   "metadata": {
    "ExecuteTime": {
     "end_time": "2025-03-01T20:57:50.485028Z",
     "start_time": "2025-03-01T20:57:50.382767Z"
    }
   },
   "cell_type": "code",
   "source": [
    "%%stata\n",
    "\n",
    "// 获取残差\n",
    "reg college hukou, vce(cluster provcd)\n",
    "predict e, residuals\n",
    "\n",
    "// 残差回归\n",
    "reg lninc e, vce(cluster provcd)"
   ],
   "id": "387896e57dab4239",
   "outputs": [
    {
     "name": "stdout",
     "output_type": "stream",
     "text": [
      "\n",
      ". \n",
      ". // 获取残差\n",
      ". reg college hukou, vce(cluster provcd)\n",
      "\n",
      "Linear regression                               Number of obs     =      4,137\n",
      "                                                F(1, 24)          =      27.84\n",
      "                                                Prob > F          =     0.0000\n",
      "                                                R-squared         =     0.0137\n",
      "                                                Root MSE          =     .48606\n",
      "\n",
      "                                (Std. err. adjusted for 25 clusters in provcd)\n",
      "------------------------------------------------------------------------------\n",
      "             |               Robust\n",
      "     college | Coefficient  std. err.      t    P>|t|     [95% conf. interval]\n",
      "-------------+----------------------------------------------------------------\n",
      "       hukou |    .116539   .0220861     5.28   0.000     .0709555    .1621224\n",
      "       _cons |   .3496532   .0161816    21.61   0.000     .3162561    .3830504\n",
      "------------------------------------------------------------------------------\n",
      "\n",
      ". predict e, residuals\n",
      "\n",
      ". \n",
      ". // 残差回归\n",
      ". reg lninc e, vce(cluster provcd)\n",
      "\n",
      "Linear regression                               Number of obs     =      4,137\n",
      "                                                F(1, 24)          =     321.05\n",
      "                                                Prob > F          =     0.0000\n",
      "                                                R-squared         =     0.1014\n",
      "                                                Root MSE          =      1.155\n",
      "\n",
      "                                (Std. err. adjusted for 25 clusters in provcd)\n",
      "------------------------------------------------------------------------------\n",
      "             |               Robust\n",
      "       lninc | Coefficient  std. err.      t    P>|t|     [95% conf. interval]\n",
      "-------------+----------------------------------------------------------------\n",
      "           e |    .798281    .044552    17.92   0.000     .7063302    .8902318\n",
      "       _cons |   9.680285   .1232655    78.53   0.000     9.425877    9.934692\n",
      "------------------------------------------------------------------------------\n",
      "\n",
      ". \n"
     ]
    }
   ],
   "execution_count": 15
  },
  {
   "metadata": {
    "ExecuteTime": {
     "end_time": "2025-03-01T20:59:40.371413Z",
     "start_time": "2025-03-01T20:59:40.296873Z"
    }
   },
   "cell_type": "code",
   "source": "%stata dis .823612-.798281",
   "id": "d2fe72036682e136",
   "outputs": [
    {
     "name": "stdout",
     "output_type": "stream",
     "text": [
      ".025331\n"
     ]
    }
   ],
   "execution_count": 17
  },
  {
   "metadata": {
    "ExecuteTime": {
     "end_time": "2025-03-01T21:03:53.922978Z",
     "start_time": "2025-03-01T21:03:53.844296Z"
    }
   },
   "cell_type": "code",
   "source": "%stata reg hukou college, vce(cluster provcd)",
   "id": "8bb9274bc0ba893d",
   "outputs": [
    {
     "name": "stdout",
     "output_type": "stream",
     "text": [
      "\n",
      "Linear regression                               Number of obs     =      4,137\n",
      "                                                F(1, 24)          =      33.17\n",
      "                                                Prob > F          =     0.0000\n",
      "                                                R-squared         =     0.0137\n",
      "                                                Root MSE          =     .48812\n",
      "\n",
      "                                (Std. err. adjusted for 25 clusters in provcd)\n",
      "------------------------------------------------------------------------------\n",
      "             |               Robust\n",
      "       hukou | Coefficient  std. err.      t    P>|t|     [95% conf. interval]\n",
      "-------------+----------------------------------------------------------------\n",
      "     college |   .1175271   .0204066     5.76   0.000     .0754099    .1596443\n",
      "       _cons |   .3608661   .0559186     6.45   0.000     .2454558    .4762764\n",
      "------------------------------------------------------------------------------\n"
     ]
    }
   ],
   "execution_count": 19
  },
  {
   "metadata": {
    "ExecuteTime": {
     "end_time": "2025-03-01T21:04:05.755504Z",
     "start_time": "2025-03-01T21:04:05.683508Z"
    }
   },
   "cell_type": "code",
   "source": "%stata dis .1175271*.2155333",
   "id": "789c6b1be615c695",
   "outputs": [
    {
     "name": "stdout",
     "output_type": "stream",
     "text": [
      ".025331\n"
     ]
    }
   ],
   "execution_count": 21
  },
  {
   "metadata": {
    "ExecuteTime": {
     "end_time": "2025-03-01T21:06:17.800980Z",
     "start_time": "2025-03-01T21:06:17.257872Z"
    }
   },
   "cell_type": "code",
   "source": [
    "%%stata\n",
    "\n",
    "// 纳入更多控制变量，需要进行饱和回归\n",
    "reg lninc college hukou##i.age, vce(cluster provcd)\n",
    "estat ic"
   ],
   "id": "780a6ea3460f7e60",
   "outputs": [
    {
     "name": "stdout",
     "output_type": "stream",
     "text": [
      "\n",
      ". \n",
      ". // 纳入更多控制变量，需要进行饱和回归\n",
      ". reg lninc college hukou##i.age, vce(cluster provcd)\n",
      "\n",
      "Linear regression                               Number of obs     =      4,137\n",
      "                                                F(23, 24)         =          .\n",
      "                                                Prob > F          =          .\n",
      "                                                R-squared         =     0.1501\n",
      "                                                Root MSE          =     1.1316\n",
      "\n",
      "                                (Std. err. adjusted for 25 clusters in provcd)\n",
      "------------------------------------------------------------------------------\n",
      "             |               Robust\n",
      "       lninc | Coefficient  std. err.      t    P>|t|     [95% conf. interval]\n",
      "-------------+----------------------------------------------------------------\n",
      "     college |   .7477749   .0544757    13.73   0.000     .6353425    .8602073\n",
      "             |\n",
      "       hukou |\n",
      "   城镇户口  |  -.0787305   .1418798    -0.55   0.584    -.3715559    .2140949\n",
      "             |\n",
      "         age |\n",
      "         26  |   .3980867   .1481415     2.69   0.013     .0923376    .7038358\n",
      "         27  |   .2684265   .2134622     1.26   0.221    -.1721377    .7089908\n",
      "         28  |   .4034527   .1960134     2.06   0.051    -.0010991    .8080045\n",
      "         29  |   .3063752   .2061596     1.49   0.150    -.1191172    .7318677\n",
      "         30  |    .808574    .138855     5.82   0.000     .5219914    1.095157\n",
      "         31  |   .6390432   .1597057     4.00   0.001     .3094269    .9686596\n",
      "         32  |   .3162257   .1835314     1.72   0.098    -.0625646    .6950159\n",
      "         33  |   .5423168   .1908591     2.84   0.009      .148403    .9362305\n",
      "         34  |   .4480384   .1642828     2.73   0.012     .1089753    .7871016\n",
      "         35  |   .4871379   .1332159     3.66   0.001     .2121937     .762082\n",
      "         36  |   .7649181   .1431828     5.34   0.000     .4694033    1.060433\n",
      "         37  |   .5898895   .1644897     3.59   0.001     .2503994    .9293797\n",
      "         38  |   .4446396   .1414918     3.14   0.004     .1526149    .7366642\n",
      "         39  |   .3132889   .2152405     1.46   0.158    -.1309457    .7575234\n",
      "         40  |   .6295174   .1203586     5.23   0.000     .3811094    .8779254\n",
      "         41  |   .7413657   .1649781     4.49   0.000     .4008676    1.081864\n",
      "         42  |   .6440224   .1854795     3.47   0.002     .2612115    1.026833\n",
      "         43  |   .1100458    .261421     0.42   0.678    -.4295006    .6495921\n",
      "         44  |   .3310236   .1953046     1.69   0.103    -.0720652    .7341124\n",
      "         45  |   .2092177   .2516651     0.83   0.414    -.3101935    .7286288\n",
      "         46  |   .5989884   .1833996     3.27   0.003     .2204702    .9775067\n",
      "         47  |   .2833783   .1619895     1.75   0.093    -.0509517    .6177083\n",
      "         48  |   .2354062   .1468512     1.60   0.122    -.0676798    .5384923\n",
      "         49  |   .4378188    .164764     2.66   0.014     .0977627    .7778749\n",
      "         50  |   .0167503   .1750601     0.10   0.925     -.344556    .3780566\n",
      "         51  |  -.1610867   .1851799    -0.87   0.393    -.5432792    .2211059\n",
      "         52  |  -.1302052    .286344    -0.45   0.653    -.7211901    .4607797\n",
      "         53  |  -.0033811   .2062946    -0.02   0.987    -.4291521      .42239\n",
      "         54  |   .2233507   .1566927     1.43   0.167    -.1000471    .5467486\n",
      "         55  |    .216386   .2374876     0.91   0.371    -.2737643    .7065363\n",
      "             |\n",
      "   hukou#age |\n",
      "城镇户口#26  |  -.0602352   .2412837    -0.25   0.805    -.5582202    .4377497\n",
      "城镇户口#27  |   .4551441   .2638459     1.73   0.097    -.0894072    .9996953\n",
      "城镇户口#28  |   .3544994   .2567836     1.38   0.180    -.1754758    .8844747\n",
      "城镇户口#29  |   .3823274    .297972     1.28   0.212    -.2326564    .9973113\n",
      "城镇户口#30  |  -.0193147   .2555672    -0.08   0.940    -.5467794      .50815\n",
      "城镇户口#31  |  -.0932038   .2561528    -0.36   0.719    -.6218772    .4354696\n",
      "城镇户口#32  |   .6327651   .2259055     2.80   0.010      .166519    1.099011\n",
      "城镇户口#33  |   .1374474   .2483846     0.55   0.585    -.3751932     .650088\n",
      "城镇户口#34  |   .4132721   .2550715     1.62   0.118    -.1131696    .9397139\n",
      "城镇户口#35  |   .2141665   .1854107     1.16   0.259    -.1685025    .5968354\n",
      "城镇户口#36  |   .0205633   .2148722     0.10   0.925    -.4229113    .4640378\n",
      "城镇户口#37  |  -.0448259   .2031256    -0.22   0.827    -.4640566    .3744048\n",
      "城镇户口#38  |   .3187681   .1745486     1.83   0.080    -.0414825    .6790186\n",
      "城镇户口#39  |   .4006106    .234722     1.71   0.101    -.0838317    .8850529\n",
      "城镇户口#40  |   .0135196   .2054592     0.07   0.948    -.4105273    .4375666\n",
      "城镇户口#41  |  -.0207122   .2451003    -0.08   0.933    -.5265743    .4851499\n",
      "城镇户口#42  |   .0024452   .2642466     0.01   0.993    -.5429331    .5478234\n",
      "城镇户口#43  |   .8893687   .3581507     2.48   0.020     .1501819    1.628555\n",
      "城镇户口#44  |   .3810794   .2435123     1.56   0.131    -.1215052     .883664\n",
      "城镇户口#45  |   .5548028   .3701405     1.50   0.147    -.2091297    1.318735\n",
      "城镇户口#46  |  -.0202823   .2068561    -0.10   0.923    -.4472122    .4066477\n",
      "城镇户口#47  |   .1388032   .3315924     0.42   0.679    -.5455699    .8231762\n",
      "城镇户口#48  |   .4089894   .2048096     2.00   0.057    -.0137169    .8316956\n",
      "城镇户口#49  |   .3254708   .2237488     1.45   0.159    -.1363241    .7872657\n",
      "城镇户口#50  |     .65057   .2474684     2.63   0.015     .1398203     1.16132\n",
      "城镇户口#51  |   .7067489   .3553651     1.99   0.058    -.0266886    1.440186\n",
      "城镇户口#52  |   .7470444   .3445403     2.17   0.040     .0359482    1.458141\n",
      "城镇户口#53  |    .694888   .2878366     2.41   0.024     .1008224    1.288954\n",
      "城镇户口#54  |   .4754364   .2742435     1.73   0.096    -.0905744    1.041447\n",
      "城镇户口#55  |   .2745935   .3227371     0.85   0.403    -.3915031    .9406901\n",
      "             |\n",
      "       _cons |   8.937311   .1616701    55.28   0.000      8.60364    9.270982\n",
      "------------------------------------------------------------------------------\n",
      "\n",
      ". estat ic\n",
      "\n",
      "Akaike's information criterion and Bayesian information criterion\n",
      "\n",
      "-----------------------------------------------------------------------------\n",
      "       Model |          N   ll(null)  ll(model)      df        AIC        BIC\n",
      "-------------+---------------------------------------------------------------\n",
      "           . |      4,137  -6686.381  -6349.885      24   12747.77   12899.63\n",
      "-----------------------------------------------------------------------------\n",
      "Note: BIC uses N = number of observations. See [R] BIC note.\n",
      "\n",
      ". \n"
     ]
    }
   ],
   "execution_count": 22
  },
  {
   "metadata": {
    "ExecuteTime": {
     "end_time": "2025-03-01T21:09:52.745403Z",
     "start_time": "2025-03-01T21:09:52.642928Z"
    }
   },
   "cell_type": "code",
   "source": [
    "%%stata\n",
    "// 解决饱和回归待估参数过多的问题，可以使用幂函数对参数进行限定\n",
    "reg lninc college hukou##(c.age c.age2 c.age3), vce(cluster provcd)\n",
    "estat ic"
   ],
   "id": "6e72b7b2e81e43c4",
   "outputs": [
    {
     "name": "stdout",
     "output_type": "stream",
     "text": [
      "\n",
      ". // 解决饱和回归待估参数过多的问题，可以使用幂函数对参数进行限定\n",
      ". reg lninc college hukou##(c.age c.age2 c.age3), vce(cluster provcd)\n",
      "\n",
      "Linear regression                               Number of obs     =      4,137\n",
      "                                                F(8, 24)          =      88.50\n",
      "                                                Prob > F          =     0.0000\n",
      "                                                R-squared         =     0.1331\n",
      "                                                Root MSE          =     1.1354\n",
      "\n",
      "                                (Std. err. adjusted for 25 clusters in provcd)\n",
      "------------------------------------------------------------------------------\n",
      "             |               Robust\n",
      "       lninc | Coefficient  std. err.      t    P>|t|     [95% conf. interval]\n",
      "-------------+----------------------------------------------------------------\n",
      "     college |   .7547539   .0501103    15.06   0.000     .6513314    .8581763\n",
      "             |\n",
      "       hukou |\n",
      "   城镇户口  |  -.5628695   3.164092    -0.18   0.860    -7.093234    5.967495\n",
      "         age |   .6604027   .2081753     3.17   0.004       .23075    1.090055\n",
      "        age2 |  -.0152886    .005478    -2.79   0.010    -.0265947   -.0039824\n",
      "        age3 |   .0001114   .0000469     2.38   0.026     .0000147    .0002082\n",
      "             |\n",
      " hukou#c.age |\n",
      "   城镇户口  |   .0697643   .2557794     0.27   0.787    -.4581385    .5976671\n",
      "             |\n",
      "hukou#c.age2 |\n",
      "   城镇户口  |  -.0023666   .0067435    -0.35   0.729    -.0162844    .0115512\n",
      "             |\n",
      "hukou#c.age3 |\n",
      "   城镇户口  |   .0000268   .0000577     0.46   0.646    -.0000923    .0001459\n",
      "             |\n",
      "       _cons |    .358661   2.584047     0.14   0.891    -4.974549    5.691871\n",
      "------------------------------------------------------------------------------\n",
      "\n",
      ". estat ic\n",
      "\n",
      "Akaike's information criterion and Bayesian information criterion\n",
      "\n",
      "-----------------------------------------------------------------------------\n",
      "       Model |          N   ll(null)  ll(model)      df        AIC        BIC\n",
      "-------------+---------------------------------------------------------------\n",
      "           . |      4,137  -6686.381  -6390.917       9   12799.83   12856.78\n",
      "-----------------------------------------------------------------------------\n",
      "Note: BIC uses N = number of observations. See [R] BIC note.\n",
      "\n",
      ". \n"
     ]
    }
   ],
   "execution_count": 23
  },
  {
   "metadata": {
    "ExecuteTime": {
     "end_time": "2025-03-01T21:11:30.701319Z",
     "start_time": "2025-03-01T21:11:30.600898Z"
    }
   },
   "cell_type": "code",
   "source": [
    "%%stata\n",
    "reg lninc college hukou age age2 age3, vce(cluster provcd)\n",
    "estat ic"
   ],
   "id": "5994b844bab1219f",
   "outputs": [
    {
     "name": "stdout",
     "output_type": "stream",
     "text": [
      "\n",
      ". reg lninc college hukou age age2 age3, vce(cluster provcd)\n",
      "\n",
      "Linear regression                               Number of obs     =      4,137\n",
      "                                                F(5, 24)          =     130.17\n",
      "                                                Prob > F          =     0.0000\n",
      "                                                R-squared         =     0.1304\n",
      "                                                Root MSE          =     1.1367\n",
      "\n",
      "                                (Std. err. adjusted for 25 clusters in provcd)\n",
      "------------------------------------------------------------------------------\n",
      "             |               Robust\n",
      "       lninc | Coefficient  std. err.      t    P>|t|     [95% conf. interval]\n",
      "-------------+----------------------------------------------------------------\n",
      "     college |   .7483616   .0474037    15.79   0.000     .6505252    .8461981\n",
      "       hukou |   .2233219   .0657661     3.40   0.002     .0875874    .3590565\n",
      "         age |   .6884785    .143905     4.78   0.000     .3914732    .9854838\n",
      "        age2 |  -.0162254   .0037903    -4.28   0.000    -.0240482   -.0084026\n",
      "        age3 |    .000122   .0000326     3.74   0.001     .0000546    .0001893\n",
      "       _cons |   .0389147   1.813509     0.02   0.983    -3.703984    3.781814\n",
      "------------------------------------------------------------------------------\n",
      "\n",
      ". estat ic\n",
      "\n",
      "Akaike's information criterion and Bayesian information criterion\n",
      "\n",
      "-----------------------------------------------------------------------------\n",
      "       Model |          N   ll(null)  ll(model)      df        AIC        BIC\n",
      "-------------+---------------------------------------------------------------\n",
      "           . |      4,137  -6686.381  -6397.289       6   12806.58   12844.54\n",
      "-----------------------------------------------------------------------------\n",
      "Note: BIC uses N = number of observations. See [R] BIC note.\n",
      "\n",
      ". \n"
     ]
    }
   ],
   "execution_count": 24
  },
  {
   "metadata": {
    "ExecuteTime": {
     "end_time": "2025-03-01T21:13:53.744108Z",
     "start_time": "2025-03-01T21:13:53.669425Z"
    },
    "tags": [
     "stata"
    ]
   },
   "cell_type": "code",
   "source": [
    "## 未考虑能力变量\n",
    "%stata reg lninc college hukou age age2 age3 gender race sibling i.fmedu, vce(cluster provcd)"
   ],
   "id": "6c76f1cd9668423f",
   "outputs": [
    {
     "name": "stdout",
     "output_type": "stream",
     "text": [
      "\n",
      "Linear regression                               Number of obs     =      4,137\n",
      "                                                F(10, 24)         =     241.99\n",
      "                                                Prob > F          =     0.0000\n",
      "                                                R-squared         =     0.1601\n",
      "                                                Root MSE          =     1.1178\n",
      "\n",
      "                                (Std. err. adjusted for 25 clusters in provcd)\n",
      "------------------------------------------------------------------------------\n",
      "             |               Robust\n",
      "       lninc | Coefficient  std. err.      t    P>|t|     [95% conf. interval]\n",
      "-------------+----------------------------------------------------------------\n",
      "     college |   .7418545   .0426899    17.38   0.000     .6537468    .8299622\n",
      "       hukou |   .2232857   .0579839     3.85   0.001     .1036129    .3429585\n",
      "         age |   .6743558    .164432     4.10   0.000     .3349849    1.013727\n",
      "        age2 |  -.0156173   .0042856    -3.64   0.001    -.0244623   -.0067723\n",
      "        age3 |   .0001151   .0000365     3.16   0.004     .0000398    .0001904\n",
      "      gender |   .3943385   .0417227     9.45   0.000     .3082271    .4804498\n",
      "        race |   .1793763   .1014295     1.77   0.090     -.029964    .3887166\n",
      "     sibling |   .1837219   .0792935     2.32   0.029     .0200681    .3473757\n",
      "             |\n",
      "       fmedu |\n",
      "         是  |    .025374   .0357401     0.71   0.485    -.0483899    .0991379\n",
      "       缺失  |   .0073327   .0397113     0.18   0.855    -.0746275    .0892929\n",
      "             |\n",
      "       _cons |  -.3450864   2.094658    -0.16   0.871    -4.668247    3.978074\n",
      "------------------------------------------------------------------------------\n"
     ]
    }
   ],
   "execution_count": 25
  },
  {
   "metadata": {
    "ExecuteTime": {
     "end_time": "2025-03-01T21:17:10.357340Z",
     "start_time": "2025-03-01T21:17:10.257980Z"
    }
   },
   "cell_type": "code",
   "source": [
    "%%stata\n",
    "\n",
    "// 考虑户口变量,演示因果效应的异质性\n",
    "reg lninc college if hukou==0, vce(cluster provcd)\n",
    "reg lninc college if hukou==1, vce(cluster provcd)"
   ],
   "id": "bc9cf3ea91e37c5a",
   "outputs": [
    {
     "name": "stdout",
     "output_type": "stream",
     "text": [
      "\n",
      ". \n",
      ". // 考虑户口变量,演示因果效应的异质性\n",
      ". reg lninc college if hukou==0, vce(cluster provcd)\n",
      "\n",
      "Linear regression                               Number of obs     =      2,451\n",
      "                                                F(1, 24)          =     477.21\n",
      "                                                Prob > F          =     0.0000\n",
      "                                                R-squared         =     0.1018\n",
      "                                                Root MSE          =      1.238\n",
      "\n",
      "                                (Std. err. adjusted for 25 clusters in provcd)\n",
      "------------------------------------------------------------------------------\n",
      "             |               Robust\n",
      "       lninc | Coefficient  std. err.      t    P>|t|     [95% conf. interval]\n",
      "-------------+----------------------------------------------------------------\n",
      "     college |    .873513   .0399865    21.85   0.000     .7909849    .9560412\n",
      "       _cons |   9.249105   .1050262    88.06   0.000     9.032342    9.465869\n",
      "------------------------------------------------------------------------------\n",
      "\n",
      ". reg lninc college if hukou==1, vce(cluster provcd)\n",
      "\n",
      "Linear regression                               Number of obs     =      1,686\n",
      "                                                F(1, 24)          =      63.29\n",
      "                                                Prob > F          =     0.0000\n",
      "                                                R-squared         =     0.1097\n",
      "                                                Root MSE          =     .99279\n",
      "\n",
      "                                (Std. err. adjusted for 25 clusters in provcd)\n",
      "------------------------------------------------------------------------------\n",
      "             |               Robust\n",
      "       lninc | Coefficient  std. err.      t    P>|t|     [95% conf. interval]\n",
      "-------------+----------------------------------------------------------------\n",
      "     college |   .6983452   .0877811     7.96   0.000     .5171739    .8795166\n",
      "       _cons |   9.537533   .1003993    95.00   0.000     9.330319    9.744747\n",
      "------------------------------------------------------------------------------\n",
      "\n",
      ". \n"
     ]
    }
   ],
   "execution_count": 27
  },
  {
   "metadata": {
    "ExecuteTime": {
     "end_time": "2025-03-01T21:17:23.374669Z",
     "start_time": "2025-03-01T21:17:23.302696Z"
    }
   },
   "cell_type": "code",
   "source": [
    "%%stata\n",
    "\n",
    "tab hukou\n",
    "tab college if hukou==0\n",
    "tab college if hukou==1"
   ],
   "id": "213c521c72f6c764",
   "outputs": [
    {
     "name": "stdout",
     "output_type": "stream",
     "text": [
      "\n",
      ". \n",
      ". tab hukou\n",
      "\n",
      "    3岁时户 |\n",
      "     口性质 |      Freq.     Percent        Cum.\n",
      "------------+-----------------------------------\n",
      "   农村户口 |      2,451       59.25       59.25\n",
      "   城镇户口 |      1,686       40.75      100.00\n",
      "------------+-----------------------------------\n",
      "      Total |      4,137      100.00\n",
      "\n",
      ". tab college if hukou==0\n",
      "\n",
      "     是否上 |\n",
      "       大学 |      Freq.     Percent        Cum.\n",
      "------------+-----------------------------------\n",
      "         否 |      1,594       65.03       65.03\n",
      "         是 |        857       34.97      100.00\n",
      "------------+-----------------------------------\n",
      "      Total |      2,451      100.00\n",
      "\n",
      ". tab college if hukou==1\n",
      "\n",
      "     是否上 |\n",
      "       大学 |      Freq.     Percent        Cum.\n",
      "------------+-----------------------------------\n",
      "         否 |        900       53.38       53.38\n",
      "         是 |        786       46.62      100.00\n",
      "------------+-----------------------------------\n",
      "      Total |      1,686      100.00\n",
      "\n",
      ". \n"
     ]
    }
   ],
   "execution_count": 28
  },
  {
   "metadata": {
    "ExecuteTime": {
     "end_time": "2025-03-01T21:20:40.997991Z",
     "start_time": "2025-03-01T21:20:40.927171Z"
    }
   },
   "cell_type": "code",
   "source": "%stata dis 34.97*65.03*59.25",
   "id": "a7d5c829b2ef6cbf",
   "outputs": [
    {
     "name": "stdout",
     "output_type": "stream",
     "text": [
      "134740.37\n"
     ]
    }
   ],
   "execution_count": 31
  },
  {
   "metadata": {
    "ExecuteTime": {
     "end_time": "2025-03-01T21:20:50.853156Z",
     "start_time": "2025-03-01T21:20:50.783178Z"
    }
   },
   "cell_type": "code",
   "source": "%stata dis 53.38*46.62*40.75",
   "id": "7b2dd4bc5dab0639",
   "outputs": [
    {
     "name": "stdout",
     "output_type": "stream",
     "text": [
      "101409.46\n"
     ]
    }
   ],
   "execution_count": 33
  },
  {
   "metadata": {},
   "cell_type": "code",
   "outputs": [],
   "execution_count": null,
   "source": [
    "dis 134740.37/(134740.37+101409.46)\n",
    "dis 101409.46/(134740.37+101409.46)\n",
    "dis .57057153*.873513+.6983452*.42942847"
   ],
   "id": "6d0a4f09dda2179"
  },
  {
   "metadata": {
    "ExecuteTime": {
     "end_time": "2025-03-01T21:24:58.693853Z",
     "start_time": "2025-03-01T21:24:56.972763Z"
    }
   },
   "cell_type": "code",
   "source": [
    "%%stata\n",
    "// 回归调整估计量\n",
    "teffects ra (lninc hukou age age2 age3 gender race sibling i.fmedu) (college), vce(robust)\n",
    "teffects ra (lninc hukou age age2 age3 gender race sibling i.fmedu) (college), vce(robust) atet\n",
    "teffects ra (lninc hukou age age2 age3 gender race sibling i.fmedu) (college), vce(robust) control(1) tlevel(0) atet"
   ],
   "id": "2304e53393c3eb11",
   "outputs": [
    {
     "name": "stdout",
     "output_type": "stream",
     "text": [
      "\n",
      ". // 回归调整估计量\n",
      ". teffects ra (lninc hukou age age2 age3 gender race sibling i.fmedu) (college)\n",
      "> , vce(robust)\n",
      "\n",
      "Iteration 0:   EE criterion =  2.620e-24  \n",
      "Iteration 1:   EE criterion =  9.251e-30  \n",
      "\n",
      "Treatment-effects estimation                    Number of obs     =      4,137\n",
      "Estimator      : regression adjustment\n",
      "Outcome model  : linear\n",
      "Treatment model: none\n",
      "------------------------------------------------------------------------------\n",
      "             |               Robust\n",
      "       lninc | Coefficient  std. err.      z    P>|z|     [95% conf. interval]\n",
      "-------------+----------------------------------------------------------------\n",
      "ATE          |\n",
      "     college |\n",
      " (是 vs 否)  |   .7887353   .0373127    21.14   0.000     .7156038    .8618667\n",
      "-------------+----------------------------------------------------------------\n",
      "POmean       |\n",
      "     college |\n",
      "         否  |   9.413724   .0271812   346.33   0.000      9.36045    9.466998\n",
      "------------------------------------------------------------------------------\n",
      "\n",
      ". teffects ra (lninc hukou age age2 age3 gender race sibling i.fmedu) (college)\n",
      "> , vce(robust) atet\n",
      "\n",
      "Iteration 0:   EE criterion =  2.620e-24  \n",
      "Iteration 1:   EE criterion =  7.826e-30  \n",
      "\n",
      "Treatment-effects estimation                    Number of obs     =      4,137\n",
      "Estimator      : regression adjustment\n",
      "Outcome model  : linear\n",
      "Treatment model: none\n",
      "------------------------------------------------------------------------------\n",
      "             |               Robust\n",
      "       lninc | Coefficient  std. err.      z    P>|z|     [95% conf. interval]\n",
      "-------------+----------------------------------------------------------------\n",
      "ATET         |\n",
      "     college |\n",
      " (是 vs 否)  |   .6711883   .0416622    16.11   0.000      .589532    .7528446\n",
      "-------------+----------------------------------------------------------------\n",
      "POmean       |\n",
      "     college |\n",
      "         否  |   9.505613   .0359548   264.38   0.000     9.435143    9.576083\n",
      "------------------------------------------------------------------------------\n",
      "\n",
      ". teffects ra (lninc hukou age age2 age3 gender race sibling i.fmedu) (college)\n",
      "> , vce(robust) control(1) tlevel(0) atet\n",
      "\n",
      "Iteration 0:   EE criterion =  2.620e-24  \n",
      "Iteration 1:   EE criterion =  1.079e-29  \n",
      "\n",
      "Treatment-effects estimation                    Number of obs     =      4,137\n",
      "Estimator      : regression adjustment\n",
      "Outcome model  : linear\n",
      "Treatment model: none\n",
      "------------------------------------------------------------------------------\n",
      "             |               Robust\n",
      "       lninc | Coefficient  std. err.      z    P>|z|     [95% conf. interval]\n",
      "-------------+----------------------------------------------------------------\n",
      "ATET         |\n",
      "     college |\n",
      " (否 vs 是)  |   -.866173   .0405392   -21.37   0.000    -.9456283   -.7867176\n",
      "-------------+----------------------------------------------------------------\n",
      "POmean       |\n",
      "     college |\n",
      "         是  |   10.21936   .0317611   321.76   0.000     10.15711    10.28161\n",
      "------------------------------------------------------------------------------\n",
      "\n",
      ". \n"
     ]
    }
   ],
   "execution_count": 35
  },
  {
   "metadata": {
    "ExecuteTime": {
     "end_time": "2025-03-01T21:27:39.471852Z",
     "start_time": "2025-03-01T21:27:39.372060Z"
    }
   },
   "cell_type": "code",
   "source": [
    "%%stata\n",
    "\n",
    "// 手动实现会回归调整估计量\n",
    "reg lninc hukou age age2 age3 gender race sibling i.fmedu if college==0\n",
    "predict y0hat if college==1"
   ],
   "id": "55de4270f77cbae7",
   "outputs": [
    {
     "name": "stdout",
     "output_type": "stream",
     "text": [
      "\n",
      ". \n",
      ". // 手动实现会回归调整估计量\n",
      ". reg lninc hukou age age2 age3 gender race sibling i.fmedu if college==0\n",
      "\n",
      "      Source |       SS           df       MS      Number of obs   =     2,494\n",
      "-------------+----------------------------------   F(9, 2484)      =     21.72\n",
      "       Model |  299.291704         9  33.2546338   Prob > F        =    0.0000\n",
      "    Residual |  3803.21617     2,484  1.53108541   R-squared       =    0.0730\n",
      "-------------+----------------------------------   Adj R-squared   =    0.0696\n",
      "       Total |  4102.50787     2,493  1.64561086   Root MSE        =    1.2374\n",
      "\n",
      "------------------------------------------------------------------------------\n",
      "       lninc | Coefficient  Std. err.      t    P>|t|     [95% conf. interval]\n",
      "-------------+----------------------------------------------------------------\n",
      "       hukou |   .3400725   .0536769     6.34   0.000     .2348163    .4453286\n",
      "         age |   .5876334   .2255975     2.60   0.009     .1452547    1.030012\n",
      "        age2 |  -.0140172   .0056768    -2.47   0.014    -.0251491   -.0028854\n",
      "        age3 |    .000105   .0000465     2.26   0.024     .0000138    .0001963\n",
      "      gender |   .5032089   .0511487     9.84   0.000     .4029104    .6035073\n",
      "        race |   .1929442   .1168315     1.65   0.099    -.0361529    .4220413\n",
      "     sibling |   .2414546   .0893476     2.70   0.007     .0662513     .416658\n",
      "             |\n",
      "       fmedu |\n",
      "         是  |   .0178976   .0790321     0.23   0.821     -.137078    .1728732\n",
      "       缺失  |   .0028774   .0613876     0.05   0.963    -.1174987    .1232535\n",
      "             |\n",
      "       _cons |   1.072145   2.916684     0.37   0.713    -4.647238    6.791527\n",
      "------------------------------------------------------------------------------\n",
      "\n",
      ". predict y0hat if college==1\n",
      "(option xb assumed; fitted values)\n",
      "(2,494 missing values generated)\n",
      "\n",
      ". \n"
     ]
    }
   ],
   "execution_count": 36
  },
  {
   "metadata": {
    "ExecuteTime": {
     "end_time": "2025-03-01T21:28:04.455782Z",
     "start_time": "2025-03-01T21:28:04.386488Z"
    }
   },
   "cell_type": "code",
   "source": [
    "%%stata\n",
    "reg lninc hukou age age2 age3 gender race sibling i.fmedu if college==1\n",
    "predict y1hat if college==0"
   ],
   "id": "96058bff1764c769",
   "outputs": [
    {
     "name": "stdout",
     "output_type": "stream",
     "text": [
      "\n",
      ". reg lninc hukou age age2 age3 gender race sibling i.fmedu if college==1\n",
      "\n",
      "      Source |       SS           df       MS      Number of obs   =     1,643\n",
      "-------------+----------------------------------   F(9, 1633)      =     12.17\n",
      "       Model |  85.7486412         9   9.5276268   Prob > F        =    0.0000\n",
      "    Residual |  1278.30719     1,633  .782796812   R-squared       =    0.0629\n",
      "-------------+----------------------------------   Adj R-squared   =    0.0577\n",
      "       Total |  1364.05584     1,642   .83072828   Root MSE        =    .88476\n",
      "\n",
      "------------------------------------------------------------------------------\n",
      "       lninc | Coefficient  Std. err.      t    P>|t|     [95% conf. interval]\n",
      "-------------+----------------------------------------------------------------\n",
      "       hukou |   .0484465   .0485173     1.00   0.318    -.0467162    .1436091\n",
      "         age |   .6205456   .1870398     3.32   0.001     .2536824    .9874087\n",
      "        age2 |  -.0143115   .0049184    -2.91   0.004    -.0239586   -.0046644\n",
      "        age3 |   .0001088    .000042     2.59   0.010     .0000264    .0001912\n",
      "      gender |   .2153348    .044547     4.83   0.000     .1279596      .30271\n",
      "        race |   .1548971   .0931465     1.66   0.097    -.0278021    .3375962\n",
      "     sibling |   .2273577   .0611421     3.72   0.000     .1074325     .347283\n",
      "             |\n",
      "       fmedu |\n",
      "         是  |    .091336   .0511668     1.79   0.074    -.0090234    .1916954\n",
      "       缺失  |   .0564651   .0651018     0.87   0.386    -.0712268     .184157\n",
      "             |\n",
      "       _cons |    1.06923   2.310655     0.46   0.644    -3.462931     5.60139\n",
      "------------------------------------------------------------------------------\n",
      "\n",
      ". predict y1hat if college==0\n",
      "(option xb assumed; fitted values)\n",
      "(1,643 missing values generated)\n",
      "\n",
      ". \n"
     ]
    }
   ],
   "execution_count": 38
  },
  {
   "metadata": {
    "ExecuteTime": {
     "end_time": "2025-03-01T21:29:54.626844Z",
     "start_time": "2025-03-01T21:29:54.525227Z"
    }
   },
   "cell_type": "code",
   "source": [
    "%%stata\n",
    "\n",
    "gen y0=lninc if college==0\n",
    "replace y0=y0hat if college==1\n",
    "\n",
    "gen y1=lninc if college==1\n",
    "replace y1=y1hat if college==0\n",
    "\n",
    "gen effect=y1-y0\n",
    "tab college, sum(effect)"
   ],
   "id": "8f61a0778c92848b",
   "outputs": [
    {
     "name": "stdout",
     "output_type": "stream",
     "text": [
      "\n",
      ". \n",
      ". gen y0=lninc if college==0\n",
      "(1,643 missing values generated)\n",
      "\n",
      ". replace y0=y0hat if college==1\n",
      "(1,643 real changes made)\n",
      "\n",
      ". \n",
      ". gen y1=lninc if college==1\n",
      "(2,494 missing values generated)\n",
      "\n",
      ". replace y1=y1hat if college==0\n",
      "(2,494 real changes made)\n",
      "\n",
      ". \n",
      ". gen effect=y1-y0\n",
      "\n",
      ". tab college, sum(effect)\n",
      "\n",
      "     是否上 |          Summary of effect\n",
      "       大学 |        Mean   Std. dev.       Freq.\n",
      "------------+------------------------------------\n",
      "         否 |   .86617296   1.2711443       2,494\n",
      "         是 |    .6711883   .92538643       1,643\n",
      "------------+------------------------------------\n",
      "      Total |   .78873525   1.1502225       4,137\n",
      "\n",
      ". \n"
     ]
    }
   ],
   "execution_count": 40
  }
 ],
 "metadata": {
  "kernelspec": {
   "display_name": "Python 3",
   "language": "python",
   "name": "python3"
  },
  "language_info": {
   "codemirror_mode": {
    "name": "ipython",
    "version": 2
   },
   "file_extension": ".py",
   "mimetype": "text/x-python",
   "name": "python",
   "nbconvert_exporter": "python",
   "pygments_lexer": "ipython2",
   "version": "2.7.6"
  }
 },
 "nbformat": 4,
 "nbformat_minor": 5
}
