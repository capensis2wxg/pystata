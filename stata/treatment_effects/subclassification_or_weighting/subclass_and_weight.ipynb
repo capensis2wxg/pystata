{
 "cells": [
  {
   "cell_type": "code",
   "id": "initial_id",
   "metadata": {
    "collapsed": true,
    "ExecuteTime": {
     "end_time": "2025-03-02T13:17:46.417723Z",
     "start_time": "2025-03-02T13:17:46.398748Z"
    }
   },
   "source": [
    "import os\n",
    "import stata_setup\n",
    "\n",
    "## 设置pystata目录\n",
    "stata_setup.config(os.getenv(\"STATA_SYSDIR\"), 'mp')"
   ],
   "outputs": [],
   "execution_count": 8
  },
  {
   "metadata": {
    "ExecuteTime": {
     "end_time": "2025-03-02T13:17:47.731034Z",
     "start_time": "2025-03-02T13:17:47.670712Z"
    }
   },
   "cell_type": "code",
   "source": "%stata use \"cfps2010.dta\", clear",
   "id": "7006ae7a0fae0cee",
   "outputs": [],
   "execution_count": 9
  },
  {
   "metadata": {
    "ExecuteTime": {
     "end_time": "2025-03-02T13:17:49.128886Z",
     "start_time": "2025-03-02T13:17:49.049245Z"
    }
   },
   "cell_type": "code",
   "source": "%stata reg lninc college, vce(cluster provcd)",
   "id": "c3599c63e85ee3f5",
   "outputs": [
    {
     "name": "stdout",
     "output_type": "stream",
     "text": [
      "\n",
      "Linear regression                               Number of obs     =      4,137\n",
      "                                                F(1, 24)          =     271.17\n",
      "                                                Prob > F          =     0.0000\n",
      "                                                R-squared         =     0.1095\n",
      "                                                Root MSE          =     1.1498\n",
      "\n",
      "                                (Std. err. adjusted for 25 clusters in provcd)\n",
      "------------------------------------------------------------------------------\n",
      "             |               Robust\n",
      "       lninc | Coefficient  std. err.      t    P>|t|     [95% conf. interval]\n",
      "-------------+----------------------------------------------------------------\n",
      "     college |    .823612   .0500155    16.47   0.000     .7203851     .926839\n",
      "       _cons |   9.353189   .1084703    86.23   0.000     9.129317    9.577061\n",
      "------------------------------------------------------------------------------\n"
     ]
    }
   ],
   "execution_count": 10
  },
  {
   "metadata": {},
   "cell_type": "code",
   "source": [
    "## pscore 命令无法使用\"i.\"自动生成虚拟变量。因此，必须先用tabulate命令生成 fmedu 的虚拟变量，然后再使用pscore命令\n",
    "%stata tabulate fmedu, gen(fmedu)"
   ],
   "id": "160aafc097627e8e",
   "outputs": [],
   "execution_count": null
  },
  {
   "metadata": {
    "ExecuteTime": {
     "end_time": "2025-03-02T13:20:03.514880Z",
     "start_time": "2025-03-02T13:20:03.451167Z"
    }
   },
   "cell_type": "code",
   "source": "%stata sum fmedu*",
   "id": "158f5359526043c8",
   "outputs": [
    {
     "name": "stdout",
     "output_type": "stream",
     "text": [
      "\n",
      "    Variable |        Obs        Mean    Std. dev.       Min        Max\n",
      "-------------+---------------------------------------------------------\n",
      "       fmedu |      4,137    .6579647     .816154          0          2\n",
      "      fmedu1 |      4,137    .5624849    .4961402          0          1\n",
      "      fmedu2 |      4,137    .2170655    .4122974          0          1\n",
      "      fmedu3 |      4,137    .2204496       .4146          0          1\n"
     ]
    }
   ],
   "execution_count": 17
  },
  {
   "metadata": {
    "ExecuteTime": {
     "end_time": "2025-03-02T13:33:41.485843Z",
     "start_time": "2025-03-02T13:33:41.109332Z"
    }
   },
   "cell_type": "code",
   "source": "%stata pscore college hukou age gender race sibling fmedu2 fmedu3, pscore(ps) blockid(strata) logit comsup",
   "id": "4c0daefcf0ebdcfa",
   "outputs": [
    {
     "name": "stdout",
     "output_type": "stream",
     "text": [
      "\n",
      "\n",
      "\n",
      "**************************************************** \n",
      "Algorithm to estimate the propensity score \n",
      "**************************************************** \n",
      "\n",
      "\n",
      "The treatment is college\n",
      "\n",
      "     是否上 |\n",
      "       大学 |      Freq.     Percent        Cum.\n",
      "------------+-----------------------------------\n",
      "         否 |      2,494       60.29       60.29\n",
      "         是 |      1,643       39.71      100.00\n",
      "------------+-----------------------------------\n",
      "      Total |      4,137      100.00\n",
      "\n",
      "\n",
      "\n",
      "Estimation of the propensity score \n",
      "\n",
      "Iteration 0:   log likelihood = -2779.3946\n",
      "Iteration 1:   log likelihood = -2437.5718\n",
      "Iteration 2:   log likelihood = -2433.2339\n",
      "Iteration 3:   log likelihood = -2433.2257\n",
      "Iteration 4:   log likelihood = -2433.2257\n",
      "\n",
      "Logistic regression                               Number of obs   =       4137\n",
      "                                                  LR chi2(7)      =     692.34\n",
      "                                                  Prob > chi2     =     0.0000\n",
      "Log likelihood = -2433.2257                       Pseudo R2       =     0.1245\n",
      "\n",
      "------------------------------------------------------------------------------\n",
      "     college | Coefficient  Std. err.      z    P>|z|     [95% conf. interval]\n",
      "-------------+----------------------------------------------------------------\n",
      "       hukou |   .3694308   .0750791     4.92   0.000     .2222784    .5165832\n",
      "         age |  -.0779021   .0046121   -16.89   0.000    -.0869417   -.0688625\n",
      "      gender |  -.0055885   .0707311    -0.08   0.937    -.1442189    .1330418\n",
      "        race |  -.1815893   .1555612    -1.17   0.243    -.4864837     .123305\n",
      "     sibling |   .1551052   .1050747     1.48   0.140    -.0508374    .3610478\n",
      "      fmedu2 |   .8096408   .0889766     9.10   0.000     .6352498    .9840318\n",
      "      fmedu3 |   .1445431   .0935233     1.55   0.122    -.0387591    .3278453\n",
      "       _cons |   2.403783   .2336584    10.29   0.000     1.945821    2.861745\n",
      "------------------------------------------------------------------------------\n",
      "\n",
      "\n",
      "\n",
      "Note: the common support option has been selected\n",
      "The region of common support is [.11224518, .85697725]\n",
      "\n",
      "\n",
      "\n",
      "Description of the estimated propensity score \n",
      "in region of common support \n",
      "\n",
      "                 Estimated propensity score\n",
      "-------------------------------------------------------------\n",
      "      Percentiles      Smallest\n",
      " 1%     .1202454       .1122452\n",
      " 5%     .1458332       .1122452\n",
      "10%     .1663307       .1122452       Obs               4,137\n",
      "25%     .2160295       .1122452       Sum of wgt.       4,137\n",
      "\n",
      "50%     .3705058                      Mean           .3971477\n",
      "                        Largest       Std. dev.        .19613\n",
      "75%     .5462371       .8367993\n",
      "90%     .6952771       .8368947       Variance        .038467\n",
      "95%     .7616237       .8368947       Skewness       .4634977\n",
      "99%     .8213217       .8569773       Kurtosis        2.12405\n",
      "\n",
      "\n",
      "\n",
      "****************************************************** \n",
      "Step 1: Identification of the optimal number of blocks \n",
      "Use option detail if you want more detailed output \n",
      "****************************************************** \n",
      "\n",
      "\n",
      "The final number of blocks is 8\n",
      "\n",
      "This number of blocks ensures that the mean propensity score\n",
      "is not different for treated and controls in each blocks\n",
      "\n",
      "\n",
      "\n",
      "********************************************************** \n",
      "Step 2: Test of balancing property of the propensity score \n",
      "Use option detail if you want more detailed output \n",
      "********************************************************** \n",
      "\n",
      "Variable hukou is not balanced in block 2\n",
      "\n",
      "Variable age is not balanced in block 2\n",
      "\n",
      "Variable age is not balanced in block 3\n",
      "\n",
      "Variable age is not balanced in block 5\n",
      "\n",
      "Variable fmedu2 is not balanced in block 6\n",
      "\n",
      "Variable hukou is not balanced in block 7\n",
      "\n",
      "Variable sibling is not balanced in block 7\n",
      "\n",
      "The balancing property is not satisfied \n",
      "\n",
      "Try a different specification of the propensity score \n",
      "\n",
      "  Inferior |\n",
      "  of block |      是否上大学\n",
      "of pscore  |        否         是 |     Total\n",
      "-----------+----------------------+----------\n",
      "         0 |       692        112 |       804 \n",
      "        .2 |       370         86 |       456 \n",
      "       .25 |       263        111 |       374 \n",
      "        .3 |       374        258 |       632 \n",
      "        .4 |       314        247 |       561 \n",
      "        .5 |       252        307 |       559 \n",
      "        .6 |       213        439 |       652 \n",
      "        .8 |        16         83 |        99 \n",
      "-----------+----------------------+----------\n",
      "     Total |     2,494      1,643 |     4,137 \n",
      "Note: the common support option has been selected\n",
      "\n",
      "\n",
      "******************************************* \n",
      "End of the algorithm to estimate the pscore \n",
      "******************************************* \n"
     ]
    }
   ],
   "execution_count": 25
  },
  {
   "metadata": {
    "ExecuteTime": {
     "end_time": "2025-03-02T13:33:49.269123Z",
     "start_time": "2025-03-02T13:33:49.205727Z"
    }
   },
   "cell_type": "code",
   "source": "%stata drop ps strata comsup",
   "id": "b163b2d0f2be7f68",
   "outputs": [],
   "execution_count": 26
  },
  {
   "metadata": {
    "ExecuteTime": {
     "end_time": "2025-03-02T13:35:04.079811Z",
     "start_time": "2025-03-02T13:35:03.598734Z"
    }
   },
   "cell_type": "code",
   "source": [
    "%%stata\n",
    "## 没有通过平衡性检验，stata 建议重新设定倾向值的估计方程\n",
    "gen hukouage=hukou*age\n",
    "pscore college hukou hukouage age age2 gender race sibling fmedu2 fmedu3, pscore(ps) blockid(strata) logit comsup"
   ],
   "id": "b62b20df649a655",
   "outputs": [
    {
     "name": "stdout",
     "output_type": "stream",
     "text": [
      "\n",
      ". ## 没有通过平衡性检验\n",
      "Unknown #command\n",
      ". gen hukouage=hukou*age\n",
      "\n",
      ". pscore college hukou hukouage age age2 gender race sibling fmedu2 fmedu3, psc\n",
      "> ore(ps) blockid(strata) logit comsup\n",
      "\n",
      "\n",
      "\n",
      "**************************************************** \n",
      "Algorithm to estimate the propensity score \n",
      "**************************************************** \n",
      "\n",
      "\n",
      "The treatment is college\n",
      "\n",
      "     是否上 |\n",
      "       大学 |      Freq.     Percent        Cum.\n",
      "------------+-----------------------------------\n",
      "         否 |      2,494       60.29       60.29\n",
      "         是 |      1,643       39.71      100.00\n",
      "------------+-----------------------------------\n",
      "      Total |      4,137      100.00\n",
      "\n",
      "\n",
      "\n",
      "Estimation of the propensity score \n",
      "\n",
      "Iteration 0:   log likelihood = -2779.3946\n",
      "Iteration 1:   log likelihood = -2429.5513\n",
      "Iteration 2:   log likelihood =  -2422.173\n",
      "Iteration 3:   log likelihood = -2422.1088\n",
      "Iteration 4:   log likelihood = -2422.1087\n",
      "\n",
      "Logistic regression                               Number of obs   =       4137\n",
      "                                                  LR chi2(9)      =     714.57\n",
      "                                                  Prob > chi2     =     0.0000\n",
      "Log likelihood = -2422.1087                       Pseudo R2       =     0.1285\n",
      "\n",
      "------------------------------------------------------------------------------\n",
      "     college | Coefficient  Std. err.      z    P>|z|     [95% conf. interval]\n",
      "-------------+----------------------------------------------------------------\n",
      "       hukou |   .7612414   .3489558     2.18   0.029     .0773006    1.445182\n",
      "    hukouage |   -.010548   .0087546    -1.20   0.228    -.0277067    .0066107\n",
      "         age |   .1150714   .0429697     2.68   0.007     .0308523    .1992905\n",
      "        age2 |  -.0024131    .000549    -4.40   0.000    -.0034892    -.001337\n",
      "      gender |  -.0093303   .0708578    -0.13   0.895     -.148209    .1295483\n",
      "        race |  -.1836443   .1558151    -1.18   0.239    -.4890363    .1217476\n",
      "     sibling |   .2137055   .1100417     1.94   0.052    -.0019724    .4293833\n",
      "      fmedu2 |   .8039633   .0889304     9.04   0.000     .6296628    .9782638\n",
      "      fmedu3 |    .198138    .095117     2.08   0.037     .0117121    .3845639\n",
      "       _cons |  -1.281155   .8326789    -1.54   0.124    -2.913175     .350866\n",
      "------------------------------------------------------------------------------\n",
      "\n",
      "\n",
      "\n",
      "Note: the common support option has been selected\n",
      "The region of common support is [.07981392, .83238747]\n",
      "\n",
      "\n",
      "\n",
      "Description of the estimated propensity score \n",
      "in region of common support \n",
      "\n",
      "                 Estimated propensity score\n",
      "-------------------------------------------------------------\n",
      "      Percentiles      Smallest\n",
      " 1%     .0913784       .0798139\n",
      " 5%     .1134165       .0798139\n",
      "10%     .1397529       .0798139       Obs               4,137\n",
      "25%     .2179474       .0798139       Sum of wgt.       4,137\n",
      "\n",
      "50%     .4006644                      Mean           .3971477\n",
      "                        Largest       Std. dev.      .1977145\n",
      "75%      .530137       .8223759\n",
      "90%     .6705877       .8264575       Variance        .039091\n",
      "95%     .7619456       .8264575       Skewness       .2716646\n",
      "99%     .8007715       .8323875       Kurtosis       2.080826\n",
      "\n",
      "\n",
      "\n",
      "****************************************************** \n",
      "Step 1: Identification of the optimal number of blocks \n",
      "Use option detail if you want more detailed output \n",
      "****************************************************** \n",
      "\n",
      "\n",
      "The final number of blocks is 9\n",
      "\n",
      "This number of blocks ensures that the mean propensity score\n",
      "is not different for treated and controls in each blocks\n",
      "\n",
      "\n",
      "\n",
      "********************************************************** \n",
      "Step 2: Test of balancing property of the propensity score \n",
      "Use option detail if you want more detailed output \n",
      "********************************************************** \n",
      "\n",
      "\n",
      "The balancing property is satisfied \n",
      "\n",
      "\n",
      "This table shows the inferior bound, the number of treated\n",
      "and the number of controls for each block \n",
      "\n",
      "  Inferior |\n",
      "  of block |      是否上大学\n",
      "of pscore  |        否         是 |     Total\n",
      "-----------+----------------------+----------\n",
      "  .0798139 |       775        121 |       896 \n",
      "        .2 |       252         55 |       307 \n",
      "       .25 |       215         85 |       300 \n",
      "        .3 |       334        220 |       554 \n",
      "        .4 |       480        393 |       873 \n",
      "        .5 |       194        213 |       407 \n",
      "        .6 |       168        285 |       453 \n",
      "        .7 |        69        223 |       292 \n",
      "        .8 |         7         48 |        55 \n",
      "-----------+----------------------+----------\n",
      "     Total |     2,494      1,643 |     4,137 \n",
      "Note: the common support option has been selected\n",
      "\n",
      "\n",
      "******************************************* \n",
      "End of the algorithm to estimate the pscore \n",
      "******************************************* \n",
      "\n",
      ". \n"
     ]
    }
   ],
   "execution_count": 27
  },
  {
   "metadata": {
    "ExecuteTime": {
     "end_time": "2025-03-02T13:38:12.797139Z",
     "start_time": "2025-03-02T13:38:12.676439Z"
    }
   },
   "cell_type": "code",
   "source": "%stata atts lninc college, pscore(ps) blockid(strata) comsup",
   "id": "a57447bb707bdac7",
   "outputs": [
    {
     "name": "stdout",
     "output_type": "stream",
     "text": [
      "\n",
      "\n",
      "\n",
      "ATT estimation with the Stratification method\n",
      "Analytical standard errors\n",
      "\n",
      "---------------------------------------------------------\n",
      "n. treat.   n. contr.         ATT   Std. Err.           t\n",
      "---------------------------------------------------------\n",
      "\n",
      "     1643        2494       0.691       0.043      15.984\n",
      "\n",
      "---------------------------------------------------------\n"
     ]
    }
   ],
   "execution_count": 28
  },
  {
   "metadata": {
    "ExecuteTime": {
     "end_time": "2025-03-02T13:39:10.038437Z",
     "start_time": "2025-03-02T13:39:08.927888Z"
    }
   },
   "cell_type": "code",
   "source": [
    "## 使用SM方法分析干预效应的异质性\n",
    "%stata hte sm lninc college hukou hukouage age age2 gender race sibling fmedu2 fmedu3, logit comsup"
   ],
   "id": "d46c3fc42f8150ac",
   "outputs": [
    {
     "name": "stdout",
     "output_type": "stream",
     "text": [
      "\n",
      "                                                       Number of obs =    4137\n",
      "------------------------------------------------------------------------------\n",
      "       lninc |      Coef.   Std. Err.      z    P>|z|     [95% Conf. Interval]\n",
      "-------------+----------------------------------------------------------------\n",
      "TE by strata |                                                                \n",
      "           1 |   1.127695   .1261502     8.94   0.000     .8804449    1.374945\n",
      "           2 |   1.022366   .1455883     7.02   0.000      .737018    1.307714\n",
      "           3 |   1.060989   .1569723     6.76   0.000     .7533288    1.368649\n",
      "           4 |   .7679974   .0852362     9.01   0.000     .6009374    .9350574\n",
      "           5 |   .5875918   .0806062     7.29   0.000     .4296066     .745577\n",
      "           6 |   .5250521    .112322     4.67   0.000      .304905    .7451992\n",
      "           7 |   .6410306   .0995247     6.44   0.000     .4459658    .8360953\n",
      "           8 |   .6611019   .1463207     4.52   0.000     .3743187    .9478852\n",
      "           9 |    .216667   .3767465     0.58   0.565    -.5217426    .9550766\n",
      "-------------+----------------------------------------------------------------\n",
      "Linear trend |                                                                \n",
      "      _slope |  -.0853021   .0192192    -4.44   0.000     -.122971   -.0476333\n",
      "       _cons |   1.141173   .0992395    11.50   0.000     .9466673    1.335679\n",
      "------------------------------------------------------------------------------\n",
      "TE = treatment effect\n"
     ]
    },
    {
     "data": {
      "text/plain": [
       "<IPython.core.display.SVG object>"
      ],
      "image/svg+xml": "<svg height=\"384px\" version=\"1.1\" viewBox=\"0 0 3960 2880\" width=\"528px\" xmlns=\"http://www.w3.org/2000/svg\" xmlns:xlink=\"http://www.w3.org/1999/xlink\">\n\t<desc>Stata Graph - Graph</desc>\n\t<rect height=\"2880\" style=\"fill:#EAF2F3;stroke:none\" width=\"3960\" x=\"0\" y=\"0\"/>\n\t<rect height=\"2880.00\" style=\"fill:#EAF2F3\" width=\"3959.88\" x=\"0.00\" y=\"0.00\"/>\n\t<rect height=\"2874.24\" style=\"fill:none;stroke:#EAF2F3;stroke-width:5.76\" width=\"3954.12\" x=\"2.88\" y=\"2.88\"/>\n\t<rect height=\"1848.26\" style=\"fill:#FFFFFF\" width=\"3468.22\" x=\"390.80\" y=\"245.40\"/>\n\t<rect height=\"1842.50\" style=\"fill:none;stroke:#FFFFFF;stroke-width:5.76\" width=\"3462.46\" x=\"393.68\" y=\"248.28\"/>\n\t<line style=\"stroke:#EAF2F3;stroke-width:8.64\" x1=\"390.80\" x2=\"3859.02\" y1=\"2011.87\" y2=\"2011.87\"/>\n\t<line style=\"stroke:#EAF2F3;stroke-width:8.64\" x1=\"390.80\" x2=\"3859.02\" y1=\"1586.03\" y2=\"1586.03\"/>\n\t<line style=\"stroke:#EAF2F3;stroke-width:8.64\" x1=\"390.80\" x2=\"3859.02\" y1=\"1160.32\" y2=\"1160.32\"/>\n\t<line style=\"stroke:#EAF2F3;stroke-width:8.64\" x1=\"390.80\" x2=\"3859.02\" y1=\"734.48\" y2=\"734.48\"/>\n\t<line style=\"stroke:#EAF2F3;stroke-width:8.64\" x1=\"390.80\" x2=\"3859.02\" y1=\"308.77\" y2=\"308.77\"/>\n\t<line style=\"stroke:#1A476F;stroke-width:8.64\" x1=\"454.16\" x2=\"454.16\" y1=\"836.33\" y2=\"415.19\"/>\n\t<line stroke-linecap=\"round\" style=\"stroke:#1A476F;stroke-width:8.64\" x1=\"432.14\" x2=\"476.19\" y1=\"415.19\" y2=\"415.19\"/>\n\t<line stroke-linecap=\"round\" style=\"stroke:#1A476F;stroke-width:8.64\" x1=\"432.14\" x2=\"476.19\" y1=\"836.33\" y2=\"836.33\"/>\n\t<line style=\"stroke:#1A476F;stroke-width:8.64\" x1=\"871.82\" x2=\"871.82\" y1=\"958.47\" y2=\"472.49\"/>\n\t<line stroke-linecap=\"round\" style=\"stroke:#1A476F;stroke-width:8.64\" x1=\"849.79\" x2=\"893.85\" y1=\"472.49\" y2=\"472.49\"/>\n\t<line stroke-linecap=\"round\" style=\"stroke:#1A476F;stroke-width:8.64\" x1=\"849.79\" x2=\"893.85\" y1=\"958.47\" y2=\"958.47\"/>\n\t<line style=\"stroke:#1A476F;stroke-width:8.64\" x1=\"1289.47\" x2=\"1289.47\" y1=\"944.49\" y2=\"420.52\"/>\n\t<line stroke-linecap=\"round\" style=\"stroke:#1A476F;stroke-width:8.64\" x1=\"1267.45\" x2=\"1311.50\" y1=\"420.52\" y2=\"420.52\"/>\n\t<line stroke-linecap=\"round\" style=\"stroke:#1A476F;stroke-width:8.64\" x1=\"1267.45\" x2=\"1311.50\" y1=\"944.49\" y2=\"944.49\"/>\n\t<line style=\"stroke:#1A476F;stroke-width:8.64\" x1=\"1707.26\" x2=\"1707.26\" y1=\"1074.31\" y2=\"789.80\"/>\n\t<line stroke-linecap=\"round\" style=\"stroke:#1A476F;stroke-width:8.64\" x1=\"1685.23\" x2=\"1729.28\" y1=\"789.80\" y2=\"789.80\"/>\n\t<line stroke-linecap=\"round\" style=\"stroke:#1A476F;stroke-width:8.64\" x1=\"1685.23\" x2=\"1729.28\" y1=\"1074.31\" y2=\"1074.31\"/>\n\t<line style=\"stroke:#1A476F;stroke-width:8.64\" x1=\"2124.91\" x2=\"2124.91\" y1=\"1220.21\" y2=\"951.17\"/>\n\t<line stroke-linecap=\"round\" style=\"stroke:#1A476F;stroke-width:8.64\" x1=\"2102.88\" x2=\"2146.94\" y1=\"951.17\" y2=\"951.17\"/>\n\t<line stroke-linecap=\"round\" style=\"stroke:#1A476F;stroke-width:8.64\" x1=\"2102.88\" x2=\"2146.94\" y1=\"1220.21\" y2=\"1220.21\"/>\n\t<line style=\"stroke:#1A476F;stroke-width:8.64\" x1=\"2542.57\" x2=\"2542.57\" y1=\"1326.39\" y2=\"951.42\"/>\n\t<line stroke-linecap=\"round\" style=\"stroke:#1A476F;stroke-width:8.64\" x1=\"2520.54\" x2=\"2564.59\" y1=\"951.42\" y2=\"951.42\"/>\n\t<line stroke-linecap=\"round\" style=\"stroke:#1A476F;stroke-width:8.64\" x1=\"2520.54\" x2=\"2564.59\" y1=\"1326.39\" y2=\"1326.39\"/>\n\t<line style=\"stroke:#1A476F;stroke-width:8.64\" x1=\"2960.35\" x2=\"2960.35\" y1=\"1206.23\" y2=\"874.07\"/>\n\t<line stroke-linecap=\"round\" style=\"stroke:#1A476F;stroke-width:8.64\" x1=\"2938.32\" x2=\"2982.38\" y1=\"874.07\" y2=\"874.07\"/>\n\t<line stroke-linecap=\"round\" style=\"stroke:#1A476F;stroke-width:8.64\" x1=\"2938.32\" x2=\"2982.38\" y1=\"1206.23\" y2=\"1206.23\"/>\n\t<line style=\"stroke:#1A476F;stroke-width:8.64\" x1=\"3378.00\" x2=\"3378.00\" y1=\"1267.24\" y2=\"778.91\"/>\n\t<line stroke-linecap=\"round\" style=\"stroke:#1A476F;stroke-width:8.64\" x1=\"3355.98\" x2=\"3400.03\" y1=\"778.91\" y2=\"778.91\"/>\n\t<line stroke-linecap=\"round\" style=\"stroke:#1A476F;stroke-width:8.64\" x1=\"3355.98\" x2=\"3400.03\" y1=\"1267.24\" y2=\"1267.24\"/>\n\t<line style=\"stroke:#1A476F;stroke-width:8.64\" x1=\"3795.66\" x2=\"3795.66\" y1=\"2030.31\" y2=\"772.72\"/>\n\t<line stroke-linecap=\"round\" style=\"stroke:#1A476F;stroke-width:8.64\" x1=\"3773.63\" x2=\"3817.69\" y1=\"772.72\" y2=\"772.72\"/>\n\t<line stroke-linecap=\"round\" style=\"stroke:#1A476F;stroke-width:8.64\" x1=\"3773.63\" x2=\"3817.69\" y1=\"2030.31\" y2=\"2030.31\"/>\n\t<circle cx=\"454.04\" cy=\"625.82\" r=\"26.35\" style=\"fill:#90353B\"/>\n\t<circle cx=\"454.04\" cy=\"625.82\" r=\"22.03\" style=\"fill:none;stroke:#90353B;stroke-width:8.64\"/>\n\t<circle cx=\"871.82\" cy=\"715.54\" r=\"26.35\" style=\"fill:#90353B\"/>\n\t<circle cx=\"871.82\" cy=\"715.54\" r=\"22.03\" style=\"fill:none;stroke:#90353B;stroke-width:8.64\"/>\n\t<circle cx=\"1289.47\" cy=\"682.63\" r=\"26.35\" style=\"fill:#90353B\"/>\n\t<circle cx=\"1289.47\" cy=\"682.63\" r=\"22.03\" style=\"fill:none;stroke:#90353B;stroke-width:8.64\"/>\n\t<circle cx=\"1707.13\" cy=\"932.11\" r=\"26.35\" style=\"fill:#90353B\"/>\n\t<circle cx=\"1707.13\" cy=\"932.11\" r=\"22.03\" style=\"fill:none;stroke:#90353B;stroke-width:8.64\"/>\n\t<circle cx=\"2124.91\" cy=\"1085.69\" r=\"26.35\" style=\"fill:#90353B\"/>\n\t<circle cx=\"2124.91\" cy=\"1085.69\" r=\"22.03\" style=\"fill:none;stroke:#90353B;stroke-width:8.64\"/>\n\t<circle cx=\"2542.57\" cy=\"1139.03\" r=\"26.35\" style=\"fill:#90353B\"/>\n\t<circle cx=\"2542.57\" cy=\"1139.03\" r=\"22.03\" style=\"fill:none;stroke:#90353B;stroke-width:8.64\"/>\n\t<circle cx=\"2960.22\" cy=\"1040.28\" r=\"26.35\" style=\"fill:#90353B\"/>\n\t<circle cx=\"2960.22\" cy=\"1040.28\" r=\"22.03\" style=\"fill:none;stroke:#90353B;stroke-width:8.64\"/>\n\t<circle cx=\"3378.00\" cy=\"1023.20\" r=\"26.35\" style=\"fill:#90353B\"/>\n\t<circle cx=\"3378.00\" cy=\"1023.20\" r=\"22.03\" style=\"fill:none;stroke:#90353B;stroke-width:8.64\"/>\n\t<circle cx=\"3795.66\" cy=\"1401.64\" r=\"26.35\" style=\"fill:#90353B\"/>\n\t<circle cx=\"3795.66\" cy=\"1401.64\" r=\"22.03\" style=\"fill:none;stroke:#90353B;stroke-width:8.64\"/>\n\t<path d=\" M454.04 686.96 L871.82 759.60 L1289.47 832.24 L1707.13 904.89 L2124.91 977.53 L2542.57 1050.18 L2960.22 1122.82 L3378.00 1195.46 L3795.66 1268.11\" stroke-linejoin=\"round\" style=\"fill:none;stroke:#55752F;stroke-width:8.64\"/>\n\t<line style=\"stroke:#000000;stroke-width:5.76\" x1=\"390.80\" x2=\"390.80\" y1=\"2093.67\" y2=\"245.40\"/>\n\t<line style=\"stroke:#000000;stroke-width:5.76\" x1=\"390.80\" x2=\"350.83\" y1=\"2011.87\" y2=\"2011.87\"/>\n\t<text style=\"font-family:'Helvetica';font-size:99.99px;fill:#000000\" text-anchor=\"middle\" transform=\"rotate(-90 300.72,2011.87)\" x=\"300.72\" y=\"2011.87\">-.5</text>\n\t<line style=\"stroke:#000000;stroke-width:5.76\" x1=\"390.80\" x2=\"350.83\" y1=\"1586.03\" y2=\"1586.03\"/>\n\t<text style=\"font-family:'Helvetica';font-size:99.99px;fill:#000000\" text-anchor=\"middle\" transform=\"rotate(-90 300.72,1586.03)\" x=\"300.72\" y=\"1586.03\">0</text>\n\t<line style=\"stroke:#000000;stroke-width:5.76\" x1=\"390.80\" x2=\"350.83\" y1=\"1160.32\" y2=\"1160.32\"/>\n\t<text style=\"font-family:'Helvetica';font-size:99.99px;fill:#000000\" text-anchor=\"middle\" transform=\"rotate(-90 300.72,1160.32)\" x=\"300.72\" y=\"1160.32\">.5</text>\n\t<line style=\"stroke:#000000;stroke-width:5.76\" x1=\"390.80\" x2=\"350.83\" y1=\"734.48\" y2=\"734.48\"/>\n\t<text style=\"font-family:'Helvetica';font-size:99.99px;fill:#000000\" text-anchor=\"middle\" transform=\"rotate(-90 300.72,734.48)\" x=\"300.72\" y=\"734.48\">1</text>\n\t<line style=\"stroke:#000000;stroke-width:5.76\" x1=\"390.80\" x2=\"350.83\" y1=\"308.77\" y2=\"308.77\"/>\n\t<text style=\"font-family:'Helvetica';font-size:99.99px;fill:#000000\" text-anchor=\"middle\" transform=\"rotate(-90 300.72,308.77)\" x=\"300.72\" y=\"308.77\">1.5</text>\n\t<text style=\"font-family:'Helvetica';font-size:99.99px;fill:#000000\" text-anchor=\"middle\" transform=\"rotate(-90 190.71,1169.47)\" x=\"190.71\" y=\"1169.47\">Treatment Effect</text>\n\t<line style=\"stroke:#000000;stroke-width:5.76\" x1=\"390.80\" x2=\"3859.02\" y1=\"2093.67\" y2=\"2093.67\"/>\n\t<line style=\"stroke:#000000;stroke-width:5.76\" x1=\"454.16\" x2=\"454.16\" y1=\"2093.67\" y2=\"2133.64\"/>\n\t<text style=\"font-family:'Helvetica';font-size:99.99px;fill:#000000\" text-anchor=\"middle\" x=\"454.16\" y=\"2223.62\">1</text>\n\t<line style=\"stroke:#000000;stroke-width:5.76\" x1=\"871.82\" x2=\"871.82\" y1=\"2093.67\" y2=\"2133.64\"/>\n\t<text style=\"font-family:'Helvetica';font-size:99.99px;fill:#000000\" text-anchor=\"middle\" x=\"871.82\" y=\"2223.62\">2</text>\n\t<line style=\"stroke:#000000;stroke-width:5.76\" x1=\"1289.47\" x2=\"1289.47\" y1=\"2093.67\" y2=\"2133.64\"/>\n\t<text style=\"font-family:'Helvetica';font-size:99.99px;fill:#000000\" text-anchor=\"middle\" x=\"1289.47\" y=\"2223.62\">3</text>\n\t<line style=\"stroke:#000000;stroke-width:5.76\" x1=\"1707.26\" x2=\"1707.26\" y1=\"2093.67\" y2=\"2133.64\"/>\n\t<text style=\"font-family:'Helvetica';font-size:99.99px;fill:#000000\" text-anchor=\"middle\" x=\"1707.26\" y=\"2223.62\">4</text>\n\t<line style=\"stroke:#000000;stroke-width:5.76\" x1=\"2124.91\" x2=\"2124.91\" y1=\"2093.67\" y2=\"2133.64\"/>\n\t<text style=\"font-family:'Helvetica';font-size:99.99px;fill:#000000\" text-anchor=\"middle\" x=\"2124.91\" y=\"2223.62\">5</text>\n\t<line style=\"stroke:#000000;stroke-width:5.76\" x1=\"2542.57\" x2=\"2542.57\" y1=\"2093.67\" y2=\"2133.64\"/>\n\t<text style=\"font-family:'Helvetica';font-size:99.99px;fill:#000000\" text-anchor=\"middle\" x=\"2542.57\" y=\"2223.62\">6</text>\n\t<line style=\"stroke:#000000;stroke-width:5.76\" x1=\"2960.35\" x2=\"2960.35\" y1=\"2093.67\" y2=\"2133.64\"/>\n\t<text style=\"font-family:'Helvetica';font-size:99.99px;fill:#000000\" text-anchor=\"middle\" x=\"2960.35\" y=\"2223.62\">7</text>\n\t<line style=\"stroke:#000000;stroke-width:5.76\" x1=\"3378.00\" x2=\"3378.00\" y1=\"2093.67\" y2=\"2133.64\"/>\n\t<text style=\"font-family:'Helvetica';font-size:99.99px;fill:#000000\" text-anchor=\"middle\" x=\"3378.00\" y=\"2223.62\">8</text>\n\t<line style=\"stroke:#000000;stroke-width:5.76\" x1=\"3795.66\" x2=\"3795.66\" y1=\"2093.67\" y2=\"2133.64\"/>\n\t<text style=\"font-family:'Helvetica';font-size:99.99px;fill:#000000\" text-anchor=\"middle\" x=\"3795.66\" y=\"2223.62\">9</text>\n\t<text style=\"font-family:'Helvetica';font-size:99.99px;fill:#000000\" text-anchor=\"middle\" x=\"2124.91\" y=\"2333.64\">Propensity Score Strata</text>\n\t<rect height=\"326.34\" style=\"fill:#FFFFFF\" width=\"1993.24\" x=\"1128.35\" y=\"2418.27\"/>\n\t<rect height=\"320.58\" style=\"fill:none;stroke:#000000;stroke-width:5.76\" width=\"1987.48\" x=\"1131.23\" y=\"2421.15\"/>\n\t<line style=\"stroke:#1A476F;stroke-width:8.64\" x1=\"1171.54\" x2=\"1545.89\" y1=\"2511.46\" y2=\"2511.46\"/>\n\t<line style=\"stroke:#1A476F;stroke-width:8.64\" x1=\"1171.54\" x2=\"1171.54\" y1=\"2533.49\" y2=\"2489.43\"/>\n\t<line style=\"stroke:#1A476F;stroke-width:8.64\" x1=\"1545.89\" x2=\"1545.89\" y1=\"2533.49\" y2=\"2489.43\"/>\n\t<circle cx=\"2280.22\" cy=\"2511.46\" r=\"26.35\" style=\"fill:#90353B\"/>\n\t<circle cx=\"2280.22\" cy=\"2511.46\" r=\"22.03\" style=\"fill:none;stroke:#90353B;stroke-width:8.64\"/>\n\t<line style=\"stroke:#55752F;stroke-width:8.64\" x1=\"1171.54\" x2=\"1545.89\" y1=\"2651.43\" y2=\"2651.43\"/>\n\t<text style=\"font-family:'Helvetica';font-size:99.99px;fill:#000000\" x=\"1605.90\" y=\"2546.49\">95% CI</text>\n\t<text style=\"font-family:'Helvetica';font-size:99.99px;fill:#000000\" x=\"2362.26\" y=\"2546.49\">TE within strata</text>\n\t<text style=\"font-family:'Helvetica';font-size:99.99px;fill:#000000\" x=\"1605.90\" y=\"2686.46\">linear trend</text>\n\t<text style=\"font-family:'Helvetica';font-size:110.01px;fill:#000000\" text-anchor=\"middle\" x=\"2124.91\" y=\"195.01\">slope of linear trend (s.e.) = -0.085 (0.019)</text>\n</svg>"
     },
     "metadata": {},
     "output_type": "display_data"
    }
   ],
   "execution_count": 29
  },
  {
   "metadata": {
    "ExecuteTime": {
     "end_time": "2025-03-02T13:42:13.063658Z",
     "start_time": "2025-03-02T13:42:11.310498Z"
    }
   },
   "cell_type": "code",
   "source": [
    "## 使用MS方法分析干预效应的异质性\n",
    "%stata hte ms lninc college hukou hukouage age age2 gender race sibling fmedu2 fmedu3, logit common noscatter lpolyci"
   ],
   "id": "94f1b518298911ea",
   "outputs": [
    {
     "name": "stdout",
     "output_type": "stream",
     "text": [
      "(running psmatch2 ...)\n",
      "\n",
      "Logistic regression                                     Number of obs =  4,137\n",
      "                                                        LR chi2(9)    = 714.57\n",
      "                                                        Prob > chi2   = 0.0000\n",
      "Log likelihood = -2422.1087                             Pseudo R2     = 0.1285\n",
      "\n",
      "------------------------------------------------------------------------------\n",
      "     college | Coefficient  Std. err.      z    P>|z|     [95% conf. interval]\n",
      "-------------+----------------------------------------------------------------\n",
      "       hukou |   .7612414   .3489558     2.18   0.029     .0773006    1.445182\n",
      "    hukouage |   -.010548   .0087546    -1.20   0.228    -.0277067    .0066107\n",
      "         age |   .1150714   .0429697     2.68   0.007     .0308523    .1992905\n",
      "        age2 |  -.0024131    .000549    -4.40   0.000    -.0034892    -.001337\n",
      "      gender |  -.0093303   .0708578    -0.13   0.895     -.148209    .1295484\n",
      "        race |  -.1836443   .1558151    -1.18   0.239    -.4890363    .1217476\n",
      "     sibling |   .2137055   .1100417     1.94   0.052    -.0019724    .4293833\n",
      "      fmedu2 |   .8039633   .0889304     9.04   0.000     .6296628    .9782638\n",
      "      fmedu3 |    .198138    .095117     2.08   0.037     .0117121    .3845639\n",
      "       _cons |  -1.281155   .8326789    -1.54   0.124    -2.913175     .350866\n",
      "------------------------------------------------------------------------------\n",
      "-------------------------------------------------------------------------------\n",
      "> ---------\n",
      "        Variable     Sample |    Treated     Controls   Difference         S.E.\n",
      ">    T-stat\n",
      "----------------------------+--------------------------------------------------\n",
      "> ---------\n",
      "           lninc  Unmatched | 10.1768011   9.35318907   .823612033    .03653383\n",
      ">     22.54\n",
      "                        ATT | 10.1782293   9.42346546    .75476386     .0881435\n",
      ">      8.56\n",
      "                        ATU | 9.35318907   10.1910798   .837890778            .\n",
      ">         .\n",
      "                        ATE |                           .804937755            .\n",
      ">         .\n",
      "----------------------------+--------------------------------------------------\n",
      "> ---------\n",
      "Note: S.E. does not take into account that the propensity score is estimated.\n",
      "\n",
      " psmatch2: |   psmatch2: Common\n",
      " Treatment |        support\n",
      "assignment | Off suppo  On suppor |     Total\n",
      "-----------+----------------------+----------\n",
      " Untreated |         0      2,494 |     2,494 \n",
      "   Treated |         5      1,638 |     1,643 \n",
      "-----------+----------------------+----------\n",
      "     Total |         5      4,132 |     4,137 \n",
      "(compiling HTE graph ...)\n"
     ]
    },
    {
     "data": {
      "text/plain": [
       "<IPython.core.display.SVG object>"
      ],
      "image/svg+xml": "<svg height=\"384px\" version=\"1.1\" viewBox=\"0 0 3960 2880\" width=\"528px\" xmlns=\"http://www.w3.org/2000/svg\" xmlns:xlink=\"http://www.w3.org/1999/xlink\">\n\t<desc>Stata Graph - Graph</desc>\n\t<rect height=\"2880\" style=\"fill:#EAF2F3;stroke:none\" width=\"3960\" x=\"0\" y=\"0\"/>\n\t<rect height=\"2880.00\" style=\"fill:#EAF2F3\" width=\"3959.88\" x=\"0.00\" y=\"0.00\"/>\n\t<rect height=\"2874.24\" style=\"fill:none;stroke:#EAF2F3;stroke-width:5.76\" width=\"3954.12\" x=\"2.88\" y=\"2.88\"/>\n\t<rect height=\"1958.28\" style=\"fill:#FFFFFF\" width=\"3468.22\" x=\"390.80\" y=\"275.35\"/>\n\t<rect height=\"1952.52\" style=\"fill:none;stroke:#FFFFFF;stroke-width:5.76\" width=\"3462.46\" x=\"393.68\" y=\"278.23\"/>\n\t<line style=\"stroke:#EAF2F3;stroke-width:8.64\" x1=\"390.80\" x2=\"3859.02\" y1=\"2170.27\" y2=\"2170.27\"/>\n\t<line style=\"stroke:#EAF2F3;stroke-width:8.64\" x1=\"390.80\" x2=\"3859.02\" y1=\"1559.79\" y2=\"1559.79\"/>\n\t<line style=\"stroke:#EAF2F3;stroke-width:8.64\" x1=\"390.80\" x2=\"3859.02\" y1=\"949.32\" y2=\"949.32\"/>\n\t<line style=\"stroke:#EAF2F3;stroke-width:8.64\" x1=\"390.80\" x2=\"3859.02\" y1=\"338.71\" y2=\"338.71\"/>\n\t<defs>\n\t\t<path d=\"M783.21 764.55 L783.21 764.55 L844.72 799.82 L906.22 810.96 L967.73 809.97 L1029.23 806.50 L1090.61 822.59 L1152.11 847.59 L1213.62 863.18 L1275.12 887.69 L1336.62 907.49 L1398.00 945.85 L1459.51 969.36 L1521.01 990.28 L1582.52 1015.52 L1644.02 1062.43 L1705.40 1131.73 L1766.90 1205.61 L1828.41 1254.86 L1889.91 1285.68 L1951.41 1328.37 L2012.79 1414.14 L2074.30 1484.92 L2135.80 1540.86 L2197.30 1606.70 L2258.81 1680.70 L2320.19 1740.47 L2381.69 1778.96 L2443.20 1800.37 L2504.70 1820.42 L2566.20 1838.49 L2627.58 1852.60 L2689.09 1844.18 L2750.59 1800.62 L2812.10 1696.91 L2873.60 1594.57 L2934.98 1541.85 L2996.48 1502.99 L3057.99 1480.96 L3119.49 1469.58 L3180.99 1427.50 L3242.37 1405.47 L3303.88 1381.96 L3365.38 1396.07 L3426.89 1427.38 L3488.39 1468.83 L3549.77 1518.95 L3611.27 1610.78 L3672.78 1662.63 L3734.28 1676.74 L3795.66 1686.64 L3795.66 1098.93 L3734.28 1116.26 L3672.78 1136.06 L3611.27 1127.03 L3549.77 1079.26 L3488.39 1069.23 L3426.89 1056.12 L3365.38 1037.92 L3303.88 1024.93 L3242.37 1055.50 L3180.99 1085.07 L3119.49 1138.54 L3057.99 1162.17 L2996.48 1196.45 L2934.98 1248.55 L2873.60 1312.78 L2812.10 1420.08 L2750.59 1533.68 L2689.09 1589.12 L2627.58 1607.44 L2566.20 1602.37 L2504.70 1590.73 L2443.20 1573.53 L2381.69 1554.97 L2320.19 1520.69 L2258.81 1464.50 L2197.30 1392.23 L2135.80 1327.63 L2074.30 1272.44 L2012.79 1201.16 L1951.41 1109.82 L1889.91 1065.03 L1828.41 1034.95 L1766.90 989.41 L1705.40 917.14 L1644.02 847.84 L1582.52 802.42 L1521.01 777.17 L1459.51 757.25 L1398.00 735.84 L1336.62 701.44 L1275.12 684.98 L1213.62 662.21 L1152.11 643.27 L1090.61 611.47 L1029.23 585.73 L967.73 577.81 L906.22 563.82 L844.72 535.85 L783.21 480.04 L783.21 764.55 Z\" id=\"path_IWvlCxbW\" stroke-linejoin=\"round\"/>\n\t</defs>\n\t<defs>\n\t\t<clipPath id=\"clipPath_huuHusMW\">\n\t\t\t<use xlink:href=\"#path_IWvlCxbW\"/>\n\t\t</clipPath>\n\t</defs>\n\t<use style=\"stroke:none;fill:#C0C0C0\" xlink:href=\"#path_IWvlCxbW\"/>\n\t<use clip-path=\"url(#clipPath_huuHusMW)\" style=\"fill:none;stroke:#C0C0C0;stroke-width:17.28\" xlink:href=\"#path_IWvlCxbW\"/>\n\t<path d=\" M783.21 622.36 L844.72 667.90 L906.10 687.45 L967.60 694.01 L1029.11 696.24 L1090.61 717.03 L1152.11 745.49 L1213.49 762.82 L1275.00 786.33 L1336.50 804.52 L1398.00 840.91 L1459.51 863.43 L1520.89 883.73 L1582.39 908.97 L1643.90 955.26 L1705.40 1024.43 L1766.90 1097.57 L1828.28 1144.97 L1889.79 1175.41 L1951.29 1219.10 L2012.79 1307.71 L2074.30 1378.74 L2135.68 1434.31 L2197.18 1499.53 L2258.69 1572.66 L2320.19 1630.70 L2381.69 1666.96 L2443.07 1687.01 L2504.58 1705.70 L2566.08 1720.55 L2627.58 1730.08 L2689.09 1716.71 L2750.47 1667.21 L2811.97 1558.56 L2873.48 1453.74 L2934.98 1395.32 L2996.48 1349.78 L3057.86 1321.57 L3119.37 1304.12 L3180.87 1256.35 L3242.37 1230.61 L3303.88 1203.51 L3365.26 1217.00 L3426.76 1241.75 L3488.27 1269.10 L3549.77 1299.17 L3611.27 1368.97 L3672.65 1399.41 L3734.16 1396.56 L3795.66 1392.85\" stroke-linejoin=\"round\" style=\"fill:none;stroke:#1A476F;stroke-width:8.64\"/>\n\t<line style=\"stroke:#000000;stroke-width:5.76\" x1=\"390.80\" x2=\"390.80\" y1=\"2233.63\" y2=\"275.35\"/>\n\t<line style=\"stroke:#000000;stroke-width:5.76\" x1=\"390.80\" x2=\"350.83\" y1=\"2170.27\" y2=\"2170.27\"/>\n\t<text style=\"font-family:'Helvetica';font-size:99.99px;fill:#000000\" text-anchor=\"middle\" transform=\"rotate(-90 300.72,2170.27)\" x=\"300.72\" y=\"2170.27\">0</text>\n\t<line style=\"stroke:#000000;stroke-width:5.76\" x1=\"390.80\" x2=\"350.83\" y1=\"1559.79\" y2=\"1559.79\"/>\n\t<text style=\"font-family:'Helvetica';font-size:99.99px;fill:#000000\" text-anchor=\"middle\" transform=\"rotate(-90 300.72,1559.79)\" x=\"300.72\" y=\"1559.79\">.5</text>\n\t<line style=\"stroke:#000000;stroke-width:5.76\" x1=\"390.80\" x2=\"350.83\" y1=\"949.32\" y2=\"949.32\"/>\n\t<text style=\"font-family:'Helvetica';font-size:99.99px;fill:#000000\" text-anchor=\"middle\" transform=\"rotate(-90 300.72,949.32)\" x=\"300.72\" y=\"949.32\">1</text>\n\t<line style=\"stroke:#000000;stroke-width:5.76\" x1=\"390.80\" x2=\"350.83\" y1=\"338.71\" y2=\"338.71\"/>\n\t<text style=\"font-family:'Helvetica';font-size:99.99px;fill:#000000\" text-anchor=\"middle\" transform=\"rotate(-90 300.72,338.71)\" x=\"300.72\" y=\"338.71\">1.5</text>\n\t<text style=\"font-family:'Helvetica';font-size:99.99px;fill:#000000\" text-anchor=\"middle\" transform=\"rotate(-90 190.71,1254.49)\" x=\"190.71\" y=\"1254.49\">Treatment Effect</text>\n\t<line style=\"stroke:#000000;stroke-width:5.76\" x1=\"390.80\" x2=\"3859.02\" y1=\"2233.63\" y2=\"2233.63\"/>\n\t<line style=\"stroke:#000000;stroke-width:5.76\" x1=\"454.16\" x2=\"454.16\" y1=\"2233.63\" y2=\"2273.73\"/>\n\t<text style=\"font-family:'Helvetica';font-size:99.99px;fill:#000000\" text-anchor=\"middle\" x=\"454.16\" y=\"2363.59\">0</text>\n\t<line style=\"stroke:#000000;stroke-width:5.76\" x1=\"1278.83\" x2=\"1278.83\" y1=\"2233.63\" y2=\"2273.73\"/>\n\t<text style=\"font-family:'Helvetica';font-size:99.99px;fill:#000000\" text-anchor=\"middle\" x=\"1278.83\" y=\"2363.59\">.2</text>\n\t<line style=\"stroke:#000000;stroke-width:5.76\" x1=\"2103.63\" x2=\"2103.63\" y1=\"2233.63\" y2=\"2273.73\"/>\n\t<text style=\"font-family:'Helvetica';font-size:99.99px;fill:#000000\" text-anchor=\"middle\" x=\"2103.63\" y=\"2363.59\">.4</text>\n\t<line style=\"stroke:#000000;stroke-width:5.76\" x1=\"2928.30\" x2=\"2928.30\" y1=\"2233.63\" y2=\"2273.73\"/>\n\t<text style=\"font-family:'Helvetica';font-size:99.99px;fill:#000000\" text-anchor=\"middle\" x=\"2928.30\" y=\"2363.59\">.6</text>\n\t<line style=\"stroke:#000000;stroke-width:5.76\" x1=\"3752.97\" x2=\"3752.97\" y1=\"2233.63\" y2=\"2273.73\"/>\n\t<text style=\"font-family:'Helvetica';font-size:99.99px;fill:#000000\" text-anchor=\"middle\" x=\"3752.97\" y=\"2363.59\">.8</text>\n\t<text style=\"font-family:'Helvetica';font-size:99.99px;fill:#000000\" text-anchor=\"middle\" x=\"2124.91\" y=\"2473.60\">Propensity Score</text>\n\t<rect height=\"186.37\" style=\"fill:#FFFFFF\" width=\"2022.32\" x=\"1113.75\" y=\"2558.24\"/>\n\t<rect height=\"180.61\" style=\"fill:none;stroke:#000000;stroke-width:5.76\" width=\"2016.56\" x=\"1116.63\" y=\"2561.12\"/>\n\t<rect height=\"99.99\" style=\"fill:#C0C0C0\" width=\"374.47\" x=\"1156.94\" y=\"2601.43\"/>\n\t<rect height=\"91.35\" style=\"fill:none;stroke:#C0C0C0;stroke-width:8.64\" width=\"365.83\" x=\"1161.26\" y=\"2605.75\"/>\n\t<line style=\"stroke:#1A476F;stroke-width:8.64\" x1=\"2076.77\" x2=\"2451.24\" y1=\"2651.43\" y2=\"2651.43\"/>\n\t<text style=\"font-family:'Helvetica';font-size:99.99px;fill:#000000\" x=\"1591.43\" y=\"2686.46\">lpoly CI</text>\n\t<text style=\"font-family:'Helvetica';font-size:99.99px;fill:#000000\" x=\"2511.14\" y=\"2686.46\">lpoly smooth</text>\n\t<text style=\"font-family:'Helvetica';font-size:139.96px;fill:#1E2D53\" text-anchor=\"middle\" x=\"2124.91\" y=\"215.98\">lninc</text>\n</svg>"
     },
     "metadata": {},
     "output_type": "display_data"
    }
   ],
   "execution_count": 30
  },
  {
   "metadata": {
    "ExecuteTime": {
     "end_time": "2025-03-02T13:44:50.904047Z",
     "start_time": "2025-03-02T13:44:50.483580Z"
    }
   },
   "cell_type": "code",
   "source": [
    "## 使用SD方法分析干预效应的异质性\n",
    "%stata hte sd lninc college hukou hukouage age age2 gender race sibling fmedu2 fmedu3, logit comsup"
   ],
   "id": "b315b4ea5297f0bd",
   "outputs": [
    {
     "data": {
      "text/plain": [
       "<IPython.core.display.SVG object>"
      ],
      "image/svg+xml": "<svg height=\"384px\" version=\"1.1\" viewBox=\"0 0 3960 2880\" width=\"528px\" xmlns=\"http://www.w3.org/2000/svg\" xmlns:xlink=\"http://www.w3.org/1999/xlink\">\n\t<desc>Stata Graph - Graph</desc>\n\t<rect height=\"2880\" style=\"fill:#EAF2F3;stroke:none\" width=\"3960\" x=\"0\" y=\"0\"/>\n\t<rect height=\"2880.00\" style=\"fill:#EAF2F3\" width=\"3959.88\" x=\"0.00\" y=\"0.00\"/>\n\t<rect height=\"2874.24\" style=\"fill:none;stroke:#EAF2F3;stroke-width:5.76\" width=\"3954.12\" x=\"2.88\" y=\"2.88\"/>\n\t<rect height=\"2132.77\" style=\"fill:#FFFFFF\" width=\"3468.22\" x=\"390.80\" y=\"100.86\"/>\n\t<rect height=\"2127.01\" style=\"fill:none;stroke:#FFFFFF;stroke-width:5.76\" width=\"3462.46\" x=\"393.68\" y=\"103.74\"/>\n\t<line style=\"stroke:#EAF2F3;stroke-width:8.64\" x1=\"390.80\" x2=\"3859.02\" y1=\"2170.27\" y2=\"2170.27\"/>\n\t<line style=\"stroke:#EAF2F3;stroke-width:8.64\" x1=\"390.80\" x2=\"3859.02\" y1=\"1668.82\" y2=\"1668.82\"/>\n\t<line style=\"stroke:#EAF2F3;stroke-width:8.64\" x1=\"390.80\" x2=\"3859.02\" y1=\"1167.25\" y2=\"1167.25\"/>\n\t<line style=\"stroke:#EAF2F3;stroke-width:8.64\" x1=\"390.80\" x2=\"3859.02\" y1=\"665.67\" y2=\"665.67\"/>\n\t<defs>\n\t\t<path d=\"M825.41 512.22 L825.41 512.22 L907.95 695.25 L990.50 804.52 L1072.91 875.93 L1155.45 930.38 L1237.99 976.54 L1320.54 1013.30 L1402.95 1044.11 L1485.50 1073.69 L1568.04 1105.99 L1650.45 1126.78 L1733.00 1158.95 L1815.54 1191.63 L1898.08 1238.53 L1980.50 1285.56 L2063.04 1334.44 L2145.58 1386.04 L2228.12 1434.93 L2310.54 1467.84 L2393.08 1489.13 L2475.62 1499.40 L2558.16 1494.08 L2640.58 1479.11 L2723.12 1470.44 L2805.66 1464.26 L2888.08 1451.39 L2970.62 1416.98 L3053.16 1395.45 L3135.70 1388.39 L3218.12 1376.64 L3300.66 1365.50 L3383.20 1350.77 L3465.74 1330.73 L3548.16 1308.33 L3630.70 1275.65 L3713.24 1236.05 L3795.66 1182.72 L3795.66 2140.32 L3713.24 1995.04 L3630.70 1897.89 L3548.16 1830.32 L3465.74 1776.86 L3383.20 1739.98 L3300.66 1719.44 L3218.12 1709.78 L3135.70 1714.36 L3053.16 1712.88 L2970.62 1717.58 L2888.08 1731.07 L2805.66 1725.62 L2723.12 1717.95 L2640.58 1717.83 L2558.16 1729.71 L2475.62 1731.56 L2393.08 1714.98 L2310.54 1686.02 L2228.12 1647.29 L2145.58 1595.31 L2063.04 1542.84 L1980.50 1494.82 L1898.08 1450.15 L1815.54 1405.47 L1733.00 1376.27 L1650.45 1348.17 L1568.04 1328.13 L1485.50 1296.57 L1402.95 1269.84 L1320.54 1245.71 L1237.99 1223.18 L1155.45 1202.76 L1072.91 1190.88 L990.50 1184.94 L907.95 1176.78 L825.41 1151.03 L825.41 512.22 Z\" id=\"path_zDpsZkLS\" stroke-linejoin=\"round\"/>\n\t</defs>\n\t<defs>\n\t\t<clipPath id=\"clipPath_EgmcnyKH\">\n\t\t\t<use xlink:href=\"#path_zDpsZkLS\"/>\n\t\t</clipPath>\n\t</defs>\n\t<use style=\"stroke:none;fill:#C0C0C0\" xlink:href=\"#path_zDpsZkLS\"/>\n\t<use clip-path=\"url(#clipPath_EgmcnyKH)\" style=\"fill:none;stroke:#C0C0C0;stroke-width:17.28\" xlink:href=\"#path_zDpsZkLS\"/>\n\t<path d=\" M825.41 831.75 L907.83 936.07 L990.37 994.86 L1072.91 1033.47 L1155.45 1066.63 L1237.87 1099.92 L1320.41 1129.50 L1402.95 1156.97 L1485.37 1185.19 L1567.91 1217.12 L1650.45 1237.54 L1733.00 1267.73 L1815.41 1298.67 L1897.95 1344.34 L1980.50 1390.25 L2063.04 1438.64 L2145.45 1490.74 L2228.00 1541.11 L2310.54 1577.00 L2393.08 1602.12 L2475.50 1615.61 L2558.04 1612.02 L2640.58 1598.53 L2723.00 1594.20 L2805.54 1594.94 L2888.08 1591.35 L2970.62 1567.34 L3053.04 1554.22 L3135.58 1551.38 L3218.12 1543.21 L3300.66 1542.59 L3383.08 1545.44 L3465.62 1553.85 L3548.16 1569.45 L3630.70 1586.77 L3713.12 1615.61 L3795.66 1661.52\" stroke-linejoin=\"round\" style=\"fill:none;stroke:#90353B;stroke-width:8.64\"/>\n\t<line style=\"stroke:#000000;stroke-width:5.76\" x1=\"390.80\" x2=\"390.80\" y1=\"2233.63\" y2=\"100.86\"/>\n\t<line style=\"stroke:#000000;stroke-width:5.76\" x1=\"390.80\" x2=\"350.83\" y1=\"2170.27\" y2=\"2170.27\"/>\n\t<text style=\"font-family:'Helvetica';font-size:99.99px;fill:#000000\" text-anchor=\"middle\" transform=\"rotate(-90 300.72,2170.27)\" x=\"300.72\" y=\"2170.27\">0</text>\n\t<line style=\"stroke:#000000;stroke-width:5.76\" x1=\"390.80\" x2=\"350.83\" y1=\"1668.82\" y2=\"1668.82\"/>\n\t<text style=\"font-family:'Helvetica';font-size:99.99px;fill:#000000\" text-anchor=\"middle\" transform=\"rotate(-90 300.72,1668.82)\" x=\"300.72\" y=\"1668.82\">.5</text>\n\t<line style=\"stroke:#000000;stroke-width:5.76\" x1=\"390.80\" x2=\"350.83\" y1=\"1167.25\" y2=\"1167.25\"/>\n\t<text style=\"font-family:'Helvetica';font-size:99.99px;fill:#000000\" text-anchor=\"middle\" transform=\"rotate(-90 300.72,1167.25)\" x=\"300.72\" y=\"1167.25\">1</text>\n\t<line style=\"stroke:#000000;stroke-width:5.76\" x1=\"390.80\" x2=\"350.83\" y1=\"665.67\" y2=\"665.67\"/>\n\t<text style=\"font-family:'Helvetica';font-size:99.99px;fill:#000000\" text-anchor=\"middle\" transform=\"rotate(-90 300.72,665.67)\" x=\"300.72\" y=\"665.67\">1.5</text>\n\t<line style=\"stroke:#000000;stroke-width:5.76\" x1=\"390.80\" x2=\"350.83\" y1=\"164.22\" y2=\"164.22\"/>\n\t<text style=\"font-family:'Helvetica';font-size:99.99px;fill:#000000\" text-anchor=\"middle\" transform=\"rotate(-90 300.72,164.22)\" x=\"300.72\" y=\"164.22\">2</text>\n\t<text style=\"font-family:'Helvetica';font-size:99.99px;fill:#000000\" text-anchor=\"middle\" transform=\"rotate(-90 190.71,1167.25)\" x=\"190.71\" y=\"1167.25\">Treatment Effect</text>\n\t<line style=\"stroke:#000000;stroke-width:5.76\" x1=\"390.80\" x2=\"3859.02\" y1=\"2233.63\" y2=\"2233.63\"/>\n\t<line style=\"stroke:#000000;stroke-width:5.76\" x1=\"454.16\" x2=\"454.16\" y1=\"2233.63\" y2=\"2273.73\"/>\n\t<text style=\"font-family:'Helvetica';font-size:99.99px;fill:#000000\" text-anchor=\"middle\" x=\"454.16\" y=\"2363.59\">0</text>\n\t<line style=\"stroke:#000000;stroke-width:5.76\" x1=\"1279.20\" x2=\"1279.20\" y1=\"2233.63\" y2=\"2273.73\"/>\n\t<text style=\"font-family:'Helvetica';font-size:99.99px;fill:#000000\" text-anchor=\"middle\" x=\"1279.20\" y=\"2363.59\">.2</text>\n\t<line style=\"stroke:#000000;stroke-width:5.76\" x1=\"2104.25\" x2=\"2104.25\" y1=\"2233.63\" y2=\"2273.73\"/>\n\t<text style=\"font-family:'Helvetica';font-size:99.99px;fill:#000000\" text-anchor=\"middle\" x=\"2104.25\" y=\"2363.59\">.4</text>\n\t<line style=\"stroke:#000000;stroke-width:5.76\" x1=\"2929.41\" x2=\"2929.41\" y1=\"2233.63\" y2=\"2273.73\"/>\n\t<text style=\"font-family:'Helvetica';font-size:99.99px;fill:#000000\" text-anchor=\"middle\" x=\"2929.41\" y=\"2363.59\">.6</text>\n\t<line style=\"stroke:#000000;stroke-width:5.76\" x1=\"3754.45\" x2=\"3754.45\" y1=\"2233.63\" y2=\"2273.73\"/>\n\t<text style=\"font-family:'Helvetica';font-size:99.99px;fill:#000000\" text-anchor=\"middle\" x=\"3754.45\" y=\"2363.59\">.8</text>\n\t<text style=\"font-family:'Helvetica';font-size:99.99px;fill:#000000\" text-anchor=\"middle\" x=\"2124.91\" y=\"2473.60\">Propensity Score</text>\n\t<rect height=\"186.37\" style=\"fill:#FFFFFF\" width=\"1759.73\" x=\"1245.05\" y=\"2558.24\"/>\n\t<rect height=\"180.61\" style=\"fill:none;stroke:#000000;stroke-width:5.76\" width=\"1753.97\" x=\"1247.93\" y=\"2561.12\"/>\n\t<rect height=\"99.99\" style=\"fill:#C0C0C0\" width=\"374.34\" x=\"1288.24\" y=\"2601.43\"/>\n\t<rect height=\"91.35\" style=\"fill:none;stroke:#C0C0C0;stroke-width:8.64\" width=\"365.70\" x=\"1292.56\" y=\"2605.75\"/>\n\t<line style=\"stroke:#90353B;stroke-width:8.64\" x1=\"2196.56\" x2=\"2570.91\" y1=\"2651.43\" y2=\"2651.43\"/>\n\t<text style=\"font-family:'Helvetica';font-size:99.99px;fill:#000000\" x=\"1722.60\" y=\"2686.46\">95% CI</text>\n\t<text style=\"font-family:'Helvetica';font-size:99.99px;fill:#000000\" x=\"2630.93\" y=\"2686.46\">lpoly fit</text>\n</svg>"
     },
     "metadata": {},
     "output_type": "display_data"
    }
   ],
   "execution_count": 31
  },
  {
   "metadata": {
    "ExecuteTime": {
     "end_time": "2025-03-02T13:47:48.774627Z",
     "start_time": "2025-03-02T13:47:48.667319Z"
    }
   },
   "cell_type": "code",
   "source": [
    "%%stata\n",
    "\n",
    "// 倾向值加权（手动实现）\n",
    "// 计算倾斜值\n",
    "qui logit college hukou hukou##c.age c.age##c.age gender race sibling fmedu2 fmedu3\n",
    "predict p"
   ],
   "id": "cc6ad92f2a8276f2",
   "outputs": [
    {
     "name": "stdout",
     "output_type": "stream",
     "text": [
      "\n",
      ". \n",
      ". // 倾向值加权（手动实现）\n",
      ". qui logit college hukou hukou##c.age c.age##c.age gender race sibling fmedu2 \n",
      "> fmedu3\n",
      "\n",
      ". predict p\n",
      "(option pr assumed; Pr(college))\n",
      "\n",
      ". \n"
     ]
    }
   ],
   "execution_count": 36
  },
  {
   "metadata": {
    "ExecuteTime": {
     "end_time": "2025-03-02T13:50:09.972105Z",
     "start_time": "2025-03-02T13:50:09.899836Z"
    }
   },
   "cell_type": "code",
   "source": [
    "%%stata\n",
    "\n",
    "// 计算权重\n",
    "gen w_ate=1/p if college==1\n",
    "replace w_ate=1/(1-p) if college==0\n",
    "\n",
    "gen w_att=1 if college==1\n",
    "replace w_att=p/(1-p) if college==0\n",
    "\n",
    "gen w_atu=(1-p)/p if college==1\n",
    "replace w_atu=1 if college==0"
   ],
   "id": "9f1ced6faceda4fc",
   "outputs": [
    {
     "name": "stdout",
     "output_type": "stream",
     "text": [
      "\n",
      ". \n",
      ". // 计算权重\n",
      ". gen w_ate=1/p if college==1\n",
      "(2,494 missing values generated)\n",
      "\n",
      ". replace w_ate=1/(1-p) if college==0\n",
      "(2,494 real changes made)\n",
      "\n",
      ". \n",
      ". gen w_att=1 if college==1\n",
      "(2,494 missing values generated)\n",
      "\n",
      ". replace w_att=p/(1-p) if college==0\n",
      "(2,494 real changes made)\n",
      "\n",
      ". \n",
      ". gen w_atu=(1-p)/p if college==1\n",
      "(2,494 missing values generated)\n",
      "\n",
      ". replace w_atu=1 if college==0\n",
      "(2,494 real changes made)\n",
      "\n",
      ". \n"
     ]
    }
   ],
   "execution_count": 37
  },
  {
   "metadata": {
    "ExecuteTime": {
     "end_time": "2025-03-02T13:52:22.824062Z",
     "start_time": "2025-03-02T13:52:22.719994Z"
    }
   },
   "cell_type": "code",
   "source": [
    "%%stata\n",
    "\n",
    "// 进行加权线性回归\n",
    "reg lninc college [pw=w_ate], vce(cluster provcd)\n",
    "reg lninc college [pw=w_att], vce(cluster provcd)\n",
    "reg lninc college [pw=w_atu], vce(cluster provcd)"
   ],
   "id": "2181d95b5e57f814",
   "outputs": [
    {
     "name": "stdout",
     "output_type": "stream",
     "text": [
      "\n",
      ". \n",
      ". // 进行加权线性回归\n",
      ". reg lninc college [pw=w_ate], vce(cluster provcd)\n",
      "(sum of wgt is 8,296.73905217648)\n",
      "\n",
      "Linear regression                               Number of obs     =      4,137\n",
      "                                                F(1, 24)          =     238.29\n",
      "                                                Prob > F          =     0.0000\n",
      "                                                R-squared         =     0.1157\n",
      "                                                Root MSE          =     1.1086\n",
      "\n",
      "                                (Std. err. adjusted for 25 clusters in provcd)\n",
      "------------------------------------------------------------------------------\n",
      "             |               Robust\n",
      "       lninc | Coefficient  std. err.      t    P>|t|     [95% conf. interval]\n",
      "-------------+----------------------------------------------------------------\n",
      "     college |    .801988   .0519531    15.44   0.000      .694762    .9092139\n",
      "       _cons |   9.405058   .1124885    83.61   0.000     9.172893    9.637223\n",
      "------------------------------------------------------------------------------\n",
      "\n",
      ". reg lninc college [pw=w_att], vce(cluster provcd)\n",
      "(sum of wgt is 3,285.49713142961)\n",
      "\n",
      "Linear regression                               Number of obs     =      4,137\n",
      "                                                F(1, 24)          =     184.39\n",
      "                                                Prob > F          =     0.0000\n",
      "                                                R-squared         =     0.0890\n",
      "                                                Root MSE          =     1.1085\n",
      "\n",
      "                                (Std. err. adjusted for 25 clusters in provcd)\n",
      "------------------------------------------------------------------------------\n",
      "             |               Robust\n",
      "       lninc | Coefficient  std. err.      t    P>|t|     [95% conf. interval]\n",
      "-------------+----------------------------------------------------------------\n",
      "     college |   .6929841   .0510332    13.58   0.000     .5876567    .7983114\n",
      "       _cons |   9.483817   .1180324    80.35   0.000      9.24021    9.727424\n",
      "------------------------------------------------------------------------------\n",
      "\n",
      ". reg lninc college [pw=w_atu], vce(cluster provcd)\n",
      "(sum of wgt is 5,011.24193204939)\n",
      "\n",
      "Linear regression                               Number of obs     =      4,137\n",
      "                                                F(1, 24)          =     237.54\n",
      "                                                Prob > F          =     0.0000\n",
      "                                                R-squared         =     0.1348\n",
      "                                                Root MSE          =      1.107\n",
      "\n",
      "                                (Std. err. adjusted for 25 clusters in provcd)\n",
      "------------------------------------------------------------------------------\n",
      "             |               Robust\n",
      "       lninc | Coefficient  std. err.      t    P>|t|     [95% conf. interval]\n",
      "-------------+----------------------------------------------------------------\n",
      "     college |   .8735978   .0566819    15.41   0.000     .7566121    .9905836\n",
      "       _cons |   9.353189   .1084703    86.23   0.000     9.129317    9.577061\n",
      "------------------------------------------------------------------------------\n",
      "\n",
      ". \n"
     ]
    }
   ],
   "execution_count": 38
  },
  {
   "metadata": {
    "ExecuteTime": {
     "end_time": "2025-03-02T13:55:51.610968Z",
     "start_time": "2025-03-02T13:55:50.472092Z"
    }
   },
   "cell_type": "code",
   "source": [
    "%%stata\n",
    "\n",
    "// 倾向值加权\n",
    "teffects ipw (lninc) (college hukou hukou##c.age c.age##c.age gender race sibling fmedu2 fmedu3)\n",
    "teffects ipw (lninc) (college hukou hukou##c.age c.age##c.age gender race sibling fmedu2 fmedu3), atet"
   ],
   "id": "cf9b7ecc56665c13",
   "outputs": [
    {
     "name": "stdout",
     "output_type": "stream",
     "text": [
      "\n",
      ". \n",
      ". // 倾向值加权\n",
      ". teffects ipw (lninc) (college hukou hukou##c.age c.age##c.age gender race sib\n",
      "> ling fmedu2 fmedu3)\n",
      "note: 1.hukou omitted because of collinearity.\n",
      "note: age omitted because of collinearity.\n",
      "\n",
      "Iteration 0:   EE criterion =  3.679e-21  \n",
      "Iteration 1:   EE criterion =  5.065e-31  \n",
      "\n",
      "Treatment-effects estimation                    Number of obs     =      4,137\n",
      "Estimator      : inverse-probability weights\n",
      "Outcome model  : weighted mean\n",
      "Treatment model: logit\n",
      "------------------------------------------------------------------------------\n",
      "             |               Robust\n",
      "       lninc | Coefficient  std. err.      z    P>|z|     [95% conf. interval]\n",
      "-------------+----------------------------------------------------------------\n",
      "ATE          |\n",
      "     college |\n",
      " (是 vs 否)  |    .801988   .0379528    21.13   0.000     .7276019    .8763741\n",
      "-------------+----------------------------------------------------------------\n",
      "POmean       |\n",
      "     college |\n",
      "         否  |   9.405058   .0271151   346.86   0.000     9.351913    9.458203\n",
      "------------------------------------------------------------------------------\n",
      "\n",
      ". teffects ipw (lninc) (college hukou hukou##c.age c.age##c.age gender race sib\n",
      "> ling fmedu2 fmedu3), atet\n",
      "note: 1.hukou omitted because of collinearity.\n",
      "note: age omitted because of collinearity.\n",
      "\n",
      "Iteration 0:   EE criterion =  3.679e-21  \n",
      "Iteration 1:   EE criterion =  1.085e-31  \n",
      "\n",
      "Treatment-effects estimation                    Number of obs     =      4,137\n",
      "Estimator      : inverse-probability weights\n",
      "Outcome model  : weighted mean\n",
      "Treatment model: logit\n",
      "------------------------------------------------------------------------------\n",
      "             |               Robust\n",
      "       lninc | Coefficient  std. err.      z    P>|z|     [95% conf. interval]\n",
      "-------------+----------------------------------------------------------------\n",
      "ATET         |\n",
      "     college |\n",
      " (是 vs 否)  |   .6929841   .0417058    16.62   0.000     .6112421     .774726\n",
      "-------------+----------------------------------------------------------------\n",
      "POmean       |\n",
      "     college |\n",
      "         否  |   9.483817   .0358907   264.24   0.000     9.413472    9.554162\n",
      "------------------------------------------------------------------------------\n",
      "\n",
      ". \n"
     ]
    }
   ],
   "execution_count": 39
  },
  {
   "metadata": {
    "ExecuteTime": {
     "end_time": "2025-03-02T14:02:06.839096Z",
     "start_time": "2025-03-02T14:02:06.755231Z"
    }
   },
   "cell_type": "code",
   "source": [
    "## 平衡性检验（回归分析说明年龄不会受到分组的影响）\n",
    "%stata reg age college [pw=w_ate], vce(cluster provcd)"
   ],
   "id": "e07c564e926e83bf",
   "outputs": [
    {
     "name": "stdout",
     "output_type": "stream",
     "text": [
      "(sum of wgt is 8,296.73905217648)\n",
      "\n",
      "Linear regression                               Number of obs     =      4,137\n",
      "                                                F(1, 24)          =       0.08\n",
      "                                                Prob > F          =     0.7796\n",
      "                                                R-squared         =     0.0001\n",
      "                                                Root MSE          =     9.1311\n",
      "\n",
      "                                (Std. err. adjusted for 25 clusters in provcd)\n",
      "------------------------------------------------------------------------------\n",
      "             |               Robust\n",
      "         age | Coefficient  std. err.      t    P>|t|     [95% conf. interval]\n",
      "-------------+----------------------------------------------------------------\n",
      "     college |   .1454856   .5140792     0.28   0.780    -.9155217    1.206493\n",
      "       _cons |   39.65485   .4101642    96.68   0.000     38.80831    40.50138\n",
      "------------------------------------------------------------------------------\n"
     ]
    }
   ],
   "execution_count": 40
  },
  {
   "metadata": {
    "ExecuteTime": {
     "end_time": "2025-03-02T14:04:02.756289Z",
     "start_time": "2025-03-02T14:04:02.547864Z"
    }
   },
   "cell_type": "code",
   "source": "%stata qui teffects ipw (lninc) (college hukou hukou##c.age c.age##c.age gender race sibling fmedu2 fmedu3)",
   "id": "9db2947dbc8eb91",
   "outputs": [],
   "execution_count": 41
  },
  {
   "metadata": {
    "ExecuteTime": {
     "end_time": "2025-03-02T14:04:14.512808Z",
     "start_time": "2025-03-02T14:04:14.369142Z"
    }
   },
   "cell_type": "code",
   "source": "%stata tebalance summarize",
   "id": "8743ede4c9b46d58",
   "outputs": [
    {
     "name": "stdout",
     "output_type": "stream",
     "text": [
      "\n",
      "Covariate balance summary\n",
      "\n",
      "                         Raw     Weighted\n",
      "-----------------------------------------\n",
      "Number of obs =        4,137      4,137.0\n",
      "Treated obs   =        1,643      2,074.4\n",
      "Control obs   =        2,494      2,062.6\n",
      "-----------------------------------------\n",
      "\n",
      "-----------------------------------------------------------------\n",
      "                |Standardized differences          Variance ratio\n",
      "                |        Raw    Weighted           Raw   Weighted\n",
      "----------------+------------------------------------------------\n",
      "          hukou |   .2397965      .01079      1.082133   1.004144\n",
      "            age |  -.7815923    .0159334       .816613   1.034943\n",
      "                |\n",
      "          hukou#|\n",
      "            age |\n",
      "      城镇户口  |   .0759021    .0149513      .7676175   1.022716\n",
      "                |\n",
      "            age#|\n",
      "            age |  -.7903714    .0196792      .7091451   1.050748\n",
      "                |\n",
      "         gender |  -.0820793    .0237794      1.025374   .9914028\n",
      "           race |  -.0477992   -.0021336      1.211041   1.008475\n",
      "        sibling |   .3643434    .0024262      2.011046   1.004868\n",
      "         fmedu2 |   .5419858   -.0040888      2.039276   .9943991\n",
      "         fmedu3 |  -.2528053   -.0025766      .6928676   .9964834\n",
      "-----------------------------------------------------------------\n"
     ]
    }
   ],
   "execution_count": 42
  },
  {
   "metadata": {
    "ExecuteTime": {
     "end_time": "2025-03-02T14:04:35.715527Z",
     "start_time": "2025-03-02T14:04:34.845039Z"
    }
   },
   "cell_type": "code",
   "source": "%stata tebalance density age",
   "id": "bee548b1b6b8f0c8",
   "outputs": [
    {
     "data": {
      "text/plain": [
       "<IPython.core.display.SVG object>"
      ],
      "image/svg+xml": "<svg height=\"384px\" version=\"1.1\" viewBox=\"0 0 3960 2880\" width=\"528px\" xmlns=\"http://www.w3.org/2000/svg\" xmlns:xlink=\"http://www.w3.org/1999/xlink\">\n\t<desc>Stata Graph - Graph</desc>\n\t<rect height=\"2880\" style=\"fill:#EAF2F3;stroke:none\" width=\"3960\" x=\"0\" y=\"0\"/>\n\t<rect height=\"2880.00\" style=\"fill:#EAF2F3\" width=\"3959.88\" x=\"0.00\" y=\"0.00\"/>\n\t<rect height=\"2874.24\" style=\"fill:none;stroke:#EAF2F3;stroke-width:5.76\" width=\"3954.12\" x=\"2.88\" y=\"2.88\"/>\n\t<rect height=\"1688.87\" style=\"fill:#FFFFFF\" width=\"1683.50\" x=\"388.33\" y=\"432.77\"/>\n\t<rect height=\"1683.97\" style=\"fill:none;stroke:#FFFFFF;stroke-width:4.90\" width=\"1678.60\" x=\"390.78\" y=\"435.22\"/>\n\t<line style=\"stroke:#EAF2F3;stroke-width:7.34\" x1=\"388.33\" x2=\"2071.82\" y1=\"2067.68\" y2=\"2067.68\"/>\n\t<line style=\"stroke:#EAF2F3;stroke-width:7.34\" x1=\"388.33\" x2=\"2071.82\" y1=\"1540.74\" y2=\"1540.74\"/>\n\t<line style=\"stroke:#EAF2F3;stroke-width:7.34\" x1=\"388.33\" x2=\"2071.82\" y1=\"1013.67\" y2=\"1013.67\"/>\n\t<line style=\"stroke:#EAF2F3;stroke-width:7.34\" x1=\"388.33\" x2=\"2071.82\" y1=\"486.60\" y2=\"486.60\"/>\n\t<rect height=\"1688.87\" style=\"fill:#FFFFFF\" width=\"1683.50\" x=\"2141.00\" y=\"432.77\"/>\n\t<rect height=\"1683.97\" style=\"fill:none;stroke:#FFFFFF;stroke-width:4.90\" width=\"1678.60\" x=\"2143.45\" y=\"435.22\"/>\n\t<line style=\"stroke:#EAF2F3;stroke-width:7.34\" x1=\"2141.00\" x2=\"3824.49\" y1=\"2067.68\" y2=\"2067.68\"/>\n\t<line style=\"stroke:#EAF2F3;stroke-width:7.34\" x1=\"2141.00\" x2=\"3824.49\" y1=\"1540.74\" y2=\"1540.74\"/>\n\t<line style=\"stroke:#EAF2F3;stroke-width:7.34\" x1=\"2141.00\" x2=\"3824.49\" y1=\"1013.67\" y2=\"1013.67\"/>\n\t<line style=\"stroke:#EAF2F3;stroke-width:7.34\" x1=\"2141.00\" x2=\"3824.49\" y1=\"486.60\" y2=\"486.60\"/>\n\t<path d=\" M573.95 1945.66 L574.45 1944.05 L574.94 1942.44 L575.56 1940.83 L576.06 1939.35 L576.55 1937.74 L577.05 1936.25 L577.67 1934.64 L578.16 1933.16 L578.66 1931.55 L579.15 1930.07 L579.77 1928.58 L580.26 1927.10 L580.76 1925.49 L581.25 1924.00 L581.87 1922.52 L582.37 1921.16 L582.86 1919.67 L583.48 1918.18 L583.98 1916.70 L584.47 1915.21 L584.97 1913.85 L585.59 1912.37 L586.08 1911.01 L586.58 1909.52 L587.07 1908.16 L587.69 1906.80 L588.18 1905.44 L588.68 1903.95 L589.17 1902.59 L589.79 1901.23 L590.29 1899.87 L590.78 1898.51 L591.28 1897.27 L591.90 1895.91 L592.39 1894.55 L592.89 1893.19 L593.38 1891.95 L594.00 1890.59 L594.50 1889.35 L594.99 1887.99 L595.49 1886.75 L596.10 1885.51 L596.60 1884.28 L597.09 1882.92 L597.59 1881.68 L598.21 1880.44 L598.70 1879.20 L599.20 1877.96 L599.69 1876.85 L600.31 1875.61 L600.81 1874.38 L601.30 1873.14 L601.80 1872.02 L602.42 1870.79 L602.91 1869.67 L603.41 1868.56 L603.90 1867.32 L604.52 1866.21 L605.01 1865.09 L605.51 1863.98 L606.00 1862.87 L606.62 1861.63 L607.12 1860.64 L607.61 1859.53 L608.11 1858.41 L608.73 1857.30 L609.22 1856.18 L609.72 1855.19 L610.21 1854.08 L610.83 1853.09 L611.33 1851.98 L611.82 1850.37 L612.32 1848.26 L612.93 1846.04 L613.43 1843.81 L613.92 1841.71 L614.42 1839.60 L615.04 1837.50 L615.53 1835.39 L616.03 1833.29 L616.52 1831.19 L617.14 1829.08 L617.64 1826.98 L618.13 1825.00 L618.63 1822.89 L619.25 1820.91 L619.74 1818.81 L620.24 1816.83 L620.73 1814.85 L621.35 1812.87 L621.84 1810.89 L622.34 1808.91 L622.96 1807.05 L623.45 1805.07 L623.95 1803.22 L624.44 1801.24 L625.06 1799.38 L625.56 1797.52 L626.05 1795.54 L626.55 1793.69 L627.17 1791.83 L627.66 1790.10 L628.16 1788.24 L628.65 1786.39 L629.27 1784.65 L629.76 1782.80 L630.26 1781.07 L630.75 1779.33 L631.37 1777.48 L631.87 1775.74 L632.36 1774.01 L632.86 1772.28 L633.48 1770.67 L633.97 1768.94 L634.47 1767.21 L634.96 1765.60 L635.58 1763.99 L636.08 1762.26 L636.57 1760.65 L637.07 1759.04 L637.68 1757.43 L638.18 1755.82 L638.67 1754.21 L639.17 1752.73 L639.79 1751.12 L640.28 1749.51 L640.78 1748.02 L641.27 1746.54 L641.89 1744.93 L642.39 1743.44 L642.88 1741.96 L643.38 1740.47 L644.00 1738.99 L644.49 1737.63 L644.99 1736.14 L645.48 1734.78 L646.10 1733.30 L646.59 1731.94 L647.09 1730.57 L647.58 1729.09 L648.20 1727.73 L648.70 1726.37 L649.19 1725.01 L649.69 1723.77 L650.31 1722.41 L650.80 1721.05 L651.30 1719.06 L651.79 1716.71 L652.41 1714.36 L652.91 1712.01 L653.40 1709.78 L653.90 1707.43 L654.51 1705.20 L655.01 1702.85 L655.50 1700.63 L656.00 1698.40 L656.62 1696.17 L657.11 1693.94 L657.61 1691.84 L658.10 1689.61 L658.72 1687.51 L659.22 1685.28 L659.71 1683.18 L660.21 1681.07 L660.83 1678.97 L661.32 1676.86 L661.82 1674.88 L662.43 1672.78 L662.93 1670.80 L663.42 1668.82 L663.92 1666.84 L664.54 1664.86 L665.03 1662.88 L665.53 1660.90 L666.02 1658.92 L666.64 1657.06 L667.14 1655.08 L667.63 1653.23 L668.13 1651.37 L668.75 1649.52 L669.24 1647.66 L669.74 1645.93 L670.23 1644.07 L670.85 1642.21 L671.34 1640.48 L671.84 1638.75 L672.33 1637.02 L672.95 1635.28 L673.45 1633.55 L673.94 1631.82 L674.44 1630.21 L675.06 1628.48 L675.55 1626.87 L676.05 1625.26 L676.54 1623.65 L677.16 1622.04 L677.66 1620.43 L678.15 1618.95 L678.65 1617.34 L679.26 1615.85 L679.76 1614.25 L680.25 1612.76 L680.75 1611.28 L681.37 1609.79 L681.86 1608.43 L682.36 1606.94 L682.85 1605.46 L683.47 1604.10 L683.97 1602.74 L684.46 1601.38 L684.96 1600.01 L685.58 1598.65 L686.07 1597.29 L686.57 1595.93 L687.06 1594.69 L687.68 1593.45 L688.17 1592.09 L688.67 1590.86 L689.16 1589.62 L689.78 1588.50 L690.28 1587.27 L690.77 1585.41 L691.27 1583.31 L691.89 1581.20 L692.38 1579.22 L692.88 1577.24 L693.37 1575.26 L693.99 1573.28 L694.49 1571.30 L694.98 1569.45 L695.48 1567.47 L696.09 1565.61 L696.59 1563.75 L697.08 1561.90 L697.58 1560.04 L698.20 1558.18 L698.69 1556.45 L699.19 1554.72 L699.68 1552.86 L700.30 1551.13 L700.80 1549.40 L701.29 1547.79 L701.91 1546.06 L702.41 1544.45 L702.90 1542.84 L703.40 1541.11 L704.01 1539.50 L704.51 1538.01 L705.00 1536.40 L705.50 1534.92 L706.12 1533.31 L706.61 1531.83 L707.11 1530.34 L707.60 1528.86 L708.22 1527.49 L708.72 1526.01 L709.21 1524.65 L709.71 1523.16 L710.33 1521.80 L710.82 1520.44 L711.32 1519.20 L711.81 1517.84 L712.43 1516.60 L712.92 1515.24 L713.42 1514.00 L713.91 1512.77 L714.53 1511.53 L715.03 1510.42 L715.52 1509.18 L716.02 1508.06 L716.64 1506.83 L717.13 1505.71 L717.63 1504.60 L718.12 1503.61 L718.74 1502.50 L719.24 1501.51 L719.73 1500.39 L720.23 1499.40 L720.84 1498.41 L721.34 1497.42 L721.83 1496.56 L722.33 1495.57 L722.95 1494.70 L723.44 1493.83 L723.94 1492.97 L724.43 1492.10 L725.05 1491.23 L725.55 1490.37 L726.04 1489.63 L726.54 1488.88 L727.16 1488.02 L727.65 1487.40 L728.15 1486.66 L728.64 1485.91 L729.26 1485.29 L729.75 1484.55 L730.25 1482.94 L730.74 1481.33 L731.36 1479.60 L731.86 1477.99 L732.35 1476.51 L732.85 1474.90 L733.47 1473.41 L733.96 1471.80 L734.46 1470.32 L734.95 1468.83 L735.57 1467.47 L736.07 1465.99 L736.56 1464.63 L737.06 1463.27 L737.67 1461.90 L738.17 1460.54 L738.66 1459.18 L739.16 1457.94 L739.78 1456.71 L740.27 1455.47 L740.77 1454.23 L741.39 1452.99 L741.88 1451.88 L742.38 1450.64 L742.87 1449.53 L743.49 1448.42 L743.99 1447.30 L744.48 1446.31 L744.98 1445.32 L745.59 1444.21 L746.09 1443.22 L746.58 1442.35 L747.08 1441.36 L747.70 1440.37 L748.19 1439.50 L748.69 1438.64 L749.18 1437.77 L749.80 1436.91 L750.30 1436.16 L750.79 1435.42 L751.29 1434.55 L751.91 1433.94 L752.40 1433.19 L752.90 1432.45 L753.39 1431.83 L754.01 1431.21 L754.50 1430.47 L755.00 1429.98 L755.49 1429.36 L756.11 1428.74 L756.61 1428.24 L757.10 1427.75 L757.60 1427.25 L758.22 1426.76 L758.71 1426.39 L759.21 1425.89 L759.70 1425.52 L760.32 1425.15 L760.82 1424.78 L761.31 1424.53 L761.81 1424.16 L762.42 1423.91 L762.92 1423.66 L763.41 1423.42 L763.91 1423.17 L764.53 1423.05 L765.02 1422.92 L765.52 1422.67 L766.01 1422.55 L766.63 1422.55 L767.13 1422.43 L767.62 1422.43 L768.12 1422.30 L768.74 1422.30 L769.23 1422.30 L769.73 1421.07 L770.22 1419.95 L770.84 1418.96 L771.33 1417.85 L771.83 1416.86 L772.32 1415.87 L772.94 1414.88 L773.44 1413.89 L773.93 1413.02 L774.43 1412.16 L775.05 1411.29 L775.54 1410.42 L776.04 1409.68 L776.53 1408.81 L777.15 1408.07 L777.65 1407.33 L778.14 1406.71 L778.64 1405.97 L779.25 1405.35 L779.75 1404.73 L780.24 1404.11 L780.86 1403.62 L781.36 1403.12 L781.85 1402.50 L782.35 1402.13 L782.97 1401.64 L783.46 1401.14 L783.96 1400.77 L784.45 1400.40 L785.07 1399.90 L785.57 1398.91 L786.06 1397.92 L786.56 1396.93 L787.17 1396.07 L787.67 1395.20 L788.16 1394.33 L788.66 1393.47 L789.28 1392.73 L789.77 1391.86 L790.27 1391.12 L790.76 1390.37 L791.38 1389.63 L791.88 1389.01 L792.37 1388.27 L792.87 1387.65 L793.49 1387.03 L793.98 1386.54 L794.48 1385.92 L794.97 1385.42 L795.59 1384.81 L796.08 1384.31 L796.58 1383.94 L797.07 1383.44 L797.69 1383.07 L798.19 1382.70 L798.68 1382.33 L799.18 1381.96 L799.80 1381.59 L800.29 1381.34 L800.79 1381.09 L801.28 1380.85 L801.90 1380.60 L802.40 1380.47 L802.89 1380.23 L803.39 1380.10 L804.00 1379.98 L804.50 1379.86 L804.99 1379.86 L805.49 1379.73 L806.11 1379.73 L806.60 1379.73 L807.10 1379.86 L807.59 1379.86 L808.21 1379.98 L808.71 1379.86 L809.20 1379.11 L809.70 1378.37 L810.32 1377.63 L810.81 1377.01 L811.31 1376.39 L811.80 1375.77 L812.42 1375.15 L812.91 1374.53 L813.41 1374.04 L813.90 1373.54 L814.52 1373.05 L815.02 1372.68 L815.51 1372.18 L816.01 1371.81 L816.63 1371.44 L817.12 1371.19 L817.62 1370.82 L818.24 1370.57 L818.73 1370.33 L819.23 1370.08 L819.72 1369.96 L820.34 1369.71 L820.83 1369.58 L821.33 1369.46 L821.82 1369.46 L822.44 1369.34 L822.94 1369.34 L823.43 1369.34 L823.93 1369.46 L824.55 1369.09 L825.04 1368.47 L825.54 1367.98 L826.03 1367.36 L826.65 1366.86 L827.15 1366.37 L827.64 1366.00 L828.14 1365.50 L828.75 1365.13 L829.25 1364.63 L829.74 1364.26 L830.24 1364.02 L830.86 1363.64 L831.35 1363.40 L831.85 1363.15 L832.34 1362.90 L832.96 1362.65 L833.46 1362.53 L833.95 1362.28 L834.45 1362.16 L835.07 1362.04 L835.56 1362.04 L836.06 1361.91 L836.55 1361.91 L837.17 1361.91 L837.66 1361.91 L838.16 1361.91 L838.65 1362.04 L839.27 1362.16 L839.77 1362.16 L840.26 1362.41 L840.76 1362.53 L841.38 1362.78 L841.87 1362.90 L842.37 1363.15 L842.86 1363.52 L843.48 1363.77 L843.98 1364.14 L844.47 1364.39 L844.97 1364.76 L845.58 1365.25 L846.08 1365.62 L846.57 1366.12 L847.07 1366.61 L847.69 1367.11 L848.18 1367.11 L848.68 1366.49 L849.17 1366.00 L849.79 1365.38 L850.29 1364.88 L850.78 1364.39 L851.28 1364.02 L851.90 1363.64 L852.39 1363.27 L852.89 1362.90 L853.38 1362.53 L854.00 1362.28 L854.49 1362.04 L854.99 1361.79 L855.48 1361.54 L856.10 1361.42 L856.60 1361.17 L857.09 1361.17 L857.71 1361.05 L858.21 1360.92 L858.70 1360.92 L859.20 1360.92 L859.82 1360.92 L860.31 1361.05 L860.81 1361.17 L861.30 1361.29 L861.92 1361.42 L862.41 1361.54 L862.91 1361.79 L863.40 1362.04 L864.02 1361.79 L864.52 1361.29 L865.01 1360.80 L865.51 1360.30 L866.13 1359.81 L866.62 1359.44 L867.12 1359.06 L867.61 1358.69 L868.23 1358.32 L868.73 1357.95 L869.22 1357.70 L869.72 1357.46 L870.33 1357.21 L870.83 1357.08 L871.32 1356.84 L871.82 1356.71 L872.44 1356.59 L872.93 1356.47 L873.43 1356.47 L873.92 1356.34 L874.54 1356.34 L875.04 1356.34 L875.53 1356.34 L876.03 1356.47 L876.65 1356.59 L877.14 1356.71 L877.64 1356.84 L878.13 1356.96 L878.75 1357.21 L879.24 1357.33 L879.74 1357.58 L880.23 1357.95 L880.85 1358.20 L881.35 1358.57 L881.84 1358.94 L882.34 1359.31 L882.96 1359.68 L883.45 1360.18 L883.95 1360.55 L884.44 1361.05 L885.06 1361.54 L885.56 1362.16 L886.05 1362.65 L886.55 1363.27 L887.16 1363.89 L887.66 1364.02 L888.15 1363.89 L888.65 1363.64 L889.27 1363.52 L889.76 1363.40 L890.26 1363.27 L890.75 1363.15 L891.37 1363.15 L891.87 1363.15 L892.36 1363.15 L892.86 1363.27 L893.48 1363.27 L893.97 1363.40 L894.47 1363.52 L894.96 1363.77 L895.58 1363.89 L896.07 1364.14 L896.57 1364.39 L897.19 1364.76 L897.68 1365.01 L898.18 1365.38 L898.67 1365.75 L899.29 1366.12 L899.79 1366.61 L900.28 1367.11 L900.78 1367.60 L901.40 1368.10 L901.89 1368.72 L902.39 1369.21 L902.88 1369.83 L903.50 1369.58 L903.99 1369.09 L904.49 1368.59 L904.98 1368.22 L905.60 1367.73 L906.10 1367.36 L906.59 1366.99 L907.09 1366.74 L907.71 1366.37 L908.20 1366.12 L908.70 1365.87 L909.19 1365.62 L909.81 1365.38 L910.31 1365.25 L910.80 1365.13 L911.30 1365.01 L911.91 1364.88 L912.41 1364.76 L912.90 1364.76 L913.40 1364.76 L914.02 1364.76 L914.51 1364.76 L915.01 1364.76 L915.50 1364.88 L916.12 1365.01 L916.62 1365.13 L917.11 1365.25 L917.61 1365.50 L918.23 1365.62 L918.72 1365.87 L919.22 1366.12 L919.71 1366.37 L920.33 1366.74 L920.82 1367.11 L921.32 1367.48 L921.81 1367.85 L922.43 1368.22 L922.93 1368.72 L923.42 1369.09 L923.92 1369.58 L924.54 1370.20 L925.03 1370.70 L925.53 1371.19 L926.02 1371.81 L926.64 1372.43 L927.14 1372.55 L927.63 1372.31 L928.13 1372.18 L928.74 1372.06 L929.24 1372.06 L929.73 1371.94 L930.23 1371.94 L930.85 1371.94 L931.34 1372.06 L931.84 1372.06 L932.33 1372.18 L932.95 1372.31 L933.45 1372.43 L933.94 1372.68 L934.44 1372.80 L935.06 1373.05 L935.55 1373.30 L936.05 1373.67 L936.66 1373.92 L937.16 1374.29 L937.65 1374.66 L938.15 1375.15 L938.77 1375.52 L939.26 1376.02 L939.76 1376.51 L940.25 1377.01 L940.87 1377.63 L941.37 1378.25 L941.86 1378.87 L942.36 1379.48 L942.98 1379.11 L943.47 1378.74 L943.97 1378.37 L944.46 1378.00 L945.08 1377.63 L945.57 1377.38 L946.07 1377.13 L946.56 1376.89 L947.18 1376.64 L947.68 1376.51 L948.17 1376.27 L948.67 1376.14 L949.29 1376.02 L949.78 1376.02 L950.28 1375.90 L950.77 1375.90 L951.39 1375.90 L951.89 1375.90 L952.38 1375.90 L952.88 1375.90 L953.49 1376.02 L953.99 1376.14 L954.48 1376.27 L954.98 1376.39 L955.60 1376.64 L956.09 1376.76 L956.59 1377.01 L957.08 1377.26 L957.70 1377.63 L958.20 1377.88 L958.69 1378.25 L959.19 1378.62 L959.81 1378.99 L960.30 1379.36 L960.80 1379.73 L961.29 1380.23 L961.91 1380.72 L962.40 1381.22 L962.90 1381.71 L963.39 1382.33 L964.01 1382.83 L964.51 1383.44 L965.00 1384.06 L965.50 1384.81 L966.12 1385.42 L966.61 1385.30 L967.11 1384.93 L967.60 1384.68 L968.22 1384.56 L968.72 1384.31 L969.21 1384.19 L969.71 1384.06 L970.32 1383.94 L970.82 1383.82 L971.31 1383.82 L971.81 1383.82 L972.43 1383.82 L972.92 1383.82 L973.42 1383.94 L973.91 1384.06 L974.53 1384.19 L975.03 1384.31 L975.52 1384.43 L976.14 1384.68 L976.64 1384.93 L977.13 1385.18 L977.63 1385.55 L978.24 1385.80 L978.74 1386.17 L979.23 1386.54 L979.73 1386.91 L980.35 1387.40 L980.84 1387.90 L981.34 1388.39 L981.83 1388.77 L982.45 1388.39 L982.95 1388.15 L983.44 1387.78 L983.94 1387.53 L984.56 1387.28 L985.05 1387.03 L985.55 1386.91 L986.04 1386.66 L986.66 1386.54 L987.15 1386.41 L987.65 1386.29 L988.14 1386.29 L988.76 1386.17 L989.26 1386.17 L989.75 1386.17 L990.25 1386.29 L990.87 1386.29 L991.36 1386.41 L991.86 1386.54 L992.35 1386.66 L992.97 1386.79 L993.47 1386.91 L993.96 1387.16 L994.46 1387.40 L995.07 1387.65 L995.57 1387.90 L996.06 1388.27 L996.56 1388.52 L997.18 1388.89 L997.67 1389.26 L998.17 1389.76 L998.66 1390.13 L999.28 1390.62 L999.78 1391.12 L1000.27 1391.61 L1000.77 1392.11 L1001.39 1392.73 L1001.88 1393.34 L1002.38 1393.84 L1002.87 1394.58 L1003.49 1395.20 L1003.98 1395.94 L1004.48 1396.56 L1004.97 1397.30 L1005.59 1398.05 L1006.09 1397.80 L1006.58 1397.55 L1007.08 1397.30 L1007.70 1397.18 L1008.19 1397.06 L1008.69 1396.93 L1009.18 1396.81 L1009.80 1396.81 L1010.30 1396.69 L1010.79 1396.69 L1011.29 1396.81 L1011.90 1396.81 L1012.40 1396.93 L1012.89 1397.06 L1013.51 1397.18 L1014.01 1397.30 L1014.50 1397.55 L1015.00 1397.80 L1015.62 1398.05 L1016.11 1398.29 L1016.61 1398.67 L1017.10 1398.91 L1017.72 1399.28 L1018.22 1399.78 L1018.71 1400.15 L1019.21 1400.65 L1019.82 1401.14 L1020.32 1401.64 L1020.81 1402.13 L1021.31 1402.50 L1021.93 1402.01 L1022.42 1401.64 L1022.92 1401.27 L1023.41 1400.89 L1024.03 1400.52 L1024.53 1400.28 L1025.02 1400.03 L1025.52 1399.78 L1026.14 1399.53 L1026.63 1399.28 L1027.13 1399.16 L1027.62 1398.91 L1028.24 1398.79 L1028.73 1398.67 L1029.23 1398.67 L1029.72 1398.54 L1030.34 1398.54 L1030.84 1398.54 L1031.33 1398.54 L1031.83 1398.67 L1032.45 1398.67 L1032.94 1398.79 L1033.44 1398.91 L1033.93 1399.04 L1034.55 1399.28 L1035.05 1399.41 L1035.54 1399.66 L1036.04 1399.90 L1036.65 1400.15 L1037.15 1400.52 L1037.64 1400.77 L1038.14 1401.14 L1038.76 1401.51 L1039.25 1401.88 L1039.75 1402.38 L1040.24 1402.87 L1040.86 1403.25 L1041.36 1403.74 L1041.85 1404.36 L1042.35 1404.85 L1042.96 1405.47 L1043.46 1406.09 L1043.96 1406.71 L1044.45 1407.33 L1045.07 1407.82 L1045.56 1407.45 L1046.06 1407.08 L1046.55 1406.71 L1047.17 1406.46 L1047.67 1406.09 L1048.16 1405.84 L1048.66 1405.72 L1049.28 1405.47 L1049.77 1405.35 L1050.27 1405.23 L1050.76 1405.10 L1051.38 1404.98 L1051.88 1404.98 L1052.37 1404.98 L1052.99 1404.98 L1053.48 1405.10 L1053.98 1405.10 L1054.47 1405.23 L1055.09 1405.35 L1055.59 1405.47 L1056.08 1405.72 L1056.58 1405.97 L1057.20 1406.22 L1057.69 1406.46 L1058.19 1406.83 L1058.68 1407.08 L1059.30 1407.45 L1059.80 1407.95 L1060.29 1408.32 L1060.79 1408.32 L1061.40 1407.58 L1061.90 1406.96 L1062.39 1406.22 L1062.89 1405.60 L1063.51 1405.10 L1064.00 1404.48 L1064.50 1403.99 L1064.99 1403.37 L1065.61 1402.87 L1066.11 1402.50 L1066.60 1402.01 L1067.10 1401.64 L1067.71 1401.14 L1068.21 1400.77 L1068.71 1400.52 L1069.20 1400.15 L1069.82 1399.90 L1070.31 1399.53 L1070.81 1399.28 L1071.30 1399.16 L1071.92 1398.91 L1072.42 1398.79 L1072.91 1398.67 L1073.41 1398.54 L1074.03 1398.42 L1074.52 1398.29 L1075.02 1398.29 L1075.51 1398.29 L1076.13 1398.29 L1076.63 1398.29 L1077.12 1398.29 L1077.62 1398.42 L1078.23 1398.54 L1078.73 1398.67 L1079.22 1398.79 L1079.72 1399.04 L1080.34 1399.16 L1080.83 1399.41 L1081.33 1399.66 L1081.82 1400.03 L1082.44 1400.28 L1082.94 1400.65 L1083.43 1400.89 L1083.93 1401.39 L1084.55 1401.39 L1085.04 1400.77 L1085.54 1400.28 L1086.03 1399.78 L1086.65 1399.28 L1087.14 1398.79 L1087.64 1398.42 L1088.13 1397.92 L1088.75 1397.55 L1089.25 1397.30 L1089.74 1396.93 L1090.24 1396.69 L1090.86 1396.44 L1091.35 1396.19 L1091.85 1395.94 L1092.46 1395.82 L1092.96 1395.70 L1093.46 1395.57 L1093.95 1395.45 L1094.57 1395.45 L1095.06 1395.32 L1095.56 1395.32 L1096.05 1395.45 L1096.67 1395.45 L1097.17 1395.57 L1097.66 1395.70 L1098.16 1395.82 L1098.78 1395.94 L1099.27 1396.19 L1099.77 1396.44 L1100.26 1396.19 L1100.88 1395.57 L1101.38 1394.95 L1101.87 1394.46 L1102.37 1393.84 L1102.98 1393.34 L1103.48 1392.85 L1103.97 1392.48 L1104.47 1391.98 L1105.09 1391.61 L1105.58 1391.24 L1106.08 1390.87 L1106.57 1390.62 L1107.19 1390.25 L1107.69 1390.00 L1108.18 1389.76 L1108.68 1389.63 L1109.30 1389.38 L1109.79 1389.26 L1110.29 1389.01 L1110.78 1389.01 L1111.40 1388.89 L1111.89 1388.77 L1112.39 1388.77 L1112.88 1388.77 L1113.50 1388.77 L1114.00 1388.77 L1114.49 1388.89 L1114.99 1388.89 L1115.61 1389.01 L1116.10 1389.14 L1116.60 1389.38 L1117.09 1389.51 L1117.71 1389.76 L1118.21 1390.00 L1118.70 1390.25 L1119.20 1390.50 L1119.81 1390.87 L1120.31 1391.24 L1120.80 1391.61 L1121.30 1391.98 L1121.92 1392.35 L1122.41 1392.85 L1122.91 1393.34 L1123.40 1393.84 L1124.02 1393.72 L1124.52 1393.22 L1125.01 1392.73 L1125.51 1392.23 L1126.13 1391.74 L1126.62 1391.36 L1127.12 1390.99 L1127.61 1390.62 L1128.23 1390.25 L1128.72 1390.00 L1129.22 1389.76 L1129.71 1389.51 L1130.33 1389.26 L1130.83 1389.14 L1131.32 1388.89 L1131.94 1388.77 L1132.44 1388.77 L1132.93 1388.64 L1133.43 1388.64 L1134.05 1388.64 L1134.54 1388.64 L1135.04 1388.64 L1135.53 1388.77 L1136.15 1388.89 L1136.64 1389.01 L1137.14 1389.14 L1137.63 1389.38 L1138.25 1389.63 L1138.75 1389.88 L1139.24 1390.13 L1139.74 1389.63 L1140.36 1388.89 L1140.85 1388.02 L1141.35 1387.28 L1141.84 1386.54 L1142.46 1385.92 L1142.96 1385.18 L1143.45 1384.56 L1143.95 1383.94 L1144.56 1383.32 L1145.06 1382.70 L1145.55 1382.21 L1146.05 1381.59 L1146.67 1381.09 L1147.16 1380.60 L1147.66 1380.23 L1148.15 1379.73 L1148.77 1379.36 L1149.27 1378.99 L1149.76 1378.62 L1150.26 1378.37 L1150.88 1378.00 L1151.37 1377.75 L1151.87 1377.50 L1152.36 1377.26 L1152.98 1377.13 L1153.47 1376.89 L1153.97 1376.76 L1154.46 1376.64 L1155.08 1376.51 L1155.58 1376.39 L1156.07 1376.39 L1156.57 1376.39 L1157.19 1376.39 L1157.68 1376.39 L1158.18 1376.51 L1158.67 1376.51 L1159.29 1376.64 L1159.79 1376.76 L1160.28 1376.89 L1160.78 1377.13 L1161.39 1377.26 L1161.89 1377.50 L1162.38 1377.75 L1162.88 1378.12 L1163.50 1377.50 L1163.99 1376.51 L1164.49 1375.52 L1164.98 1374.66 L1165.60 1373.67 L1166.10 1372.80 L1166.59 1371.94 L1167.09 1371.19 L1167.71 1370.33 L1168.20 1369.58 L1168.70 1368.84 L1169.19 1368.22 L1169.81 1367.48 L1170.30 1366.86 L1170.80 1366.24 L1171.42 1365.75 L1171.91 1365.13 L1172.41 1364.63 L1172.90 1364.14 L1173.52 1363.77 L1174.02 1363.27 L1174.51 1362.90 L1175.01 1362.53 L1175.63 1362.16 L1176.12 1361.91 L1176.62 1361.66 L1177.11 1361.42 L1177.73 1361.17 L1178.22 1360.92 L1178.72 1360.80 L1179.21 1359.93 L1179.83 1358.94 L1180.33 1357.95 L1180.82 1356.96 L1181.32 1356.09 L1181.94 1355.10 L1182.43 1354.36 L1182.93 1353.50 L1183.42 1352.63 L1184.04 1351.89 L1184.54 1351.14 L1185.03 1350.40 L1185.53 1349.66 L1186.14 1349.04 L1186.64 1348.30 L1187.13 1347.68 L1187.63 1347.18 L1188.25 1346.57 L1188.74 1346.07 L1189.24 1345.45 L1189.73 1345.08 L1190.35 1344.59 L1190.85 1344.09 L1191.34 1343.72 L1191.84 1343.35 L1192.46 1342.98 L1192.95 1342.61 L1193.45 1342.36 L1193.94 1342.11 L1194.56 1341.86 L1195.05 1341.62 L1195.55 1341.37 L1196.04 1341.24 L1196.66 1341.12 L1197.16 1341.00 L1197.65 1340.87 L1198.15 1340.87 L1198.77 1340.87 L1199.26 1340.75 L1199.76 1340.87 L1200.25 1340.87 L1200.87 1341.00 L1201.37 1341.00 L1201.86 1341.12 L1202.36 1341.37 L1202.97 1340.87 L1203.47 1340.38 L1203.96 1339.76 L1204.46 1339.26 L1205.08 1338.77 L1205.57 1338.40 L1206.07 1337.90 L1206.56 1337.53 L1207.18 1337.16 L1207.68 1336.91 L1208.17 1336.54 L1208.67 1336.29 L1209.29 1336.05 L1209.78 1335.92 L1210.28 1335.68 L1210.89 1335.55 L1211.39 1335.43 L1211.88 1335.30 L1212.38 1335.30 L1213.00 1335.30 L1213.49 1335.30 L1213.99 1335.30 L1214.48 1335.30 L1215.10 1335.43 L1215.60 1335.55 L1216.09 1335.68 L1216.59 1335.92 L1217.21 1336.05 L1217.70 1336.29 L1218.20 1336.54 L1218.69 1336.05 L1219.31 1335.43 L1219.80 1335.06 L1220.30 1334.56 L1220.79 1334.07 L1221.41 1333.70 L1221.91 1333.32 L1222.40 1332.95 L1222.90 1332.58 L1223.52 1332.33 L1224.01 1332.09 L1224.51 1331.84 L1225.00 1331.59 L1225.62 1331.34 L1226.12 1331.22 L1226.61 1331.10 L1227.11 1330.97 L1227.72 1330.85 L1228.22 1330.73 L1228.71 1330.73 L1229.21 1330.73 L1229.83 1330.73 L1230.32 1330.85 L1230.82 1330.85 L1231.31 1330.97 L1231.93 1331.10 L1232.43 1331.22 L1232.92 1331.34 L1233.42 1331.59 L1234.04 1331.84 L1234.53 1332.09 L1235.03 1332.33 L1235.52 1332.71 L1236.14 1332.95 L1236.63 1333.32 L1237.13 1333.70 L1237.62 1334.19 L1238.24 1334.56 L1238.74 1335.06 L1239.23 1335.55 L1239.73 1336.05 L1240.35 1336.67 L1240.84 1337.16 L1241.34 1337.78 L1241.83 1338.40 L1242.45 1338.15 L1242.95 1338.03 L1243.44 1337.78 L1243.94 1337.66 L1244.55 1337.41 L1245.05 1337.41 L1245.54 1337.28 L1246.04 1337.28 L1246.66 1337.16 L1247.15 1337.16 L1247.65 1337.28 L1248.27 1337.28 L1248.76 1337.41 L1249.26 1337.53 L1249.75 1337.66 L1250.37 1337.90 L1250.87 1338.15 L1251.36 1338.40 L1251.86 1338.65 L1252.47 1339.02 L1252.97 1339.26 L1253.46 1339.64 L1253.96 1340.01 L1254.58 1340.50 L1255.07 1341.00 L1255.57 1341.49 L1256.06 1341.99 L1256.68 1342.48 L1257.18 1343.10 L1257.67 1343.47 L1258.17 1343.10 L1258.79 1342.73 L1259.28 1342.48 L1259.78 1342.11 L1260.27 1341.86 L1260.89 1341.62 L1261.38 1341.49 L1261.88 1341.24 L1262.37 1341.12 L1262.99 1341.00 L1263.49 1340.87 L1263.98 1340.75 L1264.48 1340.75 L1265.10 1340.63 L1265.59 1340.63 L1266.09 1340.63 L1266.58 1340.75 L1267.20 1340.75 L1267.70 1340.87 L1268.19 1341.00 L1268.69 1341.12 L1269.30 1341.37 L1269.80 1341.62 L1270.29 1341.74 L1270.79 1342.11 L1271.41 1342.36 L1271.90 1342.61 L1272.40 1342.98 L1272.89 1343.35 L1273.51 1343.72 L1274.01 1344.09 L1274.50 1344.59 L1275.00 1345.08 L1275.62 1345.58 L1276.11 1346.07 L1276.61 1346.57 L1277.10 1347.18 L1277.72 1347.80 L1278.21 1348.42 L1278.71 1349.04 L1279.20 1349.78 L1279.82 1350.40 L1280.32 1351.14 L1280.81 1351.89 L1281.31 1352.63 L1281.93 1352.38 L1282.42 1352.13 L1282.92 1351.89 L1283.41 1351.76 L1284.03 1351.64 L1284.53 1351.52 L1285.02 1351.39 L1285.52 1351.39 L1286.13 1351.39 L1286.63 1351.39 L1287.12 1351.39 L1287.74 1351.52 L1288.24 1351.64 L1288.73 1351.76 L1289.23 1351.89 L1289.85 1352.01 L1290.34 1352.26 L1290.84 1352.51 L1291.33 1352.88 L1291.95 1353.12 L1292.45 1353.50 L1292.94 1353.87 L1293.44 1354.24 L1294.05 1354.73 L1294.55 1355.10 L1295.04 1355.60 L1295.54 1356.22 L1296.16 1356.71 L1296.65 1357.33 L1297.15 1357.58 L1297.64 1357.21 L1298.26 1356.84 L1298.76 1356.47 L1299.25 1356.09 L1299.75 1355.72 L1300.37 1355.48 L1300.86 1355.23 L1301.36 1354.98 L1301.85 1354.86 L1302.47 1354.61 L1302.96 1354.49 L1303.46 1354.36 L1303.95 1354.24 L1304.57 1354.24 L1305.07 1354.11 L1305.56 1354.11 L1306.06 1354.11 L1306.68 1354.24 L1307.17 1354.24 L1307.67 1354.36 L1308.16 1354.49 L1308.78 1354.61 L1309.28 1354.73 L1309.77 1354.98 L1310.27 1355.23 L1310.88 1355.48 L1311.38 1355.72 L1311.87 1355.97 L1312.37 1356.34 L1312.99 1356.71 L1313.48 1357.08 L1313.98 1357.46 L1314.47 1357.83 L1315.09 1358.32 L1315.59 1358.82 L1316.08 1359.31 L1316.58 1359.81 L1317.20 1360.43 L1317.69 1361.05 L1318.19 1361.66 L1318.68 1362.28 L1319.30 1362.90 L1319.79 1363.64 L1320.29 1364.39 L1320.78 1364.63 L1321.40 1363.77 L1321.90 1362.90 L1322.39 1362.04 L1322.89 1361.29 L1323.51 1360.55 L1324.00 1359.81 L1324.50 1359.06 L1324.99 1358.32 L1325.61 1357.70 L1326.11 1357.08 L1326.60 1356.59 L1327.22 1355.97 L1327.71 1355.48 L1328.21 1355.10 L1328.70 1354.61 L1329.32 1354.24 L1329.82 1353.87 L1330.31 1353.50 L1330.81 1353.12 L1331.43 1352.88 L1331.92 1352.63 L1332.42 1352.38 L1332.91 1352.26 L1333.53 1352.01 L1334.03 1352.01 L1334.52 1351.89 L1335.02 1351.76 L1335.63 1351.76 L1336.13 1351.76 L1336.62 1351.27 L1337.12 1350.28 L1337.74 1349.29 L1338.23 1348.30 L1338.73 1347.31 L1339.22 1346.44 L1339.84 1345.58 L1340.34 1344.71 L1340.83 1343.84 L1341.33 1343.10 L1341.95 1342.23 L1342.44 1341.49 L1342.94 1340.75 L1343.43 1340.13 L1344.05 1339.51 L1344.54 1338.77 L1345.04 1338.27 L1345.53 1337.66 L1346.15 1337.16 L1346.65 1336.54 L1347.14 1336.05 L1347.64 1335.68 L1348.26 1335.18 L1348.75 1334.81 L1349.25 1334.44 L1349.74 1334.07 L1350.36 1333.70 L1350.86 1333.45 L1351.35 1333.20 L1351.85 1332.95 L1352.46 1332.71 L1352.96 1332.58 L1353.45 1332.46 L1353.95 1332.33 L1354.57 1332.21 L1355.06 1332.09 L1355.56 1332.09 L1356.05 1332.09 L1356.67 1332.09 L1357.17 1332.21 L1357.66 1332.21 L1358.16 1332.33 L1358.78 1332.46 L1359.27 1332.58 L1359.77 1332.83 L1360.26 1332.09 L1360.88 1330.11 L1361.37 1328.13 L1361.87 1326.15 L1362.36 1324.17 L1362.98 1322.31 L1363.48 1320.45 L1363.97 1318.72 L1364.47 1316.99 L1365.09 1315.26 L1365.58 1313.52 L1366.08 1311.91 L1366.70 1310.18 L1367.19 1308.70 L1367.69 1307.09 L1368.18 1305.60 L1368.80 1304.12 L1369.29 1302.76 L1369.79 1301.27 L1370.28 1299.91 L1370.90 1298.55 L1371.40 1297.31 L1371.89 1296.07 L1372.39 1294.84 L1373.01 1293.72 L1373.50 1292.49 L1374.00 1291.37 L1374.49 1290.38 L1375.11 1289.27 L1375.61 1288.28 L1376.10 1286.67 L1376.60 1284.81 L1377.21 1282.83 L1377.71 1280.98 L1378.20 1279.12 L1378.70 1277.39 L1379.32 1275.53 L1379.81 1273.80 L1380.31 1272.19 L1380.80 1270.46 L1381.42 1268.85 L1381.92 1267.24 L1382.41 1265.63 L1382.91 1264.15 L1383.53 1262.66 L1384.02 1261.18 L1384.52 1259.69 L1385.01 1258.33 L1385.63 1256.97 L1386.12 1255.61 L1386.62 1254.25 L1387.11 1253.01 L1387.73 1251.77 L1388.23 1250.53 L1388.72 1249.42 L1389.22 1248.18 L1389.84 1247.07 L1390.33 1246.08 L1390.83 1244.96 L1391.32 1243.97 L1391.94 1242.98 L1392.44 1241.99 L1392.93 1241.13 L1393.43 1240.26 L1394.04 1239.39 L1394.54 1238.53 L1395.03 1237.79 L1395.53 1237.04 L1396.15 1236.30 L1396.64 1235.68 L1397.14 1235.06 L1397.63 1234.44 L1398.25 1233.83 L1398.75 1233.21 L1399.24 1232.71 L1399.74 1230.86 L1400.36 1228.13 L1400.85 1225.29 L1401.35 1222.56 L1401.84 1219.84 L1402.46 1217.24 L1402.95 1214.64 L1403.45 1212.05 L1403.94 1209.57 L1404.56 1207.10 L1405.06 1204.62 L1405.55 1202.27 L1406.17 1199.92 L1406.67 1197.57 L1407.16 1195.34 L1407.66 1193.11 L1408.28 1190.88 L1408.77 1188.78 L1409.27 1186.68 L1409.76 1184.57 L1410.38 1182.59 L1410.87 1180.61 L1411.37 1178.63 L1411.86 1176.78 L1412.48 1174.92 L1412.98 1173.06 L1413.47 1171.33 L1413.97 1169.60 L1414.59 1167.87 L1415.08 1166.26 L1415.58 1163.66 L1416.07 1161.06 L1416.69 1158.46 L1417.19 1155.86 L1417.68 1153.26 L1418.18 1150.79 L1418.79 1148.31 L1419.29 1145.96 L1419.78 1143.49 L1420.28 1141.13 L1420.90 1138.91 L1421.39 1136.56 L1421.89 1134.33 L1422.38 1132.10 L1423.00 1130.00 L1423.50 1127.77 L1423.99 1125.79 L1424.49 1123.69 L1425.11 1121.71 L1425.60 1119.72 L1426.10 1117.74 L1426.59 1115.89 L1427.21 1114.03 L1427.70 1112.18 L1428.20 1110.32 L1428.69 1108.59 L1429.31 1106.85 L1429.81 1105.25 L1430.30 1103.51 L1430.80 1101.90 L1431.42 1100.42 L1431.91 1098.81 L1432.41 1097.33 L1432.90 1095.96 L1433.52 1094.48 L1434.02 1093.12 L1434.51 1091.76 L1435.01 1090.52 L1435.62 1089.16 L1436.12 1088.04 L1436.61 1086.81 L1437.11 1085.69 L1437.73 1084.58 L1438.22 1083.47 L1438.72 1082.48 L1439.21 1080.37 L1439.83 1078.02 L1440.33 1075.79 L1440.82 1073.56 L1441.32 1071.34 L1441.94 1069.11 L1442.43 1067.01 L1442.93 1064.90 L1443.54 1062.92 L1444.04 1060.94 L1444.53 1058.96 L1445.03 1057.11 L1445.65 1055.13 L1446.14 1053.39 L1446.64 1051.54 L1447.13 1049.80 L1447.75 1048.07 L1448.25 1046.46 L1448.74 1044.85 L1449.24 1043.25 L1449.86 1041.76 L1450.35 1040.28 L1450.85 1038.79 L1451.34 1037.43 L1451.96 1036.07 L1452.45 1034.71 L1452.95 1033.47 L1453.44 1032.23 L1454.06 1031.12 L1454.56 1029.88 L1455.05 1027.53 L1455.55 1025.18 L1456.17 1022.83 L1456.66 1020.47 L1457.16 1018.12 L1457.65 1015.90 L1458.27 1013.67 L1458.77 1011.56 L1459.26 1009.46 L1459.76 1007.36 L1460.37 1005.25 L1460.87 1003.27 L1461.36 1001.29 L1461.86 999.31 L1462.48 997.46 L1462.97 995.48 L1463.47 993.74 L1463.96 991.89 L1464.58 990.15 L1465.08 988.42 L1465.57 986.81 L1466.07 985.08 L1466.69 983.47 L1467.18 981.99 L1467.68 980.38 L1468.17 978.89 L1468.79 977.41 L1469.28 976.05 L1469.78 974.69 L1470.27 973.32 L1470.89 971.96 L1471.39 970.73 L1471.88 969.49 L1472.38 968.37 L1473.00 967.14 L1473.49 966.02 L1473.99 965.03 L1474.48 963.92 L1475.10 962.93 L1475.60 961.94 L1476.09 961.07 L1476.59 960.21 L1477.20 959.34 L1477.70 958.47 L1478.19 957.73 L1478.69 955.26 L1479.31 952.53 L1479.80 949.81 L1480.30 947.21 L1480.79 944.74 L1481.41 942.14 L1481.91 939.66 L1482.40 937.31 L1483.02 934.84 L1483.52 932.49 L1484.01 930.26 L1484.51 928.03 L1485.12 925.80 L1485.62 923.58 L1486.11 921.47 L1486.61 919.37 L1487.23 917.39 L1487.72 915.41 L1488.22 913.43 L1488.71 911.57 L1489.33 909.71 L1489.83 907.98 L1490.32 906.13 L1490.82 904.52 L1491.44 902.78 L1491.93 901.18 L1492.43 899.57 L1492.92 898.08 L1493.54 896.60 L1494.03 894.99 L1494.53 892.88 L1495.02 890.78 L1495.64 888.68 L1496.14 886.57 L1496.63 884.59 L1497.13 882.61 L1497.75 880.76 L1498.24 878.90 L1498.74 877.04 L1499.23 875.19 L1499.85 873.45 L1500.35 871.72 L1500.84 870.11 L1501.34 868.50 L1501.95 866.90 L1502.45 865.41 L1502.94 863.80 L1503.44 862.44 L1504.06 860.96 L1504.55 859.59 L1505.05 858.36 L1505.54 857.00 L1506.16 855.76 L1506.66 854.52 L1507.15 853.41 L1507.65 852.29 L1508.27 851.18 L1508.76 850.19 L1509.26 849.20 L1509.75 848.21 L1510.37 847.34 L1510.86 846.48 L1511.36 845.61 L1511.85 844.87 L1512.47 844.13 L1512.97 843.38 L1513.46 842.76 L1513.96 842.15 L1514.58 841.65 L1515.07 841.03 L1515.57 840.54 L1516.06 840.17 L1516.68 839.79 L1517.18 839.42 L1517.67 839.05 L1518.17 836.95 L1518.78 834.97 L1519.28 832.99 L1519.77 831.01 L1520.27 829.15 L1520.89 827.42 L1521.38 825.56 L1521.88 823.83 L1522.50 822.22 L1522.99 820.61 L1523.49 819.00 L1523.98 817.39 L1524.60 816.03 L1525.10 814.55 L1525.59 813.19 L1526.09 811.83 L1526.70 810.59 L1527.20 809.35 L1527.69 808.11 L1528.19 807.00 L1528.81 805.89 L1529.30 804.90 L1529.80 803.91 L1530.29 802.92 L1530.91 802.05 L1531.41 801.18 L1531.90 800.32 L1532.40 799.57 L1533.02 798.95 L1533.51 797.96 L1534.01 796.48 L1534.50 794.99 L1535.12 793.63 L1535.61 792.15 L1536.11 790.91 L1536.60 789.55 L1537.22 788.31 L1537.72 787.07 L1538.21 785.96 L1538.71 784.85 L1539.33 783.73 L1539.82 782.74 L1540.32 781.75 L1540.81 780.89 L1541.43 780.02 L1541.93 779.15 L1542.42 778.29 L1542.92 777.55 L1543.53 776.93 L1544.03 776.18 L1544.52 775.69 L1545.02 775.07 L1545.64 774.58 L1546.13 774.08 L1546.63 773.59 L1547.12 773.21 L1547.74 772.97 L1548.24 772.60 L1548.73 772.35 L1549.23 772.22 L1549.85 771.98 L1550.34 771.85 L1550.84 771.85 L1551.33 771.85 L1551.95 771.85 L1552.44 771.85 L1552.94 771.98 L1553.43 772.22 L1554.05 772.35 L1554.55 772.60 L1555.04 772.97 L1555.54 773.21 L1556.16 773.71 L1556.65 774.08 L1557.15 774.20 L1557.64 773.09 L1558.26 771.85 L1558.76 770.74 L1559.25 769.75 L1559.75 768.76 L1560.36 767.77 L1560.86 766.90 L1561.35 766.04 L1561.97 765.29 L1562.47 764.55 L1562.96 763.81 L1563.46 763.19 L1564.08 762.57 L1564.57 762.08 L1565.07 761.58 L1565.56 761.09 L1566.18 760.72 L1566.68 760.47 L1567.17 760.10 L1567.67 759.97 L1568.28 759.72 L1568.78 759.60 L1569.27 759.60 L1569.77 759.60 L1570.39 759.60 L1570.88 759.72 L1571.38 759.85 L1571.87 759.97 L1572.49 760.22 L1572.99 760.10 L1573.48 759.35 L1573.98 758.61 L1574.60 757.99 L1575.09 757.50 L1575.59 756.88 L1576.08 756.38 L1576.70 756.01 L1577.19 755.64 L1577.69 755.27 L1578.18 754.90 L1578.80 754.65 L1579.30 754.53 L1579.79 754.40 L1580.29 754.28 L1580.91 754.16 L1581.40 754.16 L1581.90 754.16 L1582.39 754.28 L1583.01 754.40 L1583.51 754.65 L1584.00 754.77 L1584.50 755.15 L1585.11 755.39 L1585.61 755.76 L1586.10 756.26 L1586.60 756.63 L1587.22 757.25 L1587.71 757.74 L1588.21 758.36 L1588.70 758.98 L1589.32 759.72 L1589.82 760.47 L1590.31 761.33 L1590.81 762.20 L1591.43 763.07 L1591.92 763.93 L1592.42 764.92 L1592.91 766.04 L1593.53 767.15 L1594.02 768.26 L1594.52 769.38 L1595.01 770.62 L1595.63 771.98 L1596.13 773.21 L1596.62 773.96 L1597.12 773.46 L1597.74 772.97 L1598.23 772.60 L1598.73 772.22 L1599.22 771.98 L1599.84 771.73 L1600.34 771.61 L1600.83 771.48 L1601.45 771.36 L1601.94 771.36 L1602.44 771.48 L1602.93 771.48 L1603.55 771.73 L1604.05 771.85 L1604.54 772.10 L1605.04 772.47 L1605.66 772.84 L1606.15 773.21 L1606.65 773.71 L1607.14 774.33 L1607.76 774.82 L1608.26 775.57 L1608.75 776.18 L1609.25 776.93 L1609.86 777.79 L1610.36 778.66 L1610.85 779.53 L1611.35 780.52 L1611.97 781.51 L1612.46 781.63 L1612.96 781.13 L1613.45 780.64 L1614.07 780.14 L1614.57 779.77 L1615.06 779.53 L1615.56 779.15 L1616.18 778.91 L1616.67 778.78 L1617.17 778.54 L1617.66 778.54 L1618.28 778.41 L1618.77 778.41 L1619.27 778.41 L1619.76 778.54 L1620.38 778.66 L1620.88 778.91 L1621.37 779.15 L1621.87 779.40 L1622.49 779.77 L1622.98 780.14 L1623.48 780.64 L1623.97 781.01 L1624.59 781.63 L1625.09 782.12 L1625.58 782.87 L1626.08 783.49 L1626.69 784.23 L1627.19 784.97 L1627.68 785.84 L1628.18 786.70 L1628.80 787.57 L1629.29 788.56 L1629.79 789.55 L1630.28 790.66 L1630.90 791.78 L1631.40 793.01 L1631.89 794.13 L1632.39 795.49 L1633.01 796.73 L1633.50 798.09 L1634.00 799.57 L1634.49 800.94 L1635.11 802.54 L1635.60 804.03 L1636.10 804.90 L1636.59 805.02 L1637.21 805.27 L1637.71 805.51 L1638.20 805.89 L1638.82 806.26 L1639.32 806.63 L1639.81 807.12 L1640.31 807.62 L1640.93 808.24 L1641.42 808.86 L1641.92 809.60 L1642.41 810.34 L1643.03 811.21 L1643.52 812.07 L1644.02 812.94 L1644.51 813.93 L1645.13 814.92 L1645.63 816.03 L1646.12 817.15 L1646.62 818.38 L1647.24 819.62 L1647.73 820.86 L1648.23 822.22 L1648.72 823.58 L1649.34 825.07 L1649.84 826.55 L1650.33 828.16 L1650.83 829.77 L1651.44 831.50 L1651.94 831.50 L1652.43 831.01 L1652.93 830.51 L1653.55 830.14 L1654.04 829.77 L1654.54 829.52 L1655.03 829.15 L1655.65 829.03 L1656.15 828.78 L1656.64 828.66 L1657.14 828.53 L1657.76 828.53 L1658.25 828.53 L1658.75 828.53 L1659.24 828.66 L1659.86 828.78 L1660.35 829.03 L1660.85 829.27 L1661.34 829.52 L1661.96 829.89 L1662.46 830.26 L1662.95 830.64 L1663.45 831.13 L1664.07 831.63 L1664.56 832.12 L1665.06 832.74 L1665.55 833.36 L1666.17 834.10 L1666.67 834.84 L1667.16 835.59 L1667.66 836.45 L1668.27 837.32 L1668.77 838.31 L1669.26 839.17 L1669.76 840.29 L1670.38 841.28 L1670.87 842.39 L1671.37 843.51 L1671.86 844.74 L1672.48 845.98 L1672.98 847.34 L1673.47 848.58 L1673.97 850.07 L1674.59 851.43 L1675.08 852.91 L1675.58 853.53 L1676.07 853.78 L1676.69 854.15 L1677.18 854.52 L1677.68 854.89 L1678.30 855.39 L1678.79 855.88 L1679.29 856.38 L1679.78 857.00 L1680.40 857.74 L1680.90 858.36 L1681.39 859.22 L1681.89 859.97 L1682.51 860.83 L1683.00 861.82 L1683.50 862.69 L1683.99 863.80 L1684.61 864.79 L1685.10 865.91 L1685.60 867.14 L1686.09 868.38 L1686.71 869.62 L1687.21 870.86 L1687.70 872.34 L1688.20 873.70 L1688.82 875.19 L1689.31 876.67 L1689.81 878.28 L1690.30 879.89 L1690.92 881.62 L1691.42 881.25 L1691.91 880.63 L1692.41 880.01 L1693.02 879.52 L1693.52 879.02 L1694.01 878.65 L1694.51 878.16 L1695.13 877.91 L1695.62 877.54 L1696.12 877.29 L1696.61 877.04 L1697.23 876.92 L1697.73 876.80 L1698.22 876.67 L1698.72 876.55 L1699.34 876.55 L1699.83 876.55 L1700.33 876.67 L1700.82 876.80 L1701.44 876.92 L1701.93 877.17 L1702.43 877.41 L1702.92 877.66 L1703.54 878.03 L1704.04 878.40 L1704.53 878.78 L1705.03 879.27 L1705.65 879.77 L1706.14 880.26 L1706.64 880.88 L1707.13 881.50 L1707.75 882.12 L1708.25 882.86 L1708.74 883.60 L1709.24 884.35 L1709.85 885.21 L1710.35 886.08 L1710.84 886.94 L1711.34 887.93 L1711.96 888.92 L1712.45 889.91 L1712.95 891.03 L1713.44 892.14 L1714.06 893.38 L1714.56 894.49 L1715.05 895.85 L1715.55 897.09 L1716.17 898.45 L1716.66 899.81 L1717.16 901.18 L1717.77 902.66 L1718.27 904.15 L1718.76 905.75 L1719.26 907.36 L1719.88 908.97 L1720.37 910.58 L1720.87 912.31 L1721.36 914.05 L1721.98 915.90 L1722.48 917.76 L1722.97 919.61 L1723.47 921.60 L1724.09 923.58 L1724.58 925.56 L1725.08 927.54 L1725.57 929.64 L1726.19 931.87 L1726.68 933.97 L1727.18 936.20 L1727.67 938.43 L1728.29 940.78 L1728.79 943.13 L1729.28 945.48 L1729.78 947.95 L1730.40 950.43 L1730.89 951.54 L1731.39 952.66 L1731.88 953.89 L1732.50 955.13 L1733.00 956.49 L1733.49 957.73 L1733.99 959.09 L1734.60 960.45 L1735.10 961.94 L1735.59 963.42 L1736.09 964.91 L1736.71 966.52 L1737.20 968.00 L1737.70 969.61 L1738.19 971.34 L1738.81 973.08 L1739.31 974.81 L1739.80 976.54 L1740.30 978.27 L1740.92 980.13 L1741.41 982.11 L1741.91 983.97 L1742.40 985.95 L1743.02 987.93 L1743.51 989.91 L1744.01 992.01 L1744.50 994.11 L1745.12 996.22 L1745.62 998.45 L1746.11 1000.67 L1746.61 1002.90 L1747.23 1005.13 L1747.72 1007.48 L1748.22 1009.83 L1748.71 1012.31 L1749.33 1014.66 L1749.83 1017.13 L1750.32 1019.73 L1750.82 1022.21 L1751.43 1024.81 L1751.93 1027.40 L1752.42 1030.13 L1752.92 1032.85 L1753.54 1035.57 L1754.03 1038.29 L1754.53 1041.14 L1755.02 1043.99 L1755.64 1046.83 L1756.14 1049.80 L1756.63 1052.77 L1757.25 1055.74 L1757.75 1058.71 L1758.24 1061.81 L1758.74 1064.90 L1759.35 1068.12 L1759.85 1071.21 L1760.34 1074.43 L1760.84 1077.77 L1761.46 1080.99 L1761.95 1084.33 L1762.45 1087.67 L1762.94 1091.14 L1763.56 1094.60 L1764.06 1098.07 L1764.55 1101.53 L1765.05 1105.12 L1765.67 1108.71 L1766.16 1112.30 L1766.66 1116.01 L1767.15 1119.72 L1767.77 1123.44 L1768.26 1127.27 L1768.76 1130.99 L1769.25 1134.82 L1769.87 1138.41 L1770.37 1140.27 L1770.86 1142.25 L1771.36 1144.23 L1771.98 1146.21 L1772.47 1148.19 L1772.97 1150.29 L1773.46 1152.40 L1774.08 1154.50 L1774.58 1156.60 L1775.07 1158.83 L1775.57 1161.06 L1776.18 1163.29 L1776.68 1165.51 L1777.17 1167.74 L1777.67 1170.09 L1778.29 1172.44 L1778.78 1174.92 L1779.28 1177.27 L1779.77 1179.75 L1780.39 1182.22 L1780.89 1184.70 L1781.38 1187.29 L1781.88 1189.77 L1782.50 1192.37 L1782.99 1195.09 L1783.49 1197.69 L1783.98 1200.41 L1784.60 1203.14 L1785.09 1205.86 L1785.59 1208.58 L1786.08 1211.43 L1786.70 1214.27 L1787.20 1217.12 L1787.69 1219.97 L1788.19 1222.94 L1788.81 1225.91 L1789.30 1228.88 L1789.80 1231.85 L1790.29 1234.94 L1790.91 1238.03 L1791.41 1241.13 L1791.90 1244.22 L1792.40 1247.44 L1793.01 1250.66 L1793.51 1253.87 L1794.00 1257.09 L1794.50 1260.31 L1795.12 1263.65 L1795.61 1266.99 L1796.11 1270.33 L1796.73 1273.80 L1797.22 1277.26 L1797.72 1280.73 L1798.21 1284.19 L1798.83 1287.66 L1799.33 1291.25 L1799.82 1294.84 L1800.32 1298.43 L1800.93 1302.14 L1801.43 1305.73 L1801.92 1309.44 L1802.42 1313.15 L1803.04 1316.99 L1803.53 1320.70 L1804.03 1324.54 L1804.52 1328.37 L1805.14 1332.33 L1805.64 1336.17 L1806.13 1340.13 L1806.63 1344.09 L1807.25 1348.17 L1807.74 1352.13 L1808.24 1356.22 L1808.73 1360.30 L1809.35 1363.77 L1809.84 1366.12 L1810.34 1368.47 L1810.83 1370.95 L1811.45 1373.30 L1811.95 1375.77 L1812.44 1378.25 L1812.94 1380.72 L1813.56 1383.32 L1814.05 1385.80 L1814.55 1388.39 L1815.04 1390.99 L1815.66 1393.59 L1816.16 1396.19 L1816.65 1398.79 L1817.15 1401.51 L1817.76 1404.24 L1818.26 1406.96 L1818.75 1409.68 L1819.25 1412.40 L1819.87 1415.25 L1820.36 1418.10 L1820.86 1420.94 L1821.35 1423.79 L1821.97 1426.63 L1822.47 1429.60 L1822.96 1432.45 L1823.46 1435.42 L1824.08 1438.51 L1824.57 1441.49 L1825.07 1444.46 L1825.56 1447.55 L1826.18 1450.64 L1826.67 1453.74 L1827.17 1456.83 L1827.66 1459.92 L1828.28 1463.14 L1828.78 1466.36 L1829.27 1469.58 L1829.77 1472.79 L1830.39 1476.01 L1830.88 1479.35 L1831.38 1482.70 L1831.87 1486.04 L1832.49 1489.38 L1832.99 1492.72 L1833.48 1496.18 L1833.98 1499.53 L1834.59 1502.99 L1835.09 1506.46 L1835.58 1510.04 L1836.20 1513.51 L1836.70 1517.10 L1837.19 1520.56 L1837.69 1524.15 L1838.31 1527.87 L1838.80 1531.45 L1839.30 1535.17 L1839.79 1538.76 L1840.41 1542.47 L1840.91 1546.30 L1841.40 1550.02 L1841.90 1553.73 L1842.51 1557.57 L1843.01 1561.40 L1843.50 1565.24 L1844.00 1569.08 L1844.62 1573.04 L1845.11 1577.00 L1845.61 1580.96 L1846.10 1584.92 L1846.72 1588.88 L1847.22 1592.84 L1847.71 1596.92 L1848.21 1601.00 L1848.83 1604.22 L1849.32 1606.57 L1849.82 1608.92 L1850.31 1611.28 L1850.93 1613.75 L1851.42 1616.23 L1851.92 1618.58 L1852.41 1621.05 L1853.03 1623.53 L1853.53 1626.13 L1854.02 1628.60 L1854.52 1631.20 L1855.14 1633.67 L1855.63 1636.27 L1856.13 1638.87 L1856.62 1641.47 L1857.24 1644.07 L1857.74 1646.79 L1858.23 1649.39 L1858.73 1652.11 L1859.34 1654.71 L1859.84 1657.44 L1860.33 1660.16 L1860.83 1663.00 L1861.45 1665.73 L1861.94 1668.45 L1862.44 1671.30 L1862.93 1674.14 L1863.55 1676.99 L1864.05 1679.83 L1864.54 1682.68 L1865.04 1685.53 L1865.66 1688.37 L1866.15 1691.34 L1866.65 1694.31 L1867.14 1697.28 L1867.76 1700.13 L1868.25 1703.22 L1868.75 1706.19 L1869.24 1709.16 L1869.86 1712.26 L1870.36 1715.23 L1870.85 1718.32 L1871.35 1721.42 L1871.97 1724.51 L1872.46 1727.73 L1872.96 1730.82 L1873.58 1733.92 L1874.07 1737.13 L1874.57 1740.35 L1875.06 1743.57 L1875.68 1746.79 L1876.17 1750.00 L1876.67 1753.22 L1877.16 1756.56 L1877.78 1759.78 L1878.28 1763.12 L1878.77 1766.46 L1879.27 1769.80 L1879.89 1773.15 L1880.38 1776.61 L1880.88 1779.95 L1881.37 1783.42 L1881.99 1786.76 L1882.49 1790.22 L1882.98 1793.69 L1883.48 1797.15 L1884.09 1800.74 L1884.59 1804.21 L1885.08 1807.80 L1885.58 1811.26 L1886.20 1814.85\" stroke-linejoin=\"round\" style=\"fill:none;stroke:#1A476F;stroke-width:7.34\"/>\n\t<path d=\" M575.07 1664.37 L575.93 1656.45 L576.67 1648.53 L577.54 1640.73 L578.28 1633.06 L579.03 1625.38 L579.89 1617.71 L580.64 1610.16 L581.50 1602.74 L582.24 1595.19 L583.11 1587.89 L583.85 1580.58 L584.72 1573.28 L585.46 1566.11 L586.20 1558.93 L587.07 1551.87 L587.81 1544.94 L588.68 1537.89 L589.42 1531.08 L590.29 1524.28 L591.03 1517.47 L591.90 1510.79 L592.64 1504.10 L593.51 1497.55 L594.25 1490.99 L594.99 1484.55 L595.86 1478.12 L596.60 1471.80 L597.47 1465.49 L598.21 1459.18 L599.07 1453.12 L599.82 1446.93 L600.68 1440.87 L601.42 1434.93 L602.17 1428.99 L603.03 1423.17 L603.78 1417.35 L604.64 1411.66 L605.39 1405.97 L606.25 1400.28 L606.99 1394.71 L607.86 1389.26 L608.60 1383.82 L609.35 1378.37 L610.21 1373.05 L610.95 1367.85 L611.82 1362.65 L612.56 1357.46 L613.43 1352.38 L614.17 1347.31 L615.04 1338.77 L615.78 1330.23 L616.52 1321.82 L617.39 1313.52 L618.13 1305.23 L619.00 1297.06 L619.74 1289.02 L620.61 1281.10 L621.35 1273.18 L622.22 1265.26 L622.96 1257.59 L623.70 1249.91 L624.57 1242.24 L625.31 1234.69 L626.17 1227.27 L626.92 1219.97 L627.78 1212.66 L628.53 1205.49 L629.39 1198.43 L630.14 1191.38 L630.88 1184.45 L631.74 1177.52 L632.49 1170.71 L633.35 1164.03 L634.10 1157.47 L634.96 1150.91 L635.70 1144.35 L636.57 1138.04 L637.31 1131.73 L638.18 1125.54 L638.92 1119.35 L639.66 1113.29 L640.53 1107.35 L641.27 1101.41 L642.14 1095.59 L642.88 1089.90 L643.75 1084.21 L644.49 1078.64 L645.36 1073.07 L646.10 1067.75 L646.84 1062.30 L647.71 1057.11 L648.45 1051.91 L649.32 1046.83 L650.06 1041.76 L650.92 1036.93 L651.67 1031.98 L652.53 1027.28 L653.28 1022.58 L654.02 1016.27 L654.89 1009.21 L655.63 1002.28 L656.49 995.35 L657.24 988.67 L658.10 981.99 L658.85 975.30 L659.71 968.87 L660.45 962.43 L661.20 956.12 L662.06 949.93 L662.81 943.87 L663.67 937.81 L664.41 931.87 L665.28 926.05 L666.02 920.36 L666.89 914.66 L667.63 909.10 L668.37 903.65 L669.24 898.33 L669.98 893.13 L670.85 887.93 L671.59 882.86 L672.46 877.91 L673.20 872.96 L674.07 868.26 L674.81 863.55 L675.55 858.98 L676.42 854.40 L677.16 850.07 L678.03 845.73 L678.77 841.53 L679.64 837.32 L680.38 833.36 L681.24 829.40 L681.99 825.56 L682.85 821.85 L683.60 818.14 L684.34 814.67 L685.20 811.21 L685.95 807.87 L686.81 804.52 L687.56 801.31 L688.42 798.34 L689.16 795.24 L690.03 792.40 L690.77 789.67 L691.52 786.95 L692.38 784.35 L693.12 781.01 L693.99 775.81 L694.73 770.62 L695.60 765.67 L696.34 760.72 L697.21 755.89 L697.95 751.19 L698.69 746.61 L699.56 742.15 L700.30 737.82 L701.17 733.61 L701.91 729.41 L702.78 725.45 L703.52 721.49 L704.39 717.65 L705.13 713.94 L705.87 710.35 L706.74 706.88 L707.48 703.54 L708.35 700.32 L709.09 697.11 L709.95 694.14 L710.70 691.17 L711.56 688.44 L712.31 685.72 L713.05 683.12 L713.91 680.65 L714.66 678.29 L715.52 675.94 L716.27 673.84 L717.13 671.86 L717.87 669.88 L718.74 668.02 L719.48 666.41 L720.23 664.81 L721.09 663.32 L721.83 661.96 L722.70 660.72 L723.44 659.48 L724.31 658.49 L725.05 657.50 L725.92 656.76 L726.66 656.02 L727.53 655.40 L728.27 654.91 L729.01 654.53 L729.88 654.29 L730.62 654.16 L731.49 654.04 L732.23 654.16 L733.10 651.81 L733.84 649.09 L734.70 646.61 L735.45 644.26 L736.19 642.04 L737.06 640.06 L737.80 638.07 L738.66 636.22 L739.41 634.49 L740.27 632.88 L741.02 631.39 L741.88 630.03 L742.62 628.92 L743.37 627.80 L744.23 626.81 L744.98 625.95 L745.84 625.33 L746.58 624.71 L747.45 624.21 L748.19 623.97 L749.06 623.72 L749.80 623.72 L750.54 623.72 L751.41 623.97 L752.15 624.21 L753.02 624.71 L753.76 625.20 L754.63 625.95 L755.37 626.81 L756.24 627.68 L756.98 628.79 L757.72 630.03 L758.59 631.27 L759.33 632.75 L760.20 634.36 L760.94 636.09 L761.81 637.95 L762.55 639.81 L763.41 641.91 L764.16 644.14 L764.90 646.49 L765.77 648.97 L766.51 651.56 L767.37 654.29 L768.12 657.13 L768.98 660.10 L769.73 663.20 L770.59 666.41 L771.33 669.88 L772.20 671.98 L772.94 672.85 L773.69 673.84 L774.55 675.08 L775.29 676.31 L776.16 677.80 L776.90 679.41 L777.77 681.14 L778.51 683.12 L779.38 685.10 L780.12 687.33 L780.86 689.56 L781.73 692.03 L782.47 693.64 L783.34 693.02 L784.08 692.65 L784.95 692.28 L785.69 692.16 L786.56 692.03 L787.30 692.16 L788.04 692.40 L788.91 692.65 L789.65 693.15 L790.52 693.64 L791.26 694.38 L792.12 695.13 L792.87 696.12 L793.73 697.11 L794.48 698.34 L795.22 699.58 L796.08 701.07 L796.83 702.55 L797.69 704.28 L798.44 706.02 L799.30 708.00 L800.04 709.98 L800.91 712.20 L801.65 714.43 L802.40 716.91 L803.26 719.38 L804.00 722.10 L804.87 724.83 L805.61 727.80 L806.48 730.89 L807.22 733.98 L808.09 737.33 L808.83 740.67 L809.57 744.26 L810.44 747.84 L811.18 751.31 L812.05 752.92 L812.79 754.53 L813.66 756.38 L814.40 758.36 L815.27 760.47 L816.01 762.70 L816.87 765.05 L817.62 767.52 L818.36 770.24 L819.23 772.97 L819.97 775.94 L820.83 779.03 L821.58 782.12 L822.44 781.88 L823.19 781.38 L824.05 781.13 L824.79 780.89 L825.54 780.76 L826.40 780.76 L827.15 781.01 L828.01 781.26 L828.75 781.63 L829.62 782.00 L830.36 782.62 L831.23 783.36 L831.97 784.23 L832.71 785.09 L833.58 786.21 L834.32 787.32 L835.19 788.68 L835.93 790.04 L836.80 791.65 L837.54 793.26 L838.41 794.99 L839.15 796.85 L839.89 798.83 L840.76 800.94 L841.50 803.16 L842.37 805.51 L843.11 807.87 L843.98 810.46 L844.72 813.19 L845.58 815.91 L846.33 818.88 L847.07 821.85 L847.94 825.07 L848.68 828.28 L849.54 831.63 L850.29 835.09 L851.15 837.19 L851.90 838.80 L852.76 840.66 L853.50 842.52 L854.25 844.62 L855.11 846.72 L855.86 849.08 L856.72 851.43 L857.46 854.03 L858.33 856.75 L859.07 859.47 L859.94 862.44 L860.68 865.53 L861.55 866.65 L862.29 866.28 L863.03 865.91 L863.90 865.78 L864.64 865.66 L865.51 865.66 L866.25 865.78 L867.12 866.03 L867.86 866.40 L868.73 866.90 L869.47 867.39 L870.21 868.13 L871.08 868.88 L871.82 869.74 L872.69 870.73 L873.43 871.85 L874.29 872.96 L875.04 874.32 L875.90 875.68 L876.65 877.17 L877.39 878.78 L878.25 880.51 L879.00 882.37 L879.86 884.35 L880.61 886.33 L881.47 888.55 L882.21 890.78 L883.08 893.13 L883.82 895.61 L884.57 898.21 L885.43 900.93 L886.17 903.65 L887.04 906.50 L887.78 909.59 L888.65 912.68 L889.39 915.90 L890.26 918.25 L891.00 919.12 L891.74 919.99 L892.61 921.10 L893.35 922.21 L894.22 923.58 L894.96 924.94 L895.83 926.55 L896.57 928.15 L897.44 930.01 L898.18 931.87 L898.92 933.97 L899.79 936.07 L900.53 937.81 L901.40 936.45 L902.14 935.33 L903.00 934.34 L903.75 933.35 L904.61 932.61 L905.36 931.87 L906.22 931.25 L906.96 930.63 L907.71 930.26 L908.57 929.89 L909.32 929.64 L910.18 929.52 L910.92 929.52 L911.79 929.52 L912.53 929.76 L913.40 930.01 L914.14 930.38 L914.88 930.88 L915.75 931.50 L916.49 932.11 L917.36 932.86 L918.10 933.72 L918.97 934.71 L919.71 935.83 L920.58 937.06 L921.32 938.30 L922.06 939.66 L922.93 941.15 L923.67 942.76 L924.54 944.37 L925.28 946.22 L926.15 948.08 L926.89 950.06 L927.75 952.16 L928.50 954.39 L929.24 956.62 L930.11 956.86 L930.85 957.11 L931.71 957.48 L932.46 957.98 L933.32 958.60 L934.07 959.22 L934.93 960.08 L935.67 961.07 L936.42 962.06 L937.28 963.30 L938.03 964.54 L938.89 965.90 L939.63 967.38 L940.50 967.01 L941.24 966.15 L942.11 965.53 L942.85 964.79 L943.59 964.29 L944.46 963.80 L945.20 963.55 L946.07 963.30 L946.81 963.18 L947.68 963.05 L948.42 963.18 L949.29 963.30 L950.03 963.55 L950.90 963.92 L951.64 964.41 L952.38 964.91 L953.25 965.53 L953.99 966.39 L954.86 967.14 L955.60 968.13 L956.46 969.24 L957.21 970.35 L958.07 971.59 L958.82 972.95 L959.56 974.44 L960.42 975.92 L961.17 977.53 L962.03 979.26 L962.78 981.12 L963.64 983.10 L964.38 985.08 L965.25 987.31 L965.99 989.54 L966.74 991.89 L967.60 994.24 L968.34 996.84 L969.21 998.32 L969.95 999.19 L970.82 1000.06 L971.56 1001.17 L972.43 1002.28 L973.17 1003.52 L973.91 1004.88 L974.78 1006.49 L975.52 1007.98 L976.39 1009.71 L977.13 1011.56 L978.00 1013.42 L978.74 1015.52 L979.61 1016.51 L980.35 1015.90 L981.09 1015.40 L981.96 1015.03 L982.70 1014.66 L983.57 1014.41 L984.31 1014.29 L985.17 1014.29 L985.92 1014.29 L986.78 1014.53 L987.53 1014.78 L988.27 1015.03 L989.13 1015.52 L989.88 1016.02 L990.74 1016.64 L991.49 1017.38 L992.35 1018.12 L993.09 1019.11 L993.96 1020.10 L994.70 1021.22 L995.57 1022.33 L996.31 1023.69 L997.05 1025.05 L997.92 1026.41 L998.66 1028.02 L999.53 1029.63 L1000.27 1031.49 L1001.14 1033.22 L1001.88 1035.20 L1002.75 1037.30 L1003.49 1039.41 L1004.23 1041.64 L1005.10 1043.86 L1005.84 1046.34 L1006.71 1048.81 L1007.45 1051.41 L1008.32 1053.52 L1009.06 1053.64 L1009.92 1053.76 L1010.67 1054.01 L1011.41 1054.38 L1012.28 1055.00 L1013.02 1055.50 L1013.88 1056.24 L1014.63 1057.11 L1015.49 1057.97 L1016.24 1059.09 L1017.10 1060.20 L1017.84 1061.44 L1018.59 1062.80 L1019.45 1061.44 L1020.20 1060.08 L1021.06 1058.84 L1021.80 1057.60 L1022.67 1056.49 L1023.41 1055.62 L1024.28 1054.63 L1025.02 1053.89 L1025.76 1053.15 L1026.63 1052.65 L1027.37 1052.03 L1028.24 1051.66 L1028.98 1051.29 L1029.85 1051.17 L1030.59 1050.92 L1031.46 1050.92 L1032.20 1050.92 L1032.94 1051.04 L1033.81 1051.29 L1034.55 1051.66 L1035.42 1052.03 L1036.16 1052.53 L1037.03 1053.15 L1037.77 1053.89 L1038.63 1054.63 L1039.38 1055.50 L1040.24 1056.49 L1040.98 1057.60 L1041.73 1058.71 L1042.59 1060.08 L1043.34 1061.31 L1044.20 1062.80 L1044.95 1064.28 L1045.81 1066.02 L1046.55 1067.62 L1047.42 1069.48 L1048.16 1069.60 L1048.91 1069.48 L1049.77 1069.48 L1050.51 1069.60 L1051.38 1069.73 L1052.12 1070.10 L1052.99 1070.47 L1053.73 1070.97 L1054.60 1071.58 L1055.34 1072.33 L1056.08 1073.07 L1056.95 1074.06 L1057.69 1075.05 L1058.56 1074.43 L1059.30 1072.95 L1060.17 1071.46 L1060.91 1070.22 L1061.78 1068.99 L1062.52 1067.75 L1063.26 1066.76 L1064.13 1065.77 L1064.87 1064.90 L1065.73 1064.04 L1066.48 1063.42 L1067.34 1062.80 L1068.09 1062.18 L1068.95 1061.81 L1069.70 1061.44 L1070.44 1061.19 L1071.30 1061.07 L1072.05 1060.94 L1072.91 1060.94 L1073.66 1061.07 L1074.52 1061.31 L1075.26 1061.56 L1076.13 1061.93 L1076.87 1062.43 L1077.62 1062.92 L1078.48 1063.54 L1079.22 1064.28 L1080.09 1065.15 L1080.83 1066.02 L1081.70 1067.01 L1082.44 1068.12 L1083.31 1069.36 L1084.05 1070.59 L1084.92 1071.96 L1085.66 1073.44 L1086.40 1074.93 L1087.27 1075.54 L1088.01 1075.05 L1088.88 1074.55 L1089.62 1074.18 L1090.48 1073.94 L1091.23 1073.81 L1092.09 1073.69 L1092.84 1073.81 L1093.58 1073.94 L1094.45 1074.18 L1095.19 1074.55 L1096.05 1075.05 L1096.80 1075.54 L1097.66 1075.67 L1098.41 1074.06 L1099.27 1072.57 L1100.01 1071.09 L1100.76 1069.85 L1101.62 1068.61 L1102.37 1067.38 L1103.23 1066.39 L1103.97 1065.40 L1104.84 1064.53 L1105.58 1063.66 L1106.45 1063.05 L1107.19 1062.43 L1107.93 1061.81 L1108.80 1061.44 L1109.54 1061.07 L1110.41 1060.82 L1111.15 1060.57 L1112.02 1060.57 L1112.76 1060.57 L1113.63 1060.69 L1114.37 1060.82 L1115.11 1061.07 L1115.98 1061.44 L1116.72 1061.93 L1117.59 1062.43 L1118.33 1063.05 L1119.20 1063.79 L1119.94 1064.65 L1120.80 1065.52 L1121.55 1066.51 L1122.29 1067.62 L1123.16 1068.74 L1123.90 1069.98 L1124.76 1071.34 L1125.51 1072.82 L1126.37 1074.31 L1127.12 1074.18 L1127.98 1074.18 L1128.72 1074.31 L1129.59 1074.55 L1130.33 1074.80 L1131.08 1075.30 L1131.94 1075.79 L1132.68 1076.41 L1133.55 1077.15 L1134.29 1077.90 L1135.16 1078.76 L1135.90 1079.88 L1136.77 1080.87 L1137.51 1080.37 L1138.25 1079.50 L1139.12 1078.89 L1139.86 1078.27 L1140.73 1077.77 L1141.47 1077.28 L1142.34 1077.03 L1143.08 1076.78 L1143.95 1076.53 L1144.69 1076.41 L1145.43 1076.53 L1146.30 1076.53 L1147.04 1076.78 L1147.91 1077.03 L1148.65 1077.40 L1149.51 1077.77 L1150.26 1078.39 L1151.12 1079.01 L1151.87 1079.63 L1152.61 1080.50 L1153.47 1081.36 L1154.22 1082.35 L1155.08 1083.34 L1155.83 1084.46 L1156.69 1085.69 L1157.43 1087.05 L1158.30 1088.42 L1159.04 1089.90 L1159.79 1091.51 L1160.65 1093.12 L1161.39 1094.85 L1162.26 1096.71 L1163.00 1098.69 L1163.87 1100.67 L1164.61 1102.77 L1165.48 1105.00 L1166.22 1105.99 L1166.96 1106.36 L1167.83 1106.98 L1168.57 1107.60 L1169.44 1108.34 L1170.18 1109.21 L1171.05 1110.20 L1171.79 1111.19 L1172.66 1112.30 L1173.40 1113.54 L1174.26 1114.90 L1175.01 1116.38 L1175.75 1117.87 L1176.62 1118.24 L1177.36 1117.37 L1178.22 1116.51 L1178.97 1115.76 L1179.83 1115.15 L1180.58 1114.53 L1181.44 1114.03 L1182.18 1113.66 L1182.93 1113.29 L1183.79 1113.04 L1184.54 1112.92 L1185.40 1112.79 L1186.14 1112.79 L1187.01 1112.92 L1187.75 1113.17 L1188.62 1113.41 L1189.36 1113.66 L1190.10 1114.16 L1190.97 1114.65 L1191.71 1115.27 L1192.58 1115.89 L1193.32 1116.63 L1194.19 1117.50 L1194.93 1118.49 L1195.80 1119.48 L1196.54 1120.59 L1197.28 1121.71 L1198.15 1122.94 L1198.89 1124.30 L1199.76 1125.79 L1200.50 1127.27 L1201.37 1128.88 L1202.11 1130.49 L1202.97 1132.22 L1203.72 1134.08 L1204.46 1136.06 L1205.33 1137.55 L1206.07 1137.79 L1206.93 1138.29 L1207.68 1138.78 L1208.54 1139.40 L1209.29 1140.14 L1210.15 1140.89 L1210.89 1141.75 L1211.64 1142.74 L1212.50 1143.86 L1213.24 1144.97 L1214.11 1146.21 L1214.85 1147.57 L1215.72 1148.81 L1216.46 1148.06 L1217.33 1147.45 L1218.07 1146.95 L1218.94 1146.46 L1219.68 1146.08 L1220.42 1145.71 L1221.29 1145.47 L1222.03 1145.34 L1222.90 1145.22 L1223.64 1145.22 L1224.51 1145.34 L1225.25 1145.47 L1226.12 1145.71 L1226.86 1146.08 L1227.60 1146.46 L1228.47 1146.95 L1229.21 1147.57 L1230.08 1148.19 L1230.82 1148.93 L1231.68 1149.80 L1232.43 1150.66 L1233.29 1151.65 L1234.04 1152.64 L1234.78 1153.76 L1235.64 1154.99 L1236.39 1156.36 L1237.25 1157.72 L1237.99 1159.08 L1238.86 1160.69 L1239.60 1162.30 L1240.47 1164.03 L1241.21 1165.76 L1241.96 1167.62 L1242.82 1169.60 L1243.56 1171.58 L1244.43 1173.68 L1245.17 1174.42 L1246.04 1175.17 L1246.78 1176.03 L1247.65 1176.90 L1248.39 1177.89 L1249.13 1179.00 L1250.00 1180.12 L1250.74 1181.48 L1251.61 1182.72 L1252.35 1184.20 L1253.22 1185.69 L1253.96 1187.29 L1254.83 1189.03 L1255.57 1189.52 L1256.31 1189.40 L1257.18 1189.52 L1257.92 1189.52 L1258.79 1189.77 L1259.53 1190.02 L1260.39 1190.39 L1261.14 1190.76 L1262.00 1191.25 L1262.74 1191.87 L1263.61 1192.49 L1264.35 1193.23 L1265.10 1194.10 L1265.96 1194.97 L1266.71 1195.96 L1267.57 1197.07 L1268.31 1198.18 L1269.18 1199.42 L1269.92 1200.66 L1270.79 1202.02 L1271.53 1203.51 L1272.27 1204.99 L1273.14 1206.60 L1273.88 1208.33 L1274.75 1210.07 L1275.49 1211.92 L1276.36 1213.78 L1277.10 1215.76 L1277.97 1217.86 L1278.71 1219.97 L1279.45 1222.19 L1280.32 1224.54 L1281.06 1226.90 L1281.93 1229.37 L1282.67 1231.97 L1283.54 1234.57 L1284.28 1236.67 L1285.14 1238.28 L1285.89 1240.01 L1286.63 1241.75 L1287.49 1243.60 L1288.24 1245.58 L1289.10 1247.56 L1289.85 1249.67 L1290.71 1251.89 L1291.46 1254.25 L1292.32 1256.60 L1293.06 1259.07 L1293.81 1261.55 L1294.67 1263.28 L1295.42 1263.28 L1296.28 1263.28 L1297.02 1263.40 L1297.89 1263.65 L1298.63 1263.90 L1299.50 1264.15 L1300.24 1264.52 L1300.98 1265.01 L1301.85 1265.51 L1302.59 1266.13 L1303.46 1266.87 L1304.20 1267.61 L1305.07 1268.35 L1305.81 1269.22 L1306.68 1270.21 L1307.42 1271.20 L1308.29 1272.31 L1309.03 1273.43 L1309.77 1274.66 L1310.64 1276.03 L1311.38 1277.39 L1312.25 1278.87 L1312.99 1280.36 L1313.85 1281.84 L1314.60 1283.58 L1315.46 1285.31 L1316.21 1287.04 L1316.95 1288.90 L1317.81 1290.88 L1318.56 1292.86 L1319.42 1294.96 L1320.17 1297.06 L1321.03 1299.29 L1321.77 1301.52 L1322.64 1303.87 L1323.38 1306.10 L1324.13 1306.72 L1324.99 1307.46 L1325.73 1308.33 L1326.60 1309.32 L1327.34 1310.31 L1328.21 1311.42 L1328.95 1312.53 L1329.82 1313.77 L1330.56 1315.13 L1331.30 1316.49 L1332.17 1317.98 L1332.91 1319.59 L1333.78 1321.20 L1334.52 1320.95 L1335.39 1320.58 L1336.13 1320.33 L1337.00 1320.08 L1337.74 1319.96 L1338.48 1319.83 L1339.35 1319.83 L1340.09 1319.83 L1340.96 1319.96 L1341.70 1320.21 L1342.56 1320.45 L1343.31 1320.83 L1344.17 1321.20 L1344.92 1321.69 L1345.66 1322.19 L1346.52 1322.81 L1347.27 1323.42 L1348.13 1324.17 L1348.88 1325.03 L1349.74 1325.90 L1350.48 1326.77 L1351.35 1327.88 L1352.09 1328.87 L1352.96 1330.11 L1353.70 1331.22 L1354.44 1332.58 L1355.31 1333.94 L1356.05 1335.30 L1356.92 1336.79 L1357.66 1338.40 L1358.53 1340.01 L1359.27 1341.62 L1360.14 1343.47 L1360.88 1345.20 L1361.62 1347.18 L1362.49 1349.16 L1363.23 1350.03 L1364.10 1350.53 L1364.84 1351.14 L1365.71 1351.89 L1366.45 1352.63 L1367.31 1353.50 L1368.06 1354.49 L1368.80 1355.48 L1369.67 1356.59 L1370.41 1357.83 L1371.27 1359.06 L1372.02 1360.30 L1372.88 1361.79 L1373.63 1361.91 L1374.49 1361.17 L1375.23 1360.55 L1375.98 1359.93 L1376.84 1359.31 L1377.59 1358.82 L1378.45 1358.45 L1379.19 1358.07 L1380.06 1357.83 L1380.80 1357.58 L1381.67 1357.33 L1382.41 1357.33 L1383.15 1357.21 L1384.02 1357.21 L1384.76 1357.33 L1385.63 1357.46 L1386.37 1357.70 L1387.24 1357.95 L1387.98 1358.32 L1388.85 1358.69 L1389.59 1359.19 L1390.33 1359.81 L1391.20 1360.30 L1391.94 1361.05 L1392.81 1361.79 L1393.55 1362.53 L1394.42 1363.40 L1395.16 1364.26 L1396.02 1365.25 L1396.77 1366.37 L1397.63 1367.48 L1398.38 1368.59 L1399.12 1369.83 L1399.98 1371.19 L1400.73 1372.55 L1401.59 1373.92 L1402.34 1375.03 L1403.20 1375.65 L1403.94 1376.27 L1404.81 1377.01 L1405.55 1377.75 L1406.30 1378.62 L1407.16 1379.48 L1407.90 1380.47 L1408.77 1381.59 L1409.51 1382.70 L1410.38 1383.94 L1411.12 1385.18 L1411.99 1386.54 L1412.73 1387.53 L1413.47 1387.28 L1414.34 1387.16 L1415.08 1387.03 L1415.95 1387.03 L1416.69 1387.03 L1417.56 1387.03 L1418.30 1387.16 L1419.17 1387.40 L1419.91 1387.65 L1420.65 1387.90 L1421.52 1388.27 L1422.26 1388.77 L1423.13 1389.26 L1423.87 1389.76 L1424.73 1390.37 L1425.48 1390.99 L1426.34 1391.74 L1427.09 1392.60 L1427.83 1393.34 L1428.69 1394.33 L1429.44 1395.32 L1430.30 1396.31 L1431.05 1397.43 L1431.91 1398.54 L1432.65 1399.78 L1433.52 1401.02 L1434.26 1402.38 L1435.01 1403.74 L1435.87 1405.23 L1436.61 1406.71 L1437.48 1408.20 L1438.22 1409.93 L1439.09 1411.54 L1439.83 1413.27 L1440.70 1415.13 L1441.44 1416.98 L1442.31 1418.47 L1443.05 1420.08 L1443.79 1421.68 L1444.66 1423.29 L1445.40 1425.03 L1446.27 1426.88 L1447.01 1428.74 L1447.88 1430.59 L1448.62 1432.57 L1449.48 1434.68 L1450.23 1436.78 L1450.97 1439.01 L1451.84 1441.24 L1452.58 1441.98 L1453.44 1442.35 L1454.19 1442.85 L1455.05 1443.47 L1455.80 1443.96 L1456.66 1444.58 L1457.40 1445.32 L1458.15 1446.06 L1459.01 1446.81 L1459.76 1447.67 L1460.62 1448.54 L1461.36 1449.53 L1462.23 1450.52 L1462.97 1451.63 L1463.84 1452.75 L1464.58 1453.86 L1465.32 1455.10 L1466.19 1456.34 L1466.93 1457.57 L1467.80 1458.93 L1468.54 1460.42 L1469.41 1461.90 L1470.15 1463.39 L1471.02 1465.00 L1471.76 1466.61 L1472.50 1468.22 L1473.37 1469.95 L1474.11 1471.80 L1474.98 1473.54 L1475.72 1475.52 L1476.59 1477.37 L1477.33 1479.35 L1478.19 1481.46 L1478.94 1483.44 L1479.68 1485.67 L1480.55 1487.77 L1481.29 1489.75 L1482.15 1491.48 L1482.90 1493.21 L1483.76 1494.95 L1484.51 1496.93 L1485.37 1498.78 L1486.11 1500.76 L1486.98 1502.87 L1487.72 1504.97 L1488.47 1507.07 L1489.33 1509.30 L1490.07 1511.53 L1490.94 1513.88 L1491.68 1515.49 L1492.55 1516.11 L1493.29 1516.85 L1494.16 1517.59 L1494.90 1518.34 L1495.64 1519.20 L1496.51 1520.07 L1497.25 1520.94 L1498.12 1521.93 L1498.86 1522.92 L1499.73 1523.91 L1500.47 1525.02 L1501.34 1526.26 L1502.08 1527.37 L1502.82 1528.61 L1503.69 1529.85 L1504.43 1531.21 L1505.30 1532.57 L1506.04 1534.05 L1506.90 1535.41 L1507.65 1537.02 L1508.51 1538.51 L1509.26 1540.12 L1510.00 1541.73 L1510.86 1543.46 L1511.61 1545.19 L1512.47 1546.92 L1513.22 1548.78 L1514.08 1550.64 L1514.82 1552.49 L1515.69 1554.47 L1516.43 1556.45 L1517.18 1558.56 L1518.04 1560.66 L1518.78 1562.76 L1519.65 1564.99 L1520.39 1567.10 L1521.26 1568.83 L1522.00 1570.68 L1522.87 1572.66 L1523.61 1574.52 L1524.35 1576.50 L1525.22 1578.60 L1525.96 1580.71 L1526.83 1582.81 L1527.57 1584.92 L1528.44 1587.14 L1529.18 1589.49 L1530.05 1591.72 L1530.79 1594.07 L1531.65 1594.94 L1532.40 1595.93 L1533.14 1596.80 L1534.01 1597.79 L1534.75 1598.78 L1535.61 1599.89 L1536.36 1601.00 L1537.22 1602.12 L1537.97 1603.36 L1538.83 1604.47 L1539.57 1605.83 L1540.32 1607.07 L1541.18 1608.43 L1541.93 1609.79 L1542.79 1611.15 L1543.53 1612.64 L1544.40 1614.12 L1545.14 1615.61 L1546.01 1617.22 L1546.75 1618.82 L1547.49 1620.43 L1548.36 1622.17 L1549.10 1623.90 L1549.97 1625.63 L1550.71 1627.49 L1551.58 1629.34 L1552.32 1631.20 L1553.19 1633.18 L1553.93 1635.16 L1554.67 1637.14 L1555.54 1639.12 L1556.28 1641.22 L1557.15 1643.33 L1557.89 1645.56 L1558.76 1647.66 L1559.50 1649.89 L1560.36 1651.74 L1561.11 1653.48 L1561.85 1655.33 L1562.72 1657.19 L1563.46 1659.04 L1564.32 1661.02 L1565.07 1663.00 L1565.93 1664.98 L1566.68 1667.09 L1567.54 1669.19 L1568.28 1671.30 L1569.03 1673.52 L1569.89 1675.75 L1570.64 1677.24 L1571.50 1678.47 L1572.24 1679.59 L1573.11 1680.83 L1573.85 1682.06 L1574.72 1683.30 L1575.46 1684.66 L1576.33 1685.90 L1577.07 1687.38 L1577.81 1688.75 L1578.68 1690.23 L1579.42 1691.72 L1580.29 1693.20 L1581.03 1694.81 L1581.90 1696.42 L1582.64 1698.03 L1583.51 1699.64 L1584.25 1701.37 L1584.99 1703.10 L1585.86 1704.83 L1586.60 1706.69 L1587.47 1708.55 L1588.21 1710.40 L1589.07 1712.38 L1589.82 1714.24 L1590.68 1716.22 L1591.43 1718.32 L1592.17 1720.30 L1593.03 1722.41 L1593.78 1724.63 L1594.64 1726.74 L1595.39 1728.97 L1596.25 1731.19 L1596.99 1733.42 L1597.86 1735.77 L1598.60 1738.12 L1599.35 1740.10 L1600.21 1741.71 L1600.95 1743.44 L1601.82 1745.05 L1602.56 1746.79 L1603.43 1748.64 L1604.17 1750.37 L1605.04 1752.23 L1605.78 1754.21 L1606.52 1756.07 L1607.39 1758.05 L1608.13 1760.03 L1609.00 1762.13 L1609.74 1763.74 L1610.61 1764.11 L1611.35 1764.36 L1612.22 1764.85 L1612.96 1765.23 L1613.70 1765.60 L1614.57 1766.09 L1615.31 1766.59 L1616.18 1767.21 L1616.92 1767.70 L1617.78 1768.32 L1618.53 1768.94 L1619.39 1769.56 L1620.14 1770.30 L1621.00 1770.92 L1621.74 1771.66 L1622.49 1772.53 L1623.35 1773.27 L1624.10 1774.14 L1624.96 1775.00 L1625.70 1775.87 L1626.57 1776.73 L1627.31 1777.72 L1628.18 1778.71 L1628.92 1779.70 L1629.66 1780.82 L1630.53 1781.81 L1631.27 1782.92 L1632.14 1784.16 L1632.88 1785.27 L1633.75 1786.51 L1634.49 1787.75 L1635.36 1788.99 L1636.10 1790.22 L1636.84 1791.58 L1637.71 1792.95 L1638.45 1794.18 L1639.32 1795.05 L1640.06 1795.79 L1640.93 1796.66 L1641.67 1797.52 L1642.53 1798.51 L1643.28 1799.38 L1644.02 1800.37 L1644.89 1801.49 L1645.63 1802.48 L1646.49 1803.59 L1647.24 1804.70 L1648.10 1805.82 L1648.85 1807.05 L1649.71 1806.93 L1650.45 1806.56 L1651.20 1806.31 L1652.06 1806.06 L1652.81 1805.82 L1653.67 1805.57 L1654.41 1805.45 L1655.28 1805.20 L1656.02 1805.07 L1656.89 1804.95 L1657.63 1804.95 L1658.37 1804.83 L1659.24 1804.83 L1659.98 1804.83 L1660.85 1804.83 L1661.59 1804.95 L1662.46 1804.95 L1663.20 1805.07 L1664.07 1805.20 L1664.81 1805.32 L1665.68 1805.45 L1666.42 1805.69 L1667.16 1805.94 L1668.03 1806.19 L1668.77 1806.44 L1669.64 1806.68 L1670.38 1807.05 L1671.24 1807.43 L1671.99 1807.80 L1672.85 1808.17 L1673.60 1808.54 L1674.34 1809.03 L1675.20 1809.53 L1675.95 1810.02 L1676.81 1810.52 L1677.56 1811.01 L1678.42 1811.01 L1679.16 1810.89 L1680.03 1810.77 L1680.77 1810.64 L1681.52 1810.52 L1682.38 1810.52 L1683.12 1810.52 L1683.99 1810.52 L1684.73 1810.52 L1685.60 1810.52 L1686.34 1810.64 L1687.21 1810.77 L1687.95 1810.89 L1688.69 1810.64 L1689.56 1809.78 L1690.30 1809.03 L1691.17 1808.29 L1691.91 1807.55 L1692.78 1806.93 L1693.52 1806.19 L1694.39 1805.57 L1695.13 1804.95 L1695.87 1804.33 L1696.74 1803.71 L1697.48 1803.22 L1698.35 1802.60 L1699.09 1802.10 L1699.95 1801.61 L1700.70 1801.24 L1701.56 1800.74 L1702.31 1800.37 L1703.05 1800.00 L1703.91 1799.63 L1704.66 1799.26 L1705.52 1798.89 L1706.27 1798.64 L1707.13 1798.39 L1707.87 1798.14 L1708.74 1797.90 L1709.48 1797.77 L1710.35 1797.52 L1711.09 1797.40 L1711.83 1797.28 L1712.70 1797.15 L1713.44 1797.03 L1714.31 1797.03 L1715.05 1797.03 L1715.92 1797.03 L1716.66 1797.03 L1717.53 1797.03 L1718.27 1797.15 L1719.01 1797.15 L1719.88 1797.28 L1720.62 1797.40 L1721.49 1797.65 L1722.23 1797.77 L1723.10 1798.02 L1723.84 1798.27 L1724.70 1798.51 L1725.45 1798.76 L1726.19 1799.13 L1727.06 1799.38 L1727.80 1799.75 L1728.66 1799.63 L1729.41 1799.63 L1730.27 1799.63 L1731.02 1799.50 L1731.88 1799.63 L1732.62 1799.63 L1733.37 1799.63 L1734.23 1799.75 L1734.98 1799.88 L1735.84 1800.00 L1736.58 1800.12 L1737.45 1800.25 L1738.19 1800.50 L1739.06 1800.74 L1739.80 1800.87 L1740.54 1801.11 L1741.41 1801.49 L1742.15 1801.73 L1743.02 1802.10 L1743.76 1802.35 L1744.63 1802.72 L1745.37 1803.09 L1746.24 1803.59 L1746.98 1803.96 L1747.72 1804.46 L1748.59 1804.83 L1749.33 1805.32 L1750.20 1805.82 L1750.94 1806.44 L1751.81 1806.93 L1752.55 1807.55 L1753.41 1808.04 L1754.16 1808.66 L1755.02 1809.41 L1755.77 1810.02 L1756.51 1810.64 L1757.37 1811.39 L1758.12 1812.13 L1758.98 1812.87 L1759.73 1813.61 L1760.59 1814.36 L1761.33 1815.22 L1762.20 1816.09 L1762.94 1816.95 L1763.69 1817.82 L1764.55 1818.69 L1765.29 1819.55 L1766.16 1820.54 L1766.90 1821.41 L1767.77 1822.03 L1768.51 1822.40 L1769.38 1822.89 L1770.12 1823.27 L1770.86 1823.76 L1771.73 1824.26 L1772.47 1824.75 L1773.34 1825.25 L1774.08 1825.74 L1774.95 1826.36 L1775.69 1826.85 L1776.56 1827.47 L1777.30 1828.09 L1778.04 1828.71 L1778.91 1829.33 L1779.65 1829.95 L1780.52 1830.69 L1781.26 1831.31 L1782.12 1832.05 L1782.87 1832.79 L1783.73 1833.54 L1784.48 1834.28 L1785.22 1835.15 L1786.08 1835.89 L1786.83 1836.75 L1787.69 1837.62 L1788.44 1838.49 L1789.30 1839.35 L1790.04 1840.22 L1790.91 1841.09 L1791.65 1842.08 L1792.40 1842.94 L1793.26 1843.93 L1794.00 1844.92 L1794.87 1845.91 L1795.61 1847.03 L1796.48 1848.02 L1797.22 1849.13 L1798.09 1850.12 L1798.83 1851.23 L1799.70 1852.35 L1800.44 1853.46 L1801.18 1854.58 L1802.05 1855.81 L1802.79 1856.93 L1803.66 1858.16 L1804.40 1859.40 L1805.27 1860.64 L1806.01 1861.88 L1806.87 1862.99 L1807.62 1863.86 L1808.36 1864.60 L1809.23 1865.47 L1809.97 1866.33 L1810.83 1867.20 L1811.58 1868.06 L1812.44 1869.05 L1813.19 1869.92 L1814.05 1870.91 L1814.79 1871.78 L1815.54 1872.77 L1816.40 1873.76 L1817.15 1874.75 L1818.01 1875.74 L1818.75 1876.73 L1819.62 1877.84 L1820.36 1878.83 L1821.23 1879.94 L1821.97 1881.06 L1822.71 1882.17 L1823.58 1883.29 L1824.32 1884.40 L1825.19 1885.51 L1825.93 1886.75 L1826.80 1887.87 L1827.54 1889.10 L1828.41 1890.34 L1829.15 1891.58 L1829.89 1892.82 L1830.76 1894.05 L1831.50 1895.29 L1832.37 1896.53 L1833.11 1897.89 L1833.98 1899.25 L1834.72 1900.49 L1835.58 1901.85 L1836.33 1903.21 L1837.07 1904.70 L1837.94 1906.06 L1838.68 1907.42 L1839.54 1908.90 L1840.29 1910.26 L1841.15 1911.75 L1841.90 1913.23 L1842.76 1914.72 L1843.50 1916.20 L1844.37 1917.81 L1845.11 1919.30 L1845.86 1920.91 L1846.72 1921.90 L1847.46 1922.89 L1848.33 1924.00 L1849.07 1924.99 L1849.94 1926.11 L1850.68 1927.10 L1851.55 1928.21 L1852.29 1929.32 L1853.03 1930.44 L1853.90 1931.55 L1854.64 1932.66 L1855.51 1933.78 L1856.25 1935.02 L1857.12 1936.13 L1857.86 1937.37 L1858.73 1938.48 L1859.47 1939.72 L1860.21 1940.96 L1861.08 1942.19 L1861.82 1943.43 L1862.69 1944.67 L1863.43 1945.91 L1864.29 1947.27 L1865.04 1948.50 L1865.90 1949.87 L1866.65 1951.23 L1867.39 1952.46 L1868.25 1953.83 L1869.00 1955.19 L1869.86 1956.55 L1870.61 1957.91 L1871.47 1959.39 L1872.21 1960.76 L1873.08 1962.12 L1873.82 1963.60 L1874.57 1965.09 L1875.43 1966.45 L1876.17 1967.93 L1877.04 1969.42 L1877.78 1970.90 L1878.65 1972.39 L1879.39 1974.00 L1880.26 1975.48 L1881.00 1977.09 L1881.74 1978.58 L1882.61 1980.19 L1883.35 1981.79 L1884.22 1983.28 L1884.96 1984.89\" stroke-linejoin=\"round\" style=\"fill:none;stroke:#90353B;stroke-width:7.34\"/>\n\t<path d=\" M2326.62 1863.11 L2327.12 1860.52 L2327.61 1857.92 L2328.23 1855.44 L2328.73 1852.84 L2329.22 1850.24 L2329.72 1847.77 L2330.34 1845.29 L2330.83 1842.70 L2331.33 1840.22 L2331.82 1837.74 L2332.44 1835.27 L2332.94 1832.79 L2333.43 1830.44 L2333.93 1827.97 L2334.54 1825.62 L2335.04 1823.14 L2335.53 1820.79 L2336.03 1818.44 L2336.65 1816.09 L2337.14 1813.74 L2337.64 1811.39 L2338.13 1809.03 L2338.75 1806.68 L2339.25 1804.46 L2339.74 1802.10 L2340.24 1799.88 L2340.86 1797.52 L2341.35 1795.30 L2341.84 1793.07 L2342.34 1790.84 L2342.96 1788.61 L2343.45 1786.51 L2343.95 1784.28 L2344.44 1782.06 L2345.06 1779.95 L2345.56 1777.85 L2346.05 1775.62 L2346.55 1773.52 L2347.17 1771.41 L2347.66 1769.31 L2348.16 1767.33 L2348.65 1765.23 L2349.27 1763.12 L2349.77 1761.14 L2350.26 1759.04 L2350.76 1757.06 L2351.37 1755.08 L2351.87 1753.10 L2352.36 1751.12 L2352.86 1749.14 L2353.48 1747.16 L2353.97 1745.18 L2354.47 1743.32 L2354.96 1741.34 L2355.58 1739.48 L2356.08 1737.63 L2356.57 1735.77 L2357.07 1733.79 L2357.69 1732.06 L2358.18 1730.20 L2358.68 1728.35 L2359.17 1726.49 L2359.79 1724.76 L2360.28 1722.90 L2360.78 1721.17 L2361.27 1719.44 L2361.89 1717.70 L2362.39 1715.97 L2362.88 1714.24 L2363.38 1712.51 L2364.00 1710.77 L2364.49 1708.17 L2364.99 1704.71 L2365.61 1701.24 L2366.10 1697.78 L2366.59 1694.31 L2367.09 1690.85 L2367.71 1687.51 L2368.20 1684.17 L2368.70 1680.70 L2369.19 1677.36 L2369.81 1674.02 L2370.31 1670.80 L2370.80 1667.46 L2371.30 1664.24 L2371.92 1661.02 L2372.41 1657.68 L2372.91 1654.59 L2373.40 1651.37 L2374.02 1648.15 L2374.52 1645.06 L2375.01 1641.84 L2375.51 1638.75 L2376.12 1635.65 L2376.62 1632.68 L2377.11 1629.59 L2377.61 1626.50 L2378.23 1623.53 L2378.72 1620.56 L2379.22 1617.59 L2379.71 1614.62 L2380.33 1611.65 L2380.83 1608.80 L2381.32 1605.83 L2381.82 1602.98 L2382.44 1600.14 L2382.93 1597.29 L2383.43 1594.44 L2383.92 1591.72 L2384.54 1588.88 L2385.03 1586.15 L2385.53 1583.43 L2386.02 1580.71 L2386.64 1577.99 L2387.14 1575.26 L2387.63 1572.66 L2388.13 1569.94 L2388.75 1567.34 L2389.24 1564.74 L2389.74 1562.15 L2390.23 1559.55 L2390.85 1557.07 L2391.34 1554.60 L2391.84 1552.00 L2392.34 1549.52 L2392.95 1547.05 L2393.45 1544.57 L2393.94 1542.22 L2394.44 1539.75 L2395.06 1537.39 L2395.55 1535.04 L2396.05 1532.69 L2396.54 1530.34 L2397.16 1527.99 L2397.66 1525.76 L2398.15 1523.41 L2398.65 1521.18 L2399.27 1518.95 L2399.76 1516.73 L2400.26 1514.62 L2400.75 1512.40 L2401.37 1510.29 L2401.86 1508.06 L2402.36 1505.96 L2402.85 1503.86 L2403.47 1501.88 L2403.97 1498.66 L2404.46 1494.95 L2405.08 1491.36 L2405.58 1487.65 L2406.07 1484.06 L2406.57 1480.47 L2407.19 1476.88 L2407.68 1473.41 L2408.18 1469.82 L2408.67 1466.36 L2409.29 1462.89 L2409.78 1459.43 L2410.28 1456.09 L2410.77 1452.62 L2411.39 1449.28 L2411.89 1445.94 L2412.38 1442.60 L2412.88 1439.38 L2413.50 1436.16 L2413.99 1432.82 L2414.49 1429.73 L2414.98 1426.51 L2415.60 1423.29 L2416.09 1420.20 L2416.59 1417.11 L2417.09 1414.01 L2417.70 1410.92 L2418.20 1407.95 L2418.69 1404.98 L2419.19 1401.88 L2419.81 1399.04 L2420.30 1396.07 L2420.80 1393.10 L2421.29 1390.25 L2421.91 1387.40 L2422.41 1384.56 L2422.90 1381.84 L2423.40 1378.99 L2424.02 1376.27 L2424.51 1373.54 L2425.01 1370.82 L2425.50 1368.22 L2426.12 1365.50 L2426.61 1362.90 L2427.11 1360.30 L2427.60 1357.70 L2428.22 1355.23 L2428.72 1352.63 L2429.21 1350.15 L2429.71 1347.68 L2430.33 1345.33 L2430.82 1342.85 L2431.32 1340.50 L2431.81 1338.03 L2432.43 1335.80 L2432.93 1333.45 L2433.42 1331.10 L2433.92 1328.87 L2434.53 1326.64 L2435.03 1324.41 L2435.52 1322.19 L2436.02 1320.08 L2436.64 1317.98 L2437.13 1315.87 L2437.63 1313.77 L2438.12 1311.67 L2438.74 1309.69 L2439.24 1307.58 L2439.73 1305.60 L2440.23 1303.62 L2440.84 1301.77 L2441.34 1299.79 L2441.84 1297.93 L2442.33 1296.07 L2442.95 1294.22 L2443.44 1291.37 L2443.94 1288.28 L2444.56 1285.18 L2445.05 1282.09 L2445.55 1279.12 L2446.04 1276.15 L2446.66 1273.18 L2447.16 1270.21 L2447.65 1267.36 L2448.15 1264.52 L2448.77 1261.67 L2449.26 1258.82 L2449.76 1255.98 L2450.25 1253.26 L2450.87 1250.53 L2451.36 1247.93 L2451.86 1245.21 L2452.35 1242.61 L2452.97 1240.01 L2453.47 1237.41 L2453.96 1234.94 L2454.46 1232.34 L2455.08 1229.87 L2455.57 1227.51 L2456.07 1225.04 L2456.56 1222.69 L2457.18 1220.34 L2457.68 1217.99 L2458.17 1215.76 L2458.67 1213.41 L2459.28 1211.18 L2459.78 1208.95 L2460.27 1206.85 L2460.77 1204.74 L2461.39 1202.64 L2461.88 1200.54 L2462.38 1198.43 L2462.87 1196.45 L2463.49 1194.47 L2463.99 1192.49 L2464.48 1190.51 L2464.98 1188.66 L2465.59 1186.80 L2466.09 1184.94 L2466.59 1183.09 L2467.08 1181.35 L2467.70 1179.62 L2468.19 1177.89 L2468.69 1176.16 L2469.18 1174.55 L2469.80 1172.94 L2470.30 1171.33 L2470.79 1169.72 L2471.29 1168.24 L2471.91 1166.75 L2472.40 1165.27 L2472.90 1163.78 L2473.39 1162.42 L2474.01 1161.06 L2474.51 1159.70 L2475.00 1158.34 L2475.50 1157.10 L2476.11 1155.74 L2476.61 1154.50 L2477.10 1153.39 L2477.60 1152.15 L2478.22 1151.03 L2478.71 1149.92 L2479.21 1148.81 L2479.70 1147.82 L2480.32 1146.70 L2480.82 1145.71 L2481.31 1144.85 L2481.81 1143.86 L2482.43 1142.99 L2482.92 1140.76 L2483.42 1138.54 L2484.03 1136.31 L2484.53 1134.20 L2485.02 1132.10 L2485.52 1130.00 L2486.14 1127.89 L2486.63 1125.91 L2487.13 1123.93 L2487.62 1121.95 L2488.24 1120.10 L2488.74 1118.12 L2489.23 1116.38 L2489.73 1114.53 L2490.34 1112.79 L2490.84 1111.06 L2491.34 1109.33 L2491.83 1107.60 L2492.45 1105.99 L2492.94 1104.38 L2493.44 1102.89 L2493.93 1101.29 L2494.55 1099.80 L2495.05 1098.44 L2495.54 1096.95 L2496.04 1095.59 L2496.66 1094.23 L2497.15 1092.87 L2497.65 1091.63 L2498.14 1090.40 L2498.76 1089.16 L2499.26 1088.04 L2499.75 1086.93 L2500.25 1085.82 L2500.86 1084.70 L2501.36 1083.71 L2501.85 1082.72 L2502.35 1081.73 L2502.97 1080.87 L2503.46 1079.88 L2503.96 1079.13 L2504.45 1078.27 L2505.07 1077.52 L2505.57 1076.78 L2506.06 1076.04 L2506.56 1075.30 L2507.18 1074.68 L2507.67 1074.06 L2508.17 1073.56 L2508.66 1072.95 L2509.28 1072.45 L2509.77 1072.08 L2510.27 1071.58 L2510.76 1071.21 L2511.38 1070.84 L2511.88 1070.59 L2512.37 1070.22 L2512.87 1069.98 L2513.49 1069.73 L2513.98 1069.60 L2514.48 1069.48 L2514.97 1069.36 L2515.59 1069.23 L2516.09 1069.23 L2516.58 1069.23 L2517.07 1069.23 L2517.69 1069.36 L2518.19 1069.48 L2518.68 1069.60 L2519.18 1069.73 L2519.80 1069.98 L2520.29 1070.22 L2520.79 1070.47 L2521.28 1070.84 L2521.90 1070.97 L2522.40 1069.85 L2522.89 1068.61 L2523.51 1067.62 L2524.01 1066.51 L2524.50 1065.52 L2525.00 1064.53 L2525.61 1063.66 L2526.11 1062.80 L2526.60 1061.93 L2527.10 1061.19 L2527.72 1060.45 L2528.21 1059.70 L2528.71 1058.96 L2529.20 1058.34 L2529.82 1057.72 L2530.32 1057.23 L2530.81 1056.73 L2531.31 1056.24 L2531.93 1055.87 L2532.42 1055.37 L2532.92 1055.13 L2533.41 1054.75 L2534.03 1054.51 L2534.52 1054.26 L2535.02 1054.14 L2535.51 1054.01 L2536.13 1053.89 L2536.63 1053.76 L2537.12 1053.76 L2537.62 1053.39 L2538.24 1052.40 L2538.73 1051.41 L2539.23 1050.42 L2539.72 1049.43 L2540.34 1048.57 L2540.84 1047.70 L2541.33 1046.83 L2541.82 1046.09 L2542.44 1045.23 L2542.94 1044.61 L2543.43 1043.86 L2543.93 1043.25 L2544.55 1042.63 L2545.04 1042.01 L2545.54 1041.51 L2546.03 1041.02 L2546.65 1040.52 L2547.15 1040.15 L2547.64 1039.78 L2548.14 1039.41 L2548.76 1039.04 L2549.25 1038.79 L2549.75 1038.54 L2550.24 1038.42 L2550.86 1038.17 L2551.35 1038.05 L2551.85 1038.05 L2552.34 1037.92 L2552.96 1037.92 L2553.46 1037.92 L2553.95 1038.05 L2554.45 1038.05 L2555.07 1038.17 L2555.56 1038.42 L2556.06 1038.67 L2556.55 1038.79 L2557.17 1039.16 L2557.67 1039.41 L2558.16 1039.78 L2558.66 1040.15 L2559.27 1040.65 L2559.77 1041.02 L2560.26 1041.64 L2560.88 1042.13 L2561.38 1042.38 L2561.87 1041.88 L2562.37 1041.39 L2562.99 1040.89 L2563.48 1040.52 L2563.98 1040.15 L2564.47 1039.90 L2565.09 1039.53 L2565.59 1039.28 L2566.08 1039.16 L2566.57 1039.04 L2567.19 1038.91 L2567.69 1038.79 L2568.18 1038.79 L2568.68 1038.79 L2569.30 1038.79 L2569.79 1038.91 L2570.29 1039.04 L2570.78 1039.16 L2571.40 1039.41 L2571.90 1039.66 L2572.39 1040.03 L2572.89 1040.28 L2573.51 1040.65 L2574.00 1041.14 L2574.50 1041.64 L2574.99 1042.13 L2575.61 1042.63 L2576.10 1043.25 L2576.60 1043.86 L2577.09 1043.99 L2577.71 1043.49 L2578.21 1043.12 L2578.70 1042.75 L2579.20 1042.38 L2579.82 1042.01 L2580.31 1041.76 L2580.81 1041.64 L2581.30 1041.39 L2581.92 1041.27 L2582.42 1041.14 L2582.91 1041.02 L2583.41 1041.02 L2584.02 1041.02 L2584.52 1041.02 L2585.01 1041.14 L2585.51 1041.27 L2586.13 1041.39 L2586.62 1041.51 L2587.12 1041.76 L2587.61 1042.01 L2588.23 1042.26 L2588.73 1042.63 L2589.22 1043.00 L2589.72 1043.37 L2590.34 1043.86 L2590.83 1044.36 L2591.32 1044.85 L2591.82 1045.35 L2592.44 1045.97 L2592.93 1046.59 L2593.43 1047.21 L2593.92 1047.95 L2594.54 1048.69 L2595.04 1049.43 L2595.53 1050.30 L2596.03 1051.04 L2596.65 1052.03 L2597.14 1052.90 L2597.64 1053.89 L2598.13 1054.88 L2598.75 1055.87 L2599.25 1056.98 L2599.74 1058.10 L2600.36 1059.21 L2600.85 1059.83 L2601.35 1059.58 L2601.84 1059.46 L2602.46 1059.33 L2602.96 1059.33 L2603.45 1059.33 L2603.95 1059.33 L2604.57 1059.46 L2605.06 1059.58 L2605.56 1059.70 L2606.05 1059.95 L2606.67 1060.20 L2607.17 1060.57 L2607.66 1060.82 L2608.16 1061.19 L2608.77 1061.68 L2609.27 1062.06 L2609.76 1062.55 L2610.26 1063.17 L2610.88 1063.79 L2611.37 1064.41 L2611.87 1065.03 L2612.36 1065.77 L2612.98 1066.51 L2613.48 1067.25 L2613.97 1068.12 L2614.47 1068.99 L2615.09 1069.98 L2615.58 1070.84 L2616.07 1071.83 L2616.57 1072.08 L2617.19 1071.83 L2617.68 1071.71 L2618.18 1071.58 L2618.67 1071.46 L2619.29 1071.46 L2619.79 1071.34 L2620.28 1071.34 L2620.78 1071.46 L2621.40 1071.58 L2621.89 1071.71 L2622.39 1071.83 L2622.88 1071.96 L2623.50 1072.20 L2624.00 1072.57 L2624.49 1072.82 L2624.99 1073.19 L2625.60 1073.56 L2626.10 1073.94 L2626.59 1074.43 L2627.09 1074.93 L2627.71 1075.42 L2628.20 1076.04 L2628.70 1076.66 L2629.19 1077.28 L2629.81 1078.02 L2630.31 1078.76 L2630.80 1079.50 L2631.30 1080.25 L2631.92 1081.11 L2632.41 1081.98 L2632.91 1082.85 L2633.40 1083.84 L2634.02 1084.83 L2634.51 1085.82 L2635.01 1086.81 L2635.50 1087.92 L2636.12 1089.03 L2636.62 1090.27 L2637.11 1091.51 L2637.61 1092.75 L2638.23 1093.98 L2638.72 1095.35 L2639.22 1096.71 L2639.84 1098.07 L2640.33 1098.81 L2640.83 1099.31 L2641.32 1099.68 L2641.94 1100.17 L2642.43 1100.79 L2642.93 1101.29 L2643.42 1101.90 L2644.04 1102.65 L2644.54 1103.39 L2645.03 1104.13 L2645.53 1104.87 L2646.15 1105.74 L2646.64 1106.61 L2647.14 1107.47 L2647.63 1108.46 L2648.25 1109.33 L2648.75 1110.44 L2649.24 1111.43 L2649.74 1112.55 L2650.35 1113.78 L2650.85 1114.90 L2651.34 1116.14 L2651.84 1117.50 L2652.46 1118.73 L2652.95 1120.10 L2653.45 1121.58 L2653.94 1122.94 L2654.56 1124.43 L2655.06 1126.04 L2655.55 1127.52 L2656.05 1127.65 L2656.67 1127.52 L2657.16 1127.27 L2657.66 1127.15 L2658.15 1127.15 L2658.77 1127.03 L2659.26 1127.03 L2659.76 1127.03 L2660.25 1127.03 L2660.87 1127.15 L2661.37 1127.27 L2661.86 1127.40 L2662.36 1127.52 L2662.98 1127.77 L2663.47 1128.02 L2663.97 1128.26 L2664.46 1128.64 L2665.08 1129.01 L2665.58 1129.38 L2666.07 1129.75 L2666.57 1130.24 L2667.18 1130.74 L2667.68 1131.23 L2668.17 1131.85 L2668.67 1132.47 L2669.29 1133.09 L2669.78 1133.71 L2670.28 1134.45 L2670.77 1135.19 L2671.39 1135.94 L2671.89 1136.68 L2672.38 1137.55 L2672.88 1138.41 L2673.50 1139.28 L2673.99 1140.27 L2674.49 1141.26 L2674.98 1142.25 L2675.60 1143.24 L2676.09 1144.35 L2676.59 1145.47 L2677.08 1146.58 L2677.70 1147.82 L2678.20 1149.05 L2678.69 1150.29 L2679.31 1151.53 L2679.81 1152.15 L2680.30 1152.52 L2680.80 1153.01 L2681.42 1153.51 L2681.91 1154.00 L2682.41 1154.62 L2682.90 1155.12 L2683.52 1155.74 L2684.01 1156.48 L2684.51 1157.22 L2685.00 1157.96 L2685.62 1158.71 L2686.12 1159.57 L2686.61 1160.44 L2687.11 1161.31 L2687.73 1162.17 L2688.22 1163.16 L2688.72 1164.15 L2689.21 1165.27 L2689.83 1166.38 L2690.33 1167.49 L2690.82 1168.61 L2691.32 1169.85 L2691.93 1171.08 L2692.43 1172.32 L2692.92 1173.68 L2693.42 1175.04 L2694.04 1176.40 L2694.53 1177.89 L2695.03 1179.25 L2695.52 1179.25 L2696.14 1179.13 L2696.64 1179.00 L2697.13 1178.88 L2697.63 1178.88 L2698.25 1178.88 L2698.74 1178.88 L2699.24 1179.00 L2699.73 1179.13 L2700.35 1179.25 L2700.84 1179.37 L2701.34 1179.62 L2701.83 1179.75 L2702.45 1179.99 L2702.95 1180.36 L2703.44 1180.61 L2703.94 1180.98 L2704.56 1181.35 L2705.05 1181.85 L2705.55 1182.22 L2706.04 1182.72 L2706.66 1183.21 L2707.16 1183.83 L2707.65 1184.32 L2708.15 1184.94 L2708.76 1185.56 L2709.26 1186.30 L2709.75 1186.92 L2710.25 1187.67 L2710.87 1188.41 L2711.36 1189.27 L2711.86 1190.14 L2712.35 1191.01 L2712.97 1191.87 L2713.47 1192.74 L2713.96 1193.73 L2714.46 1194.72 L2715.08 1195.71 L2715.57 1196.82 L2716.07 1197.81 L2716.56 1198.93 L2717.18 1200.17 L2717.67 1201.28 L2718.17 1202.52 L2718.79 1203.75 L2719.28 1204.00 L2719.78 1204.13 L2720.27 1204.25 L2720.89 1204.50 L2721.39 1204.74 L2721.88 1204.99 L2722.38 1205.24 L2723.00 1205.61 L2723.49 1205.98 L2723.99 1206.35 L2724.48 1206.85 L2725.10 1207.34 L2725.59 1207.84 L2726.09 1208.46 L2726.58 1208.95 L2727.20 1209.57 L2727.70 1210.31 L2728.19 1211.06 L2728.69 1211.67 L2729.31 1212.54 L2729.80 1213.28 L2730.30 1214.15 L2730.79 1215.02 L2731.41 1216.01 L2731.91 1216.87 L2732.40 1217.86 L2732.90 1218.98 L2733.51 1219.97 L2734.01 1221.08 L2734.50 1222.07 L2735.00 1221.95 L2735.62 1221.82 L2736.11 1221.70 L2736.61 1221.57 L2737.10 1221.57 L2737.72 1221.57 L2738.22 1221.57 L2738.71 1221.57 L2739.21 1221.70 L2739.83 1221.82 L2740.32 1221.95 L2740.82 1222.19 L2741.31 1222.32 L2741.93 1222.56 L2742.42 1222.81 L2742.92 1223.18 L2743.41 1223.55 L2744.03 1223.93 L2744.53 1224.30 L2745.02 1224.67 L2745.52 1225.16 L2746.14 1225.66 L2746.63 1226.15 L2747.13 1226.77 L2747.62 1227.27 L2748.24 1227.89 L2748.74 1228.50 L2749.23 1229.25 L2749.73 1229.99 L2750.34 1230.73 L2750.84 1231.47 L2751.33 1232.22 L2751.83 1233.08 L2752.45 1233.95 L2752.94 1234.82 L2753.44 1235.81 L2753.93 1236.80 L2754.55 1237.79 L2755.05 1238.78 L2755.54 1239.89 L2756.04 1240.88 L2756.66 1241.99 L2757.15 1243.23 L2757.65 1244.35 L2758.26 1245.58 L2758.76 1245.58 L2759.25 1245.71 L2759.75 1245.83 L2760.37 1245.95 L2760.86 1246.20 L2761.36 1246.45 L2761.85 1246.70 L2762.47 1246.94 L2762.97 1247.32 L2763.46 1247.69 L2763.96 1248.06 L2764.58 1248.55 L2765.07 1249.05 L2765.57 1249.54 L2766.06 1250.04 L2766.68 1250.66 L2767.17 1251.28 L2767.67 1251.89 L2768.16 1252.64 L2768.78 1253.38 L2769.28 1254.12 L2769.77 1254.99 L2770.27 1255.73 L2770.89 1256.60 L2771.38 1257.59 L2771.88 1258.45 L2772.37 1259.44 L2772.99 1260.43 L2773.49 1261.55 L2773.98 1262.29 L2774.48 1261.92 L2775.09 1261.67 L2775.59 1261.55 L2776.08 1261.30 L2776.58 1261.18 L2777.20 1261.05 L2777.69 1260.93 L2778.19 1260.80 L2778.68 1260.80 L2779.30 1260.80 L2779.80 1260.80 L2780.29 1260.93 L2780.79 1260.93 L2781.41 1261.05 L2781.90 1261.18 L2782.40 1261.42 L2782.89 1261.55 L2783.51 1261.79 L2784.00 1262.17 L2784.50 1262.41 L2784.99 1262.78 L2785.61 1263.16 L2786.11 1263.53 L2786.60 1263.90 L2787.10 1264.39 L2787.72 1264.89 L2788.21 1265.38 L2788.71 1265.88 L2789.20 1266.50 L2789.82 1267.12 L2790.32 1267.73 L2790.81 1268.35 L2791.31 1269.10 L2791.92 1269.84 L2792.42 1270.58 L2792.91 1271.32 L2793.41 1272.19 L2794.03 1273.06 L2794.52 1273.92 L2795.02 1274.79 L2795.64 1275.78 L2796.13 1276.77 L2796.63 1277.76 L2797.12 1278.75 L2797.74 1279.61 L2798.24 1279.49 L2798.73 1279.49 L2799.23 1279.49 L2799.84 1279.49 L2800.34 1279.61 L2800.83 1279.74 L2801.33 1279.86 L2801.95 1280.11 L2802.44 1280.23 L2802.94 1280.48 L2803.43 1280.85 L2804.05 1281.10 L2804.55 1281.47 L2805.04 1281.84 L2805.54 1282.21 L2806.16 1282.71 L2806.65 1283.20 L2807.15 1283.70 L2807.64 1284.32 L2808.26 1284.94 L2808.75 1285.56 L2809.25 1286.17 L2809.74 1286.92 L2810.36 1287.66 L2810.86 1288.40 L2811.35 1289.14 L2811.85 1290.01 L2812.47 1290.88 L2812.96 1291.87 L2813.46 1292.11 L2813.95 1291.50 L2814.57 1291.00 L2815.07 1290.51 L2815.56 1290.01 L2816.06 1289.52 L2816.67 1289.02 L2817.17 1288.65 L2817.66 1288.28 L2818.16 1287.91 L2818.78 1287.66 L2819.27 1287.29 L2819.77 1287.04 L2820.26 1286.79 L2820.88 1286.67 L2821.38 1286.42 L2821.87 1286.30 L2822.37 1286.17 L2822.99 1286.05 L2823.48 1286.05 L2823.98 1286.05 L2824.47 1286.05 L2825.09 1286.05 L2825.58 1286.17 L2826.08 1286.17 L2826.57 1286.30 L2827.19 1286.42 L2827.69 1286.67 L2828.18 1286.92 L2828.68 1287.04 L2829.30 1287.41 L2829.79 1287.66 L2830.29 1288.03 L2830.78 1288.28 L2831.40 1288.65 L2831.90 1289.14 L2832.39 1289.52 L2832.89 1290.01 L2833.50 1290.51 L2834.00 1291.00 L2834.49 1291.62 L2835.11 1292.24 L2835.61 1292.86 L2836.10 1293.48 L2836.60 1294.09 L2837.22 1294.47 L2837.71 1294.22 L2838.21 1293.97 L2838.70 1293.72 L2839.32 1293.48 L2839.82 1293.35 L2840.31 1293.23 L2840.81 1293.10 L2841.42 1293.10 L2841.92 1292.98 L2842.41 1292.98 L2842.91 1293.10 L2843.53 1293.10 L2844.02 1293.23 L2844.52 1293.35 L2845.01 1293.60 L2845.63 1293.72 L2846.13 1293.97 L2846.62 1294.22 L2847.12 1294.59 L2847.74 1294.84 L2848.23 1295.21 L2848.73 1295.58 L2849.22 1296.07 L2849.84 1296.57 L2850.33 1297.06 L2850.83 1297.56 L2851.32 1298.18 L2851.94 1298.67 L2852.44 1299.29 L2852.93 1299.29 L2853.43 1298.92 L2854.05 1298.43 L2854.54 1298.05 L2855.04 1297.68 L2855.53 1297.44 L2856.15 1297.06 L2856.65 1296.82 L2857.14 1296.57 L2857.64 1296.32 L2858.25 1296.20 L2858.75 1295.95 L2859.24 1295.83 L2859.74 1295.70 L2860.36 1295.70 L2860.85 1295.58 L2861.35 1295.58 L2861.84 1295.58 L2862.46 1295.70 L2862.96 1295.70 L2863.45 1295.83 L2863.95 1295.95 L2864.57 1296.07 L2865.06 1296.32 L2865.56 1296.45 L2866.05 1296.69 L2866.67 1297.06 L2867.16 1297.31 L2867.66 1297.68 L2868.15 1297.93 L2868.77 1298.43 L2869.27 1298.80 L2869.76 1299.17 L2870.26 1299.66 L2870.88 1300.16 L2871.37 1300.78 L2871.87 1301.27 L2872.36 1301.89 L2872.98 1302.51 L2873.48 1303.13 L2873.97 1303.75 L2874.59 1304.49 L2875.08 1305.23 L2875.58 1305.97 L2876.07 1306.84 L2876.69 1307.09 L2877.19 1306.84 L2877.68 1306.72 L2878.18 1306.59 L2878.80 1306.47 L2879.29 1306.35 L2879.79 1306.35 L2880.28 1306.35 L2880.90 1306.35 L2881.40 1306.47 L2881.89 1306.47 L2882.39 1306.59 L2883.00 1306.84 L2883.50 1306.96 L2883.99 1307.21 L2884.49 1307.46 L2885.11 1307.71 L2885.60 1308.08 L2886.10 1308.45 L2886.59 1308.82 L2887.21 1309.19 L2887.71 1309.69 L2888.20 1310.18 L2888.70 1310.68 L2889.32 1311.17 L2889.81 1311.79 L2890.31 1312.41 L2890.80 1313.03 L2891.42 1313.65 L2891.91 1314.39 L2892.41 1314.14 L2892.90 1313.52 L2893.52 1312.90 L2894.02 1312.41 L2894.51 1311.79 L2895.01 1311.30 L2895.63 1310.80 L2896.12 1310.43 L2896.62 1309.93 L2897.11 1309.56 L2897.73 1309.19 L2898.23 1308.82 L2898.72 1308.45 L2899.22 1308.20 L2899.83 1307.95 L2900.33 1307.71 L2900.82 1307.46 L2901.32 1307.34 L2901.94 1307.21 L2902.43 1307.09 L2902.93 1306.96 L2903.42 1306.84 L2904.04 1306.84 L2904.54 1306.84 L2905.03 1306.84 L2905.53 1306.84 L2906.15 1306.96 L2906.64 1307.09 L2907.14 1307.21 L2907.63 1307.34 L2908.25 1307.46 L2908.74 1307.71 L2909.24 1307.95 L2909.73 1308.20 L2910.35 1308.57 L2910.85 1308.82 L2911.34 1309.19 L2911.84 1309.56 L2912.46 1309.93 L2912.95 1310.43 L2913.45 1310.80 L2914.07 1311.30 L2914.56 1311.79 L2915.06 1312.41 L2915.55 1312.90 L2916.17 1312.66 L2916.66 1311.91 L2917.16 1311.30 L2917.65 1310.68 L2918.27 1310.06 L2918.77 1309.56 L2919.26 1309.07 L2919.76 1308.57 L2920.38 1308.08 L2920.87 1307.58 L2921.37 1307.21 L2921.86 1306.84 L2922.48 1306.59 L2922.98 1306.22 L2923.47 1305.97 L2923.97 1305.73 L2924.58 1305.48 L2925.08 1305.36 L2925.57 1305.23 L2926.07 1305.11 L2926.69 1304.98 L2927.18 1304.98 L2927.68 1304.98 L2928.17 1304.98 L2928.79 1305.11 L2929.29 1305.11 L2929.78 1305.23 L2930.28 1305.48 L2930.90 1305.60 L2931.39 1305.85 L2931.89 1305.11 L2932.38 1304.37 L2933.00 1303.62 L2933.49 1302.88 L2933.99 1302.14 L2934.48 1301.52 L2935.10 1300.90 L2935.60 1300.28 L2936.09 1299.66 L2936.59 1299.17 L2937.21 1298.67 L2937.70 1298.18 L2938.20 1297.68 L2938.69 1297.19 L2939.31 1296.82 L2939.81 1296.45 L2940.30 1296.07 L2940.80 1295.83 L2941.41 1295.46 L2941.91 1295.21 L2942.40 1294.96 L2942.90 1294.71 L2943.52 1294.59 L2944.01 1294.47 L2944.51 1294.34 L2945.00 1294.22 L2945.62 1294.09 L2946.12 1294.09 L2946.61 1294.09 L2947.11 1294.09 L2947.73 1294.22 L2948.22 1294.22 L2948.72 1294.34 L2949.21 1294.47 L2949.83 1294.59 L2950.32 1294.84 L2950.82 1295.08 L2951.31 1295.33 L2951.93 1295.58 L2952.43 1295.83 L2952.92 1296.20 L2953.54 1296.57 L2954.04 1296.94 L2954.53 1297.44 L2955.03 1297.81 L2955.65 1297.68 L2956.14 1297.56 L2956.64 1297.31 L2957.13 1297.19 L2957.75 1297.06 L2958.24 1296.94 L2958.74 1296.94 L2959.23 1296.94 L2959.85 1296.94 L2960.35 1296.94 L2960.84 1297.06 L2961.34 1297.19 L2961.96 1297.31 L2962.45 1297.44 L2962.95 1297.68 L2963.44 1297.81 L2964.06 1298.18 L2964.56 1298.43 L2965.05 1298.67 L2965.55 1299.04 L2966.16 1299.42 L2966.66 1299.91 L2967.15 1300.28 L2967.65 1300.78 L2968.27 1301.27 L2968.76 1301.89 L2969.26 1302.39 L2969.75 1303.00 L2970.37 1303.62 L2970.87 1304.24 L2971.36 1303.99 L2971.86 1303.75 L2972.48 1303.62 L2972.97 1303.38 L2973.47 1303.25 L2973.96 1303.13 L2974.58 1303.00 L2975.07 1303.00 L2975.57 1302.88 L2976.06 1302.88 L2976.68 1302.88 L2977.18 1303.00 L2977.67 1303.00 L2978.17 1303.13 L2978.79 1303.25 L2979.28 1303.50 L2979.78 1303.62 L2980.27 1303.87 L2980.89 1304.12 L2981.39 1304.37 L2981.88 1304.61 L2982.38 1304.98 L2982.99 1305.36 L2983.49 1305.73 L2983.98 1306.10 L2984.48 1306.47 L2985.10 1306.96 L2985.59 1307.46 L2986.09 1307.95 L2986.58 1308.57 L2987.20 1309.07 L2987.70 1309.69 L2988.19 1310.31 L2988.69 1310.92 L2989.31 1311.67 L2989.80 1312.41 L2990.30 1313.15 L2990.91 1313.89 L2991.41 1314.64 L2991.90 1315.50 L2992.40 1316.37 L2993.02 1317.24 L2993.51 1318.10 L2994.01 1319.09 L2994.50 1319.96 L2995.12 1320.21 L2995.62 1320.45 L2996.11 1320.70 L2996.61 1320.95 L2997.23 1321.32 L2997.72 1321.57 L2998.22 1321.94 L2998.71 1322.31 L2999.33 1322.81 L2999.82 1323.30 L3000.32 1323.80 L3000.81 1324.29 L3001.43 1324.79 L3001.93 1325.40 L3002.42 1326.02 L3002.92 1326.64 L3003.54 1327.38 L3004.03 1328.00 L3004.53 1328.75 L3005.02 1329.49 L3005.64 1330.35 L3006.14 1331.22 L3006.63 1332.09 L3007.13 1332.95 L3007.74 1333.82 L3008.24 1334.81 L3008.73 1335.80 L3009.23 1336.79 L3009.85 1337.78 L3010.34 1338.65 L3010.84 1338.52 L3011.33 1338.52 L3011.95 1338.52 L3012.45 1338.40 L3012.94 1338.52 L3013.44 1338.52 L3014.06 1338.52 L3014.55 1338.65 L3015.05 1338.77 L3015.54 1338.89 L3016.16 1339.14 L3016.65 1339.26 L3017.15 1339.51 L3017.64 1339.76 L3018.26 1340.01 L3018.76 1340.38 L3019.25 1340.63 L3019.75 1341.00 L3020.37 1341.37 L3020.86 1341.86 L3021.36 1342.23 L3021.85 1342.73 L3022.47 1343.22 L3022.97 1343.72 L3023.46 1344.21 L3023.96 1344.83 L3024.57 1345.45 L3025.07 1346.07 L3025.56 1346.69 L3026.06 1347.31 L3026.68 1348.05 L3027.17 1348.79 L3027.67 1349.54 L3028.16 1350.28 L3028.78 1351.14 L3029.28 1351.89 L3029.77 1352.75 L3030.39 1353.62 L3030.89 1354.61 L3031.38 1355.48 L3031.88 1356.47 L3032.49 1357.46 L3032.99 1358.45 L3033.48 1359.44 L3033.98 1360.43 L3034.60 1360.67 L3035.09 1360.80 L3035.59 1361.05 L3036.08 1361.29 L3036.70 1361.66 L3037.20 1361.91 L3037.69 1362.28 L3038.19 1362.65 L3038.81 1363.03 L3039.30 1363.52 L3039.80 1364.02 L3040.29 1364.51 L3040.91 1365.01 L3041.40 1365.62 L3041.90 1366.12 L3042.39 1366.74 L3043.01 1367.48 L3043.51 1368.10 L3044.00 1368.84 L3044.50 1369.58 L3045.12 1370.33 L3045.61 1371.07 L3046.11 1371.94 L3046.60 1372.80 L3047.22 1373.67 L3047.72 1374.53 L3048.21 1375.52 L3048.71 1376.51 L3049.32 1377.50 L3049.82 1378.12 L3050.31 1378.00 L3050.81 1377.88 L3051.43 1377.75 L3051.92 1377.75 L3052.42 1377.75 L3052.91 1377.75 L3053.53 1377.75 L3054.03 1377.75 L3054.52 1377.88 L3055.02 1377.88 L3055.64 1378.00 L3056.13 1378.12 L3056.63 1378.37 L3057.12 1378.49 L3057.74 1378.74 L3058.23 1378.99 L3058.73 1379.24 L3059.22 1379.61 L3059.84 1379.86 L3060.34 1380.23 L3060.83 1380.60 L3061.33 1380.97 L3061.95 1381.46 L3062.44 1381.84 L3062.94 1382.33 L3063.43 1382.83 L3064.05 1383.32 L3064.55 1383.94 L3065.04 1384.43 L3065.54 1385.05 L3066.15 1385.67 L3066.65 1386.29 L3067.14 1387.03 L3067.64 1387.65 L3068.26 1388.39 L3068.75 1389.14 L3069.25 1390.00 L3069.87 1390.75 L3070.36 1391.61 L3070.86 1392.48 L3071.35 1393.34 L3071.97 1394.21 L3072.47 1395.08 L3072.96 1396.07 L3073.46 1396.69 L3074.07 1396.31 L3074.57 1395.94 L3075.06 1395.57 L3075.56 1395.32 L3076.18 1395.08 L3076.67 1394.83 L3077.17 1394.58 L3077.66 1394.46 L3078.28 1394.33 L3078.78 1394.21 L3079.27 1394.09 L3079.77 1394.09 L3080.39 1394.09 L3080.88 1394.09 L3081.38 1394.09 L3081.87 1394.21 L3082.49 1394.33 L3082.98 1394.46 L3083.48 1394.58 L3083.97 1394.83 L3084.59 1394.95 L3085.09 1395.20 L3085.58 1395.57 L3086.08 1395.82 L3086.70 1396.19 L3087.19 1396.56 L3087.69 1396.93 L3088.18 1397.43 L3088.80 1397.92 L3089.30 1397.80 L3089.79 1397.18 L3090.29 1396.56 L3090.90 1395.94 L3091.40 1395.32 L3091.89 1394.83 L3092.39 1394.33 L3093.01 1393.84 L3093.50 1393.34 L3094.00 1392.97 L3094.49 1392.60 L3095.11 1392.11 L3095.61 1391.86 L3096.10 1391.49 L3096.60 1391.24 L3097.22 1390.87 L3097.71 1390.62 L3098.21 1390.37 L3098.70 1390.25 L3099.32 1390.00 L3099.81 1389.88 L3100.31 1389.76 L3100.80 1389.76 L3101.42 1389.63 L3101.92 1389.63 L3102.41 1389.51 L3102.91 1389.63 L3103.53 1389.63 L3104.02 1389.63 L3104.52 1389.76 L3105.01 1389.88 L3105.63 1390.00 L3106.13 1390.13 L3106.62 1390.37 L3107.12 1390.62 L3107.73 1390.87 L3108.23 1391.12 L3108.72 1391.36 L3109.34 1391.74 L3109.84 1392.11 L3110.33 1392.48 L3110.83 1392.85 L3111.45 1393.34 L3111.94 1393.72 L3112.44 1394.21 L3112.93 1393.96 L3113.55 1392.60 L3114.05 1391.36 L3114.54 1390.13 L3115.04 1388.89 L3115.65 1387.78 L3116.15 1386.66 L3116.64 1385.55 L3117.14 1384.43 L3117.76 1383.32 L3118.25 1382.33 L3118.75 1381.34 L3119.24 1380.47 L3119.86 1379.48 L3120.36 1378.62 L3120.85 1377.75 L3121.35 1377.01 L3121.97 1376.27 L3122.46 1375.40 L3122.96 1374.78 L3123.45 1374.04 L3124.07 1373.42 L3124.56 1372.80 L3125.06 1372.18 L3125.55 1371.69 L3126.17 1371.19 L3126.67 1370.70 L3127.16 1370.20 L3127.66 1369.83 L3128.28 1369.34 L3128.77 1368.35 L3129.27 1366.99 L3129.76 1365.62 L3130.38 1364.39 L3130.88 1363.15 L3131.37 1361.91 L3131.87 1360.67 L3132.48 1359.44 L3132.98 1358.32 L3133.47 1357.21 L3133.97 1356.09 L3134.59 1354.98 L3135.08 1353.99 L3135.58 1353.00 L3136.07 1352.01 L3136.69 1351.02 L3137.19 1350.15 L3137.68 1349.29 L3138.18 1348.42 L3138.80 1347.56 L3139.29 1346.81 L3139.79 1345.95 L3140.28 1345.20 L3140.90 1344.46 L3141.39 1343.84 L3141.89 1343.22 L3142.38 1342.61 L3143.00 1341.99 L3143.50 1341.37 L3143.99 1340.87 L3144.49 1340.25 L3145.11 1339.88 L3145.60 1339.39 L3146.10 1338.89 L3146.59 1338.52 L3147.21 1338.15 L3147.71 1337.78 L3148.20 1337.53 L3148.82 1337.28 L3149.31 1337.04 L3149.81 1336.79 L3150.30 1336.54 L3150.92 1336.42 L3151.42 1336.29 L3151.91 1336.17 L3152.41 1335.06 L3153.03 1333.20 L3153.52 1331.34 L3154.02 1329.49 L3154.51 1327.76 L3155.13 1326.02 L3155.63 1324.29 L3156.12 1322.68 L3156.62 1321.07 L3157.23 1319.46 L3157.73 1317.85 L3158.22 1316.37 L3158.72 1314.88 L3159.34 1313.52 L3159.83 1312.04 L3160.33 1310.68 L3160.82 1309.32 L3161.44 1308.08 L3161.94 1306.72 L3162.43 1305.60 L3162.93 1304.37 L3163.55 1303.13 L3164.04 1302.01 L3164.54 1301.02 L3165.03 1299.91 L3165.65 1298.92 L3166.14 1297.93 L3166.64 1296.94 L3167.13 1296.07 L3167.75 1295.21 L3168.25 1293.48 L3168.74 1291.62 L3169.24 1289.76 L3169.86 1288.03 L3170.35 1286.30 L3170.85 1284.57 L3171.34 1282.83 L3171.96 1281.10 L3172.46 1279.49 L3172.95 1277.88 L3173.45 1276.27 L3174.06 1274.79 L3174.56 1273.30 L3175.05 1271.82 L3175.55 1270.33 L3176.17 1268.97 L3176.66 1267.49 L3177.16 1266.13 L3177.65 1264.89 L3178.27 1263.53 L3178.77 1262.29 L3179.26 1261.05 L3179.76 1259.94 L3180.38 1258.70 L3180.87 1257.59 L3181.37 1256.47 L3181.86 1255.48 L3182.48 1254.37 L3182.97 1253.38 L3183.47 1252.39 L3183.96 1251.52 L3184.58 1250.66 L3185.08 1249.67 L3185.57 1248.92 L3186.07 1248.06 L3186.69 1247.32 L3187.18 1246.57 L3187.68 1245.83 L3188.30 1245.09 L3188.79 1244.47 L3189.29 1243.85 L3189.78 1243.23 L3190.40 1242.74 L3190.89 1242.24 L3191.39 1241.75 L3191.88 1240.51 L3192.50 1239.02 L3193.00 1237.54 L3193.49 1236.18 L3193.99 1234.82 L3194.61 1233.45 L3195.10 1232.22 L3195.60 1230.86 L3196.09 1229.74 L3196.71 1228.50 L3197.21 1227.39 L3197.70 1226.28 L3198.20 1225.16 L3198.81 1224.05 L3199.31 1223.06 L3199.80 1222.07 L3200.30 1221.20 L3200.92 1220.21 L3201.41 1219.35 L3201.91 1218.60 L3202.40 1217.74 L3203.02 1217.00 L3203.52 1216.25 L3204.01 1215.63 L3204.51 1214.89 L3205.13 1214.27 L3205.62 1213.78 L3206.12 1213.16 L3206.61 1212.66 L3207.23 1212.17 L3207.72 1210.44 L3208.22 1208.70 L3208.71 1207.10 L3209.33 1205.36 L3209.83 1203.75 L3210.32 1202.15 L3210.82 1200.54 L3211.44 1199.05 L3211.93 1197.57 L3212.43 1196.08 L3212.92 1194.60 L3213.54 1193.23 L3214.04 1191.75 L3214.53 1190.51 L3215.03 1189.15 L3215.64 1187.79 L3216.14 1186.55 L3216.63 1185.31 L3217.13 1184.08 L3217.75 1182.96 L3218.24 1181.85 L3218.74 1180.74 L3219.23 1179.62 L3219.85 1178.63 L3220.35 1177.52 L3220.84 1176.53 L3221.34 1175.66 L3221.96 1174.67 L3222.45 1173.81 L3222.95 1172.94 L3223.44 1172.07 L3224.06 1171.33 L3224.55 1170.59 L3225.05 1169.85 L3225.67 1169.10 L3226.16 1168.48 L3226.66 1167.74 L3227.15 1167.12 L3227.77 1166.63 L3228.27 1166.01 L3228.76 1165.51 L3229.26 1165.02 L3229.88 1164.52 L3230.37 1164.15 L3230.87 1163.78 L3231.36 1162.05 L3231.98 1160.19 L3232.47 1158.46 L3232.97 1156.73 L3233.46 1154.99 L3234.08 1153.39 L3234.58 1151.65 L3235.07 1150.17 L3235.57 1148.56 L3236.19 1147.07 L3236.68 1145.59 L3237.18 1144.10 L3237.67 1142.74 L3238.29 1141.26 L3238.79 1140.02 L3239.28 1138.66 L3239.78 1137.42 L3240.39 1136.18 L3240.89 1134.95 L3241.38 1133.83 L3241.88 1132.72 L3242.50 1131.61 L3242.99 1130.49 L3243.49 1129.50 L3243.98 1128.51 L3244.60 1127.65 L3245.10 1126.66 L3245.59 1125.79 L3246.09 1125.05 L3246.71 1124.06 L3247.20 1122.70 L3247.70 1121.21 L3248.19 1119.72 L3248.81 1118.36 L3249.30 1117.00 L3249.80 1115.76 L3250.29 1114.53 L3250.91 1113.17 L3251.41 1112.05 L3251.90 1110.81 L3252.40 1109.70 L3253.02 1108.59 L3253.51 1107.47 L3254.01 1106.48 L3254.50 1105.49 L3255.12 1104.50 L3255.62 1103.51 L3256.11 1102.65 L3256.61 1101.78 L3257.22 1100.91 L3257.72 1100.17 L3258.21 1099.31 L3258.71 1098.56 L3259.33 1097.94 L3259.82 1097.20 L3260.32 1096.58 L3260.81 1095.96 L3261.43 1095.35 L3261.93 1094.85 L3262.42 1094.36 L3262.92 1093.86 L3263.54 1093.49 L3264.03 1092.99 L3264.53 1092.75 L3265.14 1092.38 L3265.64 1092.00 L3266.13 1091.76 L3266.63 1091.51 L3267.25 1091.39 L3267.74 1091.14 L3268.24 1091.01 L3268.73 1090.89 L3269.35 1090.89 L3269.85 1090.89 L3270.34 1090.77 L3270.84 1089.53 L3271.46 1088.29 L3271.95 1087.18 L3272.45 1086.06 L3272.94 1084.95 L3273.56 1083.84 L3274.05 1082.85 L3274.55 1081.86 L3275.04 1080.87 L3275.66 1080.00 L3276.16 1079.13 L3276.65 1078.27 L3277.15 1077.52 L3277.77 1076.78 L3278.26 1076.04 L3278.76 1075.30 L3279.25 1074.68 L3279.87 1074.06 L3280.37 1073.56 L3280.86 1072.95 L3281.36 1072.57 L3281.97 1072.08 L3282.47 1071.71 L3282.96 1071.34 L3283.46 1070.97 L3284.08 1070.59 L3284.57 1070.35 L3285.07 1070.22 L3285.56 1069.98 L3286.18 1069.60 L3286.68 1068.74 L3287.17 1067.87 L3287.67 1067.01 L3288.29 1066.26 L3288.78 1065.40 L3289.28 1064.65 L3289.77 1064.04 L3290.39 1063.42 L3290.88 1062.67 L3291.38 1062.18 L3291.87 1061.56 L3292.49 1061.07 L3292.99 1060.57 L3293.48 1060.08 L3293.98 1059.70 L3294.60 1059.33 L3295.09 1058.96 L3295.59 1058.71 L3296.08 1058.47 L3296.70 1058.22 L3297.20 1057.97 L3297.69 1057.85 L3298.19 1057.72 L3298.80 1057.60 L3299.30 1057.48 L3299.79 1057.48 L3300.29 1057.48 L3300.91 1057.60 L3301.40 1057.60 L3301.90 1057.72 L3302.39 1057.97 L3303.01 1058.10 L3303.51 1058.34 L3304.00 1058.59 L3304.62 1058.84 L3305.12 1059.21 L3305.61 1059.58 L3306.11 1059.95 L3306.72 1060.45 L3307.22 1060.94 L3307.71 1061.44 L3308.21 1061.93 L3308.83 1062.55 L3309.32 1063.17 L3309.82 1063.54 L3310.31 1063.05 L3310.93 1062.55 L3311.43 1062.06 L3311.92 1061.68 L3312.42 1061.31 L3313.04 1060.94 L3313.53 1060.69 L3314.03 1060.32 L3314.52 1060.20 L3315.14 1059.95 L3315.63 1059.83 L3316.13 1059.70 L3316.62 1059.70 L3317.24 1059.70 L3317.74 1059.70 L3318.23 1059.70 L3318.73 1059.83 L3319.35 1059.95 L3319.84 1060.20 L3320.34 1060.45 L3320.83 1060.69 L3321.45 1060.94 L3321.95 1061.31 L3322.44 1061.68 L3322.94 1062.06 L3323.55 1062.55 L3324.05 1063.05 L3324.54 1063.54 L3325.04 1064.16 L3325.66 1064.41 L3326.15 1064.16 L3326.65 1063.91 L3327.14 1063.79 L3327.76 1063.54 L3328.26 1063.42 L3328.75 1063.42 L3329.25 1063.29 L3329.87 1063.29 L3330.36 1063.42 L3330.86 1063.42 L3331.35 1063.54 L3331.97 1063.66 L3332.46 1063.79 L3332.96 1064.04 L3333.45 1064.28 L3334.07 1064.65 L3334.57 1064.90 L3335.06 1065.27 L3335.56 1065.64 L3336.18 1066.14 L3336.67 1066.51 L3337.17 1067.13 L3337.66 1067.62 L3338.28 1068.24 L3338.78 1068.86 L3339.27 1069.48 L3339.77 1070.10 L3340.38 1070.84 L3340.88 1071.58 L3341.37 1072.45 L3341.87 1073.19 L3342.49 1074.18 L3342.98 1075.05 L3343.48 1075.92 L3344.10 1076.91 L3344.59 1078.02 L3345.09 1079.01 L3345.58 1080.12 L3346.20 1081.24 L3346.70 1082.35 L3347.19 1083.59 L3347.69 1084.83 L3348.30 1086.06 L3348.80 1087.43 L3349.29 1088.29 L3349.79 1088.29 L3350.41 1088.42 L3350.90 1088.54 L3351.40 1088.79 L3351.89 1088.91 L3352.51 1089.16 L3353.01 1089.53 L3353.50 1089.90 L3354.00 1090.27 L3354.62 1090.64 L3355.11 1091.14 L3355.61 1091.63 L3356.10 1092.13 L3356.72 1092.75 L3357.21 1093.37 L3357.71 1094.11 L3358.20 1094.85 L3358.82 1095.59 L3359.32 1096.34 L3359.81 1097.20 L3360.31 1098.07 L3360.93 1098.93 L3361.42 1099.92 L3361.92 1100.91 L3362.41 1102.03 L3363.03 1103.02 L3363.53 1104.26 L3364.02 1105.37 L3364.52 1106.61 L3365.13 1106.98 L3365.63 1106.98 L3366.12 1106.85 L3366.62 1106.85 L3367.24 1106.85 L3367.73 1106.85 L3368.23 1106.98 L3368.72 1107.10 L3369.34 1107.23 L3369.84 1107.47 L3370.33 1107.60 L3370.83 1107.84 L3371.45 1108.22 L3371.94 1108.59 L3372.44 1108.96 L3372.93 1109.33 L3373.55 1109.70 L3374.04 1110.20 L3374.54 1110.69 L3375.03 1111.31 L3375.65 1111.93 L3376.15 1112.55 L3376.64 1113.17 L3377.14 1113.91 L3377.76 1114.65 L3378.25 1115.39 L3378.75 1116.14 L3379.24 1117.00 L3379.86 1117.87 L3380.36 1118.86 L3380.85 1119.72 L3381.35 1120.72 L3381.96 1121.83 L3382.46 1122.82 L3382.95 1123.93 L3383.57 1125.05 L3384.07 1126.28 L3384.56 1127.40 L3385.06 1128.64 L3385.68 1130.00 L3386.17 1131.23 L3386.67 1132.60 L3387.16 1133.96 L3387.78 1135.44 L3388.28 1136.93 L3388.77 1137.92 L3389.27 1138.41 L3389.88 1138.91 L3390.38 1139.53 L3390.87 1140.14 L3391.37 1140.89 L3391.99 1141.51 L3392.48 1142.25 L3392.98 1143.11 L3393.47 1143.98 L3394.09 1144.85 L3394.59 1145.71 L3395.08 1146.70 L3395.58 1147.69 L3396.20 1148.68 L3396.69 1149.80 L3397.19 1150.91 L3397.68 1152.02 L3398.30 1153.26 L3398.79 1154.50 L3399.29 1155.74 L3399.78 1157.10 L3400.40 1158.46 L3400.90 1159.82 L3401.39 1161.18 L3401.89 1162.67 L3402.51 1164.28 L3403.00 1165.76 L3403.50 1167.37 L3403.99 1168.98 L3404.61 1169.35 L3405.11 1169.23 L3405.60 1169.10 L3406.10 1168.98 L3406.71 1168.98 L3407.21 1168.98 L3407.70 1168.98 L3408.20 1169.10 L3408.82 1169.10 L3409.31 1169.23 L3409.81 1169.47 L3410.30 1169.60 L3410.92 1169.85 L3411.42 1170.09 L3411.91 1170.46 L3412.41 1170.71 L3413.03 1171.08 L3413.52 1171.45 L3414.02 1171.95 L3414.51 1172.44 L3415.13 1172.94 L3415.62 1173.43 L3416.12 1173.93 L3416.61 1174.55 L3417.23 1175.17 L3417.73 1175.91 L3418.22 1176.53 L3418.72 1177.27 L3419.34 1178.01 L3419.83 1178.88 L3420.33 1179.62 L3420.95 1180.49 L3421.44 1181.48 L3421.94 1182.34 L3422.43 1183.33 L3423.05 1184.32 L3423.54 1185.31 L3424.04 1186.43 L3424.53 1187.54 L3425.15 1188.66 L3425.65 1189.77 L3426.14 1191.01 L3426.64 1192.24 L3427.26 1193.48 L3427.75 1194.84 L3428.25 1195.59 L3428.74 1195.96 L3429.36 1196.58 L3429.86 1197.07 L3430.35 1197.69 L3430.85 1198.31 L3431.46 1198.93 L3431.96 1199.67 L3432.45 1200.41 L3432.95 1201.16 L3433.57 1202.02 L3434.06 1202.89 L3434.56 1203.75 L3435.05 1204.62 L3435.67 1205.61 L3436.17 1206.60 L3436.66 1207.59 L3437.16 1208.70 L3437.78 1209.82 L3438.27 1210.93 L3438.77 1212.17 L3439.26 1213.28 L3439.88 1214.52 L3440.37 1215.88 L3440.87 1217.12 L3441.36 1218.48 L3441.98 1219.97 L3442.48 1221.33 L3442.97 1222.81 L3443.47 1224.30 L3444.09 1224.30 L3444.58 1224.05 L3445.08 1223.80 L3445.57 1223.55 L3446.19 1223.43 L3446.69 1223.18 L3447.18 1223.18 L3447.68 1223.06 L3448.29 1222.94 L3448.79 1222.94 L3449.28 1222.94 L3449.78 1223.06 L3450.40 1223.06 L3450.89 1223.18 L3451.39 1223.31 L3451.88 1223.43 L3452.50 1223.68 L3453.00 1223.93 L3453.49 1224.17 L3453.99 1224.42 L3454.61 1224.67 L3455.10 1225.04 L3455.60 1225.41 L3456.09 1225.78 L3456.71 1226.28 L3457.20 1226.65 L3457.70 1227.14 L3458.19 1227.64 L3458.81 1228.26 L3459.31 1228.75 L3459.80 1229.37 L3460.42 1229.99 L3460.92 1230.73 L3461.41 1231.35 L3461.91 1232.09 L3462.53 1232.84 L3463.02 1233.70 L3463.52 1234.44 L3464.01 1235.31 L3464.63 1236.18 L3465.12 1237.17 L3465.62 1238.03 L3466.11 1239.02 L3466.73 1240.01 L3467.23 1241.00 L3467.72 1242.12 L3468.22 1243.23 L3468.84 1244.35 L3469.33 1245.46 L3469.83 1246.57 L3470.32 1247.81 L3470.94 1249.05 L3471.44 1250.29 L3471.93 1251.65 L3472.43 1252.88 L3473.04 1254.25 L3473.54 1255.61 L3474.03 1257.09 L3474.53 1258.58 L3475.15 1259.94 L3475.64 1261.55 L3476.14 1263.03 L3476.63 1264.64 L3477.25 1266.25 L3477.75 1267.86 L3478.24 1269.47 L3478.74 1271.20 L3479.36 1272.81 L3479.85 1274.66 L3480.35 1276.40 L3480.84 1278.13 L3481.46 1279.99 L3481.95 1281.84 L3482.45 1283.82 L3482.94 1285.68 L3483.56 1286.55 L3484.06 1287.54 L3484.55 1288.40 L3485.05 1289.39 L3485.67 1290.38 L3486.16 1291.50 L3486.66 1292.49 L3487.15 1293.60 L3487.77 1294.71 L3488.27 1295.83 L3488.76 1296.94 L3489.26 1298.18 L3489.87 1299.42 L3490.37 1300.65 L3490.86 1301.89 L3491.36 1303.25 L3491.98 1304.49 L3492.47 1305.85 L3492.97 1307.21 L3493.46 1308.57 L3494.08 1310.06 L3494.58 1311.54 L3495.07 1313.03 L3495.57 1314.51 L3496.19 1316.00 L3496.68 1317.61 L3497.18 1319.09 L3497.67 1320.70 L3498.29 1322.43 L3498.78 1324.04 L3499.28 1325.78 L3499.90 1327.38 L3500.39 1329.12 L3500.89 1330.97 L3501.38 1332.71 L3502.00 1334.56 L3502.50 1336.42 L3502.99 1338.27 L3503.49 1340.13 L3504.11 1342.11 L3504.60 1343.97 L3505.10 1345.95 L3505.59 1347.93 L3506.21 1350.03 L3506.70 1352.01 L3507.20 1354.11 L3507.69 1356.22 L3508.31 1358.32 L3508.81 1360.55 L3509.30 1362.65 L3509.80 1364.88 L3510.42 1367.11 L3510.91 1369.34 L3511.41 1371.69 L3511.90 1374.04 L3512.52 1376.39 L3513.02 1378.74 L3513.51 1381.09 L3514.01 1383.44 L3514.62 1385.92 L3515.12 1388.39 L3515.61 1390.87 L3516.11 1393.47 L3516.73 1395.94 L3517.22 1398.54 L3517.72 1401.14 L3518.21 1403.74 L3518.83 1406.46 L3519.33 1409.06 L3519.82 1411.78 L3520.32 1414.51 L3520.94 1417.23 L3521.43 1420.08 L3521.93 1422.92 L3522.42 1425.40 L3523.04 1426.76 L3523.53 1428.24 L3524.03 1429.60 L3524.52 1431.09 L3525.14 1432.45 L3525.64 1433.94 L3526.13 1435.42 L3526.63 1437.03 L3527.25 1438.51 L3527.74 1440.12 L3528.24 1441.73 L3528.73 1443.34 L3529.35 1444.95 L3529.85 1446.56 L3530.34 1448.17 L3530.84 1449.90 L3531.45 1451.63 L3531.95 1453.37 L3532.44 1455.10 L3532.94 1456.83 L3533.56 1458.69 L3534.05 1460.42 L3534.55 1462.28 L3535.04 1464.13 L3535.66 1465.99 L3536.16 1467.97 L3536.65 1469.82 L3537.15 1471.80 L3537.77 1473.78 L3538.26 1475.64 L3538.76 1477.74 L3539.37 1479.72 L3539.87 1481.71 L3540.36 1483.81 L3540.86 1485.91 L3541.48 1488.02 L3541.97 1490.12 L3542.47 1492.22 L3542.96 1494.45 L3543.58 1496.56 L3544.08 1498.78 L3544.57 1501.01 L3545.07 1503.24 L3545.69 1505.59 L3546.18 1507.82 L3546.68 1510.17 L3547.17 1512.52 L3547.79 1514.87 L3548.28 1517.22 L3548.78 1519.57 L3549.27 1522.05 L3549.89 1524.40 L3550.39 1526.88 L3550.88 1529.35 L3551.38 1531.83 L3552.00 1534.42 L3552.49 1536.90 L3552.99 1539.50 L3553.48 1542.10 L3554.10 1544.70 L3554.60 1547.29 L3555.09 1549.89 L3555.59 1552.62 L3556.20 1555.34 L3556.70 1557.94 L3557.19 1560.66 L3557.69 1563.51 L3558.31 1566.23 L3558.80 1568.95 L3559.30 1571.80 L3559.79 1574.64 L3560.41 1577.49 L3560.91 1580.34 L3561.40 1583.31 L3561.90 1585.78 L3562.52 1587.39 L3563.01 1589.00 L3563.51 1590.73 L3564.00 1592.34 L3564.62 1594.07 L3565.11 1595.81 L3565.61 1597.54 L3566.10 1599.27 L3566.72 1601.00 L3567.22 1602.86 L3567.71 1604.59 L3568.21 1606.45 L3568.83 1608.31 L3569.32 1610.16 L3569.82 1612.02 L3570.31 1613.87 L3570.93 1615.73 L3571.43 1617.71 L3571.92 1619.57 L3572.42 1621.55 L3573.03 1623.53 L3573.53 1625.51 L3574.02 1627.49 L3574.52 1629.47 L3575.14 1631.57 L3575.63 1633.55 L3576.13 1635.65 L3576.62 1637.76 L3577.24 1639.74 L3577.74 1641.84 L3578.23 1644.07 L3578.85 1646.17 L3579.35 1648.28 L3579.84 1650.51 L3580.34 1652.73 L3580.95 1654.84 L3581.45 1657.06 L3581.94 1659.29 L3582.44 1661.64 L3583.06 1663.87 L3583.55 1666.10 L3584.05 1668.45 L3584.54 1670.80 L3585.16 1673.03 L3585.66 1675.38 L3586.15 1677.73 L3586.65 1680.21 L3587.27 1682.56 L3587.76 1685.03 L3588.26 1687.38 L3588.75 1689.86 L3589.37 1692.33 L3589.86 1694.81 L3590.36 1697.28 L3590.85 1699.76 L3591.47 1702.36 L3591.97 1704.83 L3592.46 1707.43 L3592.96 1710.03 L3593.58 1712.63 L3594.07 1715.23 L3594.57 1717.83 L3595.06 1720.43 L3595.68 1723.15 L3596.18 1725.75 L3596.67 1728.47 L3597.17 1731.19 L3597.78 1733.92 L3598.28 1736.64 L3598.77 1739.36 L3599.27 1742.08 L3599.89 1744.93 L3600.38 1747.65 L3600.88 1750.50 L3601.37 1752.73 L3601.99 1754.33 L3602.49 1755.94 L3602.98 1757.68 L3603.48 1759.28 L3604.10 1761.02 L3604.59 1762.63 L3605.09 1764.36 L3605.58 1766.09 L3606.20 1767.70 L3606.69 1769.43 L3607.19 1771.17 L3607.68 1772.90 L3608.30 1774.75 L3608.80 1776.49 L3609.29 1778.22 L3609.79 1780.08 L3610.41 1781.93 L3610.90 1783.66 L3611.40 1785.52 L3611.89 1787.38 L3612.51 1789.23 L3613.01 1791.09 L3613.50 1792.95 L3614.00 1794.80 L3614.61 1796.78 L3615.11 1798.64 L3615.60 1800.62 L3616.10 1802.48 L3616.72 1804.46 L3617.21 1806.44 L3617.71 1808.42 L3618.33 1810.40 L3618.82 1812.38 L3619.32 1814.36 L3619.81 1816.46 L3620.43 1818.44 L3620.93 1820.42 L3621.42 1822.52 L3621.92 1824.63 L3622.53 1826.73 L3623.03 1828.71 L3623.52 1830.81 L3624.02 1832.92 L3624.64 1835.15 L3625.13 1837.25 L3625.63 1839.35 L3626.12 1841.58 L3626.74 1843.69 L3627.24 1845.91 L3627.73 1848.02 L3628.23 1850.24 L3628.85 1852.47 L3629.34 1854.70 L3629.84 1856.93 L3630.33 1859.28 L3630.95 1861.51 L3631.44 1863.73 L3631.94 1866.08 L3632.43 1868.31 L3633.05 1870.66 L3633.55 1873.01 L3634.04 1875.37 L3634.54 1877.59 L3635.16 1880.07 L3635.65 1882.42 L3636.15 1884.77 L3636.64 1887.12 L3637.26 1889.60 L3637.76 1891.95 L3638.25 1894.42 L3638.75 1896.78\" stroke-linejoin=\"round\" style=\"fill:none;stroke:#1A476F;stroke-width:7.34\"/>\n\t<path d=\" M2327.74 1811.26 L2328.60 1806.19 L2329.35 1801.11 L2330.09 1796.16 L2330.96 1791.21 L2331.70 1786.26 L2332.56 1781.44 L2333.31 1776.61 L2334.17 1771.78 L2334.92 1766.96 L2335.78 1762.26 L2336.52 1757.68 L2337.27 1752.97 L2338.13 1748.39 L2338.88 1743.82 L2339.74 1739.24 L2340.48 1734.78 L2341.35 1730.33 L2342.09 1726.00 L2342.96 1721.54 L2343.70 1717.21 L2344.44 1713.00 L2345.31 1708.67 L2346.05 1704.46 L2346.92 1700.25 L2347.66 1696.17 L2348.53 1692.09 L2349.27 1688.00 L2350.14 1684.04 L2350.88 1679.96 L2351.62 1676.12 L2352.49 1672.16 L2353.23 1668.33 L2354.10 1664.49 L2354.84 1660.65 L2355.71 1656.94 L2356.45 1653.23 L2357.31 1649.52 L2358.06 1645.93 L2358.80 1642.34 L2359.67 1638.75 L2360.41 1635.16 L2361.27 1631.69 L2362.02 1628.23 L2362.88 1624.89 L2363.63 1621.55 L2364.49 1618.21 L2365.23 1614.86 L2365.98 1611.65 L2366.84 1608.31 L2367.59 1602.86 L2368.45 1597.41 L2369.19 1591.97 L2370.06 1586.65 L2370.80 1581.45 L2371.67 1576.13 L2372.41 1570.93 L2373.28 1565.86 L2374.02 1560.78 L2374.76 1555.71 L2375.63 1550.76 L2376.37 1545.81 L2377.24 1540.98 L2377.98 1536.16 L2378.85 1531.33 L2379.59 1526.63 L2380.46 1521.93 L2381.20 1517.35 L2381.94 1512.77 L2382.81 1508.31 L2383.55 1503.86 L2384.42 1499.40 L2385.16 1495.07 L2386.02 1490.74 L2386.77 1486.53 L2387.63 1482.32 L2388.38 1478.12 L2389.12 1474.03 L2389.98 1469.95 L2390.73 1465.99 L2391.59 1462.03 L2392.34 1458.19 L2393.20 1454.36 L2393.94 1450.52 L2394.81 1446.81 L2395.55 1443.09 L2396.30 1439.50 L2397.16 1435.92 L2397.90 1432.33 L2398.77 1428.86 L2399.51 1425.40 L2400.38 1422.06 L2401.12 1418.71 L2401.99 1415.50 L2402.73 1412.28 L2403.47 1409.06 L2404.34 1405.97 L2405.08 1402.87 L2405.95 1399.90 L2406.69 1395.82 L2407.56 1391.24 L2408.30 1386.66 L2409.17 1382.21 L2409.91 1377.88 L2410.65 1373.54 L2411.52 1369.34 L2412.26 1365.13 L2413.13 1360.92 L2413.87 1356.84 L2414.73 1352.88 L2415.48 1348.92 L2416.34 1344.96 L2417.09 1341.12 L2417.95 1337.41 L2418.69 1333.70 L2419.44 1329.98 L2420.30 1326.39 L2421.05 1322.81 L2421.91 1319.34 L2422.65 1316.00 L2423.52 1312.66 L2424.26 1309.32 L2425.13 1306.10 L2425.87 1302.88 L2426.61 1299.79 L2427.48 1296.82 L2428.22 1293.72 L2429.09 1290.88 L2429.83 1288.03 L2430.70 1285.18 L2431.44 1282.46 L2432.31 1279.74 L2433.05 1277.14 L2433.79 1274.54 L2434.66 1272.07 L2435.40 1269.59 L2436.27 1267.24 L2437.01 1264.89 L2437.88 1262.66 L2438.62 1260.43 L2439.48 1258.33 L2440.23 1256.23 L2440.97 1254.25 L2441.84 1252.27 L2442.58 1250.41 L2443.44 1248.55 L2444.19 1246.82 L2445.05 1245.09 L2445.80 1242.98 L2446.66 1239.52 L2447.40 1236.05 L2448.15 1232.71 L2449.01 1229.49 L2449.76 1226.28 L2450.62 1223.18 L2451.36 1220.09 L2452.23 1217.12 L2452.97 1214.27 L2453.84 1211.43 L2454.58 1208.70 L2455.32 1205.98 L2456.19 1203.38 L2456.93 1200.91 L2457.80 1198.43 L2458.54 1195.96 L2459.41 1193.61 L2460.15 1191.38 L2461.02 1189.27 L2461.76 1187.05 L2462.63 1185.07 L2463.37 1183.09 L2464.11 1181.23 L2464.98 1179.37 L2465.72 1177.64 L2466.59 1175.91 L2467.33 1174.30 L2468.19 1172.82 L2468.94 1171.33 L2469.80 1169.85 L2470.55 1168.61 L2471.29 1167.37 L2472.15 1166.13 L2472.90 1165.02 L2473.76 1164.03 L2474.51 1163.04 L2475.37 1162.05 L2476.11 1161.31 L2476.98 1160.56 L2477.72 1159.82 L2478.47 1159.20 L2479.33 1158.71 L2480.07 1158.21 L2480.94 1157.84 L2481.68 1157.47 L2482.55 1157.22 L2483.29 1157.10 L2484.16 1156.97 L2484.90 1156.85 L2485.64 1155.12 L2486.51 1153.14 L2487.25 1151.28 L2488.12 1149.55 L2488.86 1147.94 L2489.73 1146.33 L2490.47 1144.85 L2491.34 1143.36 L2492.08 1142.00 L2492.82 1140.76 L2493.69 1139.65 L2494.43 1138.54 L2495.30 1137.42 L2496.04 1136.56 L2496.90 1135.69 L2497.65 1134.95 L2498.51 1134.20 L2499.26 1133.71 L2500.00 1133.09 L2500.86 1132.72 L2501.61 1132.35 L2502.47 1132.10 L2503.22 1131.85 L2504.08 1131.73 L2504.82 1131.73 L2505.69 1131.85 L2506.43 1131.98 L2507.30 1132.22 L2508.04 1132.47 L2508.78 1132.97 L2509.65 1133.34 L2510.39 1133.96 L2511.26 1134.58 L2512.00 1135.32 L2512.87 1136.06 L2513.61 1137.05 L2514.48 1138.04 L2515.22 1139.03 L2515.96 1140.14 L2516.83 1141.38 L2517.57 1142.74 L2518.44 1144.10 L2519.18 1145.59 L2520.05 1147.07 L2520.79 1148.68 L2521.65 1150.42 L2522.40 1152.27 L2523.14 1154.13 L2524.01 1156.11 L2524.75 1157.22 L2525.61 1157.35 L2526.36 1157.59 L2527.22 1157.96 L2527.97 1158.46 L2528.83 1158.95 L2529.57 1159.70 L2530.32 1160.44 L2531.18 1161.18 L2531.93 1162.17 L2532.79 1163.16 L2533.53 1164.28 L2534.40 1165.51 L2535.14 1166.13 L2536.01 1165.39 L2536.75 1164.77 L2537.49 1164.28 L2538.36 1163.78 L2539.10 1163.41 L2539.97 1163.16 L2540.71 1162.92 L2541.58 1162.79 L2542.32 1162.79 L2543.19 1162.79 L2543.93 1162.92 L2544.67 1163.04 L2545.54 1163.41 L2546.28 1163.78 L2547.15 1164.15 L2547.89 1164.65 L2548.76 1165.27 L2549.50 1166.01 L2550.36 1166.75 L2551.11 1167.62 L2551.97 1168.61 L2552.72 1169.60 L2553.46 1170.71 L2554.32 1171.83 L2555.07 1173.19 L2555.93 1174.42 L2556.68 1175.91 L2557.54 1177.39 L2558.28 1179.00 L2559.15 1180.74 L2559.89 1182.47 L2560.64 1184.32 L2561.50 1186.18 L2562.24 1188.16 L2563.11 1190.26 L2563.85 1192.24 L2564.72 1192.86 L2565.46 1193.48 L2566.33 1194.35 L2567.07 1195.21 L2567.81 1196.08 L2568.68 1197.19 L2569.42 1198.31 L2570.29 1199.55 L2571.03 1200.78 L2571.90 1202.27 L2572.64 1203.75 L2573.51 1205.36 L2574.25 1206.97 L2574.99 1206.48 L2575.86 1205.86 L2576.60 1205.36 L2577.47 1204.87 L2578.21 1204.50 L2579.07 1204.13 L2579.82 1204.00 L2580.68 1203.75 L2581.43 1203.75 L2582.17 1203.75 L2583.03 1203.88 L2583.78 1204.00 L2584.64 1204.25 L2585.39 1204.50 L2586.25 1204.99 L2586.99 1205.49 L2587.86 1205.98 L2588.60 1206.60 L2589.34 1207.34 L2590.21 1208.09 L2590.95 1208.95 L2591.82 1209.94 L2592.56 1210.93 L2593.43 1212.05 L2594.17 1213.16 L2595.04 1214.40 L2595.78 1215.76 L2596.65 1217.12 L2597.39 1218.60 L2598.13 1220.21 L2599.00 1221.82 L2599.74 1223.55 L2600.61 1225.41 L2601.35 1227.27 L2602.22 1229.12 L2602.96 1231.23 L2603.82 1232.22 L2604.57 1232.84 L2605.31 1233.70 L2606.18 1234.44 L2606.92 1235.43 L2607.78 1236.42 L2608.53 1237.54 L2609.39 1238.78 L2610.14 1240.01 L2611.00 1241.38 L2611.74 1242.86 L2612.49 1244.47 L2613.35 1246.08 L2614.09 1246.45 L2614.96 1245.83 L2615.70 1245.34 L2616.57 1244.84 L2617.31 1244.47 L2618.18 1244.22 L2618.92 1243.97 L2619.66 1243.85 L2620.53 1243.73 L2621.27 1243.73 L2622.14 1243.85 L2622.88 1243.97 L2623.75 1244.10 L2624.49 1244.47 L2625.36 1244.84 L2626.10 1245.21 L2626.84 1245.71 L2627.71 1246.33 L2628.45 1246.94 L2629.32 1247.69 L2630.06 1248.43 L2630.93 1249.30 L2631.67 1250.29 L2632.53 1251.28 L2633.28 1252.39 L2634.02 1253.50 L2634.89 1254.74 L2635.63 1256.10 L2636.49 1257.46 L2637.24 1258.82 L2638.10 1260.43 L2638.85 1262.04 L2639.71 1263.65 L2640.45 1265.38 L2641.32 1267.24 L2642.06 1269.10 L2642.81 1270.33 L2643.67 1270.21 L2644.41 1270.21 L2645.28 1270.33 L2646.02 1270.46 L2646.89 1270.70 L2647.63 1271.08 L2648.50 1271.45 L2649.24 1271.94 L2649.98 1272.56 L2650.85 1273.18 L2651.59 1273.92 L2652.46 1274.79 L2653.20 1275.28 L2654.07 1274.05 L2654.81 1272.81 L2655.68 1271.57 L2656.42 1270.46 L2657.16 1269.47 L2658.03 1268.48 L2658.77 1267.61 L2659.64 1266.74 L2660.38 1266.00 L2661.24 1265.38 L2661.99 1264.76 L2662.85 1264.15 L2663.60 1263.77 L2664.34 1263.28 L2665.20 1263.03 L2665.95 1262.78 L2666.81 1262.54 L2667.56 1262.54 L2668.42 1262.41 L2669.16 1262.54 L2670.03 1262.54 L2670.77 1262.78 L2671.52 1263.03 L2672.38 1263.40 L2673.12 1263.77 L2673.99 1264.27 L2674.73 1264.76 L2675.60 1265.38 L2676.34 1266.13 L2677.21 1266.87 L2677.95 1267.61 L2678.69 1268.60 L2679.56 1269.47 L2680.30 1270.58 L2681.17 1271.69 L2681.91 1272.81 L2682.78 1272.31 L2683.52 1271.82 L2684.39 1271.32 L2685.13 1270.95 L2685.99 1270.70 L2686.74 1270.58 L2687.48 1270.46 L2688.35 1270.33 L2689.09 1270.46 L2689.95 1270.58 L2690.70 1270.83 L2691.56 1271.08 L2692.31 1271.45 L2693.17 1270.58 L2693.91 1269.47 L2694.66 1268.48 L2695.52 1267.49 L2696.27 1266.50 L2697.13 1265.75 L2697.87 1264.89 L2698.74 1264.27 L2699.48 1263.65 L2700.35 1263.03 L2701.09 1262.54 L2701.83 1262.17 L2702.70 1261.92 L2703.44 1261.55 L2704.31 1261.42 L2705.05 1261.30 L2705.92 1261.30 L2706.66 1261.30 L2707.53 1261.42 L2708.27 1261.55 L2709.01 1261.79 L2709.88 1262.17 L2710.62 1262.54 L2711.49 1263.03 L2712.23 1263.53 L2713.10 1264.15 L2713.84 1264.89 L2714.70 1265.63 L2715.45 1266.50 L2716.19 1267.36 L2717.06 1268.35 L2717.80 1269.47 L2718.66 1270.58 L2719.41 1271.82 L2720.27 1273.06 L2721.02 1274.42 L2721.88 1274.79 L2722.62 1274.66 L2723.37 1274.66 L2724.23 1274.66 L2724.98 1274.79 L2725.84 1275.04 L2726.58 1275.28 L2727.45 1275.65 L2728.19 1276.15 L2729.06 1276.64 L2729.80 1277.26 L2730.67 1278.01 L2731.41 1278.75 L2732.15 1278.87 L2733.02 1277.88 L2733.76 1277.02 L2734.63 1276.27 L2735.37 1275.41 L2736.24 1274.79 L2736.98 1274.17 L2737.85 1273.67 L2738.59 1273.18 L2739.33 1272.81 L2740.20 1272.56 L2740.94 1272.31 L2741.81 1272.07 L2742.55 1271.94 L2743.41 1271.94 L2744.16 1271.94 L2745.02 1272.07 L2745.77 1272.31 L2746.51 1272.56 L2747.37 1272.93 L2748.12 1273.30 L2748.98 1273.80 L2749.73 1274.29 L2750.59 1274.91 L2751.33 1275.53 L2752.20 1276.40 L2752.94 1277.14 L2753.69 1278.01 L2754.55 1279.00 L2755.29 1280.11 L2756.16 1281.22 L2756.90 1282.34 L2757.77 1283.58 L2758.51 1284.94 L2759.38 1286.30 L2760.12 1287.78 L2760.86 1288.90 L2761.73 1288.03 L2762.47 1287.29 L2763.34 1286.67 L2764.08 1286.05 L2764.95 1285.56 L2765.69 1285.18 L2766.56 1284.94 L2767.30 1284.69 L2768.04 1284.57 L2768.91 1284.44 L2769.65 1284.57 L2770.52 1284.69 L2771.26 1284.81 L2772.12 1283.08 L2772.87 1281.35 L2773.73 1279.74 L2774.48 1278.25 L2775.34 1276.77 L2776.08 1275.28 L2776.83 1274.05 L2777.69 1272.81 L2778.44 1271.57 L2779.30 1270.46 L2780.04 1269.47 L2780.91 1268.48 L2781.65 1267.61 L2782.52 1266.87 L2783.26 1266.13 L2784.00 1265.51 L2784.87 1264.89 L2785.61 1264.39 L2786.48 1263.90 L2787.22 1263.53 L2788.09 1263.28 L2788.83 1263.03 L2789.70 1262.91 L2790.44 1262.91 L2791.18 1262.91 L2792.05 1262.91 L2792.79 1263.16 L2793.66 1263.28 L2794.40 1263.65 L2795.27 1264.02 L2796.01 1264.52 L2796.87 1265.01 L2797.62 1265.63 L2798.36 1266.25 L2799.23 1266.99 L2799.97 1267.86 L2800.83 1267.12 L2801.58 1266.25 L2802.44 1265.38 L2803.19 1264.64 L2804.05 1263.90 L2804.79 1263.28 L2805.54 1262.78 L2806.40 1262.41 L2807.15 1262.04 L2808.01 1261.79 L2808.75 1261.67 L2809.62 1261.55 L2810.36 1261.55 L2811.23 1260.31 L2811.97 1258.58 L2812.71 1256.84 L2813.58 1255.11 L2814.32 1253.50 L2815.19 1252.02 L2815.93 1250.53 L2816.80 1249.17 L2817.54 1247.93 L2818.41 1246.70 L2819.15 1245.58 L2820.02 1244.47 L2820.76 1243.48 L2821.50 1242.49 L2822.37 1241.62 L2823.11 1240.88 L2823.98 1240.14 L2824.72 1239.52 L2825.58 1238.90 L2826.33 1238.40 L2827.19 1238.03 L2827.94 1237.66 L2828.68 1237.41 L2829.54 1237.17 L2830.29 1237.04 L2831.15 1237.04 L2831.90 1237.04 L2832.76 1237.17 L2833.50 1237.29 L2834.37 1237.54 L2835.11 1237.91 L2835.86 1238.28 L2836.72 1238.78 L2837.46 1239.27 L2838.33 1239.89 L2839.07 1240.51 L2839.94 1240.39 L2840.68 1239.02 L2841.55 1237.66 L2842.29 1236.55 L2843.03 1235.43 L2843.90 1234.32 L2844.64 1233.45 L2845.51 1232.59 L2846.25 1231.85 L2847.12 1231.10 L2847.86 1230.48 L2848.73 1229.99 L2849.47 1229.62 L2850.21 1228.88 L2851.08 1226.90 L2851.82 1225.04 L2852.69 1223.31 L2853.43 1221.57 L2854.29 1219.97 L2855.04 1218.36 L2855.90 1216.87 L2856.65 1215.51 L2857.39 1214.15 L2858.25 1212.91 L2859.00 1211.80 L2859.86 1210.68 L2860.61 1209.69 L2861.47 1208.70 L2862.21 1207.84 L2863.08 1207.10 L2863.82 1206.35 L2864.69 1205.73 L2865.43 1205.12 L2866.17 1204.74 L2867.04 1204.25 L2867.78 1204.00 L2868.65 1203.75 L2869.39 1203.51 L2870.26 1203.38 L2871.00 1203.38 L2871.87 1203.51 L2872.61 1203.63 L2873.35 1203.75 L2874.22 1204.13 L2874.96 1204.37 L2875.83 1204.87 L2876.57 1205.36 L2877.44 1205.98 L2878.18 1206.60 L2879.04 1207.22 L2879.79 1206.48 L2880.53 1205.73 L2881.40 1204.99 L2882.14 1204.50 L2883.00 1204.00 L2883.75 1203.51 L2884.61 1203.26 L2885.36 1203.01 L2886.22 1202.76 L2886.96 1202.76 L2887.71 1202.76 L2888.57 1202.89 L2889.32 1203.01 L2890.18 1202.02 L2890.92 1200.91 L2891.79 1199.79 L2892.53 1198.80 L2893.40 1197.81 L2894.14 1196.95 L2894.88 1196.20 L2895.75 1195.46 L2896.49 1194.84 L2897.36 1194.35 L2898.10 1193.85 L2898.97 1193.48 L2899.71 1193.11 L2900.58 1192.86 L2901.32 1192.74 L2902.06 1192.62 L2902.93 1192.62 L2903.67 1192.74 L2904.54 1192.86 L2905.28 1193.11 L2906.15 1193.36 L2906.89 1193.73 L2907.75 1194.22 L2908.50 1194.72 L2909.36 1195.34 L2910.11 1196.08 L2910.85 1196.82 L2911.71 1197.69 L2912.46 1198.56 L2913.32 1199.55 L2914.07 1200.66 L2914.93 1201.77 L2915.67 1203.01 L2916.54 1204.37 L2917.28 1205.73 L2918.03 1207.22 L2918.89 1207.34 L2919.63 1206.85 L2920.50 1206.60 L2921.24 1206.23 L2922.11 1206.11 L2922.85 1205.98 L2923.72 1205.98 L2924.46 1206.11 L2925.20 1206.35 L2926.07 1206.60 L2926.81 1206.97 L2927.68 1207.34 L2928.42 1207.96 L2929.29 1207.59 L2930.03 1206.11 L2930.90 1204.74 L2931.64 1203.51 L2932.38 1202.27 L2933.25 1201.16 L2933.99 1200.17 L2934.86 1199.17 L2935.60 1198.31 L2936.46 1197.44 L2937.21 1196.70 L2938.07 1196.08 L2938.82 1195.46 L2939.56 1194.97 L2940.42 1194.60 L2941.17 1194.22 L2942.03 1193.98 L2942.78 1193.73 L2943.64 1193.61 L2944.38 1193.61 L2945.25 1193.61 L2945.99 1193.73 L2946.74 1193.85 L2947.60 1194.10 L2948.34 1194.47 L2949.21 1194.84 L2949.95 1195.34 L2950.82 1195.96 L2951.56 1196.58 L2952.43 1197.32 L2953.17 1198.06 L2954.04 1199.05 L2954.78 1199.92 L2955.52 1201.03 L2956.39 1202.02 L2957.13 1203.26 L2958.00 1204.00 L2958.74 1203.38 L2959.61 1202.89 L2960.35 1202.39 L2961.21 1202.02 L2961.96 1201.77 L2962.70 1201.65 L2963.57 1201.53 L2964.31 1201.53 L2965.17 1201.65 L2965.92 1201.90 L2966.78 1202.15 L2967.53 1202.52 L2968.39 1202.76 L2969.13 1201.40 L2969.88 1200.17 L2970.74 1198.93 L2971.49 1197.81 L2972.35 1196.82 L2973.09 1195.83 L2973.96 1194.97 L2974.70 1194.22 L2975.57 1193.48 L2976.31 1192.86 L2977.05 1192.24 L2977.92 1191.75 L2978.66 1191.38 L2979.53 1191.01 L2980.27 1190.76 L2981.14 1190.64 L2981.88 1190.51 L2982.75 1190.51 L2983.49 1190.51 L2984.23 1190.64 L2985.10 1190.88 L2985.84 1191.13 L2986.71 1191.50 L2987.45 1191.87 L2988.32 1192.49 L2989.06 1192.99 L2989.92 1193.73 L2990.67 1194.47 L2991.41 1195.21 L2992.28 1196.20 L2993.02 1197.19 L2993.88 1198.18 L2994.63 1199.30 L2995.49 1200.54 L2996.24 1201.77 L2997.10 1203.14 L2997.84 1202.89 L2998.71 1202.52 L2999.45 1202.15 L3000.20 1201.90 L3001.06 1201.77 L3001.80 1201.77 L3002.67 1201.77 L3003.41 1201.90 L3004.28 1202.15 L3005.02 1202.39 L3005.89 1202.89 L3006.63 1203.26 L3007.37 1203.88 L3008.24 1203.38 L3008.98 1202.52 L3009.85 1201.65 L3010.59 1200.91 L3011.46 1200.29 L3012.20 1199.67 L3013.07 1199.17 L3013.81 1198.80 L3014.55 1198.43 L3015.42 1198.18 L3016.16 1197.94 L3017.03 1197.81 L3017.77 1197.81 L3018.63 1197.94 L3019.38 1198.06 L3020.24 1198.18 L3020.99 1198.56 L3021.73 1198.93 L3022.59 1199.30 L3023.34 1199.79 L3024.20 1200.41 L3024.95 1201.16 L3025.81 1201.90 L3026.55 1202.76 L3027.42 1203.63 L3028.16 1204.62 L3028.91 1205.73 L3029.77 1206.85 L3030.51 1208.09 L3031.38 1209.45 L3032.12 1210.81 L3032.99 1212.29 L3033.73 1213.90 L3034.60 1215.51 L3035.34 1217.24 L3036.08 1218.98 L3036.95 1220.09 L3037.69 1220.58 L3038.56 1221.08 L3039.30 1221.70 L3040.17 1222.44 L3040.91 1223.31 L3041.78 1224.17 L3042.52 1225.16 L3043.38 1226.28 L3044.13 1227.39 L3044.87 1228.75 L3045.74 1229.99 L3046.48 1231.47 L3047.34 1232.22 L3048.09 1231.35 L3048.95 1230.61 L3049.70 1229.87 L3050.56 1229.25 L3051.30 1228.63 L3052.05 1228.13 L3052.91 1227.76 L3053.66 1227.39 L3054.52 1227.14 L3055.26 1227.02 L3056.13 1226.90 L3056.87 1226.90 L3057.74 1226.90 L3058.48 1227.02 L3059.22 1227.14 L3060.09 1227.39 L3060.83 1227.76 L3061.70 1228.13 L3062.44 1228.63 L3063.31 1229.12 L3064.05 1229.74 L3064.92 1230.48 L3065.66 1231.23 L3066.40 1232.09 L3067.27 1232.96 L3068.01 1233.95 L3068.88 1235.06 L3069.62 1236.18 L3070.49 1237.41 L3071.23 1238.65 L3072.09 1240.01 L3072.84 1241.50 L3073.58 1242.98 L3074.45 1244.59 L3075.19 1246.20 L3076.05 1247.56 L3076.80 1246.94 L3077.66 1246.33 L3078.41 1245.83 L3079.27 1245.34 L3080.01 1244.96 L3080.76 1244.72 L3081.62 1244.59 L3082.37 1244.47 L3083.23 1244.47 L3083.97 1244.59 L3084.84 1244.72 L3085.58 1244.96 L3086.45 1245.34 L3087.19 1243.97 L3088.06 1242.61 L3088.80 1241.25 L3089.54 1240.01 L3090.41 1238.90 L3091.15 1237.79 L3092.02 1236.80 L3092.76 1235.81 L3093.63 1234.94 L3094.37 1234.20 L3095.24 1233.45 L3095.98 1232.84 L3096.72 1232.34 L3097.59 1231.85 L3098.33 1231.47 L3099.20 1231.10 L3099.94 1230.86 L3100.80 1230.73 L3101.55 1230.61 L3102.41 1230.61 L3103.16 1230.61 L3103.90 1230.73 L3104.76 1230.98 L3105.51 1231.35 L3106.37 1231.72 L3107.12 1232.09 L3107.98 1232.71 L3108.72 1233.21 L3109.59 1233.95 L3110.33 1234.69 L3111.08 1235.56 L3111.94 1236.42 L3112.68 1237.41 L3113.55 1238.53 L3114.29 1239.64 L3115.16 1240.88 L3115.90 1240.26 L3116.77 1239.02 L3117.51 1238.03 L3118.25 1237.04 L3119.12 1236.18 L3119.86 1235.43 L3120.73 1234.69 L3121.47 1234.07 L3122.34 1233.58 L3123.08 1233.21 L3123.95 1232.84 L3124.69 1232.59 L3125.43 1232.46 L3126.30 1231.10 L3127.04 1229.00 L3127.91 1226.90 L3128.65 1224.79 L3129.51 1222.94 L3130.26 1221.08 L3131.12 1219.22 L3131.87 1217.49 L3132.73 1215.88 L3133.47 1214.40 L3134.22 1212.91 L3135.08 1211.43 L3135.83 1210.19 L3136.69 1208.95 L3137.43 1207.71 L3138.30 1206.72 L3139.04 1205.61 L3139.91 1204.74 L3140.65 1203.88 L3141.39 1203.14 L3142.26 1202.39 L3143.00 1201.77 L3143.87 1201.28 L3144.61 1200.91 L3145.48 1200.54 L3146.22 1200.17 L3147.09 1199.92 L3147.83 1199.79 L3148.57 1199.79 L3149.44 1199.79 L3150.18 1199.92 L3151.05 1200.04 L3151.79 1200.29 L3152.66 1200.66 L3153.40 1201.03 L3154.26 1201.53 L3155.01 1201.53 L3155.75 1200.66 L3156.62 1199.79 L3157.36 1199.05 L3158.22 1198.31 L3158.97 1197.69 L3159.83 1197.19 L3160.58 1196.82 L3161.44 1196.45 L3162.18 1196.20 L3162.93 1196.08 L3163.79 1195.96 L3164.54 1196.08 L3165.40 1195.83 L3166.14 1194.35 L3167.01 1192.99 L3167.75 1191.63 L3168.62 1190.51 L3169.36 1189.27 L3170.10 1188.28 L3170.97 1187.17 L3171.71 1186.30 L3172.58 1185.44 L3173.32 1184.70 L3174.19 1184.08 L3174.93 1183.46 L3175.80 1182.84 L3176.54 1182.47 L3177.41 1182.10 L3178.15 1181.73 L3178.89 1181.60 L3179.76 1181.48 L3180.50 1181.35 L3181.37 1181.35 L3182.11 1181.48 L3182.97 1181.73 L3183.72 1181.97 L3184.58 1182.22 L3185.33 1182.72 L3186.07 1183.21 L3186.93 1183.71 L3187.68 1184.45 L3188.54 1185.19 L3189.29 1185.93 L3190.15 1186.80 L3190.89 1187.79 L3191.76 1188.78 L3192.50 1189.89 L3193.25 1191.13 L3194.11 1192.49 L3194.85 1192.86 L3195.72 1193.48 L3196.46 1194.10 L3197.33 1194.72 L3198.07 1195.59 L3198.94 1196.45 L3199.68 1197.32 L3200.42 1198.43 L3201.29 1199.55 L3202.03 1200.66 L3202.90 1202.02 L3203.64 1203.38 L3204.51 1204.87 L3205.25 1204.74 L3206.12 1204.25 L3206.86 1203.88 L3207.60 1203.51 L3208.47 1203.26 L3209.21 1203.14 L3210.08 1203.01 L3210.82 1203.01 L3211.68 1203.01 L3212.43 1203.14 L3213.29 1203.38 L3214.04 1203.63 L3214.78 1204.00 L3215.64 1204.37 L3216.39 1204.87 L3217.25 1205.36 L3218.00 1205.98 L3218.86 1206.72 L3219.60 1207.47 L3220.47 1208.33 L3221.21 1209.20 L3222.08 1210.19 L3222.82 1211.30 L3223.56 1212.42 L3224.43 1213.65 L3225.17 1214.89 L3226.04 1216.25 L3226.78 1217.61 L3227.65 1219.10 L3228.39 1220.71 L3229.26 1222.32 L3230.00 1224.05 L3230.74 1225.78 L3231.61 1227.64 L3232.35 1229.62 L3233.22 1231.60 L3233.96 1232.84 L3234.83 1233.58 L3235.57 1234.57 L3236.43 1235.43 L3237.18 1236.55 L3237.92 1237.66 L3238.79 1238.90 L3239.53 1240.14 L3240.39 1241.50 L3241.14 1242.98 L3242.00 1244.47 L3242.75 1246.08 L3243.61 1247.81 L3244.35 1248.68 L3245.10 1248.68 L3245.96 1248.55 L3246.71 1248.55 L3247.57 1248.68 L3248.31 1248.80 L3249.18 1249.05 L3249.92 1249.42 L3250.79 1249.79 L3251.53 1250.16 L3252.27 1250.66 L3253.14 1251.28 L3253.88 1251.89 L3254.75 1252.64 L3255.49 1253.38 L3256.36 1254.25 L3257.10 1255.11 L3257.97 1256.10 L3258.71 1257.22 L3259.45 1258.33 L3260.32 1259.44 L3261.06 1260.68 L3261.93 1262.04 L3262.67 1263.40 L3263.54 1264.89 L3264.28 1266.37 L3265.14 1267.98 L3265.89 1269.71 L3266.75 1271.45 L3267.50 1273.18 L3268.24 1275.16 L3269.10 1277.02 L3269.85 1279.00 L3270.71 1281.10 L3271.46 1283.33 L3272.32 1285.56 L3273.06 1287.54 L3273.93 1288.65 L3274.67 1289.89 L3275.42 1291.25 L3276.28 1292.61 L3277.02 1294.09 L3277.89 1295.58 L3278.63 1297.19 L3279.50 1298.92 L3280.24 1300.65 L3281.11 1302.51 L3281.85 1304.37 L3282.59 1306.35 L3283.46 1308.33 L3284.20 1308.57 L3285.07 1308.82 L3285.81 1309.19 L3286.68 1309.56 L3287.42 1309.93 L3288.29 1310.55 L3289.03 1311.05 L3289.77 1311.67 L3290.64 1312.41 L3291.38 1313.15 L3292.25 1314.02 L3292.99 1315.01 L3293.85 1315.87 L3294.60 1316.99 L3295.46 1318.10 L3296.21 1319.22 L3296.95 1320.45 L3297.81 1321.69 L3298.56 1323.05 L3299.42 1324.54 L3300.17 1326.02 L3301.03 1327.51 L3301.77 1329.12 L3302.64 1330.85 L3303.38 1332.58 L3304.13 1334.44 L3304.99 1336.29 L3305.73 1338.15 L3306.60 1340.13 L3307.34 1342.23 L3308.21 1344.34 L3308.95 1346.57 L3309.82 1348.79 L3310.56 1351.14 L3311.43 1353.50 L3312.17 1355.97 L3312.91 1357.21 L3313.78 1358.07 L3314.52 1359.19 L3315.39 1360.30 L3316.13 1361.54 L3317.00 1362.78 L3317.74 1364.14 L3318.60 1365.50 L3319.35 1366.99 L3320.09 1368.59 L3320.96 1370.20 L3321.70 1371.94 L3322.56 1373.67 L3323.31 1374.53 L3324.17 1375.03 L3324.92 1375.52 L3325.78 1376.02 L3326.52 1376.64 L3327.27 1377.38 L3328.13 1378.12 L3328.88 1378.99 L3329.74 1379.86 L3330.48 1380.85 L3331.35 1381.84 L3332.09 1382.95 L3332.96 1384.06 L3333.70 1385.30 L3334.44 1386.54 L3335.31 1387.90 L3336.05 1389.38 L3336.92 1390.75 L3337.66 1392.35 L3338.53 1393.96 L3339.27 1395.57 L3340.14 1397.43 L3340.88 1399.16 L3341.62 1401.02 L3342.49 1403.00 L3343.23 1404.98 L3344.10 1407.08 L3344.84 1409.19 L3345.71 1411.41 L3346.45 1413.64 L3347.31 1415.99 L3348.06 1418.34 L3348.80 1420.82 L3349.67 1423.29 L3350.41 1425.89 L3351.27 1428.61 L3352.02 1430.22 L3352.88 1430.72 L3353.63 1431.21 L3354.49 1431.83 L3355.23 1432.45 L3356.10 1433.32 L3356.84 1434.06 L3357.59 1435.05 L3358.45 1436.04 L3359.19 1437.15 L3360.06 1438.27 L3360.80 1439.50 L3361.67 1440.87 L3362.41 1441.61 L3363.28 1440.50 L3364.02 1439.50 L3364.76 1438.64 L3365.63 1437.77 L3366.37 1437.03 L3367.24 1436.29 L3367.98 1435.54 L3368.85 1435.05 L3369.59 1434.43 L3370.46 1434.06 L3371.20 1433.56 L3371.94 1433.32 L3372.81 1432.95 L3373.55 1432.82 L3374.42 1432.57 L3375.16 1432.57 L3376.02 1432.57 L3376.77 1432.57 L3377.63 1432.70 L3378.38 1432.82 L3379.12 1433.07 L3379.98 1433.44 L3380.73 1433.81 L3381.59 1434.18 L3382.34 1434.68 L3383.20 1435.30 L3383.94 1435.92 L3384.81 1436.66 L3385.55 1437.40 L3386.30 1438.14 L3387.16 1439.01 L3387.90 1440.00 L3388.77 1440.99 L3389.51 1442.10 L3390.38 1443.22 L3391.12 1444.33 L3391.99 1443.34 L3392.73 1442.48 L3393.47 1441.73 L3394.34 1440.99 L3395.08 1440.37 L3395.95 1439.75 L3396.69 1439.26 L3397.56 1438.89 L3398.30 1438.51 L3399.17 1438.27 L3399.91 1438.14 L3400.77 1438.02 L3401.52 1438.02 L3402.26 1435.79 L3403.13 1433.32 L3403.87 1430.97 L3404.73 1428.74 L3405.48 1426.39 L3406.34 1424.28 L3407.09 1422.18 L3407.95 1420.08 L3408.69 1418.10 L3409.44 1416.12 L3410.30 1414.26 L3411.05 1412.53 L3411.91 1410.79 L3412.65 1409.06 L3413.52 1407.45 L3414.26 1405.84 L3415.13 1404.36 L3415.87 1403.00 L3416.61 1401.64 L3417.48 1400.28 L3418.22 1399.04 L3419.09 1397.92 L3419.83 1396.81 L3420.70 1395.70 L3421.44 1394.71 L3422.31 1393.84 L3423.05 1392.97 L3423.79 1392.11 L3424.66 1391.36 L3425.40 1390.75 L3426.27 1390.13 L3427.01 1389.51 L3427.88 1389.01 L3428.62 1388.64 L3429.48 1388.27 L3430.23 1387.90 L3430.97 1385.67 L3431.84 1382.33 L3432.58 1379.24 L3433.44 1376.14 L3434.19 1373.17 L3435.05 1370.20 L3435.80 1367.36 L3436.66 1364.63 L3437.40 1361.91 L3438.15 1359.31 L3439.01 1356.71 L3439.76 1354.36 L3440.62 1352.01 L3441.36 1348.92 L3442.23 1345.08 L3442.97 1341.37 L3443.84 1337.66 L3444.58 1334.07 L3445.45 1330.48 L3446.19 1327.01 L3446.93 1323.67 L3447.80 1320.33 L3448.54 1317.11 L3449.41 1313.89 L3450.15 1310.80 L3451.02 1307.71 L3451.76 1304.74 L3452.63 1301.89 L3453.37 1299.04 L3454.11 1296.32 L3454.98 1293.60 L3455.72 1291.00 L3456.59 1288.53 L3457.33 1286.05 L3458.19 1283.58 L3458.94 1281.35 L3459.80 1279.00 L3460.55 1276.89 L3461.29 1274.79 L3462.15 1272.68 L3462.90 1270.70 L3463.76 1268.85 L3464.51 1266.99 L3465.37 1265.26 L3466.11 1263.53 L3466.98 1261.92 L3467.72 1260.31 L3468.47 1258.95 L3469.33 1257.46 L3470.07 1256.10 L3470.94 1254.86 L3471.68 1253.75 L3472.55 1252.51 L3473.29 1251.52 L3474.16 1250.53 L3474.90 1249.67 L3475.64 1248.80 L3476.51 1248.06 L3477.25 1247.32 L3478.12 1246.70 L3478.86 1246.08 L3479.73 1245.71 L3480.47 1245.09 L3481.34 1243.85 L3482.08 1242.74 L3482.82 1241.62 L3483.69 1240.51 L3484.43 1239.52 L3485.30 1238.65 L3486.04 1237.79 L3486.90 1236.92 L3487.65 1236.18 L3488.51 1235.56 L3489.26 1234.94 L3490.12 1234.44 L3490.86 1233.95 L3491.61 1233.58 L3492.47 1233.21 L3493.22 1232.96 L3494.08 1232.71 L3494.82 1232.59 L3495.69 1232.59 L3496.43 1232.59 L3497.30 1232.59 L3498.04 1232.71 L3498.78 1232.96 L3499.65 1233.21 L3500.39 1233.58 L3501.26 1233.95 L3502.00 1234.32 L3502.87 1234.94 L3503.61 1235.43 L3504.48 1236.18 L3505.22 1236.92 L3505.96 1237.66 L3506.83 1238.53 L3507.57 1239.39 L3508.44 1240.39 L3509.18 1241.50 L3510.05 1242.61 L3510.79 1243.73 L3511.65 1244.96 L3512.40 1246.33 L3513.14 1247.69 L3514.01 1249.17 L3514.75 1250.66 L3515.61 1252.27 L3516.36 1253.87 L3517.22 1255.61 L3517.97 1257.34 L3518.83 1259.20 L3519.57 1261.05 L3520.32 1262.04 L3521.18 1262.78 L3521.93 1263.53 L3522.79 1264.39 L3523.53 1265.26 L3524.40 1266.13 L3525.14 1267.12 L3526.01 1268.23 L3526.75 1269.22 L3527.49 1270.46 L3528.36 1271.69 L3529.10 1272.93 L3529.97 1274.29 L3530.71 1275.65 L3531.58 1277.14 L3532.32 1278.62 L3533.19 1280.23 L3533.93 1281.84 L3534.80 1283.58 L3535.54 1285.31 L3536.28 1287.04 L3537.15 1288.90 L3537.89 1290.88 L3538.76 1292.86 L3539.50 1294.84 L3540.36 1296.94 L3541.11 1299.17 L3541.97 1301.27 L3542.72 1303.62 L3543.46 1305.97 L3544.32 1308.33 L3545.07 1310.80 L3545.93 1313.28 L3546.68 1315.87 L3547.54 1318.47 L3548.28 1321.07 L3549.15 1323.92 L3549.89 1326.64 L3550.64 1329.49 L3551.50 1332.46 L3552.24 1335.43 L3553.11 1338.40 L3553.85 1341.49 L3554.72 1344.71 L3555.46 1347.80 L3556.33 1351.14 L3557.07 1354.49 L3557.81 1357.83 L3558.68 1361.29 L3559.42 1364.39 L3560.29 1366.74 L3561.03 1369.09 L3561.90 1371.56 L3562.64 1374.04 L3563.51 1376.64 L3564.25 1379.24 L3564.99 1381.84 L3565.86 1384.56 L3566.60 1387.28 L3567.47 1390.13 L3568.21 1392.97 L3569.07 1395.94 L3569.82 1398.91 L3570.68 1401.88 L3571.43 1404.98 L3572.17 1408.07 L3573.03 1411.29 L3573.78 1414.51 L3574.64 1417.85 L3575.39 1421.07 L3576.25 1424.53 L3576.99 1428.00 L3577.86 1431.46 L3578.60 1434.93 L3579.47 1438.51 L3580.21 1442.23 L3580.95 1445.82 L3581.82 1449.65 L3582.56 1453.37 L3583.43 1457.20 L3584.17 1461.16 L3585.04 1465.12 L3585.78 1469.08 L3586.65 1473.17 L3587.39 1477.25 L3588.13 1481.46 L3589.00 1485.67 L3589.74 1489.87 L3590.61 1494.20 L3591.35 1498.54 L3592.22 1502.99 L3592.96 1507.45 L3593.82 1512.02 L3594.57 1516.48 L3595.31 1521.18 L3596.18 1525.89 L3596.92 1530.59 L3597.78 1535.29 L3598.53 1540.12 L3599.39 1543.46 L3600.14 1546.80 L3601.00 1550.14 L3601.74 1553.48 L3602.49 1556.95 L3603.35 1560.41 L3604.10 1563.88 L3604.96 1567.47 L3605.70 1571.06 L3606.57 1574.64 L3607.31 1578.36 L3608.18 1582.07 L3608.92 1585.91 L3609.66 1589.62 L3610.53 1593.58 L3611.27 1597.41 L3612.14 1601.38 L3612.88 1605.34 L3613.75 1609.42 L3614.49 1613.38 L3615.36 1617.59 L3616.10 1621.67 L3616.84 1625.88 L3617.71 1630.09 L3618.45 1634.42 L3619.32 1638.75 L3620.06 1643.08 L3620.93 1647.54 L3621.67 1651.99 L3622.53 1656.45 L3623.28 1660.90 L3624.14 1665.48 L3624.89 1670.18 L3625.63 1674.76 L3626.49 1679.46 L3627.24 1684.29 L3628.10 1689.12 L3628.85 1693.94 L3629.71 1698.77 L3630.45 1703.72 L3631.32 1708.67 L3632.06 1713.62 L3632.81 1718.69 L3633.67 1723.77 L3634.41 1728.97 L3635.28 1734.04 L3636.02 1739.36 L3636.89 1744.56 L3637.63 1749.88\" stroke-linejoin=\"round\" style=\"fill:none;stroke:#90353B;stroke-width:7.34\"/>\n\t<line style=\"stroke:#000000;stroke-width:4.90\" x1=\"388.33\" x2=\"388.33\" y1=\"2121.64\" y2=\"432.77\"/>\n\t<line style=\"stroke:#000000;stroke-width:4.90\" x1=\"388.33\" x2=\"354.30\" y1=\"2067.68\" y2=\"2067.68\"/>\n\t<text style=\"font-family:'Helvetica';font-size:85.02px;fill:#000000\" text-anchor=\"middle\" transform=\"rotate(-90 311.78,2067.68)\" x=\"311.78\" y=\"2067.68\">0</text>\n\t<line style=\"stroke:#000000;stroke-width:4.90\" x1=\"388.33\" x2=\"354.30\" y1=\"1540.74\" y2=\"1540.74\"/>\n\t<text style=\"font-family:'Helvetica';font-size:85.02px;fill:#000000\" text-anchor=\"middle\" transform=\"rotate(-90 311.78,1540.74)\" x=\"311.78\" y=\"1540.74\">.02</text>\n\t<line style=\"stroke:#000000;stroke-width:4.90\" x1=\"388.33\" x2=\"354.30\" y1=\"1013.67\" y2=\"1013.67\"/>\n\t<text style=\"font-family:'Helvetica';font-size:85.02px;fill:#000000\" text-anchor=\"middle\" transform=\"rotate(-90 311.78,1013.67)\" x=\"311.78\" y=\"1013.67\">.04</text>\n\t<line style=\"stroke:#000000;stroke-width:4.90\" x1=\"388.33\" x2=\"354.30\" y1=\"486.60\" y2=\"486.60\"/>\n\t<text style=\"font-family:'Helvetica';font-size:85.02px;fill:#000000\" text-anchor=\"middle\" transform=\"rotate(-90 311.78,486.60)\" x=\"311.78\" y=\"486.60\">.06</text>\n\t<line style=\"stroke:#000000;stroke-width:4.90\" x1=\"388.33\" x2=\"2071.82\" y1=\"2121.64\" y2=\"2121.64\"/>\n\t<line style=\"stroke:#000000;stroke-width:4.90\" x1=\"442.16\" x2=\"442.16\" y1=\"2121.64\" y2=\"2155.54\"/>\n\t<text style=\"font-family:'Helvetica';font-size:85.02px;fill:#000000\" text-anchor=\"middle\" x=\"442.16\" y=\"2232.07\">20</text>\n\t<line style=\"stroke:#000000;stroke-width:4.90\" x1=\"836.18\" x2=\"836.18\" y1=\"2121.64\" y2=\"2155.54\"/>\n\t<text style=\"font-family:'Helvetica';font-size:85.02px;fill:#000000\" text-anchor=\"middle\" x=\"836.18\" y=\"2232.07\">30</text>\n\t<line style=\"stroke:#000000;stroke-width:4.90\" x1=\"1230.08\" x2=\"1230.08\" y1=\"2121.64\" y2=\"2155.54\"/>\n\t<text style=\"font-family:'Helvetica';font-size:85.02px;fill:#000000\" text-anchor=\"middle\" x=\"1230.08\" y=\"2232.07\">40</text>\n\t<line style=\"stroke:#000000;stroke-width:4.90\" x1=\"1624.10\" x2=\"1624.10\" y1=\"2121.64\" y2=\"2155.54\"/>\n\t<text style=\"font-family:'Helvetica';font-size:85.02px;fill:#000000\" text-anchor=\"middle\" x=\"1624.10\" y=\"2232.07\">50</text>\n\t<line style=\"stroke:#000000;stroke-width:4.90\" x1=\"2017.99\" x2=\"2017.99\" y1=\"2121.64\" y2=\"2155.54\"/>\n\t<text style=\"font-family:'Helvetica';font-size:85.02px;fill:#000000\" text-anchor=\"middle\" x=\"2017.99\" y=\"2232.07\">60</text>\n\t<line style=\"stroke:#000000;stroke-width:4.90\" x1=\"2141.00\" x2=\"3824.49\" y1=\"2121.64\" y2=\"2121.64\"/>\n\t<line style=\"stroke:#000000;stroke-width:4.90\" x1=\"2194.83\" x2=\"2194.83\" y1=\"2121.64\" y2=\"2155.54\"/>\n\t<text style=\"font-family:'Helvetica';font-size:85.02px;fill:#000000\" text-anchor=\"middle\" x=\"2194.83\" y=\"2232.07\">20</text>\n\t<line style=\"stroke:#000000;stroke-width:4.90\" x1=\"2588.85\" x2=\"2588.85\" y1=\"2121.64\" y2=\"2155.54\"/>\n\t<text style=\"font-family:'Helvetica';font-size:85.02px;fill:#000000\" text-anchor=\"middle\" x=\"2588.85\" y=\"2232.07\">30</text>\n\t<line style=\"stroke:#000000;stroke-width:4.90\" x1=\"2982.75\" x2=\"2982.75\" y1=\"2121.64\" y2=\"2155.54\"/>\n\t<text style=\"font-family:'Helvetica';font-size:85.02px;fill:#000000\" text-anchor=\"middle\" x=\"2982.75\" y=\"2232.07\">40</text>\n\t<line style=\"stroke:#000000;stroke-width:4.90\" x1=\"3376.77\" x2=\"3376.77\" y1=\"2121.64\" y2=\"2155.54\"/>\n\t<text style=\"font-family:'Helvetica';font-size:85.02px;fill:#000000\" text-anchor=\"middle\" x=\"3376.77\" y=\"2232.07\">50</text>\n\t<line style=\"stroke:#000000;stroke-width:4.90\" x1=\"3770.66\" x2=\"3770.66\" y1=\"2121.64\" y2=\"2155.54\"/>\n\t<text style=\"font-family:'Helvetica';font-size:85.02px;fill:#000000\" text-anchor=\"middle\" x=\"3770.66\" y=\"2232.07\">60</text>\n\t<rect height=\"122.89\" style=\"fill:#D9E6EB\" width=\"1683.50\" x=\"388.33\" y=\"309.88\"/>\n\t<rect height=\"117.99\" style=\"fill:none;stroke:#D9E6EB;stroke-width:4.90\" width=\"1678.60\" x=\"390.78\" y=\"312.33\"/>\n\t<text style=\"font-family:'Helvetica';font-size:93.56px;fill:#000000\" text-anchor=\"middle\" x=\"1230.08\" y=\"390.04\">Raw</text>\n\t<rect height=\"122.89\" style=\"fill:#D9E6EB\" width=\"1683.50\" x=\"2141.00\" y=\"309.88\"/>\n\t<rect height=\"117.99\" style=\"fill:none;stroke:#D9E6EB;stroke-width:4.90\" width=\"1678.60\" x=\"2143.45\" y=\"312.33\"/>\n\t<text style=\"font-family:'Helvetica';font-size:93.56px;fill:#000000\" text-anchor=\"middle\" x=\"2982.75\" y=\"390.04\">Weighted</text>\n\t<rect height=\"186.50\" style=\"fill:#FFFFFF\" width=\"1438.59\" x=\"1310.64\" y=\"2443.64\"/>\n\t<rect height=\"180.74\" style=\"fill:none;stroke:#000000;stroke-width:5.76\" width=\"1432.83\" x=\"1313.52\" y=\"2446.52\"/>\n\t<line style=\"stroke:#1A476F;stroke-width:8.64\" x1=\"1353.83\" x2=\"1728.29\" y1=\"2536.95\" y2=\"2536.95\"/>\n\t<line style=\"stroke:#90353B;stroke-width:8.64\" x1=\"2077.39\" x2=\"2451.74\" y1=\"2536.95\" y2=\"2536.95\"/>\n\t<text style=\"font-family:'Helvetica';font-size:99.99px;fill:#000000\" x=\"1788.31\" y=\"2571.98\">否</text>\n\t<text style=\"font-family:'Helvetica';font-size:99.99px;fill:#000000\" x=\"2511.75\" y=\"2571.98\">是</text>\n\t<text style=\"font-family:'Helvetica';font-size:99.99px;fill:#000000\" text-anchor=\"middle\" transform=\"rotate(-90 170.79,1292.24)\" x=\"170.79\" y=\"1292.24\">Density</text>\n\t<text style=\"font-family:'Helvetica';font-size:99.99px;fill:#000000\" text-anchor=\"middle\" x=\"2030.00\" y=\"2379.06\">年龄</text>\n\t<text style=\"font-family:'Helvetica';font-size:79.94px;fill:#000000\" x=\"218.05\" y=\"2737.89\"> </text>\n\t<text style=\"font-family:'Helvetica';font-size:139.96px;fill:#1E2D53\" text-anchor=\"middle\" x=\"2030.00\" y=\"215.98\">Balance plot</text>\n</svg>"
     },
     "metadata": {},
     "output_type": "display_data"
    }
   ],
   "execution_count": 43
  },
  {
   "metadata": {
    "ExecuteTime": {
     "end_time": "2025-03-02T14:04:54.596218Z",
     "start_time": "2025-03-02T14:04:45.704283Z"
    }
   },
   "cell_type": "code",
   "source": "%stata tebalance overid, nolog",
   "id": "426f567abdc10e6e",
   "outputs": [
    {
     "name": "stdout",
     "output_type": "stream",
     "text": [
      "\n",
      "Overidentification test for covariate balance\n",
      "H0: Covariates are balanced\n",
      "\n",
      "         chi2(10)     =  24.7885\n",
      "         Prob > chi2  =   0.0058\n"
     ]
    }
   ],
   "execution_count": 44
  },
  {
   "metadata": {
    "ExecuteTime": {
     "end_time": "2025-03-02T14:06:09.588817Z",
     "start_time": "2025-03-02T14:06:02.959748Z"
    }
   },
   "cell_type": "code",
   "source": [
    "## 去除 age 的平方项 和 age与hukou 的交互项，只对协变量的初始测量进行平衡性检验\n",
    "%stata tebalance overid, bconly nolog"
   ],
   "id": "8b21048ac372ac7a",
   "outputs": [
    {
     "name": "stdout",
     "output_type": "stream",
     "text": [
      "\n",
      "Overidentification test for covariate balance\n",
      "H0: Covariates are balanced\n",
      "\n",
      "         chi2(8)      =  15.0045\n",
      "         Prob > chi2  =   0.0591\n"
     ]
    }
   ],
   "execution_count": 45
  },
  {
   "metadata": {
    "ExecuteTime": {
     "end_time": "2025-03-02T14:09:03.407522Z",
     "start_time": "2025-03-02T14:09:02.422755Z"
    }
   },
   "cell_type": "code",
   "source": [
    "## 双重稳健估计(ipwra)\n",
    "%stata teffects ipwra (lninc hukou age gender race sibling fmedu2 fmedu3) (college hukou hukou##c.age c.age##c.age gender race sibling fmedu2 fmedu3)"
   ],
   "id": "c5d5ebcb7e65949b",
   "outputs": [
    {
     "name": "stdout",
     "output_type": "stream",
     "text": [
      "note: 1.hukou omitted because of collinearity.\n",
      "note: age omitted because of collinearity.\n",
      "\n",
      "Iteration 0:   EE criterion =  3.679e-21  \n",
      "Iteration 1:   EE criterion =  9.166e-31  \n",
      "\n",
      "Treatment-effects estimation                    Number of obs     =      4,137\n",
      "Estimator      : IPW regression adjustment\n",
      "Outcome model  : linear\n",
      "Treatment model: logit\n",
      "------------------------------------------------------------------------------\n",
      "             |               Robust\n",
      "       lninc | Coefficient  std. err.      z    P>|z|     [95% conf. interval]\n",
      "-------------+----------------------------------------------------------------\n",
      "ATE          |\n",
      "     college |\n",
      " (是 vs 否)  |   .7980164   .0377585    21.13   0.000      .724011    .8720217\n",
      "-------------+----------------------------------------------------------------\n",
      "POmean       |\n",
      "     college |\n",
      "         否  |   9.404692   .0271286   346.67   0.000     9.351521    9.457863\n",
      "------------------------------------------------------------------------------\n"
     ]
    }
   ],
   "execution_count": 46
  },
  {
   "metadata": {
    "ExecuteTime": {
     "end_time": "2025-03-02T14:09:16.484089Z",
     "start_time": "2025-03-02T14:09:16.012499Z"
    }
   },
   "cell_type": "code",
   "source": "%stata teffects aipw (lninc hukou age gender race sibling fmedu2 fmedu3) (college hukou hukou##c.age c.age##c.age gender race sibling fmedu2 fmedu3)",
   "id": "8e3d4651472c1c8b",
   "outputs": [
    {
     "name": "stdout",
     "output_type": "stream",
     "text": [
      "note: 1.hukou omitted because of collinearity.\n",
      "note: age omitted because of collinearity.\n",
      "\n",
      "Iteration 0:   EE criterion =  3.679e-21  \n",
      "Iteration 1:   EE criterion =  4.519e-31  \n",
      "\n",
      "Treatment-effects estimation                    Number of obs     =      4,137\n",
      "Estimator      : augmented IPW\n",
      "Outcome model  : linear by ML\n",
      "Treatment model: logit\n",
      "------------------------------------------------------------------------------\n",
      "             |               Robust\n",
      "       lninc | Coefficient  std. err.      z    P>|z|     [95% conf. interval]\n",
      "-------------+----------------------------------------------------------------\n",
      "ATE          |\n",
      "     college |\n",
      " (是 vs 否)  |   .7972419   .0378972    21.04   0.000     .7229646    .8715191\n",
      "-------------+----------------------------------------------------------------\n",
      "POmean       |\n",
      "     college |\n",
      "         否  |   9.405056    .027155   346.35   0.000     9.351833    9.458279\n",
      "------------------------------------------------------------------------------\n"
     ]
    }
   ],
   "execution_count": 47
  },
  {
   "metadata": {},
   "cell_type": "raw",
   "source": "双重稳健估计量也要进行平衡性检验",
   "id": "e64a59ba8c9cad6b"
  }
 ],
 "metadata": {
  "kernelspec": {
   "display_name": "Python 3",
   "language": "python",
   "name": "python3"
  },
  "language_info": {
   "codemirror_mode": {
    "name": "ipython",
    "version": 2
   },
   "file_extension": ".py",
   "mimetype": "text/x-python",
   "name": "python",
   "nbconvert_exporter": "python",
   "pygments_lexer": "ipython2",
   "version": "2.7.6"
  }
 },
 "nbformat": 4,
 "nbformat_minor": 5
}
